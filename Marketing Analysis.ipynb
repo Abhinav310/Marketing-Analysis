{
 "cells": [
  {
   "cell_type": "code",
   "execution_count": 1,
   "metadata": {},
   "outputs": [],
   "source": [
    "import pandas as pd\n",
    "import numpy as np\n",
    "import matplotlib.pyplot as mp\n",
    "from matplotlib import style\n",
    "style.use('ggplot')\n",
    "import seaborn as sns\n",
    "import plotly as pt\n",
    "import plotly.express as px\n",
    "import plotly.subplots\n",
    "from plotly.subplots import make_subplots\n",
    "import plotly.graph_objects as go\n",
    "import cufflinks as cf\n",
    "import plotly.offline as pyo\n",
    "from plotly.offline import init_notebook_mode,plot,iplot\n",
    "import folium as flm\n",
    "\n",
    "%matplotlib inline"
   ]
  },
  {
   "cell_type": "code",
   "execution_count": 2,
   "metadata": {},
   "outputs": [
    {
     "data": {
      "text/html": [
       "        <script type=\"text/javascript\">\n",
       "        window.PlotlyConfig = {MathJaxConfig: 'local'};\n",
       "        if (window.MathJax) {MathJax.Hub.Config({SVG: {font: \"STIX-Web\"}});}\n",
       "        if (typeof require !== 'undefined') {\n",
       "        require.undef(\"plotly\");\n",
       "        requirejs.config({\n",
       "            paths: {\n",
       "                'plotly': ['https://cdn.plot.ly/plotly-latest.min']\n",
       "            }\n",
       "        });\n",
       "        require(['plotly'], function(Plotly) {\n",
       "            window._Plotly = Plotly;\n",
       "        });\n",
       "        }\n",
       "        </script>\n",
       "        "
      ]
     },
     "metadata": {},
     "output_type": "display_data"
    },
    {
     "data": {
      "text/html": [
       "        <script type=\"text/javascript\">\n",
       "        window.PlotlyConfig = {MathJaxConfig: 'local'};\n",
       "        if (window.MathJax) {MathJax.Hub.Config({SVG: {font: \"STIX-Web\"}});}\n",
       "        if (typeof require !== 'undefined') {\n",
       "        require.undef(\"plotly\");\n",
       "        requirejs.config({\n",
       "            paths: {\n",
       "                'plotly': ['https://cdn.plot.ly/plotly-latest.min']\n",
       "            }\n",
       "        });\n",
       "        require(['plotly'], function(Plotly) {\n",
       "            window._Plotly = Plotly;\n",
       "        });\n",
       "        }\n",
       "        </script>\n",
       "        "
      ]
     },
     "metadata": {},
     "output_type": "display_data"
    }
   ],
   "source": [
    "pyo.init_notebook_mode(connected = True)\n",
    "cf.go_offline()"
   ]
  },
  {
   "cell_type": "markdown",
   "metadata": {},
   "source": [
    "# Section 01: Exploratory Data Analysis"
   ]
  },
  {
   "cell_type": "code",
   "execution_count": 3,
   "metadata": {},
   "outputs": [],
   "source": [
    "df = pd.read_csv(r'C:\\Users\\avtap\\Downloads\\market.csv')"
   ]
  },
  {
   "cell_type": "code",
   "execution_count": 4,
   "metadata": {},
   "outputs": [
    {
     "data": {
      "text/html": [
       "<div>\n",
       "<style scoped>\n",
       "    .dataframe tbody tr th:only-of-type {\n",
       "        vertical-align: middle;\n",
       "    }\n",
       "\n",
       "    .dataframe tbody tr th {\n",
       "        vertical-align: top;\n",
       "    }\n",
       "\n",
       "    .dataframe thead th {\n",
       "        text-align: right;\n",
       "    }\n",
       "</style>\n",
       "<table border=\"1\" class=\"dataframe\">\n",
       "  <thead>\n",
       "    <tr style=\"text-align: right;\">\n",
       "      <th></th>\n",
       "      <th>ID</th>\n",
       "      <th>Year_Birth</th>\n",
       "      <th>Education</th>\n",
       "      <th>Marital_Status</th>\n",
       "      <th>Income</th>\n",
       "      <th>Kidhome</th>\n",
       "      <th>Teenhome</th>\n",
       "      <th>Dt_Customer</th>\n",
       "      <th>Recency</th>\n",
       "      <th>MntWines</th>\n",
       "      <th>...</th>\n",
       "      <th>NumStorePurchases</th>\n",
       "      <th>NumWebVisitsMonth</th>\n",
       "      <th>AcceptedCmp3</th>\n",
       "      <th>AcceptedCmp4</th>\n",
       "      <th>AcceptedCmp5</th>\n",
       "      <th>AcceptedCmp1</th>\n",
       "      <th>AcceptedCmp2</th>\n",
       "      <th>Response</th>\n",
       "      <th>Complain</th>\n",
       "      <th>Country</th>\n",
       "    </tr>\n",
       "  </thead>\n",
       "  <tbody>\n",
       "    <tr>\n",
       "      <th>0</th>\n",
       "      <td>1826</td>\n",
       "      <td>1970</td>\n",
       "      <td>Graduation</td>\n",
       "      <td>Divorced</td>\n",
       "      <td>$84,835.00</td>\n",
       "      <td>0</td>\n",
       "      <td>0</td>\n",
       "      <td>6/16/14</td>\n",
       "      <td>0</td>\n",
       "      <td>189</td>\n",
       "      <td>...</td>\n",
       "      <td>6</td>\n",
       "      <td>1</td>\n",
       "      <td>0</td>\n",
       "      <td>0</td>\n",
       "      <td>0</td>\n",
       "      <td>0</td>\n",
       "      <td>0</td>\n",
       "      <td>1</td>\n",
       "      <td>0</td>\n",
       "      <td>SP</td>\n",
       "    </tr>\n",
       "    <tr>\n",
       "      <th>1</th>\n",
       "      <td>1</td>\n",
       "      <td>1961</td>\n",
       "      <td>Graduation</td>\n",
       "      <td>Single</td>\n",
       "      <td>$57,091.00</td>\n",
       "      <td>0</td>\n",
       "      <td>0</td>\n",
       "      <td>6/15/14</td>\n",
       "      <td>0</td>\n",
       "      <td>464</td>\n",
       "      <td>...</td>\n",
       "      <td>7</td>\n",
       "      <td>5</td>\n",
       "      <td>0</td>\n",
       "      <td>0</td>\n",
       "      <td>0</td>\n",
       "      <td>0</td>\n",
       "      <td>1</td>\n",
       "      <td>1</td>\n",
       "      <td>0</td>\n",
       "      <td>CA</td>\n",
       "    </tr>\n",
       "    <tr>\n",
       "      <th>2</th>\n",
       "      <td>10476</td>\n",
       "      <td>1958</td>\n",
       "      <td>Graduation</td>\n",
       "      <td>Married</td>\n",
       "      <td>$67,267.00</td>\n",
       "      <td>0</td>\n",
       "      <td>1</td>\n",
       "      <td>5/13/14</td>\n",
       "      <td>0</td>\n",
       "      <td>134</td>\n",
       "      <td>...</td>\n",
       "      <td>5</td>\n",
       "      <td>2</td>\n",
       "      <td>0</td>\n",
       "      <td>0</td>\n",
       "      <td>0</td>\n",
       "      <td>0</td>\n",
       "      <td>0</td>\n",
       "      <td>0</td>\n",
       "      <td>0</td>\n",
       "      <td>US</td>\n",
       "    </tr>\n",
       "    <tr>\n",
       "      <th>3</th>\n",
       "      <td>1386</td>\n",
       "      <td>1967</td>\n",
       "      <td>Graduation</td>\n",
       "      <td>Together</td>\n",
       "      <td>$32,474.00</td>\n",
       "      <td>1</td>\n",
       "      <td>1</td>\n",
       "      <td>5/11/14</td>\n",
       "      <td>0</td>\n",
       "      <td>10</td>\n",
       "      <td>...</td>\n",
       "      <td>2</td>\n",
       "      <td>7</td>\n",
       "      <td>0</td>\n",
       "      <td>0</td>\n",
       "      <td>0</td>\n",
       "      <td>0</td>\n",
       "      <td>0</td>\n",
       "      <td>0</td>\n",
       "      <td>0</td>\n",
       "      <td>AUS</td>\n",
       "    </tr>\n",
       "    <tr>\n",
       "      <th>4</th>\n",
       "      <td>5371</td>\n",
       "      <td>1989</td>\n",
       "      <td>Graduation</td>\n",
       "      <td>Single</td>\n",
       "      <td>$21,474.00</td>\n",
       "      <td>1</td>\n",
       "      <td>0</td>\n",
       "      <td>4/8/14</td>\n",
       "      <td>0</td>\n",
       "      <td>6</td>\n",
       "      <td>...</td>\n",
       "      <td>2</td>\n",
       "      <td>7</td>\n",
       "      <td>1</td>\n",
       "      <td>0</td>\n",
       "      <td>0</td>\n",
       "      <td>0</td>\n",
       "      <td>0</td>\n",
       "      <td>1</td>\n",
       "      <td>0</td>\n",
       "      <td>SP</td>\n",
       "    </tr>\n",
       "  </tbody>\n",
       "</table>\n",
       "<p>5 rows × 28 columns</p>\n",
       "</div>"
      ],
      "text/plain": [
       "      ID  Year_Birth   Education Marital_Status      Income   Kidhome  \\\n",
       "0   1826        1970  Graduation       Divorced  $84,835.00         0   \n",
       "1      1        1961  Graduation         Single  $57,091.00         0   \n",
       "2  10476        1958  Graduation        Married  $67,267.00         0   \n",
       "3   1386        1967  Graduation       Together  $32,474.00         1   \n",
       "4   5371        1989  Graduation         Single  $21,474.00         1   \n",
       "\n",
       "   Teenhome Dt_Customer  Recency  MntWines  ...  NumStorePurchases  \\\n",
       "0         0     6/16/14        0       189  ...                  6   \n",
       "1         0     6/15/14        0       464  ...                  7   \n",
       "2         1     5/13/14        0       134  ...                  5   \n",
       "3         1     5/11/14        0        10  ...                  2   \n",
       "4         0      4/8/14        0         6  ...                  2   \n",
       "\n",
       "   NumWebVisitsMonth  AcceptedCmp3  AcceptedCmp4  AcceptedCmp5  AcceptedCmp1  \\\n",
       "0                  1             0             0             0             0   \n",
       "1                  5             0             0             0             0   \n",
       "2                  2             0             0             0             0   \n",
       "3                  7             0             0             0             0   \n",
       "4                  7             1             0             0             0   \n",
       "\n",
       "   AcceptedCmp2  Response  Complain  Country  \n",
       "0             0         1         0       SP  \n",
       "1             1         1         0       CA  \n",
       "2             0         0         0       US  \n",
       "3             0         0         0      AUS  \n",
       "4             0         1         0       SP  \n",
       "\n",
       "[5 rows x 28 columns]"
      ]
     },
     "execution_count": 4,
     "metadata": {},
     "output_type": "execute_result"
    }
   ],
   "source": [
    "df.head()"
   ]
  },
  {
   "cell_type": "code",
   "execution_count": 5,
   "metadata": {},
   "outputs": [
    {
     "data": {
      "text/plain": [
       "(2240, 28)"
      ]
     },
     "execution_count": 5,
     "metadata": {},
     "output_type": "execute_result"
    }
   ],
   "source": [
    "df.shape"
   ]
  },
  {
   "cell_type": "markdown",
   "metadata": {},
   "source": [
    "# Finding Null Values "
   ]
  },
  {
   "cell_type": "code",
   "execution_count": 6,
   "metadata": {},
   "outputs": [
    {
     "data": {
      "text/plain": [
       "<AxesSubplot:>"
      ]
     },
     "execution_count": 6,
     "metadata": {},
     "output_type": "execute_result"
    },
    {
     "data": {
      "image/png": "[encoded data removed]",
      "text/plain": [
       "<Figure size 432x288 with 1 Axes>"
      ]
     },
     "metadata": {
      "needs_background": "light"
     },
     "output_type": "display_data"
    }
   ],
   "source": [
    "sns.heatmap(df.isnull() , yticklabels = False , cmap = 'viridis' , cbar = False)"
   ]
  },
  {
   "cell_type": "code",
   "execution_count": 7,
   "metadata": {},
   "outputs": [
    {
     "data": {
      "text/plain": [
       "ID                      int64\n",
       "Year_Birth              int64\n",
       "Education              object\n",
       "Marital_Status         object\n",
       " Income                object\n",
       "Kidhome                 int64\n",
       "Teenhome                int64\n",
       "Dt_Customer            object\n",
       "Recency                 int64\n",
       "MntWines                int64\n",
       "MntFruits               int64\n",
       "MntMeatProducts         int64\n",
       "MntFishProducts         int64\n",
       "MntSweetProducts        int64\n",
       "MntGoldProds            int64\n",
       "NumDealsPurchases       int64\n",
       "NumWebPurchases         int64\n",
       "NumCatalogPurchases     int64\n",
       "NumStorePurchases       int64\n",
       "NumWebVisitsMonth       int64\n",
       "AcceptedCmp3            int64\n",
       "AcceptedCmp4            int64\n",
       "AcceptedCmp5            int64\n",
       "AcceptedCmp1            int64\n",
       "AcceptedCmp2            int64\n",
       "Response                int64\n",
       "Complain                int64\n",
       "Country                object\n",
       "dtype: object"
      ]
     },
     "execution_count": 7,
     "metadata": {},
     "output_type": "execute_result"
    }
   ],
   "source": [
    "df.dtypes"
   ]
  },
  {
   "cell_type": "raw",
   "metadata": {},
   "source": [
    "Here we can observe that the Income column of the dataframe needs to be changed t "
   ]
  },
  {
   "cell_type": "code",
   "execution_count": 8,
   "metadata": {},
   "outputs": [],
   "source": [
    "df.rename(columns={' Income ': 'Income'} , inplace = True)"
   ]
  },
  {
   "cell_type": "code",
   "execution_count": 9,
   "metadata": {},
   "outputs": [],
   "source": [
    "df['Income'] = df['Income'].str.replace('$', '')\n",
    "df['Income'] = df['Income'].str.replace(',', '')\n",
    "df.Income = df.Income.str.rstrip()\n",
    "df.Income = df.Income.astype(float)\n"
   ]
  },
  {
   "cell_type": "code",
   "execution_count": 10,
   "metadata": {},
   "outputs": [],
   "source": [
    "df['Dt_Customer'] = df['Dt_Customer'].astype('datetime64[ns]')"
   ]
  },
  {
   "cell_type": "code",
   "execution_count": 11,
   "metadata": {},
   "outputs": [
    {
     "name": "stdout",
     "output_type": "stream",
     "text": [
      "float64\n",
      "datetime64[ns]\n"
     ]
    }
   ],
   "source": [
    "print(df.Income.dtypes)\n",
    "print(df.Dt_Customer.dtypes)"
   ]
  },
  {
   "cell_type": "code",
   "execution_count": 12,
   "metadata": {},
   "outputs": [
    {
     "data": {
      "text/plain": [
       "count      2216.000000\n",
       "mean      52247.251354\n",
       "std       25173.076661\n",
       "min        1730.000000\n",
       "25%       35303.000000\n",
       "50%       51381.500000\n",
       "75%       68522.000000\n",
       "max      666666.000000\n",
       "Name: Income, dtype: float64"
      ]
     },
     "execution_count": 12,
     "metadata": {},
     "output_type": "execute_result"
    }
   ],
   "source": [
    "df.Income.describe()"
   ]
  },
  {
   "cell_type": "code",
   "execution_count": 13,
   "metadata": {},
   "outputs": [],
   "source": [
    "df['Income'] = df['Income'].fillna((df['Income'].mean()))"
   ]
  },
  {
   "cell_type": "code",
   "execution_count": 14,
   "metadata": {},
   "outputs": [
    {
     "data": {
      "text/plain": [
       "<AxesSubplot:>"
      ]
     },
     "execution_count": 14,
     "metadata": {},
     "output_type": "execute_result"
    },
    {
     "data": {
      "image/png": "[encoded data removed]",
      "text/plain": [
       "<Figure size 432x288 with 1 Axes>"
      ]
     },
     "metadata": {
      "needs_background": "light"
     },
     "output_type": "display_data"
    }
   ],
   "source": [
    "sns.heatmap(df.isnull() , yticklabels = False , cmap = 'viridis' , cbar = False)"
   ]
  },
  {
   "cell_type": "markdown",
   "metadata": {},
   "source": [
    "# Finding Outliers"
   ]
  },
  {
   "cell_type": "code",
   "execution_count": 15,
   "metadata": {},
   "outputs": [
    {
     "data": {
      "text/plain": [
       "<AxesSubplot:xlabel='Complain'>"
      ]
     },
     "execution_count": 15,
     "metadata": {},
     "output_type": "execute_result"
    },
    {
     "data": {
      "image/png": "[encoded data removed]",
      "text/plain": [
       "<Figure size 1440x1440 with 7 Axes>"
      ]
     },
     "metadata": {
      "needs_background": "light"
     },
     "output_type": "display_data"
    }
   ],
   "source": [
    "mp.figure(1 , figsize = (20,20))\n",
    "\n",
    "mp.subplot(331)\n",
    "sns.boxplot(data = df , x = 'ID')\n",
    "\n",
    "mp.subplot(332)\n",
    "sns.boxplot(data = df , x = 'Year_Birth')\n",
    "\n",
    "mp.subplot(333)\n",
    "sns.boxplot(data = df , x = 'Income')\n",
    "\n",
    "mp.subplot(334)\n",
    "sns.boxplot(data = df , x = 'Kidhome')\n",
    "\n",
    "mp.subplot(335)\n",
    "sns.boxplot(data = df , x = 'Teenhome')\n",
    "\n",
    "mp.subplot(336)\n",
    "sns.boxplot(data = df , x = 'Recency')\n",
    "\n",
    "mp.subplot(337)\n",
    "sns.boxplot(data = df ,x = 'Complain')\n",
    "\n"
   ]
  },
  {
   "cell_type": "code",
   "execution_count": 16,
   "metadata": {},
   "outputs": [
    {
     "data": {
      "text/html": [
       "<div>\n",
       "<style scoped>\n",
       "    .dataframe tbody tr th:only-of-type {\n",
       "        vertical-align: middle;\n",
       "    }\n",
       "\n",
       "    .dataframe tbody tr th {\n",
       "        vertical-align: top;\n",
       "    }\n",
       "\n",
       "    .dataframe thead th {\n",
       "        text-align: right;\n",
       "    }\n",
       "</style>\n",
       "<table border=\"1\" class=\"dataframe\">\n",
       "  <thead>\n",
       "    <tr style=\"text-align: right;\">\n",
       "      <th></th>\n",
       "      <th>ID</th>\n",
       "      <th>Year_Birth</th>\n",
       "      <th>Education</th>\n",
       "      <th>Marital_Status</th>\n",
       "      <th>Income</th>\n",
       "      <th>Kidhome</th>\n",
       "      <th>Teenhome</th>\n",
       "      <th>Dt_Customer</th>\n",
       "      <th>Recency</th>\n",
       "      <th>MntWines</th>\n",
       "      <th>...</th>\n",
       "      <th>NumStorePurchases</th>\n",
       "      <th>NumWebVisitsMonth</th>\n",
       "      <th>AcceptedCmp3</th>\n",
       "      <th>AcceptedCmp4</th>\n",
       "      <th>AcceptedCmp5</th>\n",
       "      <th>AcceptedCmp1</th>\n",
       "      <th>AcceptedCmp2</th>\n",
       "      <th>Response</th>\n",
       "      <th>Complain</th>\n",
       "      <th>Country</th>\n",
       "    </tr>\n",
       "  </thead>\n",
       "  <tbody>\n",
       "    <tr>\n",
       "      <th>527</th>\n",
       "      <td>9432</td>\n",
       "      <td>1977</td>\n",
       "      <td>Graduation</td>\n",
       "      <td>Together</td>\n",
       "      <td>666666.0</td>\n",
       "      <td>1</td>\n",
       "      <td>0</td>\n",
       "      <td>2013-06-02</td>\n",
       "      <td>23</td>\n",
       "      <td>9</td>\n",
       "      <td>...</td>\n",
       "      <td>3</td>\n",
       "      <td>6</td>\n",
       "      <td>0</td>\n",
       "      <td>0</td>\n",
       "      <td>0</td>\n",
       "      <td>0</td>\n",
       "      <td>0</td>\n",
       "      <td>0</td>\n",
       "      <td>0</td>\n",
       "      <td>SA</td>\n",
       "    </tr>\n",
       "  </tbody>\n",
       "</table>\n",
       "<p>1 rows × 28 columns</p>\n",
       "</div>"
      ],
      "text/plain": [
       "       ID  Year_Birth   Education Marital_Status    Income  Kidhome  Teenhome  \\\n",
       "527  9432        1977  Graduation       Together  666666.0        1         0   \n",
       "\n",
       "    Dt_Customer  Recency  MntWines  ...  NumStorePurchases  NumWebVisitsMonth  \\\n",
       "527  2013-06-02       23         9  ...                  3                  6   \n",
       "\n",
       "     AcceptedCmp3  AcceptedCmp4  AcceptedCmp5  AcceptedCmp1  AcceptedCmp2  \\\n",
       "527             0             0             0             0             0   \n",
       "\n",
       "     Response  Complain  Country  \n",
       "527         0         0       SA  \n",
       "\n",
       "[1 rows x 28 columns]"
      ]
     },
     "execution_count": 16,
     "metadata": {},
     "output_type": "execute_result"
    }
   ],
   "source": [
    "df[df.Income > 600000]"
   ]
  },
  {
   "cell_type": "code",
   "execution_count": 17,
   "metadata": {},
   "outputs": [],
   "source": [
    "df.drop([527] , inplace = True)"
   ]
  },
  {
   "cell_type": "code",
   "execution_count": 18,
   "metadata": {},
   "outputs": [
    {
     "data": {
      "text/html": [
       "<div>\n",
       "<style scoped>\n",
       "    .dataframe tbody tr th:only-of-type {\n",
       "        vertical-align: middle;\n",
       "    }\n",
       "\n",
       "    .dataframe tbody tr th {\n",
       "        vertical-align: top;\n",
       "    }\n",
       "\n",
       "    .dataframe thead th {\n",
       "        text-align: right;\n",
       "    }\n",
       "</style>\n",
       "<table border=\"1\" class=\"dataframe\">\n",
       "  <thead>\n",
       "    <tr style=\"text-align: right;\">\n",
       "      <th></th>\n",
       "      <th>ID</th>\n",
       "      <th>Year_Birth</th>\n",
       "      <th>Education</th>\n",
       "      <th>Marital_Status</th>\n",
       "      <th>Income</th>\n",
       "      <th>Kidhome</th>\n",
       "      <th>Teenhome</th>\n",
       "      <th>Dt_Customer</th>\n",
       "      <th>Recency</th>\n",
       "      <th>MntWines</th>\n",
       "      <th>...</th>\n",
       "      <th>NumStorePurchases</th>\n",
       "      <th>NumWebVisitsMonth</th>\n",
       "      <th>AcceptedCmp3</th>\n",
       "      <th>AcceptedCmp4</th>\n",
       "      <th>AcceptedCmp5</th>\n",
       "      <th>AcceptedCmp1</th>\n",
       "      <th>AcceptedCmp2</th>\n",
       "      <th>Response</th>\n",
       "      <th>Complain</th>\n",
       "      <th>Country</th>\n",
       "    </tr>\n",
       "  </thead>\n",
       "  <tbody>\n",
       "    <tr>\n",
       "      <th>325</th>\n",
       "      <td>4931</td>\n",
       "      <td>1977</td>\n",
       "      <td>Graduation</td>\n",
       "      <td>Together</td>\n",
       "      <td>157146.0</td>\n",
       "      <td>0</td>\n",
       "      <td>0</td>\n",
       "      <td>2013-04-29</td>\n",
       "      <td>13</td>\n",
       "      <td>1</td>\n",
       "      <td>...</td>\n",
       "      <td>0</td>\n",
       "      <td>1</td>\n",
       "      <td>0</td>\n",
       "      <td>0</td>\n",
       "      <td>0</td>\n",
       "      <td>0</td>\n",
       "      <td>0</td>\n",
       "      <td>0</td>\n",
       "      <td>0</td>\n",
       "      <td>SA</td>\n",
       "    </tr>\n",
       "    <tr>\n",
       "      <th>497</th>\n",
       "      <td>1501</td>\n",
       "      <td>1982</td>\n",
       "      <td>PhD</td>\n",
       "      <td>Married</td>\n",
       "      <td>160803.0</td>\n",
       "      <td>0</td>\n",
       "      <td>0</td>\n",
       "      <td>2012-08-04</td>\n",
       "      <td>21</td>\n",
       "      <td>55</td>\n",
       "      <td>...</td>\n",
       "      <td>1</td>\n",
       "      <td>0</td>\n",
       "      <td>0</td>\n",
       "      <td>0</td>\n",
       "      <td>0</td>\n",
       "      <td>0</td>\n",
       "      <td>0</td>\n",
       "      <td>0</td>\n",
       "      <td>0</td>\n",
       "      <td>US</td>\n",
       "    </tr>\n",
       "    <tr>\n",
       "      <th>731</th>\n",
       "      <td>1503</td>\n",
       "      <td>1976</td>\n",
       "      <td>PhD</td>\n",
       "      <td>Together</td>\n",
       "      <td>162397.0</td>\n",
       "      <td>1</td>\n",
       "      <td>1</td>\n",
       "      <td>2013-06-03</td>\n",
       "      <td>31</td>\n",
       "      <td>85</td>\n",
       "      <td>...</td>\n",
       "      <td>1</td>\n",
       "      <td>1</td>\n",
       "      <td>0</td>\n",
       "      <td>0</td>\n",
       "      <td>0</td>\n",
       "      <td>0</td>\n",
       "      <td>0</td>\n",
       "      <td>0</td>\n",
       "      <td>0</td>\n",
       "      <td>SP</td>\n",
       "    </tr>\n",
       "    <tr>\n",
       "      <th>853</th>\n",
       "      <td>5336</td>\n",
       "      <td>1971</td>\n",
       "      <td>Master</td>\n",
       "      <td>Together</td>\n",
       "      <td>157733.0</td>\n",
       "      <td>1</td>\n",
       "      <td>0</td>\n",
       "      <td>2013-06-04</td>\n",
       "      <td>37</td>\n",
       "      <td>39</td>\n",
       "      <td>...</td>\n",
       "      <td>1</td>\n",
       "      <td>1</td>\n",
       "      <td>0</td>\n",
       "      <td>0</td>\n",
       "      <td>0</td>\n",
       "      <td>0</td>\n",
       "      <td>0</td>\n",
       "      <td>0</td>\n",
       "      <td>0</td>\n",
       "      <td>SP</td>\n",
       "    </tr>\n",
       "    <tr>\n",
       "      <th>1826</th>\n",
       "      <td>5555</td>\n",
       "      <td>1975</td>\n",
       "      <td>Graduation</td>\n",
       "      <td>Divorced</td>\n",
       "      <td>153924.0</td>\n",
       "      <td>0</td>\n",
       "      <td>0</td>\n",
       "      <td>2014-02-07</td>\n",
       "      <td>81</td>\n",
       "      <td>1</td>\n",
       "      <td>...</td>\n",
       "      <td>0</td>\n",
       "      <td>0</td>\n",
       "      <td>0</td>\n",
       "      <td>0</td>\n",
       "      <td>0</td>\n",
       "      <td>0</td>\n",
       "      <td>0</td>\n",
       "      <td>0</td>\n",
       "      <td>0</td>\n",
       "      <td>SP</td>\n",
       "    </tr>\n",
       "    <tr>\n",
       "      <th>1925</th>\n",
       "      <td>11181</td>\n",
       "      <td>1949</td>\n",
       "      <td>PhD</td>\n",
       "      <td>Married</td>\n",
       "      <td>156924.0</td>\n",
       "      <td>0</td>\n",
       "      <td>0</td>\n",
       "      <td>2013-08-29</td>\n",
       "      <td>85</td>\n",
       "      <td>2</td>\n",
       "      <td>...</td>\n",
       "      <td>0</td>\n",
       "      <td>0</td>\n",
       "      <td>0</td>\n",
       "      <td>0</td>\n",
       "      <td>0</td>\n",
       "      <td>0</td>\n",
       "      <td>0</td>\n",
       "      <td>0</td>\n",
       "      <td>0</td>\n",
       "      <td>CA</td>\n",
       "    </tr>\n",
       "    <tr>\n",
       "      <th>2204</th>\n",
       "      <td>8475</td>\n",
       "      <td>1973</td>\n",
       "      <td>PhD</td>\n",
       "      <td>Married</td>\n",
       "      <td>157243.0</td>\n",
       "      <td>0</td>\n",
       "      <td>1</td>\n",
       "      <td>2014-03-01</td>\n",
       "      <td>98</td>\n",
       "      <td>20</td>\n",
       "      <td>...</td>\n",
       "      <td>0</td>\n",
       "      <td>0</td>\n",
       "      <td>0</td>\n",
       "      <td>0</td>\n",
       "      <td>0</td>\n",
       "      <td>0</td>\n",
       "      <td>0</td>\n",
       "      <td>0</td>\n",
       "      <td>0</td>\n",
       "      <td>IND</td>\n",
       "    </tr>\n",
       "  </tbody>\n",
       "</table>\n",
       "<p>7 rows × 28 columns</p>\n",
       "</div>"
      ],
      "text/plain": [
       "         ID  Year_Birth   Education Marital_Status    Income  Kidhome  \\\n",
       "325    4931        1977  Graduation       Together  157146.0        0   \n",
       "497    1501        1982         PhD        Married  160803.0        0   \n",
       "731    1503        1976         PhD       Together  162397.0        1   \n",
       "853    5336        1971      Master       Together  157733.0        1   \n",
       "1826   5555        1975  Graduation       Divorced  153924.0        0   \n",
       "1925  11181        1949         PhD        Married  156924.0        0   \n",
       "2204   8475        1973         PhD        Married  157243.0        0   \n",
       "\n",
       "      Teenhome Dt_Customer  Recency  MntWines  ...  NumStorePurchases  \\\n",
       "325          0  2013-04-29       13         1  ...                  0   \n",
       "497          0  2012-08-04       21        55  ...                  1   \n",
       "731          1  2013-06-03       31        85  ...                  1   \n",
       "853          0  2013-06-04       37        39  ...                  1   \n",
       "1826         0  2014-02-07       81         1  ...                  0   \n",
       "1925         0  2013-08-29       85         2  ...                  0   \n",
       "2204         1  2014-03-01       98        20  ...                  0   \n",
       "\n",
       "      NumWebVisitsMonth  AcceptedCmp3  AcceptedCmp4  AcceptedCmp5  \\\n",
       "325                   1             0             0             0   \n",
       "497                   0             0             0             0   \n",
       "731                   1             0             0             0   \n",
       "853                   1             0             0             0   \n",
       "1826                  0             0             0             0   \n",
       "1925                  0             0             0             0   \n",
       "2204                  0             0             0             0   \n",
       "\n",
       "      AcceptedCmp1  AcceptedCmp2  Response  Complain  Country  \n",
       "325              0             0         0         0       SA  \n",
       "497              0             0         0         0       US  \n",
       "731              0             0         0         0       SP  \n",
       "853              0             0         0         0       SP  \n",
       "1826             0             0         0         0       SP  \n",
       "1925             0             0         0         0       CA  \n",
       "2204             0             0         0         0      IND  \n",
       "\n",
       "[7 rows x 28 columns]"
      ]
     },
     "execution_count": 18,
     "metadata": {},
     "output_type": "execute_result"
    }
   ],
   "source": [
    "df[df.Income > 150000]"
   ]
  },
  {
   "cell_type": "code",
   "execution_count": 19,
   "metadata": {},
   "outputs": [
    {
     "data": {
      "text/html": [
       "<div>\n",
       "<style scoped>\n",
       "    .dataframe tbody tr th:only-of-type {\n",
       "        vertical-align: middle;\n",
       "    }\n",
       "\n",
       "    .dataframe tbody tr th {\n",
       "        vertical-align: top;\n",
       "    }\n",
       "\n",
       "    .dataframe thead th {\n",
       "        text-align: right;\n",
       "    }\n",
       "</style>\n",
       "<table border=\"1\" class=\"dataframe\">\n",
       "  <thead>\n",
       "    <tr style=\"text-align: right;\">\n",
       "      <th></th>\n",
       "      <th>ID</th>\n",
       "      <th>Year_Birth</th>\n",
       "      <th>Education</th>\n",
       "      <th>Marital_Status</th>\n",
       "      <th>Income</th>\n",
       "      <th>Kidhome</th>\n",
       "      <th>Teenhome</th>\n",
       "      <th>Dt_Customer</th>\n",
       "      <th>Recency</th>\n",
       "      <th>MntWines</th>\n",
       "      <th>...</th>\n",
       "      <th>NumStorePurchases</th>\n",
       "      <th>NumWebVisitsMonth</th>\n",
       "      <th>AcceptedCmp3</th>\n",
       "      <th>AcceptedCmp4</th>\n",
       "      <th>AcceptedCmp5</th>\n",
       "      <th>AcceptedCmp1</th>\n",
       "      <th>AcceptedCmp2</th>\n",
       "      <th>Response</th>\n",
       "      <th>Complain</th>\n",
       "      <th>Country</th>\n",
       "    </tr>\n",
       "  </thead>\n",
       "  <tbody>\n",
       "    <tr>\n",
       "      <th>513</th>\n",
       "      <td>11004</td>\n",
       "      <td>1893</td>\n",
       "      <td>2n Cycle</td>\n",
       "      <td>Single</td>\n",
       "      <td>60182.0</td>\n",
       "      <td>0</td>\n",
       "      <td>1</td>\n",
       "      <td>2014-05-17</td>\n",
       "      <td>23</td>\n",
       "      <td>8</td>\n",
       "      <td>...</td>\n",
       "      <td>2</td>\n",
       "      <td>4</td>\n",
       "      <td>0</td>\n",
       "      <td>0</td>\n",
       "      <td>0</td>\n",
       "      <td>0</td>\n",
       "      <td>0</td>\n",
       "      <td>0</td>\n",
       "      <td>0</td>\n",
       "      <td>SA</td>\n",
       "    </tr>\n",
       "    <tr>\n",
       "      <th>827</th>\n",
       "      <td>1150</td>\n",
       "      <td>1899</td>\n",
       "      <td>PhD</td>\n",
       "      <td>Together</td>\n",
       "      <td>83532.0</td>\n",
       "      <td>0</td>\n",
       "      <td>0</td>\n",
       "      <td>2013-09-26</td>\n",
       "      <td>36</td>\n",
       "      <td>755</td>\n",
       "      <td>...</td>\n",
       "      <td>4</td>\n",
       "      <td>1</td>\n",
       "      <td>0</td>\n",
       "      <td>0</td>\n",
       "      <td>1</td>\n",
       "      <td>0</td>\n",
       "      <td>0</td>\n",
       "      <td>0</td>\n",
       "      <td>0</td>\n",
       "      <td>SP</td>\n",
       "    </tr>\n",
       "    <tr>\n",
       "      <th>2233</th>\n",
       "      <td>7829</td>\n",
       "      <td>1900</td>\n",
       "      <td>2n Cycle</td>\n",
       "      <td>Divorced</td>\n",
       "      <td>36640.0</td>\n",
       "      <td>1</td>\n",
       "      <td>0</td>\n",
       "      <td>2013-09-26</td>\n",
       "      <td>99</td>\n",
       "      <td>15</td>\n",
       "      <td>...</td>\n",
       "      <td>2</td>\n",
       "      <td>5</td>\n",
       "      <td>0</td>\n",
       "      <td>0</td>\n",
       "      <td>0</td>\n",
       "      <td>0</td>\n",
       "      <td>0</td>\n",
       "      <td>0</td>\n",
       "      <td>1</td>\n",
       "      <td>IND</td>\n",
       "    </tr>\n",
       "  </tbody>\n",
       "</table>\n",
       "<p>3 rows × 28 columns</p>\n",
       "</div>"
      ],
      "text/plain": [
       "         ID  Year_Birth Education Marital_Status   Income  Kidhome  Teenhome  \\\n",
       "513   11004        1893  2n Cycle         Single  60182.0        0         1   \n",
       "827    1150        1899       PhD       Together  83532.0        0         0   \n",
       "2233   7829        1900  2n Cycle       Divorced  36640.0        1         0   \n",
       "\n",
       "     Dt_Customer  Recency  MntWines  ...  NumStorePurchases  \\\n",
       "513   2014-05-17       23         8  ...                  2   \n",
       "827   2013-09-26       36       755  ...                  4   \n",
       "2233  2013-09-26       99        15  ...                  2   \n",
       "\n",
       "      NumWebVisitsMonth  AcceptedCmp3  AcceptedCmp4  AcceptedCmp5  \\\n",
       "513                   4             0             0             0   \n",
       "827                   1             0             0             1   \n",
       "2233                  5             0             0             0   \n",
       "\n",
       "      AcceptedCmp1  AcceptedCmp2  Response  Complain  Country  \n",
       "513              0             0         0         0       SA  \n",
       "827              0             0         0         0       SP  \n",
       "2233             0             0         0         1      IND  \n",
       "\n",
       "[3 rows x 28 columns]"
      ]
     },
     "execution_count": 19,
     "metadata": {},
     "output_type": "execute_result"
    }
   ],
   "source": [
    "df[df.Year_Birth<1910]"
   ]
  },
  {
   "cell_type": "code",
   "execution_count": 20,
   "metadata": {},
   "outputs": [],
   "source": [
    "df.drop([513 , 827 , 2232] , inplace = True)"
   ]
  },
  {
   "cell_type": "code",
   "execution_count": 21,
   "metadata": {},
   "outputs": [
    {
     "data": {
      "text/plain": [
       "<AxesSubplot:xlabel='MntGoldProds'>"
      ]
     },
     "execution_count": 21,
     "metadata": {},
     "output_type": "execute_result"
    },
    {
     "data": {
      "image/png": "[encoded data removed]",
      "text/plain": [
       "<Figure size 1440x1440 with 6 Axes>"
      ]
     },
     "metadata": {
      "needs_background": "light"
     },
     "output_type": "display_data"
    }
   ],
   "source": [
    "mp.figure(1 , figsize = (20,20))\n",
    "\n",
    "mp.subplot(231)\n",
    "sns.boxplot(data = df , x = 'MntWines')\n",
    "\n",
    "mp.subplot(232)\n",
    "sns.boxplot(data = df , x = 'MntFruits')\n",
    "\n",
    "mp.subplot(233)\n",
    "sns.boxplot(data = df , x = 'MntMeatProducts') \n",
    "\n",
    "mp.subplot(234)\n",
    "sns.boxplot(data = df , x = 'MntFishProducts')\n",
    "\n",
    "mp.subplot(235)\n",
    "sns.boxplot(data = df , x = 'MntSweetProducts')\n",
    "\n",
    "mp.subplot(236)\n",
    "sns.boxplot(data = df , x = 'MntGoldProds')\n"
   ]
  },
  {
   "cell_type": "code",
   "execution_count": 22,
   "metadata": {},
   "outputs": [
    {
     "data": {
      "image/png": "[encoded data removed]",
      "text/plain": [
       "<Figure size 1440x576 with 9 Axes>"
      ]
     },
     "metadata": {
      "needs_background": "light"
     },
     "output_type": "display_data"
    }
   ],
   "source": [
    "fig, axs = mp.subplots(1, 9, sharey = True, tight_layout=True , figsize = (20,8))\n",
    "\n",
    "axs[0].hist(x = df['NumStorePurchases'])\n",
    "axs[0].title.set_text('NumStorePurchases')\n",
    "\n",
    "axs[1].hist(x = df['NumWebVisitsMonth'])\n",
    "axs[1].title.set_text('NumWebVisitsMonth')\n",
    "\n",
    "axs[2].hist(x = df['AcceptedCmp1'])\n",
    "axs[2].title.set_text('AcceptedCmp1')\n",
    "\n",
    "axs[3].hist(x = df['AcceptedCmp2'])\n",
    "axs[3].title.set_text('AcceptedCmp2')\n",
    "\n",
    "axs[4].hist(x = df['AcceptedCmp3'])\n",
    "axs[4].title.set_text('AcceptedCmp3')\n",
    "\n",
    "axs[5].hist(x = df['AcceptedCmp4'])\n",
    "axs[5].title.set_text('AcceptedCmp4')\n",
    "\n",
    "axs[6].hist(x = df['AcceptedCmp5'])\n",
    "axs[6].title.set_text('AcceptedCmp5')\n",
    "\n",
    "axs[7].hist(x = df['Response'])\n",
    "axs[7].title.set_text('Response')\n",
    "\n",
    "axs[8].hist(x = df['Complain'])\n",
    "axs[8].title.set_text('Complain')"
   ]
  },
  {
   "cell_type": "markdown",
   "metadata": {},
   "source": [
    "# Feature Engineering"
   ]
  },
  {
   "cell_type": "code",
   "execution_count": 23,
   "metadata": {},
   "outputs": [],
   "source": [
    "df['TotalMntSpent'] = df['MntWines'] + df['MntFruits'] + df['MntMeatProducts'] + df['MntSweetProducts'] + df['MntFishProducts'] +df['MntGoldProds']"
   ]
  },
  {
   "cell_type": "code",
   "execution_count": 24,
   "metadata": {},
   "outputs": [],
   "source": [
    "df['TotalChildren'] = df['Kidhome'] + df['Teenhome']"
   ]
  },
  {
   "cell_type": "code",
   "execution_count": 25,
   "metadata": {},
   "outputs": [],
   "source": [
    "df['TotalPurchases'] = df['NumDealsPurchases'] + df['NumWebPurchases'] + df['NumCatalogPurchases']"
   ]
  },
  {
   "cell_type": "markdown",
   "metadata": {},
   "source": [
    "# Section 02: Statistical Analysis"
   ]
  },
  {
   "cell_type": "markdown",
   "metadata": {},
   "source": [
    "# Factors related to the number of store purchases"
   ]
  },
  {
   "cell_type": "code",
   "execution_count": 68,
   "metadata": {},
   "outputs": [],
   "source": [
    "NumStorePurchases = df.NumStorePurchases.unique()"
   ]
  },
  {
   "cell_type": "code",
   "execution_count": 27,
   "metadata": {},
   "outputs": [
    {
     "name": "stdout",
     "output_type": "stream",
     "text": [
      "[ 0  1  2  3  4  5  6  7  8  9 10 11 12 13]\n"
     ]
    }
   ],
   "source": [
    "NumStorePurchases = np.array([ 6,  7,  5,  2,  3,  9, 10,  0,  8,  4, 13, 12,  1, 11])\n",
    "print(np.sort(NumStorePurchases))"
   ]
  },
  {
   "cell_type": "markdown",
   "metadata": {},
   "source": [
    "1. Number of Kids/Teens/Total Children at Home"
   ]
  },
  {
   "cell_type": "code",
   "execution_count": 28,
   "metadata": {},
   "outputs": [
    {
     "data": {
      "text/html": [
       "<div>\n",
       "<style scoped>\n",
       "    .dataframe tbody tr th:only-of-type {\n",
       "        vertical-align: middle;\n",
       "    }\n",
       "\n",
       "    .dataframe tbody tr th {\n",
       "        vertical-align: top;\n",
       "    }\n",
       "\n",
       "    .dataframe thead th {\n",
       "        text-align: right;\n",
       "    }\n",
       "</style>\n",
       "<table border=\"1\" class=\"dataframe\">\n",
       "  <thead>\n",
       "    <tr style=\"text-align: right;\">\n",
       "      <th></th>\n",
       "      <th>Kidhome</th>\n",
       "      <th>NumStorePurchases</th>\n",
       "    </tr>\n",
       "  </thead>\n",
       "  <tbody>\n",
       "    <tr>\n",
       "      <th>0</th>\n",
       "      <td>0</td>\n",
       "      <td>9323</td>\n",
       "    </tr>\n",
       "    <tr>\n",
       "      <th>1</th>\n",
       "      <td>1</td>\n",
       "      <td>3470</td>\n",
       "    </tr>\n",
       "    <tr>\n",
       "      <th>2</th>\n",
       "      <td>2</td>\n",
       "      <td>165</td>\n",
       "    </tr>\n",
       "  </tbody>\n",
       "</table>\n",
       "</div>"
      ],
      "text/plain": [
       "   Kidhome  NumStorePurchases\n",
       "0        0               9323\n",
       "1        1               3470\n",
       "2        2                165"
      ]
     },
     "execution_count": 28,
     "metadata": {},
     "output_type": "execute_result"
    }
   ],
   "source": [
    "NumStorePurchases_Kidhome = df.groupby('Kidhome').sum()['NumStorePurchases'].reset_index()\n",
    "NumStorePurchases_Kidhome"
   ]
  },
  {
   "cell_type": "code",
   "execution_count": 29,
   "metadata": {},
   "outputs": [
    {
     "data": {
      "text/html": [
       "<div>\n",
       "<style scoped>\n",
       "    .dataframe tbody tr th:only-of-type {\n",
       "        vertical-align: middle;\n",
       "    }\n",
       "\n",
       "    .dataframe tbody tr th {\n",
       "        vertical-align: top;\n",
       "    }\n",
       "\n",
       "    .dataframe thead th {\n",
       "        text-align: right;\n",
       "    }\n",
       "</style>\n",
       "<table border=\"1\" class=\"dataframe\">\n",
       "  <thead>\n",
       "    <tr style=\"text-align: right;\">\n",
       "      <th></th>\n",
       "      <th>Teenhome</th>\n",
       "      <th>NumStorePurchases</th>\n",
       "    </tr>\n",
       "  </thead>\n",
       "  <tbody>\n",
       "    <tr>\n",
       "      <th>0</th>\n",
       "      <td>0</td>\n",
       "      <td>6521</td>\n",
       "    </tr>\n",
       "    <tr>\n",
       "      <th>1</th>\n",
       "      <td>1</td>\n",
       "      <td>6112</td>\n",
       "    </tr>\n",
       "    <tr>\n",
       "      <th>2</th>\n",
       "      <td>2</td>\n",
       "      <td>325</td>\n",
       "    </tr>\n",
       "  </tbody>\n",
       "</table>\n",
       "</div>"
      ],
      "text/plain": [
       "   Teenhome  NumStorePurchases\n",
       "0         0               6521\n",
       "1         1               6112\n",
       "2         2                325"
      ]
     },
     "execution_count": 29,
     "metadata": {},
     "output_type": "execute_result"
    }
   ],
   "source": [
    "NumStorePurchases_Teenhome = df.groupby('Teenhome').sum()['NumStorePurchases'].reset_index()\n",
    "NumStorePurchases_Teenhome"
   ]
  },
  {
   "cell_type": "code",
   "execution_count": 30,
   "metadata": {},
   "outputs": [
    {
     "data": {
      "text/html": [
       "<div>\n",
       "<style scoped>\n",
       "    .dataframe tbody tr th:only-of-type {\n",
       "        vertical-align: middle;\n",
       "    }\n",
       "\n",
       "    .dataframe tbody tr th {\n",
       "        vertical-align: top;\n",
       "    }\n",
       "\n",
       "    .dataframe thead th {\n",
       "        text-align: right;\n",
       "    }\n",
       "</style>\n",
       "<table border=\"1\" class=\"dataframe\">\n",
       "  <thead>\n",
       "    <tr style=\"text-align: right;\">\n",
       "      <th></th>\n",
       "      <th>TotalChildren</th>\n",
       "      <th>NumStorePurchases</th>\n",
       "    </tr>\n",
       "  </thead>\n",
       "  <tbody>\n",
       "    <tr>\n",
       "      <th>0</th>\n",
       "      <td>0</td>\n",
       "      <td>4631</td>\n",
       "    </tr>\n",
       "    <tr>\n",
       "      <th>1</th>\n",
       "      <td>1</td>\n",
       "      <td>6302</td>\n",
       "    </tr>\n",
       "    <tr>\n",
       "      <th>2</th>\n",
       "      <td>2</td>\n",
       "      <td>1815</td>\n",
       "    </tr>\n",
       "    <tr>\n",
       "      <th>3</th>\n",
       "      <td>3</td>\n",
       "      <td>210</td>\n",
       "    </tr>\n",
       "  </tbody>\n",
       "</table>\n",
       "</div>"
      ],
      "text/plain": [
       "   TotalChildren  NumStorePurchases\n",
       "0              0               4631\n",
       "1              1               6302\n",
       "2              2               1815\n",
       "3              3                210"
      ]
     },
     "execution_count": 30,
     "metadata": {},
     "output_type": "execute_result"
    }
   ],
   "source": [
    "NumStorePurchases_TotalChildren= df.groupby('TotalChildren').sum()['NumStorePurchases'].reset_index()\n",
    "NumStorePurchases_TotalChildren"
   ]
  },
  {
   "cell_type": "code",
   "execution_count": 71,
   "metadata": {},
   "outputs": [
    {
     "data": {
      "application/vnd.plotly.v1+json": {
       "config": {
        "plotlyServerURL": "https://plot.ly"
       },
       "data": [
        {
         "marker": {
          "color": "darkorange"
         },
         "type": "bar",
         "x": [
          0,
          1,
          2
         ],
         "xaxis": "x",
         "y": [
          9323,
          3470,
          165
         ],
         "yaxis": "y"
        },
        {
         "marker": {
          "color": "darkorange"
         },
         "type": "bar",
         "x": [
          0,
          1,
          2
         ],
         "xaxis": "x2",
         "y": [
          6521,
          6112,
          325
         ],
         "yaxis": "y2"
        },
        {
         "marker": {
          "color": "darkorange"
         },
         "type": "bar",
         "x": [
          0,
          1,
          2,
          3
         ],
         "xaxis": "x3",
         "y": [
          4631,
          6302,
          1815,
          210
         ],
         "yaxis": "y3"
        }
       ],
       "layout": {
        "annotations": [
         {
          "font": {
           "size": 16
          },
          "showarrow": false,
          "text": "Number of Kids at home",
          "x": 0.14444444444444446,
          "xanchor": "center",
          "xref": "paper",
          "y": 1,
          "yanchor": "bottom",
          "yref": "paper"
         },
         {
          "font": {
           "size": 16
          },
          "showarrow": false,
          "text": "Number of Teens at home",
          "x": 0.5,
          "xanchor": "center",
          "xref": "paper",
          "y": 1,
          "yanchor": "bottom",
          "yref": "paper"
         },
         {
          "font": {
           "size": 16
          },
          "showarrow": false,
          "text": "Total Children",
          "x": 0.8555555555555556,
          "xanchor": "center",
          "xref": "paper",
          "y": 1,
          "yanchor": "bottom",
          "yref": "paper"
         }
        ],
        "coloraxis": {
         "colorscale": [
          [
           0,
           "rgb(255,0,0)"
          ],
          [
           1,
           "rgb(0,0,255)"
          ]
         ]
        },
        "showlegend": false,
        "template": {
         "data": {
          "bar": [
           {
            "error_x": {
             "color": "#2a3f5f"
            },
            "error_y": {
             "color": "#2a3f5f"
            },
            "marker": {
             "line": {
              "color": "#E5ECF6",
              "width": 0.5
             }
            },
            "type": "bar"
           }
          ],
          "barpolar": [
           {
            "marker": {
             "line": {
              "color": "#E5ECF6",
              "width": 0.5
             }
            },
            "type": "barpolar"
           }
          ],
          "carpet": [
           {
            "aaxis": {
             "endlinecolor": "#2a3f5f",
             "gridcolor": "white",
             "linecolor": "white",
             "minorgridcolor": "white",
             "startlinecolor": "#2a3f5f"
            },
            "baxis": {
             "endlinecolor": "#2a3f5f",
             "gridcolor": "white",
             "linecolor": "white",
             "minorgridcolor": "white",
             "startlinecolor": "#2a3f5f"
            },
            "type": "carpet"
           }
          ],
          "choropleth": [
           {
            "colorbar": {
             "outlinewidth": 0,
             "ticks": ""
            },
            "type": "choropleth"
           }
          ],
          "contour": [
           {
            "colorbar": {
             "outlinewidth": 0,
             "ticks": ""
            },
            "colorscale": [
             [
              0,
              "#0d0887"
             ],
             [
              0.1111111111111111,
              "#46039f"
             ],
             [
              0.2222222222222222,
              "#7201a8"
             ],
             [
              0.3333333333333333,
              "#9c179e"
             ],
             [
              0.4444444444444444,
              "#bd3786"
             ],
             [
              0.5555555555555556,
              "#d8576b"
             ],
             [
              0.6666666666666666,
              "#ed7953"
             ],
             [
              0.7777777777777778,
              "#fb9f3a"
             ],
             [
              0.8888888888888888,
              "#fdca26"
             ],
             [
              1,
              "#f0f921"
             ]
            ],
            "type": "contour"
           }
          ],
          "contourcarpet": [
           {
            "colorbar": {
             "outlinewidth": 0,
             "ticks": ""
            },
            "type": "contourcarpet"
           }
          ],
          "heatmap": [
           {
            "colorbar": {
             "outlinewidth": 0,
             "ticks": ""
            },
            "colorscale": [
             [
              0,
              "#0d0887"
             ],
             [
              0.1111111111111111,
              "#46039f"
             ],
             [
              0.2222222222222222,
              "#7201a8"
             ],
             [
              0.3333333333333333,
              "#9c179e"
             ],
             [
              0.4444444444444444,
              "#bd3786"
             ],
             [
              0.5555555555555556,
              "#d8576b"
             ],
             [
              0.6666666666666666,
              "#ed7953"
             ],
             [
              0.7777777777777778,
              "#fb9f3a"
             ],
             [
              0.8888888888888888,
              "#fdca26"
             ],
             [
              1,
              "#f0f921"
             ]
            ],
            "type": "heatmap"
           }
          ],
          "heatmapgl": [
           {
            "colorbar": {
             "outlinewidth": 0,
             "ticks": ""
            },
            "colorscale": [
             [
              0,
              "#0d0887"
             ],
             [
              0.1111111111111111,
              "#46039f"
             ],
             [
              0.2222222222222222,
              "#7201a8"
             ],
             [
              0.3333333333333333,
              "#9c179e"
             ],
             [
              0.4444444444444444,
              "#bd3786"
             ],
             [
              0.5555555555555556,
              "#d8576b"
             ],
             [
              0.6666666666666666,
              "#ed7953"
             ],
             [
              0.7777777777777778,
              "#fb9f3a"
             ],
             [
              0.8888888888888888,
              "#fdca26"
             ],
             [
              1,
              "#f0f921"
             ]
            ],
            "type": "heatmapgl"
           }
          ],
          "histogram": [
           {
            "marker": {
             "colorbar": {
              "outlinewidth": 0,
              "ticks": ""
             }
            },
            "type": "histogram"
           }
          ],
          "histogram2d": [
           {
            "colorbar": {
             "outlinewidth": 0,
             "ticks": ""
            },
            "colorscale": [
             [
              0,
              "#0d0887"
             ],
             [
              0.1111111111111111,
              "#46039f"
             ],
             [
              0.2222222222222222,
              "#7201a8"
             ],
             [
              0.3333333333333333,
              "#9c179e"
             ],
             [
              0.4444444444444444,
              "#bd3786"
             ],
             [
              0.5555555555555556,
              "#d8576b"
             ],
             [
              0.6666666666666666,
              "#ed7953"
             ],
             [
              0.7777777777777778,
              "#fb9f3a"
             ],
             [
              0.8888888888888888,
              "#fdca26"
             ],
             [
              1,
              "#f0f921"
             ]
            ],
            "type": "histogram2d"
           }
          ],
          "histogram2dcontour": [
           {
            "colorbar": {
             "outlinewidth": 0,
             "ticks": ""
            },
            "colorscale": [
             [
              0,
              "#0d0887"
             ],
             [
              0.1111111111111111,
              "#46039f"
             ],
             [
              0.2222222222222222,
              "#7201a8"
             ],
             [
              0.3333333333333333,
              "#9c179e"
             ],
             [
              0.4444444444444444,
              "#bd3786"
             ],
             [
              0.5555555555555556,
              "#d8576b"
             ],
             [
              0.6666666666666666,
              "#ed7953"
             ],
             [
              0.7777777777777778,
              "#fb9f3a"
             ],
             [
              0.8888888888888888,
              "#fdca26"
             ],
             [
              1,
              "#f0f921"
             ]
            ],
            "type": "histogram2dcontour"
           }
          ],
          "mesh3d": [
           {
            "colorbar": {
             "outlinewidth": 0,
             "ticks": ""
            },
            "type": "mesh3d"
           }
          ],
          "parcoords": [
           {
            "line": {
             "colorbar": {
              "outlinewidth": 0,
              "ticks": ""
             }
            },
            "type": "parcoords"
           }
          ],
          "pie": [
           {
            "automargin": true,
            "type": "pie"
           }
          ],
          "scatter": [
           {
            "marker": {
             "colorbar": {
              "outlinewidth": 0,
              "ticks": ""
             }
            },
            "type": "scatter"
           }
          ],
          "scatter3d": [
           {
            "line": {
             "colorbar": {
              "outlinewidth": 0,
              "ticks": ""
             }
            },
            "marker": {
             "colorbar": {
              "outlinewidth": 0,
              "ticks": ""
             }
            },
            "type": "scatter3d"
           }
          ],
          "scattercarpet": [
           {
            "marker": {
             "colorbar": {
              "outlinewidth": 0,
              "ticks": ""
             }
            },
            "type": "scattercarpet"
           }
          ],
          "scattergeo": [
           {
            "marker": {
             "colorbar": {
              "outlinewidth": 0,
              "ticks": ""
             }
            },
            "type": "scattergeo"
           }
          ],
          "scattergl": [
           {
            "marker": {
             "colorbar": {
              "outlinewidth": 0,
              "ticks": ""
             }
            },
            "type": "scattergl"
           }
          ],
          "scattermapbox": [
           {
            "marker": {
             "colorbar": {
              "outlinewidth": 0,
              "ticks": ""
             }
            },
            "type": "scattermapbox"
           }
          ],
          "scatterpolar": [
           {
            "marker": {
             "colorbar": {
              "outlinewidth": 0,
              "ticks": ""
             }
            },
            "type": "scatterpolar"
           }
          ],
          "scatterpolargl": [
           {
            "marker": {
             "colorbar": {
              "outlinewidth": 0,
              "ticks": ""
             }
            },
            "type": "scatterpolargl"
           }
          ],
          "scatterternary": [
           {
            "marker": {
             "colorbar": {
              "outlinewidth": 0,
              "ticks": ""
             }
            },
            "type": "scatterternary"
           }
          ],
          "surface": [
           {
            "colorbar": {
             "outlinewidth": 0,
             "ticks": ""
            },
            "colorscale": [
             [
              0,
              "#0d0887"
             ],
             [
              0.1111111111111111,
              "#46039f"
             ],
             [
              0.2222222222222222,
              "#7201a8"
             ],
             [
              0.3333333333333333,
              "#9c179e"
             ],
             [
              0.4444444444444444,
              "#bd3786"
             ],
             [
              0.5555555555555556,
              "#d8576b"
             ],
             [
              0.6666666666666666,
              "#ed7953"
             ],
             [
              0.7777777777777778,
              "#fb9f3a"
             ],
             [
              0.8888888888888888,
              "#fdca26"
             ],
             [
              1,
              "#f0f921"
             ]
            ],
            "type": "surface"
           }
          ],
          "table": [
           {
            "cells": {
             "fill": {
              "color": "#EBF0F8"
             },
             "line": {
              "color": "white"
             }
            },
            "header": {
             "fill": {
              "color": "#C8D4E3"
             },
             "line": {
              "color": "white"
             }
            },
            "type": "table"
           }
          ]
         },
         "layout": {
          "annotationdefaults": {
           "arrowcolor": "#2a3f5f",
           "arrowhead": 0,
           "arrowwidth": 1
          },
          "autotypenumbers": "strict",
          "coloraxis": {
           "colorbar": {
            "outlinewidth": 0,
            "ticks": ""
           }
          },
          "colorscale": {
           "diverging": [
            [
             0,
             "#8e0152"
            ],
            [
             0.1,
             "#c51b7d"
            ],
            [
             0.2,
             "#de77ae"
            ],
            [
             0.3,
             "#f1b6da"
            ],
            [
             0.4,
             "#fde0ef"
            ],
            [
             0.5,
             "#f7f7f7"
            ],
            [
             0.6,
             "#e6f5d0"
            ],
            [
             0.7,
             "#b8e186"
            ],
            [
             0.8,
             "#7fbc41"
            ],
            [
             0.9,
             "#4d9221"
            ],
            [
             1,
             "#276419"
            ]
           ],
           "sequential": [
            [
             0,
             "#0d0887"
            ],
            [
             0.1111111111111111,
             "#46039f"
            ],
            [
             0.2222222222222222,
             "#7201a8"
            ],
            [
             0.3333333333333333,
             "#9c179e"
            ],
            [
             0.4444444444444444,
             "#bd3786"
            ],
            [
             0.5555555555555556,
             "#d8576b"
            ],
            [
             0.6666666666666666,
             "#ed7953"
            ],
            [
             0.7777777777777778,
             "#fb9f3a"
            ],
            [
             0.8888888888888888,
             "#fdca26"
            ],
            [
             1,
             "#f0f921"
            ]
           ],
           "sequentialminus": [
            [
             0,
             "#0d0887"
            ],
            [
             0.1111111111111111,
             "#46039f"
            ],
            [
             0.2222222222222222,
             "#7201a8"
            ],
            [
             0.3333333333333333,
             "#9c179e"
            ],
            [
             0.4444444444444444,
             "#bd3786"
            ],
            [
             0.5555555555555556,
             "#d8576b"
            ],
            [
             0.6666666666666666,
             "#ed7953"
            ],
            [
             0.7777777777777778,
             "#fb9f3a"
            ],
            [
             0.8888888888888888,
             "#fdca26"
            ],
            [
             1,
             "#f0f921"
            ]
           ]
          },
          "colorway": [
           "#636efa",
           "#EF553B",
           "#00cc96",
           "#ab63fa",
           "#FFA15A",
           "#19d3f3",
           "#FF6692",
           "#B6E880",
           "#FF97FF",
           "#FECB52"
          ],
          "font": {
           "color": "#2a3f5f"
          },
          "geo": {
           "bgcolor": "white",
           "lakecolor": "white",
           "landcolor": "#E5ECF6",
           "showlakes": true,
           "showland": true,
           "subunitcolor": "white"
          },
          "hoverlabel": {
           "align": "left"
          },
          "hovermode": "closest",
          "mapbox": {
           "style": "light"
          },
          "paper_bgcolor": "white",
          "plot_bgcolor": "#E5ECF6",
          "polar": {
           "angularaxis": {
            "gridcolor": "white",
            "linecolor": "white",
            "ticks": ""
           },
           "bgcolor": "#E5ECF6",
           "radialaxis": {
            "gridcolor": "white",
            "linecolor": "white",
            "ticks": ""
           }
          },
          "scene": {
           "xaxis": {
            "backgroundcolor": "#E5ECF6",
            "gridcolor": "white",
            "gridwidth": 2,
            "linecolor": "white",
            "showbackground": true,
            "ticks": "",
            "zerolinecolor": "white"
           },
           "yaxis": {
            "backgroundcolor": "#E5ECF6",
            "gridcolor": "white",
            "gridwidth": 2,
            "linecolor": "white",
            "showbackground": true,
            "ticks": "",
            "zerolinecolor": "white"
           },
           "zaxis": {
            "backgroundcolor": "#E5ECF6",
            "gridcolor": "white",
            "gridwidth": 2,
            "linecolor": "white",
            "showbackground": true,
            "ticks": "",
            "zerolinecolor": "white"
           }
          },
          "shapedefaults": {
           "line": {
            "color": "#2a3f5f"
           }
          },
          "ternary": {
           "aaxis": {
            "gridcolor": "white",
            "linecolor": "white",
            "ticks": ""
           },
           "baxis": {
            "gridcolor": "white",
            "linecolor": "white",
            "ticks": ""
           },
           "bgcolor": "#E5ECF6",
           "caxis": {
            "gridcolor": "white",
            "linecolor": "white",
            "ticks": ""
           }
          },
          "title": {
           "x": 0.05
          },
          "xaxis": {
           "automargin": true,
           "gridcolor": "white",
           "linecolor": "white",
           "ticks": "",
           "title": {
            "standoff": 15
           },
           "zerolinecolor": "white",
           "zerolinewidth": 2
          },
          "yaxis": {
           "automargin": true,
           "gridcolor": "white",
           "linecolor": "white",
           "ticks": "",
           "title": {
            "standoff": 15
           },
           "zerolinecolor": "white",
           "zerolinewidth": 2
          }
         }
        },
        "title": {
         "text": "How number of children at home and their age affect Number of Store Purchases"
        },
        "xaxis": {
         "anchor": "y",
         "domain": [
          0,
          0.2888888888888889
         ]
        },
        "xaxis2": {
         "anchor": "y2",
         "domain": [
          0.35555555555555557,
          0.6444444444444445
         ]
        },
        "xaxis3": {
         "anchor": "y3",
         "domain": [
          0.7111111111111111,
          1
         ]
        },
        "yaxis": {
         "anchor": "x",
         "domain": [
          0,
          1
         ],
         "title": {
          "text": "Number of Store Purchases"
         }
        },
        "yaxis2": {
         "anchor": "x2",
         "domain": [
          0,
          1
         ],
         "matches": "y",
         "showticklabels": false
        },
        "yaxis3": {
         "anchor": "x3",
         "domain": [
          0,
          1
         ],
         "matches": "y",
         "showticklabels": false
        }
       }
      },
      "text/html": [
       "<div>                            <div id=\"b13dd3f2-9729-45f3-a912-40ef47222e2c\" class=\"plotly-graph-div\" style=\"height:525px; width:100%;\"></div>            <script type=\"text/javascript\">                require([\"plotly\"], function(Plotly) {                    window.PLOTLYENV=window.PLOTLYENV || {};                                    if (document.getElementById(\"b13dd3f2-9729-45f3-a912-40ef47222e2c\")) {                    Plotly.newPlot(                        \"b13dd3f2-9729-45f3-a912-40ef47222e2c\",                        [{\"marker\": {\"color\": \"darkorange\"}, \"type\": \"bar\", \"x\": [0, 1, 2], \"xaxis\": \"x\", \"y\": [9323, 3470, 165], \"yaxis\": \"y\"}, {\"marker\": {\"color\": \"darkorange\"}, \"type\": \"bar\", \"x\": [0, 1, 2], \"xaxis\": \"x2\", \"y\": [6521, 6112, 325], \"yaxis\": \"y2\"}, {\"marker\": {\"color\": \"darkorange\"}, \"type\": \"bar\", \"x\": [0, 1, 2, 3], \"xaxis\": \"x3\", \"y\": [4631, 6302, 1815, 210], \"yaxis\": \"y3\"}],                        {\"annotations\": [{\"font\": {\"size\": 16}, \"showarrow\": false, \"text\": \"Number of Kids at home\", \"x\": 0.14444444444444446, \"xanchor\": \"center\", \"xref\": \"paper\", \"y\": 1.0, \"yanchor\": \"bottom\", \"yref\": \"paper\"}, {\"font\": {\"size\": 16}, \"showarrow\": false, \"text\": \"Number of Teens at home\", \"x\": 0.5, \"xanchor\": \"center\", \"xref\": \"paper\", \"y\": 1.0, \"yanchor\": \"bottom\", \"yref\": \"paper\"}, {\"font\": {\"size\": 16}, \"showarrow\": false, \"text\": \"Total Children\", \"x\": 0.8555555555555556, \"xanchor\": \"center\", \"xref\": \"paper\", \"y\": 1.0, \"yanchor\": \"bottom\", \"yref\": \"paper\"}], \"coloraxis\": {\"colorscale\": [[0.0, \"rgb(255,0,0)\"], [1.0, \"rgb(0,0,255)\"]]}, \"showlegend\": false, \"template\": {\"data\": {\"bar\": [{\"error_x\": {\"color\": \"#2a3f5f\"}, \"error_y\": {\"color\": \"#2a3f5f\"}, \"marker\": {\"line\": {\"color\": \"#E5ECF6\", \"width\": 0.5}}, \"type\": \"bar\"}], \"barpolar\": [{\"marker\": {\"line\": {\"color\": \"#E5ECF6\", \"width\": 0.5}}, \"type\": \"barpolar\"}], \"carpet\": [{\"aaxis\": {\"endlinecolor\": \"#2a3f5f\", \"gridcolor\": \"white\", \"linecolor\": \"white\", \"minorgridcolor\": \"white\", \"startlinecolor\": \"#2a3f5f\"}, \"baxis\": {\"endlinecolor\": \"#2a3f5f\", \"gridcolor\": \"white\", \"linecolor\": \"white\", \"minorgridcolor\": \"white\", \"startlinecolor\": \"#2a3f5f\"}, \"type\": \"carpet\"}], \"choropleth\": [{\"colorbar\": {\"outlinewidth\": 0, \"ticks\": \"\"}, \"type\": \"choropleth\"}], \"contour\": [{\"colorbar\": {\"outlinewidth\": 0, \"ticks\": \"\"}, \"colorscale\": [[0.0, \"#0d0887\"], [0.1111111111111111, \"#46039f\"], [0.2222222222222222, \"#7201a8\"], [0.3333333333333333, \"#9c179e\"], [0.4444444444444444, \"#bd3786\"], [0.5555555555555556, \"#d8576b\"], [0.6666666666666666, \"#ed7953\"], [0.7777777777777778, \"#fb9f3a\"], [0.8888888888888888, \"#fdca26\"], [1.0, \"#f0f921\"]], \"type\": \"contour\"}], \"contourcarpet\": [{\"colorbar\": {\"outlinewidth\": 0, \"ticks\": \"\"}, \"type\": \"contourcarpet\"}], \"heatmap\": [{\"colorbar\": {\"outlinewidth\": 0, \"ticks\": \"\"}, \"colorscale\": [[0.0, \"#0d0887\"], [0.1111111111111111, \"#46039f\"], [0.2222222222222222, \"#7201a8\"], [0.3333333333333333, \"#9c179e\"], [0.4444444444444444, \"#bd3786\"], [0.5555555555555556, \"#d8576b\"], [0.6666666666666666, \"#ed7953\"], [0.7777777777777778, \"#fb9f3a\"], [0.8888888888888888, \"#fdca26\"], [1.0, \"#f0f921\"]], \"type\": \"heatmap\"}], \"heatmapgl\": [{\"colorbar\": {\"outlinewidth\": 0, \"ticks\": \"\"}, \"colorscale\": [[0.0, \"#0d0887\"], [0.1111111111111111, \"#46039f\"], [0.2222222222222222, \"#7201a8\"], [0.3333333333333333, \"#9c179e\"], [0.4444444444444444, \"#bd3786\"], [0.5555555555555556, \"#d8576b\"], [0.6666666666666666, \"#ed7953\"], [0.7777777777777778, \"#fb9f3a\"], [0.8888888888888888, \"#fdca26\"], [1.0, \"#f0f921\"]], \"type\": \"heatmapgl\"}], \"histogram\": [{\"marker\": {\"colorbar\": {\"outlinewidth\": 0, \"ticks\": \"\"}}, \"type\": \"histogram\"}], \"histogram2d\": [{\"colorbar\": {\"outlinewidth\": 0, \"ticks\": \"\"}, \"colorscale\": [[0.0, \"#0d0887\"], [0.1111111111111111, \"#46039f\"], [0.2222222222222222, \"#7201a8\"], [0.3333333333333333, \"#9c179e\"], [0.4444444444444444, \"#bd3786\"], [0.5555555555555556, \"#d8576b\"], [0.6666666666666666, \"#ed7953\"], [0.7777777777777778, \"#fb9f3a\"], [0.8888888888888888, \"#fdca26\"], [1.0, \"#f0f921\"]], \"type\": \"histogram2d\"}], \"histogram2dcontour\": [{\"colorbar\": {\"outlinewidth\": 0, \"ticks\": \"\"}, \"colorscale\": [[0.0, \"#0d0887\"], [0.1111111111111111, \"#46039f\"], [0.2222222222222222, \"#7201a8\"], [0.3333333333333333, \"#9c179e\"], [0.4444444444444444, \"#bd3786\"], [0.5555555555555556, \"#d8576b\"], [0.6666666666666666, \"#ed7953\"], [0.7777777777777778, \"#fb9f3a\"], [0.8888888888888888, \"#fdca26\"], [1.0, \"#f0f921\"]], \"type\": \"histogram2dcontour\"}], \"mesh3d\": [{\"colorbar\": {\"outlinewidth\": 0, \"ticks\": \"\"}, \"type\": \"mesh3d\"}], \"parcoords\": [{\"line\": {\"colorbar\": {\"outlinewidth\": 0, \"ticks\": \"\"}}, \"type\": \"parcoords\"}], \"pie\": [{\"automargin\": true, \"type\": \"pie\"}], \"scatter\": [{\"marker\": {\"colorbar\": {\"outlinewidth\": 0, \"ticks\": \"\"}}, \"type\": \"scatter\"}], \"scatter3d\": [{\"line\": {\"colorbar\": {\"outlinewidth\": 0, \"ticks\": \"\"}}, \"marker\": {\"colorbar\": {\"outlinewidth\": 0, \"ticks\": \"\"}}, \"type\": \"scatter3d\"}], \"scattercarpet\": [{\"marker\": {\"colorbar\": {\"outlinewidth\": 0, \"ticks\": \"\"}}, \"type\": \"scattercarpet\"}], \"scattergeo\": [{\"marker\": {\"colorbar\": {\"outlinewidth\": 0, \"ticks\": \"\"}}, \"type\": \"scattergeo\"}], \"scattergl\": [{\"marker\": {\"colorbar\": {\"outlinewidth\": 0, \"ticks\": \"\"}}, \"type\": \"scattergl\"}], \"scattermapbox\": [{\"marker\": {\"colorbar\": {\"outlinewidth\": 0, \"ticks\": \"\"}}, \"type\": \"scattermapbox\"}], \"scatterpolar\": [{\"marker\": {\"colorbar\": {\"outlinewidth\": 0, \"ticks\": \"\"}}, \"type\": \"scatterpolar\"}], \"scatterpolargl\": [{\"marker\": {\"colorbar\": {\"outlinewidth\": 0, \"ticks\": \"\"}}, \"type\": \"scatterpolargl\"}], \"scatterternary\": [{\"marker\": {\"colorbar\": {\"outlinewidth\": 0, \"ticks\": \"\"}}, \"type\": \"scatterternary\"}], \"surface\": [{\"colorbar\": {\"outlinewidth\": 0, \"ticks\": \"\"}, \"colorscale\": [[0.0, \"#0d0887\"], [0.1111111111111111, \"#46039f\"], [0.2222222222222222, \"#7201a8\"], [0.3333333333333333, \"#9c179e\"], [0.4444444444444444, \"#bd3786\"], [0.5555555555555556, \"#d8576b\"], [0.6666666666666666, \"#ed7953\"], [0.7777777777777778, \"#fb9f3a\"], [0.8888888888888888, \"#fdca26\"], [1.0, \"#f0f921\"]], \"type\": \"surface\"}], \"table\": [{\"cells\": {\"fill\": {\"color\": \"#EBF0F8\"}, \"line\": {\"color\": \"white\"}}, \"header\": {\"fill\": {\"color\": \"#C8D4E3\"}, \"line\": {\"color\": \"white\"}}, \"type\": \"table\"}]}, \"layout\": {\"annotationdefaults\": {\"arrowcolor\": \"#2a3f5f\", \"arrowhead\": 0, \"arrowwidth\": 1}, \"autotypenumbers\": \"strict\", \"coloraxis\": {\"colorbar\": {\"outlinewidth\": 0, \"ticks\": \"\"}}, \"colorscale\": {\"diverging\": [[0, \"#8e0152\"], [0.1, \"#c51b7d\"], [0.2, \"#de77ae\"], [0.3, \"#f1b6da\"], [0.4, \"#fde0ef\"], [0.5, \"#f7f7f7\"], [0.6, \"#e6f5d0\"], [0.7, \"#b8e186\"], [0.8, \"#7fbc41\"], [0.9, \"#4d9221\"], [1, \"#276419\"]], \"sequential\": [[0.0, \"#0d0887\"], [0.1111111111111111, \"#46039f\"], [0.2222222222222222, \"#7201a8\"], [0.3333333333333333, \"#9c179e\"], [0.4444444444444444, \"#bd3786\"], [0.5555555555555556, \"#d8576b\"], [0.6666666666666666, \"#ed7953\"], [0.7777777777777778, \"#fb9f3a\"], [0.8888888888888888, \"#fdca26\"], [1.0, \"#f0f921\"]], \"sequentialminus\": [[0.0, \"#0d0887\"], [0.1111111111111111, \"#46039f\"], [0.2222222222222222, \"#7201a8\"], [0.3333333333333333, \"#9c179e\"], [0.4444444444444444, \"#bd3786\"], [0.5555555555555556, \"#d8576b\"], [0.6666666666666666, \"#ed7953\"], [0.7777777777777778, \"#fb9f3a\"], [0.8888888888888888, \"#fdca26\"], [1.0, \"#f0f921\"]]}, \"colorway\": [\"#636efa\", \"#EF553B\", \"#00cc96\", \"#ab63fa\", \"#FFA15A\", \"#19d3f3\", \"#FF6692\", \"#B6E880\", \"#FF97FF\", \"#FECB52\"], \"font\": {\"color\": \"#2a3f5f\"}, \"geo\": {\"bgcolor\": \"white\", \"lakecolor\": \"white\", \"landcolor\": \"#E5ECF6\", \"showlakes\": true, \"showland\": true, \"subunitcolor\": \"white\"}, \"hoverlabel\": {\"align\": \"left\"}, \"hovermode\": \"closest\", \"mapbox\": {\"style\": \"light\"}, \"paper_bgcolor\": \"white\", \"plot_bgcolor\": \"#E5ECF6\", \"polar\": {\"angularaxis\": {\"gridcolor\": \"white\", \"linecolor\": \"white\", \"ticks\": \"\"}, \"bgcolor\": \"#E5ECF6\", \"radialaxis\": {\"gridcolor\": \"white\", \"linecolor\": \"white\", \"ticks\": \"\"}}, \"scene\": {\"xaxis\": {\"backgroundcolor\": \"#E5ECF6\", \"gridcolor\": \"white\", \"gridwidth\": 2, \"linecolor\": \"white\", \"showbackground\": true, \"ticks\": \"\", \"zerolinecolor\": \"white\"}, \"yaxis\": {\"backgroundcolor\": \"#E5ECF6\", \"gridcolor\": \"white\", \"gridwidth\": 2, \"linecolor\": \"white\", \"showbackground\": true, \"ticks\": \"\", \"zerolinecolor\": \"white\"}, \"zaxis\": {\"backgroundcolor\": \"#E5ECF6\", \"gridcolor\": \"white\", \"gridwidth\": 2, \"linecolor\": \"white\", \"showbackground\": true, \"ticks\": \"\", \"zerolinecolor\": \"white\"}}, \"shapedefaults\": {\"line\": {\"color\": \"#2a3f5f\"}}, \"ternary\": {\"aaxis\": {\"gridcolor\": \"white\", \"linecolor\": \"white\", \"ticks\": \"\"}, \"baxis\": {\"gridcolor\": \"white\", \"linecolor\": \"white\", \"ticks\": \"\"}, \"bgcolor\": \"#E5ECF6\", \"caxis\": {\"gridcolor\": \"white\", \"linecolor\": \"white\", \"ticks\": \"\"}}, \"title\": {\"x\": 0.05}, \"xaxis\": {\"automargin\": true, \"gridcolor\": \"white\", \"linecolor\": \"white\", \"ticks\": \"\", \"title\": {\"standoff\": 15}, \"zerolinecolor\": \"white\", \"zerolinewidth\": 2}, \"yaxis\": {\"automargin\": true, \"gridcolor\": \"white\", \"linecolor\": \"white\", \"ticks\": \"\", \"title\": {\"standoff\": 15}, \"zerolinecolor\": \"white\", \"zerolinewidth\": 2}}}, \"title\": {\"text\": \"How number of children at home and their age affect Number of Store Purchases\"}, \"xaxis\": {\"anchor\": \"y\", \"domain\": [0.0, 0.2888888888888889]}, \"xaxis2\": {\"anchor\": \"y2\", \"domain\": [0.35555555555555557, 0.6444444444444445]}, \"xaxis3\": {\"anchor\": \"y3\", \"domain\": [0.7111111111111111, 1.0]}, \"yaxis\": {\"anchor\": \"x\", \"domain\": [0.0, 1.0], \"title\": {\"text\": \"Number of Store Purchases\"}}, \"yaxis2\": {\"anchor\": \"x2\", \"domain\": [0.0, 1.0], \"matches\": \"y\", \"showticklabels\": false}, \"yaxis3\": {\"anchor\": \"x3\", \"domain\": [0.0, 1.0], \"matches\": \"y\", \"showticklabels\": false}},                        {\"responsive\": true}                    ).then(function(){\n",
       "                            \n",
       "var gd = document.getElementById('b13dd3f2-9729-45f3-a912-40ef47222e2c');\n",
       "var x = new MutationObserver(function (mutations, observer) {{\n",
       "        var display = window.getComputedStyle(gd).display;\n",
       "        if (!display || display === 'none') {{\n",
       "            console.log([gd, 'removed!']);\n",
       "            Plotly.purge(gd);\n",
       "            observer.disconnect();\n",
       "        }}\n",
       "}});\n",
       "\n",
       "// Listen for the removal of the full notebook cells\n",
       "var notebookContainer = gd.closest('#notebook-container');\n",
       "if (notebookContainer) {{\n",
       "    x.observe(notebookContainer, {childList: true});\n",
       "}}\n",
       "\n",
       "// Listen for the clearing of the current output cell\n",
       "var outputEl = gd.closest('.output');\n",
       "if (outputEl) {{\n",
       "    x.observe(outputEl, {childList: true});\n",
       "}}\n",
       "\n",
       "                        })                };                });            </script>        </div>"
      ]
     },
     "metadata": {},
     "output_type": "display_data"
    }
   ],
   "source": [
    "fig = make_subplots(rows=1, cols=3, shared_yaxes=True  , subplot_titles=(\"Number of Kids at home\", \"Number of Teens at home\", \"Total Children\"))\n",
    "\n",
    "fig.add_trace(go.Bar(x=NumStorePurchases_Kidhome['Kidhome'], y=NumStorePurchases_Kidhome['NumStorePurchases'],marker=dict(color='darkorange')),1, 1)\n",
    "\n",
    "fig.add_trace(go.Bar(x=NumStorePurchases_Teenhome['Teenhome'], y=NumStorePurchases_Teenhome['NumStorePurchases'],marker=dict(color='darkorange')),1, 2)\n",
    "\n",
    "fig.add_trace(go.Bar(x=NumStorePurchases_TotalChildren['TotalChildren'], y=NumStorePurchases_TotalChildren['NumStorePurchases'],marker=dict(color='darkorange')),1, 3)\n",
    "\n",
    "fig.update_layout(coloraxis=dict(colorscale='Bluered_r') , yaxis_title ='Number of Store Purchases', title_text=\"How number of children at home and their age affect Number of Store Purchases\" ,showlegend=False)\n",
    "fig.show()"
   ]
  },
  {
   "cell_type": "markdown",
   "metadata": {},
   "source": [
    "2. Marital Status"
   ]
  },
  {
   "cell_type": "code",
   "execution_count": 32,
   "metadata": {},
   "outputs": [
    {
     "data": {
      "text/html": [
       "<div>\n",
       "<style scoped>\n",
       "    .dataframe tbody tr th:only-of-type {\n",
       "        vertical-align: middle;\n",
       "    }\n",
       "\n",
       "    .dataframe tbody tr th {\n",
       "        vertical-align: top;\n",
       "    }\n",
       "\n",
       "    .dataframe thead th {\n",
       "        text-align: right;\n",
       "    }\n",
       "</style>\n",
       "<table border=\"1\" class=\"dataframe\">\n",
       "  <thead>\n",
       "    <tr style=\"text-align: right;\">\n",
       "      <th></th>\n",
       "      <th>Marital_Status</th>\n",
       "      <th>NumStorePurchases</th>\n",
       "    </tr>\n",
       "  </thead>\n",
       "  <tbody>\n",
       "    <tr>\n",
       "      <th>0</th>\n",
       "      <td>Absurd</td>\n",
       "      <td>13</td>\n",
       "    </tr>\n",
       "    <tr>\n",
       "      <th>1</th>\n",
       "      <td>Alone</td>\n",
       "      <td>12</td>\n",
       "    </tr>\n",
       "    <tr>\n",
       "      <th>2</th>\n",
       "      <td>Divorced</td>\n",
       "      <td>1350</td>\n",
       "    </tr>\n",
       "    <tr>\n",
       "      <th>3</th>\n",
       "      <td>Married</td>\n",
       "      <td>5055</td>\n",
       "    </tr>\n",
       "    <tr>\n",
       "      <th>4</th>\n",
       "      <td>Single</td>\n",
       "      <td>2705</td>\n",
       "    </tr>\n",
       "    <tr>\n",
       "      <th>5</th>\n",
       "      <td>Together</td>\n",
       "      <td>3320</td>\n",
       "    </tr>\n",
       "    <tr>\n",
       "      <th>6</th>\n",
       "      <td>Widow</td>\n",
       "      <td>491</td>\n",
       "    </tr>\n",
       "    <tr>\n",
       "      <th>7</th>\n",
       "      <td>YOLO</td>\n",
       "      <td>12</td>\n",
       "    </tr>\n",
       "  </tbody>\n",
       "</table>\n",
       "</div>"
      ],
      "text/plain": [
       "  Marital_Status  NumStorePurchases\n",
       "0         Absurd                 13\n",
       "1          Alone                 12\n",
       "2       Divorced               1350\n",
       "3        Married               5055\n",
       "4         Single               2705\n",
       "5       Together               3320\n",
       "6          Widow                491\n",
       "7           YOLO                 12"
      ]
     },
     "execution_count": 32,
     "metadata": {},
     "output_type": "execute_result"
    }
   ],
   "source": [
    "Marital_Status = df.groupby('Marital_Status').sum()['NumStorePurchases'].reset_index()\n",
    "\n",
    "Marital_Status"
   ]
  },
  {
   "cell_type": "code",
   "execution_count": 33,
   "metadata": {},
   "outputs": [
    {
     "data": {
      "application/vnd.plotly.v1+json": {
       "config": {
        "plotlyServerURL": "https://plot.ly"
       },
       "data": [
        {
         "alignmentgroup": "True",
         "hovertemplate": "Marital_Status=%{x}<br>NumStorePurchases=%{y}<extra></extra>",
         "legendgroup": "",
         "marker": {
          "color": "#636efa"
         },
         "name": "",
         "offsetgroup": "",
         "orientation": "v",
         "showlegend": false,
         "textposition": "auto",
         "type": "bar",
         "x": [
          "Absurd",
          "Alone",
          "Divorced",
          "Married",
          "Single",
          "Together",
          "Widow",
          "YOLO"
         ],
         "xaxis": "x",
         "y": [
          13,
          12,
          1350,
          5055,
          2705,
          3320,
          491,
          12
         ],
         "yaxis": "y"
        }
       ],
       "layout": {
        "barmode": "relative",
        "legend": {
         "tracegroupgap": 0
        },
        "template": {
         "data": {
          "bar": [
           {
            "error_x": {
             "color": "#2a3f5f"
            },
            "error_y": {
             "color": "#2a3f5f"
            },
            "marker": {
             "line": {
              "color": "#E5ECF6",
              "width": 0.5
             }
            },
            "type": "bar"
           }
          ],
          "barpolar": [
           {
            "marker": {
             "line": {
              "color": "#E5ECF6",
              "width": 0.5
             }
            },
            "type": "barpolar"
           }
          ],
          "carpet": [
           {
            "aaxis": {
             "endlinecolor": "#2a3f5f",
             "gridcolor": "white",
             "linecolor": "white",
             "minorgridcolor": "white",
             "startlinecolor": "#2a3f5f"
            },
            "baxis": {
             "endlinecolor": "#2a3f5f",
             "gridcolor": "white",
             "linecolor": "white",
             "minorgridcolor": "white",
             "startlinecolor": "#2a3f5f"
            },
            "type": "carpet"
           }
          ],
          "choropleth": [
           {
            "colorbar": {
             "outlinewidth": 0,
             "ticks": ""
            },
            "type": "choropleth"
           }
          ],
          "contour": [
           {
            "colorbar": {
             "outlinewidth": 0,
             "ticks": ""
            },
            "colorscale": [
             [
              0,
              "#0d0887"
             ],
             [
              0.1111111111111111,
              "#46039f"
             ],
             [
              0.2222222222222222,
              "#7201a8"
             ],
             [
              0.3333333333333333,
              "#9c179e"
             ],
             [
              0.4444444444444444,
              "#bd3786"
             ],
             [
              0.5555555555555556,
              "#d8576b"
             ],
             [
              0.6666666666666666,
              "#ed7953"
             ],
             [
              0.7777777777777778,
              "#fb9f3a"
             ],
             [
              0.8888888888888888,
              "#fdca26"
             ],
             [
              1,
              "#f0f921"
             ]
            ],
            "type": "contour"
           }
          ],
          "contourcarpet": [
           {
            "colorbar": {
             "outlinewidth": 0,
             "ticks": ""
            },
            "type": "contourcarpet"
           }
          ],
          "heatmap": [
           {
            "colorbar": {
             "outlinewidth": 0,
             "ticks": ""
            },
            "colorscale": [
             [
              0,
              "#0d0887"
             ],
             [
              0.1111111111111111,
              "#46039f"
             ],
             [
              0.2222222222222222,
              "#7201a8"
             ],
             [
              0.3333333333333333,
              "#9c179e"
             ],
             [
              0.4444444444444444,
              "#bd3786"
             ],
             [
              0.5555555555555556,
              "#d8576b"
             ],
             [
              0.6666666666666666,
              "#ed7953"
             ],
             [
              0.7777777777777778,
              "#fb9f3a"
             ],
             [
              0.8888888888888888,
              "#fdca26"
             ],
             [
              1,
              "#f0f921"
             ]
            ],
            "type": "heatmap"
           }
          ],
          "heatmapgl": [
           {
            "colorbar": {
             "outlinewidth": 0,
             "ticks": ""
            },
            "colorscale": [
             [
              0,
              "#0d0887"
             ],
             [
              0.1111111111111111,
              "#46039f"
             ],
             [
              0.2222222222222222,
              "#7201a8"
             ],
             [
              0.3333333333333333,
              "#9c179e"
             ],
             [
              0.4444444444444444,
              "#bd3786"
             ],
             [
              0.5555555555555556,
              "#d8576b"
             ],
             [
              0.6666666666666666,
              "#ed7953"
             ],
             [
              0.7777777777777778,
              "#fb9f3a"
             ],
             [
              0.8888888888888888,
              "#fdca26"
             ],
             [
              1,
              "#f0f921"
             ]
            ],
            "type": "heatmapgl"
           }
          ],
          "histogram": [
           {
            "marker": {
             "colorbar": {
              "outlinewidth": 0,
              "ticks": ""
             }
            },
            "type": "histogram"
           }
          ],
          "histogram2d": [
           {
            "colorbar": {
             "outlinewidth": 0,
             "ticks": ""
            },
            "colorscale": [
             [
              0,
              "#0d0887"
             ],
             [
              0.1111111111111111,
              "#46039f"
             ],
             [
              0.2222222222222222,
              "#7201a8"
             ],
             [
              0.3333333333333333,
              "#9c179e"
             ],
             [
              0.4444444444444444,
              "#bd3786"
             ],
             [
              0.5555555555555556,
              "#d8576b"
             ],
             [
              0.6666666666666666,
              "#ed7953"
             ],
             [
              0.7777777777777778,
              "#fb9f3a"
             ],
             [
              0.8888888888888888,
              "#fdca26"
             ],
             [
              1,
              "#f0f921"
             ]
            ],
            "type": "histogram2d"
           }
          ],
          "histogram2dcontour": [
           {
            "colorbar": {
             "outlinewidth": 0,
             "ticks": ""
            },
            "colorscale": [
             [
              0,
              "#0d0887"
             ],
             [
              0.1111111111111111,
              "#46039f"
             ],
             [
              0.2222222222222222,
              "#7201a8"
             ],
             [
              0.3333333333333333,
              "#9c179e"
             ],
             [
              0.4444444444444444,
              "#bd3786"
             ],
             [
              0.5555555555555556,
              "#d8576b"
             ],
             [
              0.6666666666666666,
              "#ed7953"
             ],
             [
              0.7777777777777778,
              "#fb9f3a"
             ],
             [
              0.8888888888888888,
              "#fdca26"
             ],
             [
              1,
              "#f0f921"
             ]
            ],
            "type": "histogram2dcontour"
           }
          ],
          "mesh3d": [
           {
            "colorbar": {
             "outlinewidth": 0,
             "ticks": ""
            },
            "type": "mesh3d"
           }
          ],
          "parcoords": [
           {
            "line": {
             "colorbar": {
              "outlinewidth": 0,
              "ticks": ""
             }
            },
            "type": "parcoords"
           }
          ],
          "pie": [
           {
            "automargin": true,
            "type": "pie"
           }
          ],
          "scatter": [
           {
            "marker": {
             "colorbar": {
              "outlinewidth": 0,
              "ticks": ""
             }
            },
            "type": "scatter"
           }
          ],
          "scatter3d": [
           {
            "line": {
             "colorbar": {
              "outlinewidth": 0,
              "ticks": ""
             }
            },
            "marker": {
             "colorbar": {
              "outlinewidth": 0,
              "ticks": ""
             }
            },
            "type": "scatter3d"
           }
          ],
          "scattercarpet": [
           {
            "marker": {
             "colorbar": {
              "outlinewidth": 0,
              "ticks": ""
             }
            },
            "type": "scattercarpet"
           }
          ],
          "scattergeo": [
           {
            "marker": {
             "colorbar": {
              "outlinewidth": 0,
              "ticks": ""
             }
            },
            "type": "scattergeo"
           }
          ],
          "scattergl": [
           {
            "marker": {
             "colorbar": {
              "outlinewidth": 0,
              "ticks": ""
             }
            },
            "type": "scattergl"
           }
          ],
          "scattermapbox": [
           {
            "marker": {
             "colorbar": {
              "outlinewidth": 0,
              "ticks": ""
             }
            },
            "type": "scattermapbox"
           }
          ],
          "scatterpolar": [
           {
            "marker": {
             "colorbar": {
              "outlinewidth": 0,
              "ticks": ""
             }
            },
            "type": "scatterpolar"
           }
          ],
          "scatterpolargl": [
           {
            "marker": {
             "colorbar": {
              "outlinewidth": 0,
              "ticks": ""
             }
            },
            "type": "scatterpolargl"
           }
          ],
          "scatterternary": [
           {
            "marker": {
             "colorbar": {
              "outlinewidth": 0,
              "ticks": ""
             }
            },
            "type": "scatterternary"
           }
          ],
          "surface": [
           {
            "colorbar": {
             "outlinewidth": 0,
             "ticks": ""
            },
            "colorscale": [
             [
              0,
              "#0d0887"
             ],
             [
              0.1111111111111111,
              "#46039f"
             ],
             [
              0.2222222222222222,
              "#7201a8"
             ],
             [
              0.3333333333333333,
              "#9c179e"
             ],
             [
              0.4444444444444444,
              "#bd3786"
             ],
             [
              0.5555555555555556,
              "#d8576b"
             ],
             [
              0.6666666666666666,
              "#ed7953"
             ],
             [
              0.7777777777777778,
              "#fb9f3a"
             ],
             [
              0.8888888888888888,
              "#fdca26"
             ],
             [
              1,
              "#f0f921"
             ]
            ],
            "type": "surface"
           }
          ],
          "table": [
           {
            "cells": {
             "fill": {
              "color": "#EBF0F8"
             },
             "line": {
              "color": "white"
             }
            },
            "header": {
             "fill": {
              "color": "#C8D4E3"
             },
             "line": {
              "color": "white"
             }
            },
            "type": "table"
           }
          ]
         },
         "layout": {
          "annotationdefaults": {
           "arrowcolor": "#2a3f5f",
           "arrowhead": 0,
           "arrowwidth": 1
          },
          "autotypenumbers": "strict",
          "coloraxis": {
           "colorbar": {
            "outlinewidth": 0,
            "ticks": ""
           }
          },
          "colorscale": {
           "diverging": [
            [
             0,
             "#8e0152"
            ],
            [
             0.1,
             "#c51b7d"
            ],
            [
             0.2,
             "#de77ae"
            ],
            [
             0.3,
             "#f1b6da"
            ],
            [
             0.4,
             "#fde0ef"
            ],
            [
             0.5,
             "#f7f7f7"
            ],
            [
             0.6,
             "#e6f5d0"
            ],
            [
             0.7,
             "#b8e186"
            ],
            [
             0.8,
             "#7fbc41"
            ],
            [
             0.9,
             "#4d9221"
            ],
            [
             1,
             "#276419"
            ]
           ],
           "sequential": [
            [
             0,
             "#0d0887"
            ],
            [
             0.1111111111111111,
             "#46039f"
            ],
            [
             0.2222222222222222,
             "#7201a8"
            ],
            [
             0.3333333333333333,
             "#9c179e"
            ],
            [
             0.4444444444444444,
             "#bd3786"
            ],
            [
             0.5555555555555556,
             "#d8576b"
            ],
            [
             0.6666666666666666,
             "#ed7953"
            ],
            [
             0.7777777777777778,
             "#fb9f3a"
            ],
            [
             0.8888888888888888,
             "#fdca26"
            ],
            [
             1,
             "#f0f921"
            ]
           ],
           "sequentialminus": [
            [
             0,
             "#0d0887"
            ],
            [
             0.1111111111111111,
             "#46039f"
            ],
            [
             0.2222222222222222,
             "#7201a8"
            ],
            [
             0.3333333333333333,
             "#9c179e"
            ],
            [
             0.4444444444444444,
             "#bd3786"
            ],
            [
             0.5555555555555556,
             "#d8576b"
            ],
            [
             0.6666666666666666,
             "#ed7953"
            ],
            [
             0.7777777777777778,
             "#fb9f3a"
            ],
            [
             0.8888888888888888,
             "#fdca26"
            ],
            [
             1,
             "#f0f921"
            ]
           ]
          },
          "colorway": [
           "#636efa",
           "#EF553B",
           "#00cc96",
           "#ab63fa",
           "#FFA15A",
           "#19d3f3",
           "#FF6692",
           "#B6E880",
           "#FF97FF",
           "#FECB52"
          ],
          "font": {
           "color": "#2a3f5f"
          },
          "geo": {
           "bgcolor": "white",
           "lakecolor": "white",
           "landcolor": "#E5ECF6",
           "showlakes": true,
           "showland": true,
           "subunitcolor": "white"
          },
          "hoverlabel": {
           "align": "left"
          },
          "hovermode": "closest",
          "mapbox": {
           "style": "light"
          },
          "paper_bgcolor": "white",
          "plot_bgcolor": "#E5ECF6",
          "polar": {
           "angularaxis": {
            "gridcolor": "white",
            "linecolor": "white",
            "ticks": ""
           },
           "bgcolor": "#E5ECF6",
           "radialaxis": {
            "gridcolor": "white",
            "linecolor": "white",
            "ticks": ""
           }
          },
          "scene": {
           "xaxis": {
            "backgroundcolor": "#E5ECF6",
            "gridcolor": "white",
            "gridwidth": 2,
            "linecolor": "white",
            "showbackground": true,
            "ticks": "",
            "zerolinecolor": "white"
           },
           "yaxis": {
            "backgroundcolor": "#E5ECF6",
            "gridcolor": "white",
            "gridwidth": 2,
            "linecolor": "white",
            "showbackground": true,
            "ticks": "",
            "zerolinecolor": "white"
           },
           "zaxis": {
            "backgroundcolor": "#E5ECF6",
            "gridcolor": "white",
            "gridwidth": 2,
            "linecolor": "white",
            "showbackground": true,
            "ticks": "",
            "zerolinecolor": "white"
           }
          },
          "shapedefaults": {
           "line": {
            "color": "#2a3f5f"
           }
          },
          "ternary": {
           "aaxis": {
            "gridcolor": "white",
            "linecolor": "white",
            "ticks": ""
           },
           "baxis": {
            "gridcolor": "white",
            "linecolor": "white",
            "ticks": ""
           },
           "bgcolor": "#E5ECF6",
           "caxis": {
            "gridcolor": "white",
            "linecolor": "white",
            "ticks": ""
           }
          },
          "title": {
           "x": 0.05
          },
          "xaxis": {
           "automargin": true,
           "gridcolor": "white",
           "linecolor": "white",
           "ticks": "",
           "title": {
            "standoff": 15
           },
           "zerolinecolor": "white",
           "zerolinewidth": 2
          },
          "yaxis": {
           "automargin": true,
           "gridcolor": "white",
           "linecolor": "white",
           "ticks": "",
           "title": {
            "standoff": 15
           },
           "zerolinecolor": "white",
           "zerolinewidth": 2
          }
         }
        },
        "title": {
         "text": "How marital status affect the number of purschases"
        },
        "xaxis": {
         "anchor": "y",
         "domain": [
          0,
          1
         ],
         "title": {
          "text": "Marital_Status"
         }
        },
        "yaxis": {
         "anchor": "x",
         "domain": [
          0,
          1
         ],
         "title": {
          "text": "NumStorePurchases"
         }
        }
       }
      },
      "text/html": [
       "<div>                            <div id=\"da5935bd-2660-4e64-9270-b1cdb3919fae\" class=\"plotly-graph-div\" style=\"height:525px; width:100%;\"></div>            <script type=\"text/javascript\">                require([\"plotly\"], function(Plotly) {                    window.PLOTLYENV=window.PLOTLYENV || {};                                    if (document.getElementById(\"da5935bd-2660-4e64-9270-b1cdb3919fae\")) {                    Plotly.newPlot(                        \"da5935bd-2660-4e64-9270-b1cdb3919fae\",                        [{\"alignmentgroup\": \"True\", \"hovertemplate\": \"Marital_Status=%{x}<br>NumStorePurchases=%{y}<extra></extra>\", \"legendgroup\": \"\", \"marker\": {\"color\": \"#636efa\"}, \"name\": \"\", \"offsetgroup\": \"\", \"orientation\": \"v\", \"showlegend\": false, \"textposition\": \"auto\", \"type\": \"bar\", \"x\": [\"Absurd\", \"Alone\", \"Divorced\", \"Married\", \"Single\", \"Together\", \"Widow\", \"YOLO\"], \"xaxis\": \"x\", \"y\": [13, 12, 1350, 5055, 2705, 3320, 491, 12], \"yaxis\": \"y\"}],                        {\"barmode\": \"relative\", \"legend\": {\"tracegroupgap\": 0}, \"template\": {\"data\": {\"bar\": [{\"error_x\": {\"color\": \"#2a3f5f\"}, \"error_y\": {\"color\": \"#2a3f5f\"}, \"marker\": {\"line\": {\"color\": \"#E5ECF6\", \"width\": 0.5}}, \"type\": \"bar\"}], \"barpolar\": [{\"marker\": {\"line\": {\"color\": \"#E5ECF6\", \"width\": 0.5}}, \"type\": \"barpolar\"}], \"carpet\": [{\"aaxis\": {\"endlinecolor\": \"#2a3f5f\", \"gridcolor\": \"white\", \"linecolor\": \"white\", \"minorgridcolor\": \"white\", \"startlinecolor\": \"#2a3f5f\"}, \"baxis\": {\"endlinecolor\": \"#2a3f5f\", \"gridcolor\": \"white\", \"linecolor\": \"white\", \"minorgridcolor\": \"white\", \"startlinecolor\": \"#2a3f5f\"}, \"type\": \"carpet\"}], \"choropleth\": [{\"colorbar\": {\"outlinewidth\": 0, \"ticks\": \"\"}, \"type\": \"choropleth\"}], \"contour\": [{\"colorbar\": {\"outlinewidth\": 0, \"ticks\": \"\"}, \"colorscale\": [[0.0, \"#0d0887\"], [0.1111111111111111, \"#46039f\"], [0.2222222222222222, \"#7201a8\"], [0.3333333333333333, \"#9c179e\"], [0.4444444444444444, \"#bd3786\"], [0.5555555555555556, \"#d8576b\"], [0.6666666666666666, \"#ed7953\"], [0.7777777777777778, \"#fb9f3a\"], [0.8888888888888888, \"#fdca26\"], [1.0, \"#f0f921\"]], \"type\": \"contour\"}], \"contourcarpet\": [{\"colorbar\": {\"outlinewidth\": 0, \"ticks\": \"\"}, \"type\": \"contourcarpet\"}], \"heatmap\": [{\"colorbar\": {\"outlinewidth\": 0, \"ticks\": \"\"}, \"colorscale\": [[0.0, \"#0d0887\"], [0.1111111111111111, \"#46039f\"], [0.2222222222222222, \"#7201a8\"], [0.3333333333333333, \"#9c179e\"], [0.4444444444444444, \"#bd3786\"], [0.5555555555555556, \"#d8576b\"], [0.6666666666666666, \"#ed7953\"], [0.7777777777777778, \"#fb9f3a\"], [0.8888888888888888, \"#fdca26\"], [1.0, \"#f0f921\"]], \"type\": \"heatmap\"}], \"heatmapgl\": [{\"colorbar\": {\"outlinewidth\": 0, \"ticks\": \"\"}, \"colorscale\": [[0.0, \"#0d0887\"], [0.1111111111111111, \"#46039f\"], [0.2222222222222222, \"#7201a8\"], [0.3333333333333333, \"#9c179e\"], [0.4444444444444444, \"#bd3786\"], [0.5555555555555556, \"#d8576b\"], [0.6666666666666666, \"#ed7953\"], [0.7777777777777778, \"#fb9f3a\"], [0.8888888888888888, \"#fdca26\"], [1.0, \"#f0f921\"]], \"type\": \"heatmapgl\"}], \"histogram\": [{\"marker\": {\"colorbar\": {\"outlinewidth\": 0, \"ticks\": \"\"}}, \"type\": \"histogram\"}], \"histogram2d\": [{\"colorbar\": {\"outlinewidth\": 0, \"ticks\": \"\"}, \"colorscale\": [[0.0, \"#0d0887\"], [0.1111111111111111, \"#46039f\"], [0.2222222222222222, \"#7201a8\"], [0.3333333333333333, \"#9c179e\"], [0.4444444444444444, \"#bd3786\"], [0.5555555555555556, \"#d8576b\"], [0.6666666666666666, \"#ed7953\"], [0.7777777777777778, \"#fb9f3a\"], [0.8888888888888888, \"#fdca26\"], [1.0, \"#f0f921\"]], \"type\": \"histogram2d\"}], \"histogram2dcontour\": [{\"colorbar\": {\"outlinewidth\": 0, \"ticks\": \"\"}, \"colorscale\": [[0.0, \"#0d0887\"], [0.1111111111111111, \"#46039f\"], [0.2222222222222222, \"#7201a8\"], [0.3333333333333333, \"#9c179e\"], [0.4444444444444444, \"#bd3786\"], [0.5555555555555556, \"#d8576b\"], [0.6666666666666666, \"#ed7953\"], [0.7777777777777778, \"#fb9f3a\"], [0.8888888888888888, \"#fdca26\"], [1.0, \"#f0f921\"]], \"type\": \"histogram2dcontour\"}], \"mesh3d\": [{\"colorbar\": {\"outlinewidth\": 0, \"ticks\": \"\"}, \"type\": \"mesh3d\"}], \"parcoords\": [{\"line\": {\"colorbar\": {\"outlinewidth\": 0, \"ticks\": \"\"}}, \"type\": \"parcoords\"}], \"pie\": [{\"automargin\": true, \"type\": \"pie\"}], \"scatter\": [{\"marker\": {\"colorbar\": {\"outlinewidth\": 0, \"ticks\": \"\"}}, \"type\": \"scatter\"}], \"scatter3d\": [{\"line\": {\"colorbar\": {\"outlinewidth\": 0, \"ticks\": \"\"}}, \"marker\": {\"colorbar\": {\"outlinewidth\": 0, \"ticks\": \"\"}}, \"type\": \"scatter3d\"}], \"scattercarpet\": [{\"marker\": {\"colorbar\": {\"outlinewidth\": 0, \"ticks\": \"\"}}, \"type\": \"scattercarpet\"}], \"scattergeo\": [{\"marker\": {\"colorbar\": {\"outlinewidth\": 0, \"ticks\": \"\"}}, \"type\": \"scattergeo\"}], \"scattergl\": [{\"marker\": {\"colorbar\": {\"outlinewidth\": 0, \"ticks\": \"\"}}, \"type\": \"scattergl\"}], \"scattermapbox\": [{\"marker\": {\"colorbar\": {\"outlinewidth\": 0, \"ticks\": \"\"}}, \"type\": \"scattermapbox\"}], \"scatterpolar\": [{\"marker\": {\"colorbar\": {\"outlinewidth\": 0, \"ticks\": \"\"}}, \"type\": \"scatterpolar\"}], \"scatterpolargl\": [{\"marker\": {\"colorbar\": {\"outlinewidth\": 0, \"ticks\": \"\"}}, \"type\": \"scatterpolargl\"}], \"scatterternary\": [{\"marker\": {\"colorbar\": {\"outlinewidth\": 0, \"ticks\": \"\"}}, \"type\": \"scatterternary\"}], \"surface\": [{\"colorbar\": {\"outlinewidth\": 0, \"ticks\": \"\"}, \"colorscale\": [[0.0, \"#0d0887\"], [0.1111111111111111, \"#46039f\"], [0.2222222222222222, \"#7201a8\"], [0.3333333333333333, \"#9c179e\"], [0.4444444444444444, \"#bd3786\"], [0.5555555555555556, \"#d8576b\"], [0.6666666666666666, \"#ed7953\"], [0.7777777777777778, \"#fb9f3a\"], [0.8888888888888888, \"#fdca26\"], [1.0, \"#f0f921\"]], \"type\": \"surface\"}], \"table\": [{\"cells\": {\"fill\": {\"color\": \"#EBF0F8\"}, \"line\": {\"color\": \"white\"}}, \"header\": {\"fill\": {\"color\": \"#C8D4E3\"}, \"line\": {\"color\": \"white\"}}, \"type\": \"table\"}]}, \"layout\": {\"annotationdefaults\": {\"arrowcolor\": \"#2a3f5f\", \"arrowhead\": 0, \"arrowwidth\": 1}, \"autotypenumbers\": \"strict\", \"coloraxis\": {\"colorbar\": {\"outlinewidth\": 0, \"ticks\": \"\"}}, \"colorscale\": {\"diverging\": [[0, \"#8e0152\"], [0.1, \"#c51b7d\"], [0.2, \"#de77ae\"], [0.3, \"#f1b6da\"], [0.4, \"#fde0ef\"], [0.5, \"#f7f7f7\"], [0.6, \"#e6f5d0\"], [0.7, \"#b8e186\"], [0.8, \"#7fbc41\"], [0.9, \"#4d9221\"], [1, \"#276419\"]], \"sequential\": [[0.0, \"#0d0887\"], [0.1111111111111111, \"#46039f\"], [0.2222222222222222, \"#7201a8\"], [0.3333333333333333, \"#9c179e\"], [0.4444444444444444, \"#bd3786\"], [0.5555555555555556, \"#d8576b\"], [0.6666666666666666, \"#ed7953\"], [0.7777777777777778, \"#fb9f3a\"], [0.8888888888888888, \"#fdca26\"], [1.0, \"#f0f921\"]], \"sequentialminus\": [[0.0, \"#0d0887\"], [0.1111111111111111, \"#46039f\"], [0.2222222222222222, \"#7201a8\"], [0.3333333333333333, \"#9c179e\"], [0.4444444444444444, \"#bd3786\"], [0.5555555555555556, \"#d8576b\"], [0.6666666666666666, \"#ed7953\"], [0.7777777777777778, \"#fb9f3a\"], [0.8888888888888888, \"#fdca26\"], [1.0, \"#f0f921\"]]}, \"colorway\": [\"#636efa\", \"#EF553B\", \"#00cc96\", \"#ab63fa\", \"#FFA15A\", \"#19d3f3\", \"#FF6692\", \"#B6E880\", \"#FF97FF\", \"#FECB52\"], \"font\": {\"color\": \"#2a3f5f\"}, \"geo\": {\"bgcolor\": \"white\", \"lakecolor\": \"white\", \"landcolor\": \"#E5ECF6\", \"showlakes\": true, \"showland\": true, \"subunitcolor\": \"white\"}, \"hoverlabel\": {\"align\": \"left\"}, \"hovermode\": \"closest\", \"mapbox\": {\"style\": \"light\"}, \"paper_bgcolor\": \"white\", \"plot_bgcolor\": \"#E5ECF6\", \"polar\": {\"angularaxis\": {\"gridcolor\": \"white\", \"linecolor\": \"white\", \"ticks\": \"\"}, \"bgcolor\": \"#E5ECF6\", \"radialaxis\": {\"gridcolor\": \"white\", \"linecolor\": \"white\", \"ticks\": \"\"}}, \"scene\": {\"xaxis\": {\"backgroundcolor\": \"#E5ECF6\", \"gridcolor\": \"white\", \"gridwidth\": 2, \"linecolor\": \"white\", \"showbackground\": true, \"ticks\": \"\", \"zerolinecolor\": \"white\"}, \"yaxis\": {\"backgroundcolor\": \"#E5ECF6\", \"gridcolor\": \"white\", \"gridwidth\": 2, \"linecolor\": \"white\", \"showbackground\": true, \"ticks\": \"\", \"zerolinecolor\": \"white\"}, \"zaxis\": {\"backgroundcolor\": \"#E5ECF6\", \"gridcolor\": \"white\", \"gridwidth\": 2, \"linecolor\": \"white\", \"showbackground\": true, \"ticks\": \"\", \"zerolinecolor\": \"white\"}}, \"shapedefaults\": {\"line\": {\"color\": \"#2a3f5f\"}}, \"ternary\": {\"aaxis\": {\"gridcolor\": \"white\", \"linecolor\": \"white\", \"ticks\": \"\"}, \"baxis\": {\"gridcolor\": \"white\", \"linecolor\": \"white\", \"ticks\": \"\"}, \"bgcolor\": \"#E5ECF6\", \"caxis\": {\"gridcolor\": \"white\", \"linecolor\": \"white\", \"ticks\": \"\"}}, \"title\": {\"x\": 0.05}, \"xaxis\": {\"automargin\": true, \"gridcolor\": \"white\", \"linecolor\": \"white\", \"ticks\": \"\", \"title\": {\"standoff\": 15}, \"zerolinecolor\": \"white\", \"zerolinewidth\": 2}, \"yaxis\": {\"automargin\": true, \"gridcolor\": \"white\", \"linecolor\": \"white\", \"ticks\": \"\", \"title\": {\"standoff\": 15}, \"zerolinecolor\": \"white\", \"zerolinewidth\": 2}}}, \"title\": {\"text\": \"How marital status affect the number of purschases\"}, \"xaxis\": {\"anchor\": \"y\", \"domain\": [0.0, 1.0], \"title\": {\"text\": \"Marital_Status\"}}, \"yaxis\": {\"anchor\": \"x\", \"domain\": [0.0, 1.0], \"title\": {\"text\": \"NumStorePurchases\"}}},                        {\"responsive\": true}                    ).then(function(){\n",
       "                            \n",
       "var gd = document.getElementById('da5935bd-2660-4e64-9270-b1cdb3919fae');\n",
       "var x = new MutationObserver(function (mutations, observer) {{\n",
       "        var display = window.getComputedStyle(gd).display;\n",
       "        if (!display || display === 'none') {{\n",
       "            console.log([gd, 'removed!']);\n",
       "            Plotly.purge(gd);\n",
       "            observer.disconnect();\n",
       "        }}\n",
       "}});\n",
       "\n",
       "// Listen for the removal of the full notebook cells\n",
       "var notebookContainer = gd.closest('#notebook-container');\n",
       "if (notebookContainer) {{\n",
       "    x.observe(notebookContainer, {childList: true});\n",
       "}}\n",
       "\n",
       "// Listen for the clearing of the current output cell\n",
       "var outputEl = gd.closest('.output');\n",
       "if (outputEl) {{\n",
       "    x.observe(outputEl, {childList: true});\n",
       "}}\n",
       "\n",
       "                        })                };                });            </script>        </div>"
      ]
     },
     "metadata": {},
     "output_type": "display_data"
    }
   ],
   "source": [
    "px.bar(Marital_Status ,x = 'Marital_Status' , y = 'NumStorePurchases' , title = 'How marital status affect the number of purschases')"
   ]
  },
  {
   "cell_type": "markdown",
   "metadata": {},
   "source": [
    "3. Education"
   ]
  },
  {
   "cell_type": "code",
   "execution_count": 34,
   "metadata": {},
   "outputs": [
    {
     "data": {
      "text/html": [
       "<div>\n",
       "<style scoped>\n",
       "    .dataframe tbody tr th:only-of-type {\n",
       "        vertical-align: middle;\n",
       "    }\n",
       "\n",
       "    .dataframe tbody tr th {\n",
       "        vertical-align: top;\n",
       "    }\n",
       "\n",
       "    .dataframe thead th {\n",
       "        text-align: right;\n",
       "    }\n",
       "</style>\n",
       "<table border=\"1\" class=\"dataframe\">\n",
       "  <thead>\n",
       "    <tr style=\"text-align: right;\">\n",
       "      <th></th>\n",
       "      <th>Education</th>\n",
       "      <th>NumStorePurchases</th>\n",
       "    </tr>\n",
       "  </thead>\n",
       "  <tbody>\n",
       "    <tr>\n",
       "      <th>0</th>\n",
       "      <td>2n Cycle</td>\n",
       "      <td>1116</td>\n",
       "    </tr>\n",
       "    <tr>\n",
       "      <th>1</th>\n",
       "      <td>Basic</td>\n",
       "      <td>154</td>\n",
       "    </tr>\n",
       "    <tr>\n",
       "      <th>2</th>\n",
       "      <td>Graduation</td>\n",
       "      <td>6564</td>\n",
       "    </tr>\n",
       "    <tr>\n",
       "      <th>3</th>\n",
       "      <td>Master</td>\n",
       "      <td>2182</td>\n",
       "    </tr>\n",
       "    <tr>\n",
       "      <th>4</th>\n",
       "      <td>PhD</td>\n",
       "      <td>2942</td>\n",
       "    </tr>\n",
       "  </tbody>\n",
       "</table>\n",
       "</div>"
      ],
      "text/plain": [
       "    Education  NumStorePurchases\n",
       "0    2n Cycle               1116\n",
       "1       Basic                154\n",
       "2  Graduation               6564\n",
       "3      Master               2182\n",
       "4         PhD               2942"
      ]
     },
     "execution_count": 34,
     "metadata": {},
     "output_type": "execute_result"
    }
   ],
   "source": [
    "Education = df.groupby('Education').sum()['NumStorePurchases'].reset_index()\n",
    "\n",
    "Education"
   ]
  },
  {
   "cell_type": "code",
   "execution_count": 35,
   "metadata": {},
   "outputs": [
    {
     "data": {
      "application/vnd.plotly.v1+json": {
       "config": {
        "plotlyServerURL": "https://plot.ly"
       },
       "data": [
        {
         "alignmentgroup": "True",
         "hovertemplate": "Education=%{x}<br>NumStorePurchases=%{y}<extra></extra>",
         "legendgroup": "",
         "marker": {
          "color": "#636efa"
         },
         "name": "",
         "offsetgroup": "",
         "orientation": "v",
         "showlegend": false,
         "textposition": "auto",
         "type": "bar",
         "x": [
          "2n Cycle",
          "Basic",
          "Graduation",
          "Master",
          "PhD"
         ],
         "xaxis": "x",
         "y": [
          1116,
          154,
          6564,
          2182,
          2942
         ],
         "yaxis": "y"
        }
       ],
       "layout": {
        "barmode": "relative",
        "legend": {
         "tracegroupgap": 0
        },
        "template": {
         "data": {
          "bar": [
           {
            "error_x": {
             "color": "#2a3f5f"
            },
            "error_y": {
             "color": "#2a3f5f"
            },
            "marker": {
             "line": {
              "color": "#E5ECF6",
              "width": 0.5
             }
            },
            "type": "bar"
           }
          ],
          "barpolar": [
           {
            "marker": {
             "line": {
              "color": "#E5ECF6",
              "width": 0.5
             }
            },
            "type": "barpolar"
           }
          ],
          "carpet": [
           {
            "aaxis": {
             "endlinecolor": "#2a3f5f",
             "gridcolor": "white",
             "linecolor": "white",
             "minorgridcolor": "white",
             "startlinecolor": "#2a3f5f"
            },
            "baxis": {
             "endlinecolor": "#2a3f5f",
             "gridcolor": "white",
             "linecolor": "white",
             "minorgridcolor": "white",
             "startlinecolor": "#2a3f5f"
            },
            "type": "carpet"
           }
          ],
          "choropleth": [
           {
            "colorbar": {
             "outlinewidth": 0,
             "ticks": ""
            },
            "type": "choropleth"
           }
          ],
          "contour": [
           {
            "colorbar": {
             "outlinewidth": 0,
             "ticks": ""
            },
            "colorscale": [
             [
              0,
              "#0d0887"
             ],
             [
              0.1111111111111111,
              "#46039f"
             ],
             [
              0.2222222222222222,
              "#7201a8"
             ],
             [
              0.3333333333333333,
              "#9c179e"
             ],
             [
              0.4444444444444444,
              "#bd3786"
             ],
             [
              0.5555555555555556,
              "#d8576b"
             ],
             [
              0.6666666666666666,
              "#ed7953"
             ],
             [
              0.7777777777777778,
              "#fb9f3a"
             ],
             [
              0.8888888888888888,
              "#fdca26"
             ],
             [
              1,
              "#f0f921"
             ]
            ],
            "type": "contour"
           }
          ],
          "contourcarpet": [
           {
            "colorbar": {
             "outlinewidth": 0,
             "ticks": ""
            },
            "type": "contourcarpet"
           }
          ],
          "heatmap": [
           {
            "colorbar": {
             "outlinewidth": 0,
             "ticks": ""
            },
            "colorscale": [
             [
              0,
              "#0d0887"
             ],
             [
              0.1111111111111111,
              "#46039f"
             ],
             [
              0.2222222222222222,
              "#7201a8"
             ],
             [
              0.3333333333333333,
              "#9c179e"
             ],
             [
              0.4444444444444444,
              "#bd3786"
             ],
             [
              0.5555555555555556,
              "#d8576b"
             ],
             [
              0.6666666666666666,
              "#ed7953"
             ],
             [
              0.7777777777777778,
              "#fb9f3a"
             ],
             [
              0.8888888888888888,
              "#fdca26"
             ],
             [
              1,
              "#f0f921"
             ]
            ],
            "type": "heatmap"
           }
          ],
          "heatmapgl": [
           {
            "colorbar": {
             "outlinewidth": 0,
             "ticks": ""
            },
            "colorscale": [
             [
              0,
              "#0d0887"
             ],
             [
              0.1111111111111111,
              "#46039f"
             ],
             [
              0.2222222222222222,
              "#7201a8"
             ],
             [
              0.3333333333333333,
              "#9c179e"
             ],
             [
              0.4444444444444444,
              "#bd3786"
             ],
             [
              0.5555555555555556,
              "#d8576b"
             ],
             [
              0.6666666666666666,
              "#ed7953"
             ],
             [
              0.7777777777777778,
              "#fb9f3a"
             ],
             [
              0.8888888888888888,
              "#fdca26"
             ],
             [
              1,
              "#f0f921"
             ]
            ],
            "type": "heatmapgl"
           }
          ],
          "histogram": [
           {
            "marker": {
             "colorbar": {
              "outlinewidth": 0,
              "ticks": ""
             }
            },
            "type": "histogram"
           }
          ],
          "histogram2d": [
           {
            "colorbar": {
             "outlinewidth": 0,
             "ticks": ""
            },
            "colorscale": [
             [
              0,
              "#0d0887"
             ],
             [
              0.1111111111111111,
              "#46039f"
             ],
             [
              0.2222222222222222,
              "#7201a8"
             ],
             [
              0.3333333333333333,
              "#9c179e"
             ],
             [
              0.4444444444444444,
              "#bd3786"
             ],
             [
              0.5555555555555556,
              "#d8576b"
             ],
             [
              0.6666666666666666,
              "#ed7953"
             ],
             [
              0.7777777777777778,
              "#fb9f3a"
             ],
             [
              0.8888888888888888,
              "#fdca26"
             ],
             [
              1,
              "#f0f921"
             ]
            ],
            "type": "histogram2d"
           }
          ],
          "histogram2dcontour": [
           {
            "colorbar": {
             "outlinewidth": 0,
             "ticks": ""
            },
            "colorscale": [
             [
              0,
              "#0d0887"
             ],
             [
              0.1111111111111111,
              "#46039f"
             ],
             [
              0.2222222222222222,
              "#7201a8"
             ],
             [
              0.3333333333333333,
              "#9c179e"
             ],
             [
              0.4444444444444444,
              "#bd3786"
             ],
             [
              0.5555555555555556,
              "#d8576b"
             ],
             [
              0.6666666666666666,
              "#ed7953"
             ],
             [
              0.7777777777777778,
              "#fb9f3a"
             ],
             [
              0.8888888888888888,
              "#fdca26"
             ],
             [
              1,
              "#f0f921"
             ]
            ],
            "type": "histogram2dcontour"
           }
          ],
          "mesh3d": [
           {
            "colorbar": {
             "outlinewidth": 0,
             "ticks": ""
            },
            "type": "mesh3d"
           }
          ],
          "parcoords": [
           {
            "line": {
             "colorbar": {
              "outlinewidth": 0,
              "ticks": ""
             }
            },
            "type": "parcoords"
           }
          ],
          "pie": [
           {
            "automargin": true,
            "type": "pie"
           }
          ],
          "scatter": [
           {
            "marker": {
             "colorbar": {
              "outlinewidth": 0,
              "ticks": ""
             }
            },
            "type": "scatter"
           }
          ],
          "scatter3d": [
           {
            "line": {
             "colorbar": {
              "outlinewidth": 0,
              "ticks": ""
             }
            },
            "marker": {
             "colorbar": {
              "outlinewidth": 0,
              "ticks": ""
             }
            },
            "type": "scatter3d"
           }
          ],
          "scattercarpet": [
           {
            "marker": {
             "colorbar": {
              "outlinewidth": 0,
              "ticks": ""
             }
            },
            "type": "scattercarpet"
           }
          ],
          "scattergeo": [
           {
            "marker": {
             "colorbar": {
              "outlinewidth": 0,
              "ticks": ""
             }
            },
            "type": "scattergeo"
           }
          ],
          "scattergl": [
           {
            "marker": {
             "colorbar": {
              "outlinewidth": 0,
              "ticks": ""
             }
            },
            "type": "scattergl"
           }
          ],
          "scattermapbox": [
           {
            "marker": {
             "colorbar": {
              "outlinewidth": 0,
              "ticks": ""
             }
            },
            "type": "scattermapbox"
           }
          ],
          "scatterpolar": [
           {
            "marker": {
             "colorbar": {
              "outlinewidth": 0,
              "ticks": ""
             }
            },
            "type": "scatterpolar"
           }
          ],
          "scatterpolargl": [
           {
            "marker": {
             "colorbar": {
              "outlinewidth": 0,
              "ticks": ""
             }
            },
            "type": "scatterpolargl"
           }
          ],
          "scatterternary": [
           {
            "marker": {
             "colorbar": {
              "outlinewidth": 0,
              "ticks": ""
             }
            },
            "type": "scatterternary"
           }
          ],
          "surface": [
           {
            "colorbar": {
             "outlinewidth": 0,
             "ticks": ""
            },
            "colorscale": [
             [
              0,
              "#0d0887"
             ],
             [
              0.1111111111111111,
              "#46039f"
             ],
             [
              0.2222222222222222,
              "#7201a8"
             ],
             [
              0.3333333333333333,
              "#9c179e"
             ],
             [
              0.4444444444444444,
              "#bd3786"
             ],
             [
              0.5555555555555556,
              "#d8576b"
             ],
             [
              0.6666666666666666,
              "#ed7953"
             ],
             [
              0.7777777777777778,
              "#fb9f3a"
             ],
             [
              0.8888888888888888,
              "#fdca26"
             ],
             [
              1,
              "#f0f921"
             ]
            ],
            "type": "surface"
           }
          ],
          "table": [
           {
            "cells": {
             "fill": {
              "color": "#EBF0F8"
             },
             "line": {
              "color": "white"
             }
            },
            "header": {
             "fill": {
              "color": "#C8D4E3"
             },
             "line": {
              "color": "white"
             }
            },
            "type": "table"
           }
          ]
         },
         "layout": {
          "annotationdefaults": {
           "arrowcolor": "#2a3f5f",
           "arrowhead": 0,
           "arrowwidth": 1
          },
          "autotypenumbers": "strict",
          "coloraxis": {
           "colorbar": {
            "outlinewidth": 0,
            "ticks": ""
           }
          },
          "colorscale": {
           "diverging": [
            [
             0,
             "#8e0152"
            ],
            [
             0.1,
             "#c51b7d"
            ],
            [
             0.2,
             "#de77ae"
            ],
            [
             0.3,
             "#f1b6da"
            ],
            [
             0.4,
             "#fde0ef"
            ],
            [
             0.5,
             "#f7f7f7"
            ],
            [
             0.6,
             "#e6f5d0"
            ],
            [
             0.7,
             "#b8e186"
            ],
            [
             0.8,
             "#7fbc41"
            ],
            [
             0.9,
             "#4d9221"
            ],
            [
             1,
             "#276419"
            ]
           ],
           "sequential": [
            [
             0,
             "#0d0887"
            ],
            [
             0.1111111111111111,
             "#46039f"
            ],
            [
             0.2222222222222222,
             "#7201a8"
            ],
            [
             0.3333333333333333,
             "#9c179e"
            ],
            [
             0.4444444444444444,
             "#bd3786"
            ],
            [
             0.5555555555555556,
             "#d8576b"
            ],
            [
             0.6666666666666666,
             "#ed7953"
            ],
            [
             0.7777777777777778,
             "#fb9f3a"
            ],
            [
             0.8888888888888888,
             "#fdca26"
            ],
            [
             1,
             "#f0f921"
            ]
           ],
           "sequentialminus": [
            [
             0,
             "#0d0887"
            ],
            [
             0.1111111111111111,
             "#46039f"
            ],
            [
             0.2222222222222222,
             "#7201a8"
            ],
            [
             0.3333333333333333,
             "#9c179e"
            ],
            [
             0.4444444444444444,
             "#bd3786"
            ],
            [
             0.5555555555555556,
             "#d8576b"
            ],
            [
             0.6666666666666666,
             "#ed7953"
            ],
            [
             0.7777777777777778,
             "#fb9f3a"
            ],
            [
             0.8888888888888888,
             "#fdca26"
            ],
            [
             1,
             "#f0f921"
            ]
           ]
          },
          "colorway": [
           "#636efa",
           "#EF553B",
           "#00cc96",
           "#ab63fa",
           "#FFA15A",
           "#19d3f3",
           "#FF6692",
           "#B6E880",
           "#FF97FF",
           "#FECB52"
          ],
          "font": {
           "color": "#2a3f5f"
          },
          "geo": {
           "bgcolor": "white",
           "lakecolor": "white",
           "landcolor": "#E5ECF6",
           "showlakes": true,
           "showland": true,
           "subunitcolor": "white"
          },
          "hoverlabel": {
           "align": "left"
          },
          "hovermode": "closest",
          "mapbox": {
           "style": "light"
          },
          "paper_bgcolor": "white",
          "plot_bgcolor": "#E5ECF6",
          "polar": {
           "angularaxis": {
            "gridcolor": "white",
            "linecolor": "white",
            "ticks": ""
           },
           "bgcolor": "#E5ECF6",
           "radialaxis": {
            "gridcolor": "white",
            "linecolor": "white",
            "ticks": ""
           }
          },
          "scene": {
           "xaxis": {
            "backgroundcolor": "#E5ECF6",
            "gridcolor": "white",
            "gridwidth": 2,
            "linecolor": "white",
            "showbackground": true,
            "ticks": "",
            "zerolinecolor": "white"
           },
           "yaxis": {
            "backgroundcolor": "#E5ECF6",
            "gridcolor": "white",
            "gridwidth": 2,
            "linecolor": "white",
            "showbackground": true,
            "ticks": "",
            "zerolinecolor": "white"
           },
           "zaxis": {
            "backgroundcolor": "#E5ECF6",
            "gridcolor": "white",
            "gridwidth": 2,
            "linecolor": "white",
            "showbackground": true,
            "ticks": "",
            "zerolinecolor": "white"
           }
          },
          "shapedefaults": {
           "line": {
            "color": "#2a3f5f"
           }
          },
          "ternary": {
           "aaxis": {
            "gridcolor": "white",
            "linecolor": "white",
            "ticks": ""
           },
           "baxis": {
            "gridcolor": "white",
            "linecolor": "white",
            "ticks": ""
           },
           "bgcolor": "#E5ECF6",
           "caxis": {
            "gridcolor": "white",
            "linecolor": "white",
            "ticks": ""
           }
          },
          "title": {
           "x": 0.05
          },
          "xaxis": {
           "automargin": true,
           "gridcolor": "white",
           "linecolor": "white",
           "ticks": "",
           "title": {
            "standoff": 15
           },
           "zerolinecolor": "white",
           "zerolinewidth": 2
          },
          "yaxis": {
           "automargin": true,
           "gridcolor": "white",
           "linecolor": "white",
           "ticks": "",
           "title": {
            "standoff": 15
           },
           "zerolinecolor": "white",
           "zerolinewidth": 2
          }
         }
        },
        "title": {
         "text": "How Education affect the number of purschases"
        },
        "xaxis": {
         "anchor": "y",
         "domain": [
          0,
          1
         ],
         "title": {
          "text": "Education"
         }
        },
        "yaxis": {
         "anchor": "x",
         "domain": [
          0,
          1
         ],
         "title": {
          "text": "NumStorePurchases"
         }
        }
       }
      },
      "text/html": [
       "<div>                            <div id=\"9feec790-ed45-4e0c-ab40-9d5814432944\" class=\"plotly-graph-div\" style=\"height:525px; width:100%;\"></div>            <script type=\"text/javascript\">                require([\"plotly\"], function(Plotly) {                    window.PLOTLYENV=window.PLOTLYENV || {};                                    if (document.getElementById(\"9feec790-ed45-4e0c-ab40-9d5814432944\")) {                    Plotly.newPlot(                        \"9feec790-ed45-4e0c-ab40-9d5814432944\",                        [{\"alignmentgroup\": \"True\", \"hovertemplate\": \"Education=%{x}<br>NumStorePurchases=%{y}<extra></extra>\", \"legendgroup\": \"\", \"marker\": {\"color\": \"#636efa\"}, \"name\": \"\", \"offsetgroup\": \"\", \"orientation\": \"v\", \"showlegend\": false, \"textposition\": \"auto\", \"type\": \"bar\", \"x\": [\"2n Cycle\", \"Basic\", \"Graduation\", \"Master\", \"PhD\"], \"xaxis\": \"x\", \"y\": [1116, 154, 6564, 2182, 2942], \"yaxis\": \"y\"}],                        {\"barmode\": \"relative\", \"legend\": {\"tracegroupgap\": 0}, \"template\": {\"data\": {\"bar\": [{\"error_x\": {\"color\": \"#2a3f5f\"}, \"error_y\": {\"color\": \"#2a3f5f\"}, \"marker\": {\"line\": {\"color\": \"#E5ECF6\", \"width\": 0.5}}, \"type\": \"bar\"}], \"barpolar\": [{\"marker\": {\"line\": {\"color\": \"#E5ECF6\", \"width\": 0.5}}, \"type\": \"barpolar\"}], \"carpet\": [{\"aaxis\": {\"endlinecolor\": \"#2a3f5f\", \"gridcolor\": \"white\", \"linecolor\": \"white\", \"minorgridcolor\": \"white\", \"startlinecolor\": \"#2a3f5f\"}, \"baxis\": {\"endlinecolor\": \"#2a3f5f\", \"gridcolor\": \"white\", \"linecolor\": \"white\", \"minorgridcolor\": \"white\", \"startlinecolor\": \"#2a3f5f\"}, \"type\": \"carpet\"}], \"choropleth\": [{\"colorbar\": {\"outlinewidth\": 0, \"ticks\": \"\"}, \"type\": \"choropleth\"}], \"contour\": [{\"colorbar\": {\"outlinewidth\": 0, \"ticks\": \"\"}, \"colorscale\": [[0.0, \"#0d0887\"], [0.1111111111111111, \"#46039f\"], [0.2222222222222222, \"#7201a8\"], [0.3333333333333333, \"#9c179e\"], [0.4444444444444444, \"#bd3786\"], [0.5555555555555556, \"#d8576b\"], [0.6666666666666666, \"#ed7953\"], [0.7777777777777778, \"#fb9f3a\"], [0.8888888888888888, \"#fdca26\"], [1.0, \"#f0f921\"]], \"type\": \"contour\"}], \"contourcarpet\": [{\"colorbar\": {\"outlinewidth\": 0, \"ticks\": \"\"}, \"type\": \"contourcarpet\"}], \"heatmap\": [{\"colorbar\": {\"outlinewidth\": 0, \"ticks\": \"\"}, \"colorscale\": [[0.0, \"#0d0887\"], [0.1111111111111111, \"#46039f\"], [0.2222222222222222, \"#7201a8\"], [0.3333333333333333, \"#9c179e\"], [0.4444444444444444, \"#bd3786\"], [0.5555555555555556, \"#d8576b\"], [0.6666666666666666, \"#ed7953\"], [0.7777777777777778, \"#fb9f3a\"], [0.8888888888888888, \"#fdca26\"], [1.0, \"#f0f921\"]], \"type\": \"heatmap\"}], \"heatmapgl\": [{\"colorbar\": {\"outlinewidth\": 0, \"ticks\": \"\"}, \"colorscale\": [[0.0, \"#0d0887\"], [0.1111111111111111, \"#46039f\"], [0.2222222222222222, \"#7201a8\"], [0.3333333333333333, \"#9c179e\"], [0.4444444444444444, \"#bd3786\"], [0.5555555555555556, \"#d8576b\"], [0.6666666666666666, \"#ed7953\"], [0.7777777777777778, \"#fb9f3a\"], [0.8888888888888888, \"#fdca26\"], [1.0, \"#f0f921\"]], \"type\": \"heatmapgl\"}], \"histogram\": [{\"marker\": {\"colorbar\": {\"outlinewidth\": 0, \"ticks\": \"\"}}, \"type\": \"histogram\"}], \"histogram2d\": [{\"colorbar\": {\"outlinewidth\": 0, \"ticks\": \"\"}, \"colorscale\": [[0.0, \"#0d0887\"], [0.1111111111111111, \"#46039f\"], [0.2222222222222222, \"#7201a8\"], [0.3333333333333333, \"#9c179e\"], [0.4444444444444444, \"#bd3786\"], [0.5555555555555556, \"#d8576b\"], [0.6666666666666666, \"#ed7953\"], [0.7777777777777778, \"#fb9f3a\"], [0.8888888888888888, \"#fdca26\"], [1.0, \"#f0f921\"]], \"type\": \"histogram2d\"}], \"histogram2dcontour\": [{\"colorbar\": {\"outlinewidth\": 0, \"ticks\": \"\"}, \"colorscale\": [[0.0, \"#0d0887\"], [0.1111111111111111, \"#46039f\"], [0.2222222222222222, \"#7201a8\"], [0.3333333333333333, \"#9c179e\"], [0.4444444444444444, \"#bd3786\"], [0.5555555555555556, \"#d8576b\"], [0.6666666666666666, \"#ed7953\"], [0.7777777777777778, \"#fb9f3a\"], [0.8888888888888888, \"#fdca26\"], [1.0, \"#f0f921\"]], \"type\": \"histogram2dcontour\"}], \"mesh3d\": [{\"colorbar\": {\"outlinewidth\": 0, \"ticks\": \"\"}, \"type\": \"mesh3d\"}], \"parcoords\": [{\"line\": {\"colorbar\": {\"outlinewidth\": 0, \"ticks\": \"\"}}, \"type\": \"parcoords\"}], \"pie\": [{\"automargin\": true, \"type\": \"pie\"}], \"scatter\": [{\"marker\": {\"colorbar\": {\"outlinewidth\": 0, \"ticks\": \"\"}}, \"type\": \"scatter\"}], \"scatter3d\": [{\"line\": {\"colorbar\": {\"outlinewidth\": 0, \"ticks\": \"\"}}, \"marker\": {\"colorbar\": {\"outlinewidth\": 0, \"ticks\": \"\"}}, \"type\": \"scatter3d\"}], \"scattercarpet\": [{\"marker\": {\"colorbar\": {\"outlinewidth\": 0, \"ticks\": \"\"}}, \"type\": \"scattercarpet\"}], \"scattergeo\": [{\"marker\": {\"colorbar\": {\"outlinewidth\": 0, \"ticks\": \"\"}}, \"type\": \"scattergeo\"}], \"scattergl\": [{\"marker\": {\"colorbar\": {\"outlinewidth\": 0, \"ticks\": \"\"}}, \"type\": \"scattergl\"}], \"scattermapbox\": [{\"marker\": {\"colorbar\": {\"outlinewidth\": 0, \"ticks\": \"\"}}, \"type\": \"scattermapbox\"}], \"scatterpolar\": [{\"marker\": {\"colorbar\": {\"outlinewidth\": 0, \"ticks\": \"\"}}, \"type\": \"scatterpolar\"}], \"scatterpolargl\": [{\"marker\": {\"colorbar\": {\"outlinewidth\": 0, \"ticks\": \"\"}}, \"type\": \"scatterpolargl\"}], \"scatterternary\": [{\"marker\": {\"colorbar\": {\"outlinewidth\": 0, \"ticks\": \"\"}}, \"type\": \"scatterternary\"}], \"surface\": [{\"colorbar\": {\"outlinewidth\": 0, \"ticks\": \"\"}, \"colorscale\": [[0.0, \"#0d0887\"], [0.1111111111111111, \"#46039f\"], [0.2222222222222222, \"#7201a8\"], [0.3333333333333333, \"#9c179e\"], [0.4444444444444444, \"#bd3786\"], [0.5555555555555556, \"#d8576b\"], [0.6666666666666666, \"#ed7953\"], [0.7777777777777778, \"#fb9f3a\"], [0.8888888888888888, \"#fdca26\"], [1.0, \"#f0f921\"]], \"type\": \"surface\"}], \"table\": [{\"cells\": {\"fill\": {\"color\": \"#EBF0F8\"}, \"line\": {\"color\": \"white\"}}, \"header\": {\"fill\": {\"color\": \"#C8D4E3\"}, \"line\": {\"color\": \"white\"}}, \"type\": \"table\"}]}, \"layout\": {\"annotationdefaults\": {\"arrowcolor\": \"#2a3f5f\", \"arrowhead\": 0, \"arrowwidth\": 1}, \"autotypenumbers\": \"strict\", \"coloraxis\": {\"colorbar\": {\"outlinewidth\": 0, \"ticks\": \"\"}}, \"colorscale\": {\"diverging\": [[0, \"#8e0152\"], [0.1, \"#c51b7d\"], [0.2, \"#de77ae\"], [0.3, \"#f1b6da\"], [0.4, \"#fde0ef\"], [0.5, \"#f7f7f7\"], [0.6, \"#e6f5d0\"], [0.7, \"#b8e186\"], [0.8, \"#7fbc41\"], [0.9, \"#4d9221\"], [1, \"#276419\"]], \"sequential\": [[0.0, \"#0d0887\"], [0.1111111111111111, \"#46039f\"], [0.2222222222222222, \"#7201a8\"], [0.3333333333333333, \"#9c179e\"], [0.4444444444444444, \"#bd3786\"], [0.5555555555555556, \"#d8576b\"], [0.6666666666666666, \"#ed7953\"], [0.7777777777777778, \"#fb9f3a\"], [0.8888888888888888, \"#fdca26\"], [1.0, \"#f0f921\"]], \"sequentialminus\": [[0.0, \"#0d0887\"], [0.1111111111111111, \"#46039f\"], [0.2222222222222222, \"#7201a8\"], [0.3333333333333333, \"#9c179e\"], [0.4444444444444444, \"#bd3786\"], [0.5555555555555556, \"#d8576b\"], [0.6666666666666666, \"#ed7953\"], [0.7777777777777778, \"#fb9f3a\"], [0.8888888888888888, \"#fdca26\"], [1.0, \"#f0f921\"]]}, \"colorway\": [\"#636efa\", \"#EF553B\", \"#00cc96\", \"#ab63fa\", \"#FFA15A\", \"#19d3f3\", \"#FF6692\", \"#B6E880\", \"#FF97FF\", \"#FECB52\"], \"font\": {\"color\": \"#2a3f5f\"}, \"geo\": {\"bgcolor\": \"white\", \"lakecolor\": \"white\", \"landcolor\": \"#E5ECF6\", \"showlakes\": true, \"showland\": true, \"subunitcolor\": \"white\"}, \"hoverlabel\": {\"align\": \"left\"}, \"hovermode\": \"closest\", \"mapbox\": {\"style\": \"light\"}, \"paper_bgcolor\": \"white\", \"plot_bgcolor\": \"#E5ECF6\", \"polar\": {\"angularaxis\": {\"gridcolor\": \"white\", \"linecolor\": \"white\", \"ticks\": \"\"}, \"bgcolor\": \"#E5ECF6\", \"radialaxis\": {\"gridcolor\": \"white\", \"linecolor\": \"white\", \"ticks\": \"\"}}, \"scene\": {\"xaxis\": {\"backgroundcolor\": \"#E5ECF6\", \"gridcolor\": \"white\", \"gridwidth\": 2, \"linecolor\": \"white\", \"showbackground\": true, \"ticks\": \"\", \"zerolinecolor\": \"white\"}, \"yaxis\": {\"backgroundcolor\": \"#E5ECF6\", \"gridcolor\": \"white\", \"gridwidth\": 2, \"linecolor\": \"white\", \"showbackground\": true, \"ticks\": \"\", \"zerolinecolor\": \"white\"}, \"zaxis\": {\"backgroundcolor\": \"#E5ECF6\", \"gridcolor\": \"white\", \"gridwidth\": 2, \"linecolor\": \"white\", \"showbackground\": true, \"ticks\": \"\", \"zerolinecolor\": \"white\"}}, \"shapedefaults\": {\"line\": {\"color\": \"#2a3f5f\"}}, \"ternary\": {\"aaxis\": {\"gridcolor\": \"white\", \"linecolor\": \"white\", \"ticks\": \"\"}, \"baxis\": {\"gridcolor\": \"white\", \"linecolor\": \"white\", \"ticks\": \"\"}, \"bgcolor\": \"#E5ECF6\", \"caxis\": {\"gridcolor\": \"white\", \"linecolor\": \"white\", \"ticks\": \"\"}}, \"title\": {\"x\": 0.05}, \"xaxis\": {\"automargin\": true, \"gridcolor\": \"white\", \"linecolor\": \"white\", \"ticks\": \"\", \"title\": {\"standoff\": 15}, \"zerolinecolor\": \"white\", \"zerolinewidth\": 2}, \"yaxis\": {\"automargin\": true, \"gridcolor\": \"white\", \"linecolor\": \"white\", \"ticks\": \"\", \"title\": {\"standoff\": 15}, \"zerolinecolor\": \"white\", \"zerolinewidth\": 2}}}, \"title\": {\"text\": \"How Education affect the number of purschases\"}, \"xaxis\": {\"anchor\": \"y\", \"domain\": [0.0, 1.0], \"title\": {\"text\": \"Education\"}}, \"yaxis\": {\"anchor\": \"x\", \"domain\": [0.0, 1.0], \"title\": {\"text\": \"NumStorePurchases\"}}},                        {\"responsive\": true}                    ).then(function(){\n",
       "                            \n",
       "var gd = document.getElementById('9feec790-ed45-4e0c-ab40-9d5814432944');\n",
       "var x = new MutationObserver(function (mutations, observer) {{\n",
       "        var display = window.getComputedStyle(gd).display;\n",
       "        if (!display || display === 'none') {{\n",
       "            console.log([gd, 'removed!']);\n",
       "            Plotly.purge(gd);\n",
       "            observer.disconnect();\n",
       "        }}\n",
       "}});\n",
       "\n",
       "// Listen for the removal of the full notebook cells\n",
       "var notebookContainer = gd.closest('#notebook-container');\n",
       "if (notebookContainer) {{\n",
       "    x.observe(notebookContainer, {childList: true});\n",
       "}}\n",
       "\n",
       "// Listen for the clearing of the current output cell\n",
       "var outputEl = gd.closest('.output');\n",
       "if (outputEl) {{\n",
       "    x.observe(outputEl, {childList: true});\n",
       "}}\n",
       "\n",
       "                        })                };                });            </script>        </div>"
      ]
     },
     "metadata": {},
     "output_type": "display_data"
    }
   ],
   "source": [
    "px.bar(Education ,x = 'Education' , y = 'NumStorePurchases' , title = 'How Education affect the number of purschases')"
   ]
  },
  {
   "cell_type": "markdown",
   "metadata": {},
   "source": [
    "3. Age Group"
   ]
  },
  {
   "cell_type": "code",
   "execution_count": 36,
   "metadata": {},
   "outputs": [
    {
     "data": {
      "text/plain": [
       "array([1970, 1961, 1958, 1967, 1989, 1954, 1947, 1979, 1959, 1981, 1969,\n",
       "       1977, 1960, 1966, 1976, 1965, 1956, 1975, 1971, 1986, 1972, 1974,\n",
       "       1990, 1987, 1984, 1968, 1955, 1983, 1973, 1978, 1952, 1962, 1964,\n",
       "       1982, 1963, 1957, 1980, 1945, 1949, 1948, 1953, 1946, 1985, 1992,\n",
       "       1944, 1951, 1988, 1950, 1994, 1993, 1991, 1996, 1995, 1943, 1941,\n",
       "       1940, 1900], dtype=int64)"
      ]
     },
     "execution_count": 36,
     "metadata": {},
     "output_type": "execute_result"
    }
   ],
   "source": [
    "df.Year_Birth.unique()"
   ]
  },
  {
   "cell_type": "code",
   "execution_count": 37,
   "metadata": {},
   "outputs": [
    {
     "data": {
      "text/html": [
       "<div>\n",
       "<style scoped>\n",
       "    .dataframe tbody tr th:only-of-type {\n",
       "        vertical-align: middle;\n",
       "    }\n",
       "\n",
       "    .dataframe tbody tr th {\n",
       "        vertical-align: top;\n",
       "    }\n",
       "\n",
       "    .dataframe thead th {\n",
       "        text-align: right;\n",
       "    }\n",
       "</style>\n",
       "<table border=\"1\" class=\"dataframe\">\n",
       "  <thead>\n",
       "    <tr style=\"text-align: right;\">\n",
       "      <th></th>\n",
       "      <th>Year_Birth</th>\n",
       "      <th>NumStorePurchases</th>\n",
       "    </tr>\n",
       "  </thead>\n",
       "  <tbody>\n",
       "    <tr>\n",
       "      <th>0</th>\n",
       "      <td>1900</td>\n",
       "      <td>2</td>\n",
       "    </tr>\n",
       "    <tr>\n",
       "      <th>1</th>\n",
       "      <td>1940</td>\n",
       "      <td>4</td>\n",
       "    </tr>\n",
       "    <tr>\n",
       "      <th>2</th>\n",
       "      <td>1941</td>\n",
       "      <td>5</td>\n",
       "    </tr>\n",
       "    <tr>\n",
       "      <th>3</th>\n",
       "      <td>1943</td>\n",
       "      <td>62</td>\n",
       "    </tr>\n",
       "    <tr>\n",
       "      <th>4</th>\n",
       "      <td>1944</td>\n",
       "      <td>58</td>\n",
       "    </tr>\n",
       "    <tr>\n",
       "      <th>5</th>\n",
       "      <td>1945</td>\n",
       "      <td>52</td>\n",
       "    </tr>\n",
       "    <tr>\n",
       "      <th>6</th>\n",
       "      <td>1946</td>\n",
       "      <td>121</td>\n",
       "    </tr>\n",
       "    <tr>\n",
       "      <th>7</th>\n",
       "      <td>1947</td>\n",
       "      <td>125</td>\n",
       "    </tr>\n",
       "    <tr>\n",
       "      <th>8</th>\n",
       "      <td>1948</td>\n",
       "      <td>130</td>\n",
       "    </tr>\n",
       "    <tr>\n",
       "      <th>9</th>\n",
       "      <td>1949</td>\n",
       "      <td>211</td>\n",
       "    </tr>\n",
       "    <tr>\n",
       "      <th>10</th>\n",
       "      <td>1950</td>\n",
       "      <td>152</td>\n",
       "    </tr>\n",
       "    <tr>\n",
       "      <th>11</th>\n",
       "      <td>1951</td>\n",
       "      <td>280</td>\n",
       "    </tr>\n",
       "    <tr>\n",
       "      <th>12</th>\n",
       "      <td>1952</td>\n",
       "      <td>341</td>\n",
       "    </tr>\n",
       "    <tr>\n",
       "      <th>13</th>\n",
       "      <td>1953</td>\n",
       "      <td>206</td>\n",
       "    </tr>\n",
       "    <tr>\n",
       "      <th>14</th>\n",
       "      <td>1954</td>\n",
       "      <td>311</td>\n",
       "    </tr>\n",
       "    <tr>\n",
       "      <th>15</th>\n",
       "      <td>1955</td>\n",
       "      <td>325</td>\n",
       "    </tr>\n",
       "    <tr>\n",
       "      <th>16</th>\n",
       "      <td>1956</td>\n",
       "      <td>383</td>\n",
       "    </tr>\n",
       "    <tr>\n",
       "      <th>17</th>\n",
       "      <td>1957</td>\n",
       "      <td>231</td>\n",
       "    </tr>\n",
       "    <tr>\n",
       "      <th>18</th>\n",
       "      <td>1958</td>\n",
       "      <td>334</td>\n",
       "    </tr>\n",
       "    <tr>\n",
       "      <th>19</th>\n",
       "      <td>1959</td>\n",
       "      <td>303</td>\n",
       "    </tr>\n",
       "    <tr>\n",
       "      <th>20</th>\n",
       "      <td>1960</td>\n",
       "      <td>327</td>\n",
       "    </tr>\n",
       "    <tr>\n",
       "      <th>21</th>\n",
       "      <td>1961</td>\n",
       "      <td>232</td>\n",
       "    </tr>\n",
       "    <tr>\n",
       "      <th>22</th>\n",
       "      <td>1962</td>\n",
       "      <td>311</td>\n",
       "    </tr>\n",
       "    <tr>\n",
       "      <th>23</th>\n",
       "      <td>1963</td>\n",
       "      <td>252</td>\n",
       "    </tr>\n",
       "    <tr>\n",
       "      <th>24</th>\n",
       "      <td>1964</td>\n",
       "      <td>257</td>\n",
       "    </tr>\n",
       "    <tr>\n",
       "      <th>25</th>\n",
       "      <td>1965</td>\n",
       "      <td>438</td>\n",
       "    </tr>\n",
       "    <tr>\n",
       "      <th>26</th>\n",
       "      <td>1966</td>\n",
       "      <td>289</td>\n",
       "    </tr>\n",
       "    <tr>\n",
       "      <th>27</th>\n",
       "      <td>1967</td>\n",
       "      <td>264</td>\n",
       "    </tr>\n",
       "    <tr>\n",
       "      <th>28</th>\n",
       "      <td>1968</td>\n",
       "      <td>291</td>\n",
       "    </tr>\n",
       "    <tr>\n",
       "      <th>29</th>\n",
       "      <td>1969</td>\n",
       "      <td>410</td>\n",
       "    </tr>\n",
       "    <tr>\n",
       "      <th>30</th>\n",
       "      <td>1970</td>\n",
       "      <td>463</td>\n",
       "    </tr>\n",
       "    <tr>\n",
       "      <th>31</th>\n",
       "      <td>1971</td>\n",
       "      <td>464</td>\n",
       "    </tr>\n",
       "    <tr>\n",
       "      <th>32</th>\n",
       "      <td>1972</td>\n",
       "      <td>435</td>\n",
       "    </tr>\n",
       "    <tr>\n",
       "      <th>33</th>\n",
       "      <td>1973</td>\n",
       "      <td>333</td>\n",
       "    </tr>\n",
       "    <tr>\n",
       "      <th>34</th>\n",
       "      <td>1974</td>\n",
       "      <td>382</td>\n",
       "    </tr>\n",
       "    <tr>\n",
       "      <th>35</th>\n",
       "      <td>1975</td>\n",
       "      <td>474</td>\n",
       "    </tr>\n",
       "    <tr>\n",
       "      <th>36</th>\n",
       "      <td>1976</td>\n",
       "      <td>491</td>\n",
       "    </tr>\n",
       "    <tr>\n",
       "      <th>37</th>\n",
       "      <td>1977</td>\n",
       "      <td>263</td>\n",
       "    </tr>\n",
       "    <tr>\n",
       "      <th>38</th>\n",
       "      <td>1978</td>\n",
       "      <td>407</td>\n",
       "    </tr>\n",
       "    <tr>\n",
       "      <th>39</th>\n",
       "      <td>1979</td>\n",
       "      <td>301</td>\n",
       "    </tr>\n",
       "    <tr>\n",
       "      <th>40</th>\n",
       "      <td>1980</td>\n",
       "      <td>207</td>\n",
       "    </tr>\n",
       "    <tr>\n",
       "      <th>41</th>\n",
       "      <td>1981</td>\n",
       "      <td>209</td>\n",
       "    </tr>\n",
       "    <tr>\n",
       "      <th>42</th>\n",
       "      <td>1982</td>\n",
       "      <td>244</td>\n",
       "    </tr>\n",
       "    <tr>\n",
       "      <th>43</th>\n",
       "      <td>1983</td>\n",
       "      <td>194</td>\n",
       "    </tr>\n",
       "    <tr>\n",
       "      <th>44</th>\n",
       "      <td>1984</td>\n",
       "      <td>165</td>\n",
       "    </tr>\n",
       "    <tr>\n",
       "      <th>45</th>\n",
       "      <td>1985</td>\n",
       "      <td>163</td>\n",
       "    </tr>\n",
       "    <tr>\n",
       "      <th>46</th>\n",
       "      <td>1986</td>\n",
       "      <td>199</td>\n",
       "    </tr>\n",
       "    <tr>\n",
       "      <th>47</th>\n",
       "      <td>1987</td>\n",
       "      <td>163</td>\n",
       "    </tr>\n",
       "    <tr>\n",
       "      <th>48</th>\n",
       "      <td>1988</td>\n",
       "      <td>168</td>\n",
       "    </tr>\n",
       "    <tr>\n",
       "      <th>49</th>\n",
       "      <td>1989</td>\n",
       "      <td>175</td>\n",
       "    </tr>\n",
       "    <tr>\n",
       "      <th>50</th>\n",
       "      <td>1990</td>\n",
       "      <td>84</td>\n",
       "    </tr>\n",
       "    <tr>\n",
       "      <th>51</th>\n",
       "      <td>1991</td>\n",
       "      <td>102</td>\n",
       "    </tr>\n",
       "    <tr>\n",
       "      <th>52</th>\n",
       "      <td>1992</td>\n",
       "      <td>67</td>\n",
       "    </tr>\n",
       "    <tr>\n",
       "      <th>53</th>\n",
       "      <td>1993</td>\n",
       "      <td>29</td>\n",
       "    </tr>\n",
       "    <tr>\n",
       "      <th>54</th>\n",
       "      <td>1994</td>\n",
       "      <td>28</td>\n",
       "    </tr>\n",
       "    <tr>\n",
       "      <th>55</th>\n",
       "      <td>1995</td>\n",
       "      <td>36</td>\n",
       "    </tr>\n",
       "    <tr>\n",
       "      <th>56</th>\n",
       "      <td>1996</td>\n",
       "      <td>5</td>\n",
       "    </tr>\n",
       "  </tbody>\n",
       "</table>\n",
       "</div>"
      ],
      "text/plain": [
       "    Year_Birth  NumStorePurchases\n",
       "0         1900                  2\n",
       "1         1940                  4\n",
       "2         1941                  5\n",
       "3         1943                 62\n",
       "4         1944                 58\n",
       "5         1945                 52\n",
       "6         1946                121\n",
       "7         1947                125\n",
       "8         1948                130\n",
       "9         1949                211\n",
       "10        1950                152\n",
       "11        1951                280\n",
       "12        1952                341\n",
       "13        1953                206\n",
       "14        1954                311\n",
       "15        1955                325\n",
       "16        1956                383\n",
       "17        1957                231\n",
       "18        1958                334\n",
       "19        1959                303\n",
       "20        1960                327\n",
       "21        1961                232\n",
       "22        1962                311\n",
       "23        1963                252\n",
       "24        1964                257\n",
       "25        1965                438\n",
       "26        1966                289\n",
       "27        1967                264\n",
       "28        1968                291\n",
       "29        1969                410\n",
       "30        1970                463\n",
       "31        1971                464\n",
       "32        1972                435\n",
       "33        1973                333\n",
       "34        1974                382\n",
       "35        1975                474\n",
       "36        1976                491\n",
       "37        1977                263\n",
       "38        1978                407\n",
       "39        1979                301\n",
       "40        1980                207\n",
       "41        1981                209\n",
       "42        1982                244\n",
       "43        1983                194\n",
       "44        1984                165\n",
       "45        1985                163\n",
       "46        1986                199\n",
       "47        1987                163\n",
       "48        1988                168\n",
       "49        1989                175\n",
       "50        1990                 84\n",
       "51        1991                102\n",
       "52        1992                 67\n",
       "53        1993                 29\n",
       "54        1994                 28\n",
       "55        1995                 36\n",
       "56        1996                  5"
      ]
     },
     "execution_count": 37,
     "metadata": {},
     "output_type": "execute_result"
    }
   ],
   "source": [
    "A = df.groupby('Year_Birth').sum()['NumStorePurchases'].reset_index()\n",
    "\n",
    "A"
   ]
  },
  {
   "cell_type": "code",
   "execution_count": 38,
   "metadata": {},
   "outputs": [
    {
     "data": {
      "text/html": [
       "<style  type=\"text/css\" >\n",
       "#T_4d45063f_4c6a_11eb_b52f_fc7774833c80row0_col0,#T_4d45063f_4c6a_11eb_b52f_fc7774833c80row1_col0,#T_4d45063f_4c6a_11eb_b52f_fc7774833c80row2_col0,#T_4d45063f_4c6a_11eb_b52f_fc7774833c80row3_col0,#T_4d45063f_4c6a_11eb_b52f_fc7774833c80row4_col0{\n",
       "            background-color:  #fbb4ae;\n",
       "            color:  #000000;\n",
       "        }#T_4d45063f_4c6a_11eb_b52f_fc7774833c80row5_col0,#T_4d45063f_4c6a_11eb_b52f_fc7774833c80row6_col0,#T_4d45063f_4c6a_11eb_b52f_fc7774833c80row7_col0,#T_4d45063f_4c6a_11eb_b52f_fc7774833c80row8_col0{\n",
       "            background-color:  #b3cde3;\n",
       "            color:  #000000;\n",
       "        }#T_4d45063f_4c6a_11eb_b52f_fc7774833c80row9_col0,#T_4d45063f_4c6a_11eb_b52f_fc7774833c80row10_col0,#T_4d45063f_4c6a_11eb_b52f_fc7774833c80row11_col0,#T_4d45063f_4c6a_11eb_b52f_fc7774833c80row12_col0{\n",
       "            background-color:  #ccebc5;\n",
       "            color:  #000000;\n",
       "        }#T_4d45063f_4c6a_11eb_b52f_fc7774833c80row13_col0,#T_4d45063f_4c6a_11eb_b52f_fc7774833c80row14_col0,#T_4d45063f_4c6a_11eb_b52f_fc7774833c80row15_col0,#T_4d45063f_4c6a_11eb_b52f_fc7774833c80row16_col0,#T_4d45063f_4c6a_11eb_b52f_fc7774833c80row17_col0,#T_4d45063f_4c6a_11eb_b52f_fc7774833c80row18_col0,#T_4d45063f_4c6a_11eb_b52f_fc7774833c80row19_col0,#T_4d45063f_4c6a_11eb_b52f_fc7774833c80row20_col0,#T_4d45063f_4c6a_11eb_b52f_fc7774833c80row21_col0{\n",
       "            background-color:  #decbe4;\n",
       "            color:  #000000;\n",
       "        }#T_4d45063f_4c6a_11eb_b52f_fc7774833c80row22_col0,#T_4d45063f_4c6a_11eb_b52f_fc7774833c80row23_col0,#T_4d45063f_4c6a_11eb_b52f_fc7774833c80row24_col0,#T_4d45063f_4c6a_11eb_b52f_fc7774833c80row25_col0,#T_4d45063f_4c6a_11eb_b52f_fc7774833c80row26_col0,#T_4d45063f_4c6a_11eb_b52f_fc7774833c80row27_col0,#T_4d45063f_4c6a_11eb_b52f_fc7774833c80row28_col0{\n",
       "            background-color:  #fed9a6;\n",
       "            color:  #000000;\n",
       "        }#T_4d45063f_4c6a_11eb_b52f_fc7774833c80row29_col0,#T_4d45063f_4c6a_11eb_b52f_fc7774833c80row30_col0,#T_4d45063f_4c6a_11eb_b52f_fc7774833c80row31_col0,#T_4d45063f_4c6a_11eb_b52f_fc7774833c80row32_col0,#T_4d45063f_4c6a_11eb_b52f_fc7774833c80row33_col0,#T_4d45063f_4c6a_11eb_b52f_fc7774833c80row34_col0,#T_4d45063f_4c6a_11eb_b52f_fc7774833c80row35_col0,#T_4d45063f_4c6a_11eb_b52f_fc7774833c80row36_col0,#T_4d45063f_4c6a_11eb_b52f_fc7774833c80row37_col0{\n",
       "            background-color:  #ffffcc;\n",
       "            color:  #000000;\n",
       "        }#T_4d45063f_4c6a_11eb_b52f_fc7774833c80row38_col0,#T_4d45063f_4c6a_11eb_b52f_fc7774833c80row39_col0,#T_4d45063f_4c6a_11eb_b52f_fc7774833c80row40_col0,#T_4d45063f_4c6a_11eb_b52f_fc7774833c80row41_col0,#T_4d45063f_4c6a_11eb_b52f_fc7774833c80row42_col0,#T_4d45063f_4c6a_11eb_b52f_fc7774833c80row43_col0{\n",
       "            background-color:  #e5d8bd;\n",
       "            color:  #000000;\n",
       "        }#T_4d45063f_4c6a_11eb_b52f_fc7774833c80row44_col0,#T_4d45063f_4c6a_11eb_b52f_fc7774833c80row45_col0,#T_4d45063f_4c6a_11eb_b52f_fc7774833c80row46_col0,#T_4d45063f_4c6a_11eb_b52f_fc7774833c80row47_col0,#T_4d45063f_4c6a_11eb_b52f_fc7774833c80row48_col0{\n",
       "            background-color:  #fddaec;\n",
       "            color:  #000000;\n",
       "        }#T_4d45063f_4c6a_11eb_b52f_fc7774833c80row49_col0,#T_4d45063f_4c6a_11eb_b52f_fc7774833c80row50_col0,#T_4d45063f_4c6a_11eb_b52f_fc7774833c80row51_col0,#T_4d45063f_4c6a_11eb_b52f_fc7774833c80row52_col0,#T_4d45063f_4c6a_11eb_b52f_fc7774833c80row53_col0,#T_4d45063f_4c6a_11eb_b52f_fc7774833c80row54_col0,#T_4d45063f_4c6a_11eb_b52f_fc7774833c80row55_col0,#T_4d45063f_4c6a_11eb_b52f_fc7774833c80row56_col0{\n",
       "            background-color:  #f2f2f2;\n",
       "            color:  #000000;\n",
       "        }</style><table id=\"T_4d45063f_4c6a_11eb_b52f_fc7774833c80\" ><thead>    <tr>        <th class=\"blank level0\" ></th>        <th class=\"col_heading level0 col0\" >NumStorePurchases</th>    </tr>    <tr>        <th class=\"index_name level0\" >Year_Birth</th>        <th class=\"blank\" ></th>    </tr></thead><tbody>\n",
       "                <tr>\n",
       "                        <th id=\"T_4d45063f_4c6a_11eb_b52f_fc7774833c80level0_row0\" class=\"row_heading level0 row0\" >1976</th>\n",
       "                        <td id=\"T_4d45063f_4c6a_11eb_b52f_fc7774833c80row0_col0\" class=\"data row0 col0\" >491</td>\n",
       "            </tr>\n",
       "            <tr>\n",
       "                        <th id=\"T_4d45063f_4c6a_11eb_b52f_fc7774833c80level0_row1\" class=\"row_heading level0 row1\" >1975</th>\n",
       "                        <td id=\"T_4d45063f_4c6a_11eb_b52f_fc7774833c80row1_col0\" class=\"data row1 col0\" >474</td>\n",
       "            </tr>\n",
       "            <tr>\n",
       "                        <th id=\"T_4d45063f_4c6a_11eb_b52f_fc7774833c80level0_row2\" class=\"row_heading level0 row2\" >1971</th>\n",
       "                        <td id=\"T_4d45063f_4c6a_11eb_b52f_fc7774833c80row2_col0\" class=\"data row2 col0\" >464</td>\n",
       "            </tr>\n",
       "            <tr>\n",
       "                        <th id=\"T_4d45063f_4c6a_11eb_b52f_fc7774833c80level0_row3\" class=\"row_heading level0 row3\" >1970</th>\n",
       "                        <td id=\"T_4d45063f_4c6a_11eb_b52f_fc7774833c80row3_col0\" class=\"data row3 col0\" >463</td>\n",
       "            </tr>\n",
       "            <tr>\n",
       "                        <th id=\"T_4d45063f_4c6a_11eb_b52f_fc7774833c80level0_row4\" class=\"row_heading level0 row4\" >1965</th>\n",
       "                        <td id=\"T_4d45063f_4c6a_11eb_b52f_fc7774833c80row4_col0\" class=\"data row4 col0\" >438</td>\n",
       "            </tr>\n",
       "            <tr>\n",
       "                        <th id=\"T_4d45063f_4c6a_11eb_b52f_fc7774833c80level0_row5\" class=\"row_heading level0 row5\" >1972</th>\n",
       "                        <td id=\"T_4d45063f_4c6a_11eb_b52f_fc7774833c80row5_col0\" class=\"data row5 col0\" >435</td>\n",
       "            </tr>\n",
       "            <tr>\n",
       "                        <th id=\"T_4d45063f_4c6a_11eb_b52f_fc7774833c80level0_row6\" class=\"row_heading level0 row6\" >1969</th>\n",
       "                        <td id=\"T_4d45063f_4c6a_11eb_b52f_fc7774833c80row6_col0\" class=\"data row6 col0\" >410</td>\n",
       "            </tr>\n",
       "            <tr>\n",
       "                        <th id=\"T_4d45063f_4c6a_11eb_b52f_fc7774833c80level0_row7\" class=\"row_heading level0 row7\" >1978</th>\n",
       "                        <td id=\"T_4d45063f_4c6a_11eb_b52f_fc7774833c80row7_col0\" class=\"data row7 col0\" >407</td>\n",
       "            </tr>\n",
       "            <tr>\n",
       "                        <th id=\"T_4d45063f_4c6a_11eb_b52f_fc7774833c80level0_row8\" class=\"row_heading level0 row8\" >1956</th>\n",
       "                        <td id=\"T_4d45063f_4c6a_11eb_b52f_fc7774833c80row8_col0\" class=\"data row8 col0\" >383</td>\n",
       "            </tr>\n",
       "            <tr>\n",
       "                        <th id=\"T_4d45063f_4c6a_11eb_b52f_fc7774833c80level0_row9\" class=\"row_heading level0 row9\" >1974</th>\n",
       "                        <td id=\"T_4d45063f_4c6a_11eb_b52f_fc7774833c80row9_col0\" class=\"data row9 col0\" >382</td>\n",
       "            </tr>\n",
       "            <tr>\n",
       "                        <th id=\"T_4d45063f_4c6a_11eb_b52f_fc7774833c80level0_row10\" class=\"row_heading level0 row10\" >1952</th>\n",
       "                        <td id=\"T_4d45063f_4c6a_11eb_b52f_fc7774833c80row10_col0\" class=\"data row10 col0\" >341</td>\n",
       "            </tr>\n",
       "            <tr>\n",
       "                        <th id=\"T_4d45063f_4c6a_11eb_b52f_fc7774833c80level0_row11\" class=\"row_heading level0 row11\" >1958</th>\n",
       "                        <td id=\"T_4d45063f_4c6a_11eb_b52f_fc7774833c80row11_col0\" class=\"data row11 col0\" >334</td>\n",
       "            </tr>\n",
       "            <tr>\n",
       "                        <th id=\"T_4d45063f_4c6a_11eb_b52f_fc7774833c80level0_row12\" class=\"row_heading level0 row12\" >1973</th>\n",
       "                        <td id=\"T_4d45063f_4c6a_11eb_b52f_fc7774833c80row12_col0\" class=\"data row12 col0\" >333</td>\n",
       "            </tr>\n",
       "            <tr>\n",
       "                        <th id=\"T_4d45063f_4c6a_11eb_b52f_fc7774833c80level0_row13\" class=\"row_heading level0 row13\" >1960</th>\n",
       "                        <td id=\"T_4d45063f_4c6a_11eb_b52f_fc7774833c80row13_col0\" class=\"data row13 col0\" >327</td>\n",
       "            </tr>\n",
       "            <tr>\n",
       "                        <th id=\"T_4d45063f_4c6a_11eb_b52f_fc7774833c80level0_row14\" class=\"row_heading level0 row14\" >1955</th>\n",
       "                        <td id=\"T_4d45063f_4c6a_11eb_b52f_fc7774833c80row14_col0\" class=\"data row14 col0\" >325</td>\n",
       "            </tr>\n",
       "            <tr>\n",
       "                        <th id=\"T_4d45063f_4c6a_11eb_b52f_fc7774833c80level0_row15\" class=\"row_heading level0 row15\" >1954</th>\n",
       "                        <td id=\"T_4d45063f_4c6a_11eb_b52f_fc7774833c80row15_col0\" class=\"data row15 col0\" >311</td>\n",
       "            </tr>\n",
       "            <tr>\n",
       "                        <th id=\"T_4d45063f_4c6a_11eb_b52f_fc7774833c80level0_row16\" class=\"row_heading level0 row16\" >1962</th>\n",
       "                        <td id=\"T_4d45063f_4c6a_11eb_b52f_fc7774833c80row16_col0\" class=\"data row16 col0\" >311</td>\n",
       "            </tr>\n",
       "            <tr>\n",
       "                        <th id=\"T_4d45063f_4c6a_11eb_b52f_fc7774833c80level0_row17\" class=\"row_heading level0 row17\" >1959</th>\n",
       "                        <td id=\"T_4d45063f_4c6a_11eb_b52f_fc7774833c80row17_col0\" class=\"data row17 col0\" >303</td>\n",
       "            </tr>\n",
       "            <tr>\n",
       "                        <th id=\"T_4d45063f_4c6a_11eb_b52f_fc7774833c80level0_row18\" class=\"row_heading level0 row18\" >1979</th>\n",
       "                        <td id=\"T_4d45063f_4c6a_11eb_b52f_fc7774833c80row18_col0\" class=\"data row18 col0\" >301</td>\n",
       "            </tr>\n",
       "            <tr>\n",
       "                        <th id=\"T_4d45063f_4c6a_11eb_b52f_fc7774833c80level0_row19\" class=\"row_heading level0 row19\" >1968</th>\n",
       "                        <td id=\"T_4d45063f_4c6a_11eb_b52f_fc7774833c80row19_col0\" class=\"data row19 col0\" >291</td>\n",
       "            </tr>\n",
       "            <tr>\n",
       "                        <th id=\"T_4d45063f_4c6a_11eb_b52f_fc7774833c80level0_row20\" class=\"row_heading level0 row20\" >1966</th>\n",
       "                        <td id=\"T_4d45063f_4c6a_11eb_b52f_fc7774833c80row20_col0\" class=\"data row20 col0\" >289</td>\n",
       "            </tr>\n",
       "            <tr>\n",
       "                        <th id=\"T_4d45063f_4c6a_11eb_b52f_fc7774833c80level0_row21\" class=\"row_heading level0 row21\" >1951</th>\n",
       "                        <td id=\"T_4d45063f_4c6a_11eb_b52f_fc7774833c80row21_col0\" class=\"data row21 col0\" >280</td>\n",
       "            </tr>\n",
       "            <tr>\n",
       "                        <th id=\"T_4d45063f_4c6a_11eb_b52f_fc7774833c80level0_row22\" class=\"row_heading level0 row22\" >1967</th>\n",
       "                        <td id=\"T_4d45063f_4c6a_11eb_b52f_fc7774833c80row22_col0\" class=\"data row22 col0\" >264</td>\n",
       "            </tr>\n",
       "            <tr>\n",
       "                        <th id=\"T_4d45063f_4c6a_11eb_b52f_fc7774833c80level0_row23\" class=\"row_heading level0 row23\" >1977</th>\n",
       "                        <td id=\"T_4d45063f_4c6a_11eb_b52f_fc7774833c80row23_col0\" class=\"data row23 col0\" >263</td>\n",
       "            </tr>\n",
       "            <tr>\n",
       "                        <th id=\"T_4d45063f_4c6a_11eb_b52f_fc7774833c80level0_row24\" class=\"row_heading level0 row24\" >1964</th>\n",
       "                        <td id=\"T_4d45063f_4c6a_11eb_b52f_fc7774833c80row24_col0\" class=\"data row24 col0\" >257</td>\n",
       "            </tr>\n",
       "            <tr>\n",
       "                        <th id=\"T_4d45063f_4c6a_11eb_b52f_fc7774833c80level0_row25\" class=\"row_heading level0 row25\" >1963</th>\n",
       "                        <td id=\"T_4d45063f_4c6a_11eb_b52f_fc7774833c80row25_col0\" class=\"data row25 col0\" >252</td>\n",
       "            </tr>\n",
       "            <tr>\n",
       "                        <th id=\"T_4d45063f_4c6a_11eb_b52f_fc7774833c80level0_row26\" class=\"row_heading level0 row26\" >1982</th>\n",
       "                        <td id=\"T_4d45063f_4c6a_11eb_b52f_fc7774833c80row26_col0\" class=\"data row26 col0\" >244</td>\n",
       "            </tr>\n",
       "            <tr>\n",
       "                        <th id=\"T_4d45063f_4c6a_11eb_b52f_fc7774833c80level0_row27\" class=\"row_heading level0 row27\" >1961</th>\n",
       "                        <td id=\"T_4d45063f_4c6a_11eb_b52f_fc7774833c80row27_col0\" class=\"data row27 col0\" >232</td>\n",
       "            </tr>\n",
       "            <tr>\n",
       "                        <th id=\"T_4d45063f_4c6a_11eb_b52f_fc7774833c80level0_row28\" class=\"row_heading level0 row28\" >1957</th>\n",
       "                        <td id=\"T_4d45063f_4c6a_11eb_b52f_fc7774833c80row28_col0\" class=\"data row28 col0\" >231</td>\n",
       "            </tr>\n",
       "            <tr>\n",
       "                        <th id=\"T_4d45063f_4c6a_11eb_b52f_fc7774833c80level0_row29\" class=\"row_heading level0 row29\" >1949</th>\n",
       "                        <td id=\"T_4d45063f_4c6a_11eb_b52f_fc7774833c80row29_col0\" class=\"data row29 col0\" >211</td>\n",
       "            </tr>\n",
       "            <tr>\n",
       "                        <th id=\"T_4d45063f_4c6a_11eb_b52f_fc7774833c80level0_row30\" class=\"row_heading level0 row30\" >1981</th>\n",
       "                        <td id=\"T_4d45063f_4c6a_11eb_b52f_fc7774833c80row30_col0\" class=\"data row30 col0\" >209</td>\n",
       "            </tr>\n",
       "            <tr>\n",
       "                        <th id=\"T_4d45063f_4c6a_11eb_b52f_fc7774833c80level0_row31\" class=\"row_heading level0 row31\" >1980</th>\n",
       "                        <td id=\"T_4d45063f_4c6a_11eb_b52f_fc7774833c80row31_col0\" class=\"data row31 col0\" >207</td>\n",
       "            </tr>\n",
       "            <tr>\n",
       "                        <th id=\"T_4d45063f_4c6a_11eb_b52f_fc7774833c80level0_row32\" class=\"row_heading level0 row32\" >1953</th>\n",
       "                        <td id=\"T_4d45063f_4c6a_11eb_b52f_fc7774833c80row32_col0\" class=\"data row32 col0\" >206</td>\n",
       "            </tr>\n",
       "            <tr>\n",
       "                        <th id=\"T_4d45063f_4c6a_11eb_b52f_fc7774833c80level0_row33\" class=\"row_heading level0 row33\" >1986</th>\n",
       "                        <td id=\"T_4d45063f_4c6a_11eb_b52f_fc7774833c80row33_col0\" class=\"data row33 col0\" >199</td>\n",
       "            </tr>\n",
       "            <tr>\n",
       "                        <th id=\"T_4d45063f_4c6a_11eb_b52f_fc7774833c80level0_row34\" class=\"row_heading level0 row34\" >1983</th>\n",
       "                        <td id=\"T_4d45063f_4c6a_11eb_b52f_fc7774833c80row34_col0\" class=\"data row34 col0\" >194</td>\n",
       "            </tr>\n",
       "            <tr>\n",
       "                        <th id=\"T_4d45063f_4c6a_11eb_b52f_fc7774833c80level0_row35\" class=\"row_heading level0 row35\" >1989</th>\n",
       "                        <td id=\"T_4d45063f_4c6a_11eb_b52f_fc7774833c80row35_col0\" class=\"data row35 col0\" >175</td>\n",
       "            </tr>\n",
       "            <tr>\n",
       "                        <th id=\"T_4d45063f_4c6a_11eb_b52f_fc7774833c80level0_row36\" class=\"row_heading level0 row36\" >1988</th>\n",
       "                        <td id=\"T_4d45063f_4c6a_11eb_b52f_fc7774833c80row36_col0\" class=\"data row36 col0\" >168</td>\n",
       "            </tr>\n",
       "            <tr>\n",
       "                        <th id=\"T_4d45063f_4c6a_11eb_b52f_fc7774833c80level0_row37\" class=\"row_heading level0 row37\" >1984</th>\n",
       "                        <td id=\"T_4d45063f_4c6a_11eb_b52f_fc7774833c80row37_col0\" class=\"data row37 col0\" >165</td>\n",
       "            </tr>\n",
       "            <tr>\n",
       "                        <th id=\"T_4d45063f_4c6a_11eb_b52f_fc7774833c80level0_row38\" class=\"row_heading level0 row38\" >1987</th>\n",
       "                        <td id=\"T_4d45063f_4c6a_11eb_b52f_fc7774833c80row38_col0\" class=\"data row38 col0\" >163</td>\n",
       "            </tr>\n",
       "            <tr>\n",
       "                        <th id=\"T_4d45063f_4c6a_11eb_b52f_fc7774833c80level0_row39\" class=\"row_heading level0 row39\" >1985</th>\n",
       "                        <td id=\"T_4d45063f_4c6a_11eb_b52f_fc7774833c80row39_col0\" class=\"data row39 col0\" >163</td>\n",
       "            </tr>\n",
       "            <tr>\n",
       "                        <th id=\"T_4d45063f_4c6a_11eb_b52f_fc7774833c80level0_row40\" class=\"row_heading level0 row40\" >1950</th>\n",
       "                        <td id=\"T_4d45063f_4c6a_11eb_b52f_fc7774833c80row40_col0\" class=\"data row40 col0\" >152</td>\n",
       "            </tr>\n",
       "            <tr>\n",
       "                        <th id=\"T_4d45063f_4c6a_11eb_b52f_fc7774833c80level0_row41\" class=\"row_heading level0 row41\" >1948</th>\n",
       "                        <td id=\"T_4d45063f_4c6a_11eb_b52f_fc7774833c80row41_col0\" class=\"data row41 col0\" >130</td>\n",
       "            </tr>\n",
       "            <tr>\n",
       "                        <th id=\"T_4d45063f_4c6a_11eb_b52f_fc7774833c80level0_row42\" class=\"row_heading level0 row42\" >1947</th>\n",
       "                        <td id=\"T_4d45063f_4c6a_11eb_b52f_fc7774833c80row42_col0\" class=\"data row42 col0\" >125</td>\n",
       "            </tr>\n",
       "            <tr>\n",
       "                        <th id=\"T_4d45063f_4c6a_11eb_b52f_fc7774833c80level0_row43\" class=\"row_heading level0 row43\" >1946</th>\n",
       "                        <td id=\"T_4d45063f_4c6a_11eb_b52f_fc7774833c80row43_col0\" class=\"data row43 col0\" >121</td>\n",
       "            </tr>\n",
       "            <tr>\n",
       "                        <th id=\"T_4d45063f_4c6a_11eb_b52f_fc7774833c80level0_row44\" class=\"row_heading level0 row44\" >1991</th>\n",
       "                        <td id=\"T_4d45063f_4c6a_11eb_b52f_fc7774833c80row44_col0\" class=\"data row44 col0\" >102</td>\n",
       "            </tr>\n",
       "            <tr>\n",
       "                        <th id=\"T_4d45063f_4c6a_11eb_b52f_fc7774833c80level0_row45\" class=\"row_heading level0 row45\" >1990</th>\n",
       "                        <td id=\"T_4d45063f_4c6a_11eb_b52f_fc7774833c80row45_col0\" class=\"data row45 col0\" >84</td>\n",
       "            </tr>\n",
       "            <tr>\n",
       "                        <th id=\"T_4d45063f_4c6a_11eb_b52f_fc7774833c80level0_row46\" class=\"row_heading level0 row46\" >1992</th>\n",
       "                        <td id=\"T_4d45063f_4c6a_11eb_b52f_fc7774833c80row46_col0\" class=\"data row46 col0\" >67</td>\n",
       "            </tr>\n",
       "            <tr>\n",
       "                        <th id=\"T_4d45063f_4c6a_11eb_b52f_fc7774833c80level0_row47\" class=\"row_heading level0 row47\" >1943</th>\n",
       "                        <td id=\"T_4d45063f_4c6a_11eb_b52f_fc7774833c80row47_col0\" class=\"data row47 col0\" >62</td>\n",
       "            </tr>\n",
       "            <tr>\n",
       "                        <th id=\"T_4d45063f_4c6a_11eb_b52f_fc7774833c80level0_row48\" class=\"row_heading level0 row48\" >1944</th>\n",
       "                        <td id=\"T_4d45063f_4c6a_11eb_b52f_fc7774833c80row48_col0\" class=\"data row48 col0\" >58</td>\n",
       "            </tr>\n",
       "            <tr>\n",
       "                        <th id=\"T_4d45063f_4c6a_11eb_b52f_fc7774833c80level0_row49\" class=\"row_heading level0 row49\" >1945</th>\n",
       "                        <td id=\"T_4d45063f_4c6a_11eb_b52f_fc7774833c80row49_col0\" class=\"data row49 col0\" >52</td>\n",
       "            </tr>\n",
       "            <tr>\n",
       "                        <th id=\"T_4d45063f_4c6a_11eb_b52f_fc7774833c80level0_row50\" class=\"row_heading level0 row50\" >1995</th>\n",
       "                        <td id=\"T_4d45063f_4c6a_11eb_b52f_fc7774833c80row50_col0\" class=\"data row50 col0\" >36</td>\n",
       "            </tr>\n",
       "            <tr>\n",
       "                        <th id=\"T_4d45063f_4c6a_11eb_b52f_fc7774833c80level0_row51\" class=\"row_heading level0 row51\" >1993</th>\n",
       "                        <td id=\"T_4d45063f_4c6a_11eb_b52f_fc7774833c80row51_col0\" class=\"data row51 col0\" >29</td>\n",
       "            </tr>\n",
       "            <tr>\n",
       "                        <th id=\"T_4d45063f_4c6a_11eb_b52f_fc7774833c80level0_row52\" class=\"row_heading level0 row52\" >1994</th>\n",
       "                        <td id=\"T_4d45063f_4c6a_11eb_b52f_fc7774833c80row52_col0\" class=\"data row52 col0\" >28</td>\n",
       "            </tr>\n",
       "            <tr>\n",
       "                        <th id=\"T_4d45063f_4c6a_11eb_b52f_fc7774833c80level0_row53\" class=\"row_heading level0 row53\" >1941</th>\n",
       "                        <td id=\"T_4d45063f_4c6a_11eb_b52f_fc7774833c80row53_col0\" class=\"data row53 col0\" >5</td>\n",
       "            </tr>\n",
       "            <tr>\n",
       "                        <th id=\"T_4d45063f_4c6a_11eb_b52f_fc7774833c80level0_row54\" class=\"row_heading level0 row54\" >1996</th>\n",
       "                        <td id=\"T_4d45063f_4c6a_11eb_b52f_fc7774833c80row54_col0\" class=\"data row54 col0\" >5</td>\n",
       "            </tr>\n",
       "            <tr>\n",
       "                        <th id=\"T_4d45063f_4c6a_11eb_b52f_fc7774833c80level0_row55\" class=\"row_heading level0 row55\" >1940</th>\n",
       "                        <td id=\"T_4d45063f_4c6a_11eb_b52f_fc7774833c80row55_col0\" class=\"data row55 col0\" >4</td>\n",
       "            </tr>\n",
       "            <tr>\n",
       "                        <th id=\"T_4d45063f_4c6a_11eb_b52f_fc7774833c80level0_row56\" class=\"row_heading level0 row56\" >1900</th>\n",
       "                        <td id=\"T_4d45063f_4c6a_11eb_b52f_fc7774833c80row56_col0\" class=\"data row56 col0\" >2</td>\n",
       "            </tr>\n",
       "    </tbody></table>"
      ],
      "text/plain": [
       "<pandas.io.formats.style.Styler at 0x24051a4db80>"
      ]
     },
     "execution_count": 38,
     "metadata": {},
     "output_type": "execute_result"
    }
   ],
   "source": [
    "Year_Birth = df.groupby('Year_Birth')['NumStorePurchases'].sum().sort_values(ascending = False).to_frame()\n",
    "\n",
    "Year_Birth.style.background_gradient(cmap ='Pastel1_r')"
   ]
  },
  {
   "cell_type": "code",
   "execution_count": 39,
   "metadata": {},
   "outputs": [
    {
     "data": {
      "application/vnd.plotly.v1+json": {
       "config": {
        "plotlyServerURL": "https://plot.ly"
       },
       "data": [
        {
         "alignmentgroup": "True",
         "hovertemplate": "Year_Birth=%{x}<br>NumStorePurchases=%{y}<extra></extra>",
         "legendgroup": "",
         "marker": {
          "color": "#636efa"
         },
         "name": "",
         "offsetgroup": "",
         "orientation": "v",
         "showlegend": false,
         "textposition": "auto",
         "type": "bar",
         "x": [
          1900,
          1940,
          1941,
          1943,
          1944,
          1945,
          1946,
          1947,
          1948,
          1949,
          1950,
          1951,
          1952,
          1953,
          1954,
          1955,
          1956,
          1957,
          1958,
          1959,
          1960,
          1961,
          1962,
          1963,
          1964,
          1965,
          1966,
          1967,
          1968,
          1969,
          1970,
          1971,
          1972,
          1973,
          1974,
          1975,
          1976,
          1977,
          1978,
          1979,
          1980,
          1981,
          1982,
          1983,
          1984,
          1985,
          1986,
          1987,
          1988,
          1989,
          1990,
          1991,
          1992,
          1993,
          1994,
          1995,
          1996
         ],
         "xaxis": "x",
         "y": [
          2,
          4,
          5,
          62,
          58,
          52,
          121,
          125,
          130,
          211,
          152,
          280,
          341,
          206,
          311,
          325,
          383,
          231,
          334,
          303,
          327,
          232,
          311,
          252,
          257,
          438,
          289,
          264,
          291,
          410,
          463,
          464,
          435,
          333,
          382,
          474,
          491,
          263,
          407,
          301,
          207,
          209,
          244,
          194,
          165,
          163,
          199,
          163,
          168,
          175,
          84,
          102,
          67,
          29,
          28,
          36,
          5
         ],
         "yaxis": "y"
        }
       ],
       "layout": {
        "barmode": "relative",
        "legend": {
         "tracegroupgap": 0
        },
        "margin": {
         "t": 60
        },
        "template": {
         "data": {
          "bar": [
           {
            "error_x": {
             "color": "#2a3f5f"
            },
            "error_y": {
             "color": "#2a3f5f"
            },
            "marker": {
             "line": {
              "color": "#E5ECF6",
              "width": 0.5
             }
            },
            "type": "bar"
           }
          ],
          "barpolar": [
           {
            "marker": {
             "line": {
              "color": "#E5ECF6",
              "width": 0.5
             }
            },
            "type": "barpolar"
           }
          ],
          "carpet": [
           {
            "aaxis": {
             "endlinecolor": "#2a3f5f",
             "gridcolor": "white",
             "linecolor": "white",
             "minorgridcolor": "white",
             "startlinecolor": "#2a3f5f"
            },
            "baxis": {
             "endlinecolor": "#2a3f5f",
             "gridcolor": "white",
             "linecolor": "white",
             "minorgridcolor": "white",
             "startlinecolor": "#2a3f5f"
            },
            "type": "carpet"
           }
          ],
          "choropleth": [
           {
            "colorbar": {
             "outlinewidth": 0,
             "ticks": ""
            },
            "type": "choropleth"
           }
          ],
          "contour": [
           {
            "colorbar": {
             "outlinewidth": 0,
             "ticks": ""
            },
            "colorscale": [
             [
              0,
              "#0d0887"
             ],
             [
              0.1111111111111111,
              "#46039f"
             ],
             [
              0.2222222222222222,
              "#7201a8"
             ],
             [
              0.3333333333333333,
              "#9c179e"
             ],
             [
              0.4444444444444444,
              "#bd3786"
             ],
             [
              0.5555555555555556,
              "#d8576b"
             ],
             [
              0.6666666666666666,
              "#ed7953"
             ],
             [
              0.7777777777777778,
              "#fb9f3a"
             ],
             [
              0.8888888888888888,
              "#fdca26"
             ],
             [
              1,
              "#f0f921"
             ]
            ],
            "type": "contour"
           }
          ],
          "contourcarpet": [
           {
            "colorbar": {
             "outlinewidth": 0,
             "ticks": ""
            },
            "type": "contourcarpet"
           }
          ],
          "heatmap": [
           {
            "colorbar": {
             "outlinewidth": 0,
             "ticks": ""
            },
            "colorscale": [
             [
              0,
              "#0d0887"
             ],
             [
              0.1111111111111111,
              "#46039f"
             ],
             [
              0.2222222222222222,
              "#7201a8"
             ],
             [
              0.3333333333333333,
              "#9c179e"
             ],
             [
              0.4444444444444444,
              "#bd3786"
             ],
             [
              0.5555555555555556,
              "#d8576b"
             ],
             [
              0.6666666666666666,
              "#ed7953"
             ],
             [
              0.7777777777777778,
              "#fb9f3a"
             ],
             [
              0.8888888888888888,
              "#fdca26"
             ],
             [
              1,
              "#f0f921"
             ]
            ],
            "type": "heatmap"
           }
          ],
          "heatmapgl": [
           {
            "colorbar": {
             "outlinewidth": 0,
             "ticks": ""
            },
            "colorscale": [
             [
              0,
              "#0d0887"
             ],
             [
              0.1111111111111111,
              "#46039f"
             ],
             [
              0.2222222222222222,
              "#7201a8"
             ],
             [
              0.3333333333333333,
              "#9c179e"
             ],
             [
              0.4444444444444444,
              "#bd3786"
             ],
             [
              0.5555555555555556,
              "#d8576b"
             ],
             [
              0.6666666666666666,
              "#ed7953"
             ],
             [
              0.7777777777777778,
              "#fb9f3a"
             ],
             [
              0.8888888888888888,
              "#fdca26"
             ],
             [
              1,
              "#f0f921"
             ]
            ],
            "type": "heatmapgl"
           }
          ],
          "histogram": [
           {
            "marker": {
             "colorbar": {
              "outlinewidth": 0,
              "ticks": ""
             }
            },
            "type": "histogram"
           }
          ],
          "histogram2d": [
           {
            "colorbar": {
             "outlinewidth": 0,
             "ticks": ""
            },
            "colorscale": [
             [
              0,
              "#0d0887"
             ],
             [
              0.1111111111111111,
              "#46039f"
             ],
             [
              0.2222222222222222,
              "#7201a8"
             ],
             [
              0.3333333333333333,
              "#9c179e"
             ],
             [
              0.4444444444444444,
              "#bd3786"
             ],
             [
              0.5555555555555556,
              "#d8576b"
             ],
             [
              0.6666666666666666,
              "#ed7953"
             ],
             [
              0.7777777777777778,
              "#fb9f3a"
             ],
             [
              0.8888888888888888,
              "#fdca26"
             ],
             [
              1,
              "#f0f921"
             ]
            ],
            "type": "histogram2d"
           }
          ],
          "histogram2dcontour": [
           {
            "colorbar": {
             "outlinewidth": 0,
             "ticks": ""
            },
            "colorscale": [
             [
              0,
              "#0d0887"
             ],
             [
              0.1111111111111111,
              "#46039f"
             ],
             [
              0.2222222222222222,
              "#7201a8"
             ],
             [
              0.3333333333333333,
              "#9c179e"
             ],
             [
              0.4444444444444444,
              "#bd3786"
             ],
             [
              0.5555555555555556,
              "#d8576b"
             ],
             [
              0.6666666666666666,
              "#ed7953"
             ],
             [
              0.7777777777777778,
              "#fb9f3a"
             ],
             [
              0.8888888888888888,
              "#fdca26"
             ],
             [
              1,
              "#f0f921"
             ]
            ],
            "type": "histogram2dcontour"
           }
          ],
          "mesh3d": [
           {
            "colorbar": {
             "outlinewidth": 0,
             "ticks": ""
            },
            "type": "mesh3d"
           }
          ],
          "parcoords": [
           {
            "line": {
             "colorbar": {
              "outlinewidth": 0,
              "ticks": ""
             }
            },
            "type": "parcoords"
           }
          ],
          "pie": [
           {
            "automargin": true,
            "type": "pie"
           }
          ],
          "scatter": [
           {
            "marker": {
             "colorbar": {
              "outlinewidth": 0,
              "ticks": ""
             }
            },
            "type": "scatter"
           }
          ],
          "scatter3d": [
           {
            "line": {
             "colorbar": {
              "outlinewidth": 0,
              "ticks": ""
             }
            },
            "marker": {
             "colorbar": {
              "outlinewidth": 0,
              "ticks": ""
             }
            },
            "type": "scatter3d"
           }
          ],
          "scattercarpet": [
           {
            "marker": {
             "colorbar": {
              "outlinewidth": 0,
              "ticks": ""
             }
            },
            "type": "scattercarpet"
           }
          ],
          "scattergeo": [
           {
            "marker": {
             "colorbar": {
              "outlinewidth": 0,
              "ticks": ""
             }
            },
            "type": "scattergeo"
           }
          ],
          "scattergl": [
           {
            "marker": {
             "colorbar": {
              "outlinewidth": 0,
              "ticks": ""
             }
            },
            "type": "scattergl"
           }
          ],
          "scattermapbox": [
           {
            "marker": {
             "colorbar": {
              "outlinewidth": 0,
              "ticks": ""
             }
            },
            "type": "scattermapbox"
           }
          ],
          "scatterpolar": [
           {
            "marker": {
             "colorbar": {
              "outlinewidth": 0,
              "ticks": ""
             }
            },
            "type": "scatterpolar"
           }
          ],
          "scatterpolargl": [
           {
            "marker": {
             "colorbar": {
              "outlinewidth": 0,
              "ticks": ""
             }
            },
            "type": "scatterpolargl"
           }
          ],
          "scatterternary": [
           {
            "marker": {
             "colorbar": {
              "outlinewidth": 0,
              "ticks": ""
             }
            },
            "type": "scatterternary"
           }
          ],
          "surface": [
           {
            "colorbar": {
             "outlinewidth": 0,
             "ticks": ""
            },
            "colorscale": [
             [
              0,
              "#0d0887"
             ],
             [
              0.1111111111111111,
              "#46039f"
             ],
             [
              0.2222222222222222,
              "#7201a8"
             ],
             [
              0.3333333333333333,
              "#9c179e"
             ],
             [
              0.4444444444444444,
              "#bd3786"
             ],
             [
              0.5555555555555556,
              "#d8576b"
             ],
             [
              0.6666666666666666,
              "#ed7953"
             ],
             [
              0.7777777777777778,
              "#fb9f3a"
             ],
             [
              0.8888888888888888,
              "#fdca26"
             ],
             [
              1,
              "#f0f921"
             ]
            ],
            "type": "surface"
           }
          ],
          "table": [
           {
            "cells": {
             "fill": {
              "color": "#EBF0F8"
             },
             "line": {
              "color": "white"
             }
            },
            "header": {
             "fill": {
              "color": "#C8D4E3"
             },
             "line": {
              "color": "white"
             }
            },
            "type": "table"
           }
          ]
         },
         "layout": {
          "annotationdefaults": {
           "arrowcolor": "#2a3f5f",
           "arrowhead": 0,
           "arrowwidth": 1
          },
          "autotypenumbers": "strict",
          "coloraxis": {
           "colorbar": {
            "outlinewidth": 0,
            "ticks": ""
           }
          },
          "colorscale": {
           "diverging": [
            [
             0,
             "#8e0152"
            ],
            [
             0.1,
             "#c51b7d"
            ],
            [
             0.2,
             "#de77ae"
            ],
            [
             0.3,
             "#f1b6da"
            ],
            [
             0.4,
             "#fde0ef"
            ],
            [
             0.5,
             "#f7f7f7"
            ],
            [
             0.6,
             "#e6f5d0"
            ],
            [
             0.7,
             "#b8e186"
            ],
            [
             0.8,
             "#7fbc41"
            ],
            [
             0.9,
             "#4d9221"
            ],
            [
             1,
             "#276419"
            ]
           ],
           "sequential": [
            [
             0,
             "#0d0887"
            ],
            [
             0.1111111111111111,
             "#46039f"
            ],
            [
             0.2222222222222222,
             "#7201a8"
            ],
            [
             0.3333333333333333,
             "#9c179e"
            ],
            [
             0.4444444444444444,
             "#bd3786"
            ],
            [
             0.5555555555555556,
             "#d8576b"
            ],
            [
             0.6666666666666666,
             "#ed7953"
            ],
            [
             0.7777777777777778,
             "#fb9f3a"
            ],
            [
             0.8888888888888888,
             "#fdca26"
            ],
            [
             1,
             "#f0f921"
            ]
           ],
           "sequentialminus": [
            [
             0,
             "#0d0887"
            ],
            [
             0.1111111111111111,
             "#46039f"
            ],
            [
             0.2222222222222222,
             "#7201a8"
            ],
            [
             0.3333333333333333,
             "#9c179e"
            ],
            [
             0.4444444444444444,
             "#bd3786"
            ],
            [
             0.5555555555555556,
             "#d8576b"
            ],
            [
             0.6666666666666666,
             "#ed7953"
            ],
            [
             0.7777777777777778,
             "#fb9f3a"
            ],
            [
             0.8888888888888888,
             "#fdca26"
            ],
            [
             1,
             "#f0f921"
            ]
           ]
          },
          "colorway": [
           "#636efa",
           "#EF553B",
           "#00cc96",
           "#ab63fa",
           "#FFA15A",
           "#19d3f3",
           "#FF6692",
           "#B6E880",
           "#FF97FF",
           "#FECB52"
          ],
          "font": {
           "color": "#2a3f5f"
          },
          "geo": {
           "bgcolor": "white",
           "lakecolor": "white",
           "landcolor": "#E5ECF6",
           "showlakes": true,
           "showland": true,
           "subunitcolor": "white"
          },
          "hoverlabel": {
           "align": "left"
          },
          "hovermode": "closest",
          "mapbox": {
           "style": "light"
          },
          "paper_bgcolor": "white",
          "plot_bgcolor": "#E5ECF6",
          "polar": {
           "angularaxis": {
            "gridcolor": "white",
            "linecolor": "white",
            "ticks": ""
           },
           "bgcolor": "#E5ECF6",
           "radialaxis": {
            "gridcolor": "white",
            "linecolor": "white",
            "ticks": ""
           }
          },
          "scene": {
           "xaxis": {
            "backgroundcolor": "#E5ECF6",
            "gridcolor": "white",
            "gridwidth": 2,
            "linecolor": "white",
            "showbackground": true,
            "ticks": "",
            "zerolinecolor": "white"
           },
           "yaxis": {
            "backgroundcolor": "#E5ECF6",
            "gridcolor": "white",
            "gridwidth": 2,
            "linecolor": "white",
            "showbackground": true,
            "ticks": "",
            "zerolinecolor": "white"
           },
           "zaxis": {
            "backgroundcolor": "#E5ECF6",
            "gridcolor": "white",
            "gridwidth": 2,
            "linecolor": "white",
            "showbackground": true,
            "ticks": "",
            "zerolinecolor": "white"
           }
          },
          "shapedefaults": {
           "line": {
            "color": "#2a3f5f"
           }
          },
          "ternary": {
           "aaxis": {
            "gridcolor": "white",
            "linecolor": "white",
            "ticks": ""
           },
           "baxis": {
            "gridcolor": "white",
            "linecolor": "white",
            "ticks": ""
           },
           "bgcolor": "#E5ECF6",
           "caxis": {
            "gridcolor": "white",
            "linecolor": "white",
            "ticks": ""
           }
          },
          "title": {
           "x": 0.05
          },
          "xaxis": {
           "automargin": true,
           "gridcolor": "white",
           "linecolor": "white",
           "ticks": "",
           "title": {
            "standoff": 15
           },
           "zerolinecolor": "white",
           "zerolinewidth": 2
          },
          "yaxis": {
           "automargin": true,
           "gridcolor": "white",
           "linecolor": "white",
           "ticks": "",
           "title": {
            "standoff": 15
           },
           "zerolinecolor": "white",
           "zerolinewidth": 2
          }
         }
        },
        "xaxis": {
         "anchor": "y",
         "domain": [
          0,
          1
         ],
         "title": {
          "text": "Year_Birth"
         }
        },
        "yaxis": {
         "anchor": "x",
         "domain": [
          0,
          1
         ],
         "title": {
          "text": "NumStorePurchases"
         }
        }
       }
      },
      "text/html": [
       "<div>                            <div id=\"8275de25-5274-456b-a394-d09a2344516a\" class=\"plotly-graph-div\" style=\"height:525px; width:100%;\"></div>            <script type=\"text/javascript\">                require([\"plotly\"], function(Plotly) {                    window.PLOTLYENV=window.PLOTLYENV || {};                                    if (document.getElementById(\"8275de25-5274-456b-a394-d09a2344516a\")) {                    Plotly.newPlot(                        \"8275de25-5274-456b-a394-d09a2344516a\",                        [{\"alignmentgroup\": \"True\", \"hovertemplate\": \"Year_Birth=%{x}<br>NumStorePurchases=%{y}<extra></extra>\", \"legendgroup\": \"\", \"marker\": {\"color\": \"#636efa\"}, \"name\": \"\", \"offsetgroup\": \"\", \"orientation\": \"v\", \"showlegend\": false, \"textposition\": \"auto\", \"type\": \"bar\", \"x\": [1900, 1940, 1941, 1943, 1944, 1945, 1946, 1947, 1948, 1949, 1950, 1951, 1952, 1953, 1954, 1955, 1956, 1957, 1958, 1959, 1960, 1961, 1962, 1963, 1964, 1965, 1966, 1967, 1968, 1969, 1970, 1971, 1972, 1973, 1974, 1975, 1976, 1977, 1978, 1979, 1980, 1981, 1982, 1983, 1984, 1985, 1986, 1987, 1988, 1989, 1990, 1991, 1992, 1993, 1994, 1995, 1996], \"xaxis\": \"x\", \"y\": [2, 4, 5, 62, 58, 52, 121, 125, 130, 211, 152, 280, 341, 206, 311, 325, 383, 231, 334, 303, 327, 232, 311, 252, 257, 438, 289, 264, 291, 410, 463, 464, 435, 333, 382, 474, 491, 263, 407, 301, 207, 209, 244, 194, 165, 163, 199, 163, 168, 175, 84, 102, 67, 29, 28, 36, 5], \"yaxis\": \"y\"}],                        {\"barmode\": \"relative\", \"legend\": {\"tracegroupgap\": 0}, \"margin\": {\"t\": 60}, \"template\": {\"data\": {\"bar\": [{\"error_x\": {\"color\": \"#2a3f5f\"}, \"error_y\": {\"color\": \"#2a3f5f\"}, \"marker\": {\"line\": {\"color\": \"#E5ECF6\", \"width\": 0.5}}, \"type\": \"bar\"}], \"barpolar\": [{\"marker\": {\"line\": {\"color\": \"#E5ECF6\", \"width\": 0.5}}, \"type\": \"barpolar\"}], \"carpet\": [{\"aaxis\": {\"endlinecolor\": \"#2a3f5f\", \"gridcolor\": \"white\", \"linecolor\": \"white\", \"minorgridcolor\": \"white\", \"startlinecolor\": \"#2a3f5f\"}, \"baxis\": {\"endlinecolor\": \"#2a3f5f\", \"gridcolor\": \"white\", \"linecolor\": \"white\", \"minorgridcolor\": \"white\", \"startlinecolor\": \"#2a3f5f\"}, \"type\": \"carpet\"}], \"choropleth\": [{\"colorbar\": {\"outlinewidth\": 0, \"ticks\": \"\"}, \"type\": \"choropleth\"}], \"contour\": [{\"colorbar\": {\"outlinewidth\": 0, \"ticks\": \"\"}, \"colorscale\": [[0.0, \"#0d0887\"], [0.1111111111111111, \"#46039f\"], [0.2222222222222222, \"#7201a8\"], [0.3333333333333333, \"#9c179e\"], [0.4444444444444444, \"#bd3786\"], [0.5555555555555556, \"#d8576b\"], [0.6666666666666666, \"#ed7953\"], [0.7777777777777778, \"#fb9f3a\"], [0.8888888888888888, \"#fdca26\"], [1.0, \"#f0f921\"]], \"type\": \"contour\"}], \"contourcarpet\": [{\"colorbar\": {\"outlinewidth\": 0, \"ticks\": \"\"}, \"type\": \"contourcarpet\"}], \"heatmap\": [{\"colorbar\": {\"outlinewidth\": 0, \"ticks\": \"\"}, \"colorscale\": [[0.0, \"#0d0887\"], [0.1111111111111111, \"#46039f\"], [0.2222222222222222, \"#7201a8\"], [0.3333333333333333, \"#9c179e\"], [0.4444444444444444, \"#bd3786\"], [0.5555555555555556, \"#d8576b\"], [0.6666666666666666, \"#ed7953\"], [0.7777777777777778, \"#fb9f3a\"], [0.8888888888888888, \"#fdca26\"], [1.0, \"#f0f921\"]], \"type\": \"heatmap\"}], \"heatmapgl\": [{\"colorbar\": {\"outlinewidth\": 0, \"ticks\": \"\"}, \"colorscale\": [[0.0, \"#0d0887\"], [0.1111111111111111, \"#46039f\"], [0.2222222222222222, \"#7201a8\"], [0.3333333333333333, \"#9c179e\"], [0.4444444444444444, \"#bd3786\"], [0.5555555555555556, \"#d8576b\"], [0.6666666666666666, \"#ed7953\"], [0.7777777777777778, \"#fb9f3a\"], [0.8888888888888888, \"#fdca26\"], [1.0, \"#f0f921\"]], \"type\": \"heatmapgl\"}], \"histogram\": [{\"marker\": {\"colorbar\": {\"outlinewidth\": 0, \"ticks\": \"\"}}, \"type\": \"histogram\"}], \"histogram2d\": [{\"colorbar\": {\"outlinewidth\": 0, \"ticks\": \"\"}, \"colorscale\": [[0.0, \"#0d0887\"], [0.1111111111111111, \"#46039f\"], [0.2222222222222222, \"#7201a8\"], [0.3333333333333333, \"#9c179e\"], [0.4444444444444444, \"#bd3786\"], [0.5555555555555556, \"#d8576b\"], [0.6666666666666666, \"#ed7953\"], [0.7777777777777778, \"#fb9f3a\"], [0.8888888888888888, \"#fdca26\"], [1.0, \"#f0f921\"]], \"type\": \"histogram2d\"}], \"histogram2dcontour\": [{\"colorbar\": {\"outlinewidth\": 0, \"ticks\": \"\"}, \"colorscale\": [[0.0, \"#0d0887\"], [0.1111111111111111, \"#46039f\"], [0.2222222222222222, \"#7201a8\"], [0.3333333333333333, \"#9c179e\"], [0.4444444444444444, \"#bd3786\"], [0.5555555555555556, \"#d8576b\"], [0.6666666666666666, \"#ed7953\"], [0.7777777777777778, \"#fb9f3a\"], [0.8888888888888888, \"#fdca26\"], [1.0, \"#f0f921\"]], \"type\": \"histogram2dcontour\"}], \"mesh3d\": [{\"colorbar\": {\"outlinewidth\": 0, \"ticks\": \"\"}, \"type\": \"mesh3d\"}], \"parcoords\": [{\"line\": {\"colorbar\": {\"outlinewidth\": 0, \"ticks\": \"\"}}, \"type\": \"parcoords\"}], \"pie\": [{\"automargin\": true, \"type\": \"pie\"}], \"scatter\": [{\"marker\": {\"colorbar\": {\"outlinewidth\": 0, \"ticks\": \"\"}}, \"type\": \"scatter\"}], \"scatter3d\": [{\"line\": {\"colorbar\": {\"outlinewidth\": 0, \"ticks\": \"\"}}, \"marker\": {\"colorbar\": {\"outlinewidth\": 0, \"ticks\": \"\"}}, \"type\": \"scatter3d\"}], \"scattercarpet\": [{\"marker\": {\"colorbar\": {\"outlinewidth\": 0, \"ticks\": \"\"}}, \"type\": \"scattercarpet\"}], \"scattergeo\": [{\"marker\": {\"colorbar\": {\"outlinewidth\": 0, \"ticks\": \"\"}}, \"type\": \"scattergeo\"}], \"scattergl\": [{\"marker\": {\"colorbar\": {\"outlinewidth\": 0, \"ticks\": \"\"}}, \"type\": \"scattergl\"}], \"scattermapbox\": [{\"marker\": {\"colorbar\": {\"outlinewidth\": 0, \"ticks\": \"\"}}, \"type\": \"scattermapbox\"}], \"scatterpolar\": [{\"marker\": {\"colorbar\": {\"outlinewidth\": 0, \"ticks\": \"\"}}, \"type\": \"scatterpolar\"}], \"scatterpolargl\": [{\"marker\": {\"colorbar\": {\"outlinewidth\": 0, \"ticks\": \"\"}}, \"type\": \"scatterpolargl\"}], \"scatterternary\": [{\"marker\": {\"colorbar\": {\"outlinewidth\": 0, \"ticks\": \"\"}}, \"type\": \"scatterternary\"}], \"surface\": [{\"colorbar\": {\"outlinewidth\": 0, \"ticks\": \"\"}, \"colorscale\": [[0.0, \"#0d0887\"], [0.1111111111111111, \"#46039f\"], [0.2222222222222222, \"#7201a8\"], [0.3333333333333333, \"#9c179e\"], [0.4444444444444444, \"#bd3786\"], [0.5555555555555556, \"#d8576b\"], [0.6666666666666666, \"#ed7953\"], [0.7777777777777778, \"#fb9f3a\"], [0.8888888888888888, \"#fdca26\"], [1.0, \"#f0f921\"]], \"type\": \"surface\"}], \"table\": [{\"cells\": {\"fill\": {\"color\": \"#EBF0F8\"}, \"line\": {\"color\": \"white\"}}, \"header\": {\"fill\": {\"color\": \"#C8D4E3\"}, \"line\": {\"color\": \"white\"}}, \"type\": \"table\"}]}, \"layout\": {\"annotationdefaults\": {\"arrowcolor\": \"#2a3f5f\", \"arrowhead\": 0, \"arrowwidth\": 1}, \"autotypenumbers\": \"strict\", \"coloraxis\": {\"colorbar\": {\"outlinewidth\": 0, \"ticks\": \"\"}}, \"colorscale\": {\"diverging\": [[0, \"#8e0152\"], [0.1, \"#c51b7d\"], [0.2, \"#de77ae\"], [0.3, \"#f1b6da\"], [0.4, \"#fde0ef\"], [0.5, \"#f7f7f7\"], [0.6, \"#e6f5d0\"], [0.7, \"#b8e186\"], [0.8, \"#7fbc41\"], [0.9, \"#4d9221\"], [1, \"#276419\"]], \"sequential\": [[0.0, \"#0d0887\"], [0.1111111111111111, \"#46039f\"], [0.2222222222222222, \"#7201a8\"], [0.3333333333333333, \"#9c179e\"], [0.4444444444444444, \"#bd3786\"], [0.5555555555555556, \"#d8576b\"], [0.6666666666666666, \"#ed7953\"], [0.7777777777777778, \"#fb9f3a\"], [0.8888888888888888, \"#fdca26\"], [1.0, \"#f0f921\"]], \"sequentialminus\": [[0.0, \"#0d0887\"], [0.1111111111111111, \"#46039f\"], [0.2222222222222222, \"#7201a8\"], [0.3333333333333333, \"#9c179e\"], [0.4444444444444444, \"#bd3786\"], [0.5555555555555556, \"#d8576b\"], [0.6666666666666666, \"#ed7953\"], [0.7777777777777778, \"#fb9f3a\"], [0.8888888888888888, \"#fdca26\"], [1.0, \"#f0f921\"]]}, \"colorway\": [\"#636efa\", \"#EF553B\", \"#00cc96\", \"#ab63fa\", \"#FFA15A\", \"#19d3f3\", \"#FF6692\", \"#B6E880\", \"#FF97FF\", \"#FECB52\"], \"font\": {\"color\": \"#2a3f5f\"}, \"geo\": {\"bgcolor\": \"white\", \"lakecolor\": \"white\", \"landcolor\": \"#E5ECF6\", \"showlakes\": true, \"showland\": true, \"subunitcolor\": \"white\"}, \"hoverlabel\": {\"align\": \"left\"}, \"hovermode\": \"closest\", \"mapbox\": {\"style\": \"light\"}, \"paper_bgcolor\": \"white\", \"plot_bgcolor\": \"#E5ECF6\", \"polar\": {\"angularaxis\": {\"gridcolor\": \"white\", \"linecolor\": \"white\", \"ticks\": \"\"}, \"bgcolor\": \"#E5ECF6\", \"radialaxis\": {\"gridcolor\": \"white\", \"linecolor\": \"white\", \"ticks\": \"\"}}, \"scene\": {\"xaxis\": {\"backgroundcolor\": \"#E5ECF6\", \"gridcolor\": \"white\", \"gridwidth\": 2, \"linecolor\": \"white\", \"showbackground\": true, \"ticks\": \"\", \"zerolinecolor\": \"white\"}, \"yaxis\": {\"backgroundcolor\": \"#E5ECF6\", \"gridcolor\": \"white\", \"gridwidth\": 2, \"linecolor\": \"white\", \"showbackground\": true, \"ticks\": \"\", \"zerolinecolor\": \"white\"}, \"zaxis\": {\"backgroundcolor\": \"#E5ECF6\", \"gridcolor\": \"white\", \"gridwidth\": 2, \"linecolor\": \"white\", \"showbackground\": true, \"ticks\": \"\", \"zerolinecolor\": \"white\"}}, \"shapedefaults\": {\"line\": {\"color\": \"#2a3f5f\"}}, \"ternary\": {\"aaxis\": {\"gridcolor\": \"white\", \"linecolor\": \"white\", \"ticks\": \"\"}, \"baxis\": {\"gridcolor\": \"white\", \"linecolor\": \"white\", \"ticks\": \"\"}, \"bgcolor\": \"#E5ECF6\", \"caxis\": {\"gridcolor\": \"white\", \"linecolor\": \"white\", \"ticks\": \"\"}}, \"title\": {\"x\": 0.05}, \"xaxis\": {\"automargin\": true, \"gridcolor\": \"white\", \"linecolor\": \"white\", \"ticks\": \"\", \"title\": {\"standoff\": 15}, \"zerolinecolor\": \"white\", \"zerolinewidth\": 2}, \"yaxis\": {\"automargin\": true, \"gridcolor\": \"white\", \"linecolor\": \"white\", \"ticks\": \"\", \"title\": {\"standoff\": 15}, \"zerolinecolor\": \"white\", \"zerolinewidth\": 2}}}, \"xaxis\": {\"anchor\": \"y\", \"domain\": [0.0, 1.0], \"title\": {\"text\": \"Year_Birth\"}}, \"yaxis\": {\"anchor\": \"x\", \"domain\": [0.0, 1.0], \"title\": {\"text\": \"NumStorePurchases\"}}},                        {\"responsive\": true}                    ).then(function(){\n",
       "                            \n",
       "var gd = document.getElementById('8275de25-5274-456b-a394-d09a2344516a');\n",
       "var x = new MutationObserver(function (mutations, observer) {{\n",
       "        var display = window.getComputedStyle(gd).display;\n",
       "        if (!display || display === 'none') {{\n",
       "            console.log([gd, 'removed!']);\n",
       "            Plotly.purge(gd);\n",
       "            observer.disconnect();\n",
       "        }}\n",
       "}});\n",
       "\n",
       "// Listen for the removal of the full notebook cells\n",
       "var notebookContainer = gd.closest('#notebook-container');\n",
       "if (notebookContainer) {{\n",
       "    x.observe(notebookContainer, {childList: true});\n",
       "}}\n",
       "\n",
       "// Listen for the clearing of the current output cell\n",
       "var outputEl = gd.closest('.output');\n",
       "if (outputEl) {{\n",
       "    x.observe(outputEl, {childList: true});\n",
       "}}\n",
       "\n",
       "                        })                };                });            </script>        </div>"
      ]
     },
     "metadata": {},
     "output_type": "display_data"
    }
   ],
   "source": [
    "px.bar(A , x = 'Year_Birth' , y = 'NumStorePurchases')"
   ]
  },
  {
   "cell_type": "markdown",
   "metadata": {},
   "source": [
    "4. Income"
   ]
  },
  {
   "cell_type": "code",
   "execution_count": 40,
   "metadata": {},
   "outputs": [
    {
     "data": {
      "text/html": [
       "<div>\n",
       "<style scoped>\n",
       "    .dataframe tbody tr th:only-of-type {\n",
       "        vertical-align: middle;\n",
       "    }\n",
       "\n",
       "    .dataframe tbody tr th {\n",
       "        vertical-align: top;\n",
       "    }\n",
       "\n",
       "    .dataframe thead th {\n",
       "        text-align: right;\n",
       "    }\n",
       "</style>\n",
       "<table border=\"1\" class=\"dataframe\">\n",
       "  <thead>\n",
       "    <tr style=\"text-align: right;\">\n",
       "      <th></th>\n",
       "      <th>Income</th>\n",
       "      <th>NumStorePurchases</th>\n",
       "    </tr>\n",
       "  </thead>\n",
       "  <tbody>\n",
       "    <tr>\n",
       "      <th>0</th>\n",
       "      <td>1730.0</td>\n",
       "      <td>0</td>\n",
       "    </tr>\n",
       "    <tr>\n",
       "      <th>1</th>\n",
       "      <td>2447.0</td>\n",
       "      <td>0</td>\n",
       "    </tr>\n",
       "    <tr>\n",
       "      <th>2</th>\n",
       "      <td>3502.0</td>\n",
       "      <td>0</td>\n",
       "    </tr>\n",
       "    <tr>\n",
       "      <th>3</th>\n",
       "      <td>4023.0</td>\n",
       "      <td>0</td>\n",
       "    </tr>\n",
       "    <tr>\n",
       "      <th>4</th>\n",
       "      <td>4428.0</td>\n",
       "      <td>0</td>\n",
       "    </tr>\n",
       "    <tr>\n",
       "      <th>...</th>\n",
       "      <td>...</td>\n",
       "      <td>...</td>\n",
       "    </tr>\n",
       "    <tr>\n",
       "      <th>1967</th>\n",
       "      <td>157146.0</td>\n",
       "      <td>0</td>\n",
       "    </tr>\n",
       "    <tr>\n",
       "      <th>1968</th>\n",
       "      <td>157243.0</td>\n",
       "      <td>0</td>\n",
       "    </tr>\n",
       "    <tr>\n",
       "      <th>1969</th>\n",
       "      <td>157733.0</td>\n",
       "      <td>1</td>\n",
       "    </tr>\n",
       "    <tr>\n",
       "      <th>1970</th>\n",
       "      <td>160803.0</td>\n",
       "      <td>1</td>\n",
       "    </tr>\n",
       "    <tr>\n",
       "      <th>1971</th>\n",
       "      <td>162397.0</td>\n",
       "      <td>1</td>\n",
       "    </tr>\n",
       "  </tbody>\n",
       "</table>\n",
       "<p>1972 rows × 2 columns</p>\n",
       "</div>"
      ],
      "text/plain": [
       "        Income  NumStorePurchases\n",
       "0       1730.0                  0\n",
       "1       2447.0                  0\n",
       "2       3502.0                  0\n",
       "3       4023.0                  0\n",
       "4       4428.0                  0\n",
       "...        ...                ...\n",
       "1967  157146.0                  0\n",
       "1968  157243.0                  0\n",
       "1969  157733.0                  1\n",
       "1970  160803.0                  1\n",
       "1971  162397.0                  1\n",
       "\n",
       "[1972 rows x 2 columns]"
      ]
     },
     "execution_count": 40,
     "metadata": {},
     "output_type": "execute_result"
    }
   ],
   "source": [
    "B = df.groupby('Income').sum()['NumStorePurchases'].reset_index()\n",
    "\n",
    "B"
   ]
  },
  {
   "cell_type": "code",
   "execution_count": 41,
   "metadata": {},
   "outputs": [
    {
     "data": {
      "application/vnd.plotly.v1+json": {
       "config": {
        "plotlyServerURL": "https://plot.ly"
       },
       "data": [
        {
         "hovertemplate": "Income=%{x}<br>NumStorePurchases=%{y}<extra></extra>",
         "legendgroup": "",
         "marker": {
          "color": "#636efa",
          "symbol": "circle"
         },
         "mode": "markers",
         "name": "",
         "showlegend": false,
         "type": "scattergl",
         "x": [
          1730,
          2447,
          3502,
          4023,
          4428,
          4861,
          5305,
          5648,
          6560,
          6835,
          7144,
          7500,
          8028,
          8820,
          8940,
          9255,
          9548,
          9722,
          10245,
          10404,
          10979,
          11012,
          11448,
          12393,
          12571,
          13084,
          13260,
          13533,
          13624,
          13672,
          13724,
          14045,
          14188,
          14421,
          14515,
          14661,
          14796,
          14849,
          14906,
          14918,
          15033,
          15038,
          15056,
          15072,
          15253,
          15287,
          15315,
          15345,
          15716,
          15759,
          15862,
          16005,
          16014,
          16185,
          16248,
          16269,
          16529,
          16531,
          16581,
          16626,
          16653,
          16813,
          16860,
          16927,
          17003,
          17117,
          17144,
          17148,
          17256,
          17323,
          17345,
          17459,
          17487,
          17649,
          17688,
          18100,
          18169,
          18222,
          18227,
          18351,
          18358,
          18393,
          18492,
          18589,
          18690,
          18701,
          18746,
          18793,
          18890,
          18929,
          18978,
          18988,
          19107,
          19329,
          19346,
          19414,
          19419,
          19444,
          19485,
          19510,
          19514,
          19656,
          19740,
          19789,
          19986,
          20130,
          20180,
          20193,
          20194,
          20425,
          20427,
          20491,
          20518,
          20559,
          20587,
          20895,
          20981,
          21024,
          21059,
          21063,
          21255,
          21282,
          21355,
          21359,
          21474,
          21645,
          21675,
          21840,
          21846,
          21888,
          21918,
          21955,
          21994,
          22010,
          22063,
          22070,
          22108,
          22123,
          22148,
          22212,
          22263,
          22280,
          22304,
          22327,
          22390,
          22419,
          22434,
          22448,
          22507,
          22518,
          22554,
          22574,
          22585,
          22634,
          22669,
          22682,
          22701,
          22775,
          22804,
          22944,
          22979,
          23091,
          23148,
          23162,
          23228,
          23272,
          23295,
          23331,
          23442,
          23477,
          23478,
          23529,
          23536,
          23539,
          23559,
          23616,
          23626,
          23661,
          23718,
          23724,
          23748,
          23763,
          23830,
          23910,
          23957,
          23976,
          24027,
          24072,
          24163,
          24206,
          24221,
          24279,
          24336,
          24367,
          24401,
          24434,
          24480,
          24570,
          24594,
          24639,
          24645,
          24683,
          24711,
          24762,
          24882,
          24884,
          25008,
          25130,
          25176,
          25224,
          25252,
          25271,
          25293,
          25315,
          25358,
          25410,
          25443,
          25509,
          25545,
          25707,
          25721,
          25804,
          25818,
          25851,
          25930,
          25959,
          25965,
          26067,
          26091,
          26095,
          26150,
          26224,
          26228,
          26290,
          26304,
          26326,
          26487,
          26490,
          26518,
          26576,
          26642,
          26646,
          26751,
          26759,
          26816,
          26850,
          26868,
          26872,
          26877,
          26887,
          26907,
          26954,
          26997,
          27038,
          27071,
          27100,
          27116,
          27159,
          27161,
          27190,
          27203,
          27213,
          27215,
          27238,
          27242,
          27244,
          27255,
          27421,
          27450,
          27469,
          27573,
          27590,
          27683,
          27733,
          27803,
          27889,
          27922,
          27938,
          27943,
          28071,
          28072,
          28087,
          28164,
          28249,
          28320,
          28332,
          28359,
          28389,
          28420,
          28427,
          28440,
          28442,
          28457,
          28510,
          28520,
          28567,
          28587,
          28647,
          28691,
          28718,
          28764,
          28769,
          28839,
          28973,
          29009,
          29103,
          29187,
          29236,
          29298,
          29315,
          29435,
          29440,
          29478,
          29543,
          29548,
          29604,
          29672,
          29732,
          29760,
          29791,
          29819,
          29938,
          29999,
          30015,
          30023,
          30081,
          30093,
          30096,
          30168,
          30261,
          30279,
          30298,
          30351,
          30368,
          30372,
          30390,
          30396,
          30467,
          30477,
          30507,
          30522,
          30523,
          30538,
          30545,
          30560,
          30630,
          30631,
          30675,
          30732,
          30753,
          30772,
          30801,
          30822,
          30828,
          30833,
          30843,
          30899,
          30983,
          30992,
          31056,
          31086,
          31089,
          31158,
          31160,
          31163,
          31353,
          31385,
          31395,
          31454,
          31497,
          31535,
          31560,
          31590,
          31605,
          31615,
          31626,
          31632,
          31686,
          31761,
          31788,
          31814,
          31859,
          31878,
          31880,
          31907,
          31928,
          32011,
          32144,
          32146,
          32173,
          32218,
          32233,
          32300,
          32303,
          32313,
          32414,
          32474,
          32557,
          32583,
          32632,
          32644,
          32727,
          32765,
          32871,
          32880,
          32889,
          32892,
          32952,
          33039,
          33051,
          33168,
          33178,
          33181,
          33183,
          33228,
          33235,
          33249,
          33279,
          33316,
          33378,
          33402,
          33419,
          33438,
          33444,
          33454,
          33456,
          33462,
          33471,
          33562,
          33564,
          33569,
          33581,
          33585,
          33590,
          33622,
          33629,
          33697,
          33762,
          33812,
          33955,
          33986,
          33996,
          34026,
          34043,
          34053,
          34074,
          34109,
          34176,
          34213,
          34230,
          34242,
          34320,
          34350,
          34377,
          34380,
          34412,
          34421,
          34445,
          34469,
          34487,
          34529,
          34554,
          34578,
          34587,
          34596,
          34600,
          34633,
          34704,
          34728,
          34738,
          34824,
          34838,
          34853,
          34916,
          34935,
          34941,
          34961,
          34968,
          34984,
          35178,
          35196,
          35246,
          35322,
          35340,
          35388,
          35416,
          35441,
          35523,
          35544,
          35641,
          35682,
          35684,
          35688,
          35701,
          35704,
          35765,
          35788,
          35790,
          35791,
          35797,
          35860,
          35876,
          35893,
          35924,
          35946,
          36026,
          36038,
          36065,
          36075,
          36108,
          36130,
          36138,
          36143,
          36145,
          36230,
          36262,
          36273,
          36283,
          36301,
          36317,
          36408,
          36443,
          36550,
          36627,
          36634,
          36640,
          36663,
          36715,
          36732,
          36736,
          36778,
          36781,
          36790,
          36802,
          36807,
          36864,
          36921,
          36927,
          36930,
          36947,
          36957,
          36959,
          36975,
          36997,
          37040,
          37054,
          37070,
          37085,
          37087,
          37126,
          37150,
          37155,
          37235,
          37244,
          37284,
          37292,
          37334,
          37368,
          37395,
          37401,
          37406,
          37509,
          37633,
          37697,
          37716,
          37717,
          37758,
          37760,
          37774,
          37787,
          37859,
          37929,
          37971,
          38054,
          38097,
          38136,
          38175,
          38179,
          38196,
          38197,
          38200,
          38201,
          38232,
          38236,
          38285,
          38360,
          38361,
          38410,
          38415,
          38443,
          38452,
          38508,
          38513,
          38547,
          38557,
          38576,
          38578,
          38590,
          38593,
          38620,
          38643,
          38680,
          38683,
          38702,
          38725,
          38741,
          38808,
          38823,
          38829,
          38853,
          38872,
          38887,
          38946,
          38961,
          38988,
          38998,
          39062,
          39146,
          39190,
          39228,
          39356,
          39435,
          39453,
          39548,
          39552,
          39660,
          39665,
          39684,
          39722,
          39747,
          39763,
          39767,
          39771,
          39791,
          39858,
          39898,
          39922,
          39996,
          40049,
          40059,
          40101,
          40211,
          40233,
          40246,
          40304,
          40321,
          40344,
          40442,
          40451,
          40464,
          40479,
          40521,
          40548,
          40590,
          40637,
          40662,
          40689,
          40706,
          40737,
          40760,
          40780,
          40794,
          40800,
          40851,
          40887,
          41003,
          41014,
          41020,
          41021,
          41039,
          41120,
          41124,
          41145,
          41154,
          41275,
          41335,
          41411,
          41437,
          41443,
          41452,
          41473,
          41551,
          41580,
          41638,
          41644,
          41658,
          41713,
          41728,
          41769,
          41850,
          41883,
          41967,
          41986,
          42000,
          42011,
          42014,
          42021,
          42033,
          42081,
          42160,
          42162,
          42169,
          42192,
          42207,
          42213,
          42231,
          42243,
          42315,
          42373,
          42386,
          42387,
          42394,
          42395,
          42403,
          42429,
          42473,
          42523,
          42554,
          42557,
          42564,
          42586,
          42607,
          42618,
          42664,
          42670,
          42691,
          42693,
          42710,
          42720,
          42731,
          42767,
          42769,
          42835,
          42873,
          42997,
          43018,
          43020,
          43050,
          43057,
          43140,
          43142,
          43185,
          43263,
          43269,
          43300,
          43322,
          43456,
          43462,
          43482,
          43586,
          43602,
          43638,
          43641,
          43776,
          43783,
          43795,
          43815,
          43824,
          43974,
          44010,
          44051,
          44078,
          44124,
          44155,
          44159,
          44213,
          44267,
          44300,
          44319,
          44322,
          44325,
          44359,
          44375,
          44377,
          44392,
          44393,
          44421,
          44503,
          44511,
          44512,
          44529,
          44551,
          44602,
          44635,
          44689,
          44794,
          44802,
          44911,
          44931,
          44953,
          44964,
          44989,
          45006,
          45057,
          45068,
          45072,
          45143,
          45146,
          45160,
          45183,
          45203,
          45204,
          45207,
          45503,
          45576,
          45579,
          45684,
          45688,
          45736,
          45759,
          45837,
          45889,
          45894,
          45903,
          45906,
          45921,
          45938,
          45989,
          46014,
          46015,
          46049,
          46053,
          46086,
          46094,
          46097,
          46098,
          46102,
          46106,
          46107,
          46149,
          46231,
          46310,
          46344,
          46374,
          46377,
          46390,
          46423,
          46463,
          46524,
          46610,
          46681,
          46692,
          46734,
          46757,
          46772,
          46779,
          46831,
          46854,
          46891,
          46904,
          46910,
          46923,
          46931,
          46984,
          46998,
          47009,
          47025,
          47111,
          47139,
          47175,
          47320,
          47352,
          47353,
          47472,
          47570,
          47682,
          47691,
          47703,
          47743,
          47808,
          47821,
          47823,
          47850,
          47889,
          47916,
          47958,
          48006,
          48070,
          48150,
          48178,
          48186,
          48192,
          48195,
          48240,
          48330,
          48432,
          48526,
          48686,
          48699,
          48721,
          48726,
          48752,
          48767,
          48789,
          48794,
          48799,
          48877,
          48904,
          48918,
          48920,
          48948,
          48985,
          49090,
          49094,
          49096,
          49118,
          49154,
          49160,
          49166,
          49187,
          49269,
          49389,
          49413,
          49431,
          49476,
          49494,
          49505,
          49514,
          49544,
          49572,
          49605,
          49618,
          49638,
          49667,
          49669,
          49678,
          49681,
          49767,
          49854,
          49912,
          49967,
          49980,
          50002,
          50014,
          50116,
          50127,
          50150,
          50183,
          50200,
          50272,
          50300,
          50334,
          50353,
          50387,
          50388,
          50437,
          50447,
          50501,
          50520,
          50523,
          50611,
          50616,
          50664,
          50725,
          50729,
          50737,
          50785,
          50870,
          50898,
          50943,
          50965,
          51012,
          51039,
          51111,
          51124,
          51141,
          51148,
          51195,
          51250,
          51267,
          51287,
          51315,
          51369,
          51373,
          51390,
          51411,
          51412,
          51479,
          51518,
          51529,
          51537,
          51563,
          51569,
          51650,
          51651,
          51717,
          51766,
          51813,
          51876,
          51948,
          51983,
          52034,
          52074,
          52117,
          52157,
          52190,
          52195,
          52203,
          52247.25135379061,
          52278,
          52332,
          52413,
          52513,
          52531,
          52569,
          52597,
          52614,
          52750,
          52845,
          52852,
          52854,
          52869,
          52914,
          52973,
          53034,
          53083,
          53103,
          53154,
          53172,
          53187,
          53201,
          53204,
          53230,
          53233,
          53253,
          53312,
          53359,
          53367,
          53374,
          53378,
          53537,
          53593,
          53653,
          53700,
          53761,
          53790,
          53843,
          53858,
          53863,
          53977,
          54006,
          54058,
          54072,
          54108,
          54111,
          54132,
          54137,
          54162,
          54165,
          54178,
          54197,
          54198,
          54210,
          54222,
          54233,
          54237,
          54252,
          54342,
          54348,
          54356,
          54386,
          54414,
          54432,
          54450,
          54456,
          54466,
          54549,
          54591,
          54603,
          54690,
          54693,
          54730,
          54753,
          54803,
          54809,
          54880,
          54959,
          54984,
          54998,
          55012,
          55158,
          55212,
          55239,
          55249,
          55250,
          55260,
          55267,
          55282,
          55284,
          55357,
          55375,
          55412,
          55424,
          55434,
          55517,
          55521,
          55563,
          55593,
          55614,
          55635,
          55686,
          55707,
          55759,
          55761,
          55801,
          55842,
          55914,
          55951,
          55954,
          55956,
          56046,
          56067,
          56129,
          56181,
          56223,
          56242,
          56243,
          56253,
          56320,
          56337,
          56386,
          56534,
          56551,
          56559,
          56575,
          56628,
          56715,
          56721,
          56775,
          56796,
          56850,
          56937,
          56939,
          56962,
          56981,
          57036,
          57045,
          57072,
          57091,
          57100,
          57107,
          57113,
          57136,
          57183,
          57236,
          57247,
          57288,
          57304,
          57333,
          57338,
          57420,
          57513,
          57530,
          57537,
          57642,
          57705,
          57731,
          57744,
          57811,
          57867,
          57906,
          57912,
          57937,
          57954,
          57957,
          57959,
          57967,
          58025,
          58086,
          58113,
          58116,
          58138,
          58217,
          58275,
          58293,
          58308,
          58330,
          58350,
          58398,
          58401,
          58482,
          58494,
          58512,
          58554,
          58582,
          58597,
          58607,
          58646,
          58656,
          58684,
          58692,
          58710,
          58821,
          58917,
          59041,
          59052,
          59060,
          59062,
          59111,
          59184,
          59235,
          59247,
          59292,
          59304,
          59354,
          59385,
          59412,
          59432,
          59462,
          59481,
          59594,
          59601,
          59666,
          59686,
          59754,
          59809,
          59821,
          59868,
          59892,
          59925,
          59973,
          60000,
          60033,
          60093,
          60152,
          60161,
          60199,
          60200,
          60208,
          60230,
          60432,
          60474,
          60482,
          60491,
          60504,
          60544,
          60554,
          60585,
          60597,
          60631,
          60689,
          60714,
          60839,
          60894,
          60896,
          60905,
          60934,
          61010,
          61014,
          61064,
          61074,
          61180,
          61209,
          61223,
          61250,
          61278,
          61284,
          61286,
          61314,
          61331,
          61346,
          61416,
          61456,
          61467,
          61482,
          61559,
          61618,
          61671,
          61787,
          61794,
          61798,
          61823,
          61825,
          61839,
          61872,
          61905,
          61917,
          61923,
          61996,
          62000,
          62010,
          62058,
          62061,
          62159,
          62187,
          62204,
          62220,
          62307,
          62335,
          62450,
          62466,
          62499,
          62503,
          62513,
          62535,
          62551,
          62568,
          62637,
          62670,
          62694,
          62710,
          62745,
          62772,
          62807,
          62820,
          62845,
          62847,
          62859,
          62882,
          62905,
          62972,
          62981,
          62994,
          62998,
          63033,
          63120,
          63159,
          63206,
          63207,
          63211,
          63246,
          63285,
          63342,
          63381,
          63404,
          63516,
          63564,
          63684,
          63693,
          63777,
          63810,
          63841,
          63855,
          63887,
          63915,
          63943,
          63967,
          63972,
          63998,
          64014,
          64090,
          64100,
          64108,
          64140,
          64176,
          64191,
          64260,
          64325,
          64355,
          64413,
          64449,
          64474,
          64497,
          64504,
          64509,
          64587,
          64590,
          64713,
          64722,
          64795,
          64813,
          64831,
          64849,
          64857,
          64866,
          64892,
          64950,
          64961,
          65031,
          65073,
          65104,
          65106,
          65148,
          65169,
          65176,
          65196,
          65210,
          65220,
          65275,
          65295,
          65308,
          65316,
          65324,
          65333,
          65352,
          65370,
          65463,
          65486,
          65487,
          65488,
          65492,
          65526,
          65569,
          65640,
          65665,
          65685,
          65695,
          65704,
          65706,
          65735,
          65747,
          65748,
          65777,
          65808,
          65814,
          65819,
          65846,
          65968,
          65991,
          66000,
          66033,
          66294,
          66303,
          66313,
          66334,
          66373,
          66375,
          66426,
          66465,
          66476,
          66480,
          66503,
          66565,
          66582,
          66636,
          66653,
          66664,
          66726,
          66731,
          66825,
          66835,
          66886,
          66951,
          66973,
          66991,
          67023,
          67046,
          67087,
          67131,
          67225,
          67267,
          67272,
          67309,
          67353,
          67369,
          67381,
          67384,
          67419,
          67430,
          67432,
          67433,
          67445,
          67472,
          67506,
          67536,
          67546,
          67605,
          67680,
          67716,
          67786,
          67893,
          67911,
          68092,
          68117,
          68118,
          68126,
          68142,
          68148,
          68274,
          68281,
          68316,
          68352,
          68397,
          68462,
          68487,
          68627,
          68655,
          68657,
          68682,
          68695,
          68743,
          68805,
          69016,
          69063,
          69084,
          69096,
          69098,
          69109,
          69139,
          69142,
          69209,
          69245,
          69263,
          69267,
          69283,
          69372,
          69389,
          69401,
          69476,
          69508,
          69520,
          69627,
          69661,
          69674,
          69702,
          69719,
          69755,
          69759,
          69805,
          69867,
          69882,
          69901,
          69930,
          69932,
          69969,
          70038,
          70044,
          70053,
          70091,
          70116,
          70123,
          70165,
          70179,
          70287,
          70300,
          70321,
          70337,
          70356,
          70379,
          70421,
          70440,
          70503,
          70515,
          70545,
          70566,
          70596,
          70617,
          70638,
          70643,
          70647,
          70666,
          70713,
          70777,
          70792,
          70829,
          70844,
          70886,
          70893,
          70924,
          70932,
          70951,
          70971,
          71022,
          71107,
          71113,
          71128,
          71163,
          71232,
          71322,
          71367,
          71391,
          71427,
          71434,
          71466,
          71488,
          71499,
          71604,
          71613,
          71626,
          71670,
          71691,
          71706,
          71796,
          71819,
          71847,
          71853,
          71855,
          71866,
          71952,
          71964,
          71965,
          71969,
          72025,
          72063,
          72066,
          72071,
          72099,
          72117,
          72159,
          72190,
          72217,
          72228,
          72258,
          72282,
          72298,
          72309,
          72335,
          72354,
          72460,
          72504,
          72550,
          72570,
          72635,
          72643,
          72679,
          72828,
          72903,
          72905,
          72906,
          72940,
          72967,
          72968,
          73059,
          73113,
          73170,
          73356,
          73395,
          73448,
          73450,
          73454,
          73455,
          73538,
          73687,
          73691,
          73705,
          73803,
          73807,
          73892,
          73926,
          74004,
          74068,
          74116,
          74165,
          74190,
          74214,
          74250,
          74268,
          74290,
          74293,
          74485,
          74538,
          74637,
          74716,
          74805,
          74806,
          74854,
          74859,
          74881,
          74918,
          74985,
          75012,
          75027,
          75032,
          75072,
          75114,
          75127,
          75154,
          75236,
          75251,
          75261,
          75276,
          75278,
          75283,
          75315,
          75330,
          75342,
          75345,
          75433,
          75437,
          75484,
          75507,
          75693,
          75702,
          75759,
          75774,
          75777,
          75794,
          75825,
          75865,
          75903,
          75922,
          76005,
          76045,
          76068,
          76081,
          76140,
          76234,
          76320,
          76412,
          76445,
          76467,
          76532,
          76542,
          76618,
          76624,
          76630,
          76653,
          76773,
          76800,
          76842,
          76982,
          76995,
          76998,
          77027,
          77037,
          77044,
          77142,
          77226,
          77297,
          77298,
          77343,
          77353,
          77376,
          77382,
          77437,
          77457,
          77520,
          77568,
          77583,
          77598,
          77610,
          77622,
          77632,
          77766,
          77845,
          77863,
          77870,
          77882,
          77972,
          77981,
          78028,
          78041,
          78075,
          78093,
          78128,
          78285,
          78331,
          78353,
          78394,
          78416,
          78420,
          78427,
          78468,
          78497,
          78499,
          78569,
          78579,
          78618,
          78642,
          78687,
          78710,
          78789,
          78825,
          78901,
          78931,
          78939,
          78952,
          79143,
          79146,
          79174,
          79205,
          79244,
          79410,
          79419,
          79456,
          79529,
          79530,
          79593,
          79607,
          79632,
          79689,
          79734,
          79761,
          79800,
          79803,
          79823,
          79865,
          79908,
          79930,
          79941,
          79946,
          80011,
          80067,
          80124,
          80134,
          80141,
          80144,
          80184,
          80317,
          80336,
          80360,
          80395,
          80398,
          80427,
          80573,
          80589,
          80617,
          80685,
          80695,
          80739,
          80763,
          80812,
          80872,
          80910,
          80950,
          80952,
          80982,
          80995,
          81044,
          81051,
          81168,
          81169,
          81205,
          81217,
          81246,
          81300,
          81320,
          81361,
          81380,
          81574,
          81657,
          81698,
          81702,
          81741,
          81795,
          81843,
          81929,
          81975,
          82014,
          82017,
          82025,
          82032,
          82072,
          82122,
          82170,
          82224,
          82326,
          82332,
          82333,
          82347,
          82384,
          82427,
          82460,
          82497,
          82504,
          82571,
          82576,
          82582,
          82584,
          82623,
          82657,
          82716,
          82733,
          82800,
          83003,
          83033,
          83145,
          83151,
          83257,
          83273,
          83443,
          83512,
          83528,
          83664,
          83715,
          83790,
          83829,
          83837,
          83844,
          83891,
          83917,
          84117,
          84169,
          84196,
          84219,
          84460,
          84574,
          84618,
          84835,
          84865,
          84906,
          84953,
          85072,
          85431,
          85485,
          85606,
          85620,
          85683,
          85693,
          85696,
          85710,
          85738,
          85844,
          86037,
          86111,
          86358,
          86424,
          86429,
          86580,
          86610,
          86718,
          86836,
          86857,
          86979,
          87000,
          87171,
          87188,
          87195,
          87305,
          87679,
          87771,
          88097,
          88194,
          88325,
          88347,
          88420,
          89058,
          89120,
          89572,
          89616,
          89694,
          89891,
          90000,
          90226,
          90247,
          90273,
          90300,
          90369,
          90638,
          90687,
          90765,
          90842,
          90933,
          91065,
          91172,
          91249,
          91700,
          91712,
          91820,
          92163,
          92344,
          92491,
          92533,
          92556,
          92859,
          92910,
          92955,
          93027,
          93404,
          93790,
          94384,
          94472,
          94642,
          94871,
          95169,
          95529,
          96547,
          96843,
          96876,
          98777,
          101970,
          102160,
          102692,
          105471,
          113734,
          153924,
          156924,
          157146,
          157243,
          157733,
          160803,
          162397
         ],
         "xaxis": "x",
         "y": [
          0,
          0,
          0,
          0,
          0,
          0,
          0,
          0,
          1,
          1,
          1,
          32,
          0,
          3,
          3,
          2,
          3,
          3,
          2,
          4,
          6,
          2,
          2,
          3,
          3,
          3,
          3,
          3,
          3,
          3,
          2,
          3,
          4,
          2,
          3,
          3,
          3,
          4,
          3,
          3,
          3,
          2,
          3,
          3,
          3,
          4,
          8,
          2,
          4,
          2,
          3,
          2,
          4,
          2,
          3,
          3,
          3,
          3,
          3,
          3,
          3,
          3,
          3,
          4,
          4,
          3,
          8,
          3,
          2,
          3,
          2,
          2,
          2,
          3,
          2,
          3,
          2,
          3,
          2,
          3,
          4,
          3,
          2,
          3,
          6,
          8,
          3,
          4,
          2,
          12,
          3,
          3,
          3,
          3,
          3,
          3,
          3,
          2,
          2,
          3,
          4,
          3,
          3,
          3,
          6,
          6,
          8,
          4,
          3,
          6,
          2,
          2,
          2,
          3,
          4,
          3,
          2,
          4,
          3,
          3,
          4,
          2,
          2,
          3,
          2,
          3,
          3,
          3,
          3,
          2,
          3,
          3,
          6,
          3,
          3,
          2,
          3,
          3,
          3,
          4,
          3,
          2,
          2,
          3,
          2,
          4,
          3,
          3,
          4,
          2,
          4,
          6,
          2,
          4,
          2,
          4,
          3,
          4,
          4,
          3,
          2,
          3,
          3,
          3,
          7,
          3,
          2,
          8,
          3,
          4,
          3,
          2,
          3,
          4,
          3,
          3,
          3,
          3,
          2,
          3,
          3,
          3,
          3,
          3,
          3,
          3,
          3,
          2,
          3,
          3,
          3,
          3,
          2,
          2,
          6,
          2,
          4,
          4,
          6,
          4,
          2,
          4,
          3,
          2,
          4,
          3,
          3,
          3,
          2,
          3,
          2,
          2,
          4,
          3,
          3,
          4,
          3,
          6,
          3,
          3,
          2,
          3,
          2,
          3,
          2,
          2,
          3,
          3,
          6,
          3,
          3,
          3,
          2,
          4,
          2,
          3,
          3,
          10,
          3,
          2,
          3,
          4,
          2,
          3,
          3,
          4,
          2,
          2,
          6,
          3,
          6,
          2,
          5,
          3,
          3,
          6,
          3,
          3,
          3,
          2,
          2,
          4,
          4,
          3,
          3,
          2,
          3,
          6,
          3,
          3,
          4,
          2,
          4,
          3,
          4,
          2,
          3,
          4,
          3,
          5,
          3,
          2,
          4,
          6,
          3,
          4,
          2,
          2,
          2,
          6,
          3,
          4,
          4,
          4,
          2,
          3,
          4,
          2,
          6,
          3,
          2,
          4,
          3,
          5,
          3,
          3,
          3,
          3,
          2,
          4,
          2,
          4,
          3,
          2,
          2,
          3,
          6,
          2,
          8,
          3,
          3,
          3,
          4,
          4,
          3,
          3,
          3,
          6,
          4,
          3,
          6,
          3,
          4,
          3,
          6,
          3,
          2,
          2,
          3,
          4,
          9,
          2,
          4,
          3,
          6,
          3,
          2,
          3,
          4,
          3,
          2,
          3,
          3,
          4,
          3,
          2,
          3,
          3,
          6,
          3,
          2,
          4,
          3,
          3,
          6,
          4,
          2,
          3,
          3,
          8,
          2,
          3,
          3,
          4,
          3,
          2,
          2,
          3,
          4,
          4,
          3,
          5,
          4,
          2,
          6,
          4,
          4,
          3,
          4,
          3,
          3,
          2,
          3,
          4,
          4,
          3,
          2,
          3,
          2,
          8,
          6,
          5,
          4,
          3,
          3,
          3,
          6,
          3,
          8,
          8,
          4,
          3,
          2,
          3,
          3,
          3,
          6,
          3,
          8,
          4,
          3,
          4,
          4,
          2,
          4,
          3,
          3,
          4,
          4,
          3,
          2,
          2,
          4,
          2,
          4,
          4,
          2,
          2,
          3,
          5,
          3,
          6,
          6,
          2,
          3,
          3,
          3,
          11,
          2,
          2,
          3,
          2,
          3,
          2,
          3,
          3,
          4,
          8,
          4,
          3,
          3,
          3,
          2,
          3,
          4,
          10,
          2,
          3,
          2,
          3,
          4,
          4,
          3,
          3,
          8,
          3,
          3,
          5,
          3,
          4,
          10,
          3,
          4,
          3,
          3,
          5,
          3,
          3,
          3,
          4,
          3,
          3,
          8,
          3,
          4,
          4,
          3,
          3,
          6,
          3,
          8,
          3,
          5,
          3,
          3,
          3,
          3,
          3,
          4,
          4,
          4,
          4,
          2,
          3,
          4,
          3,
          3,
          3,
          3,
          4,
          2,
          3,
          5,
          3,
          5,
          2,
          3,
          4,
          4,
          2,
          3,
          2,
          2,
          3,
          2,
          4,
          3,
          3,
          4,
          4,
          2,
          3,
          3,
          4,
          5,
          3,
          16,
          3,
          8,
          2,
          6,
          4,
          2,
          2,
          6,
          5,
          4,
          2,
          3,
          6,
          2,
          4,
          3,
          6,
          3,
          4,
          6,
          15,
          3,
          3,
          3,
          5,
          3,
          3,
          2,
          2,
          4,
          3,
          4,
          3,
          2,
          5,
          3,
          4,
          3,
          4,
          6,
          9,
          3,
          3,
          6,
          5,
          5,
          2,
          3,
          3,
          6,
          2,
          3,
          6,
          3,
          3,
          6,
          4,
          4,
          3,
          4,
          3,
          2,
          3,
          3,
          3,
          12,
          2,
          6,
          6,
          3,
          4,
          4,
          3,
          2,
          2,
          3,
          3,
          5,
          3,
          3,
          2,
          3,
          4,
          2,
          7,
          3,
          4,
          4,
          8,
          12,
          2,
          9,
          3,
          6,
          2,
          5,
          2,
          3,
          6,
          5,
          4,
          2,
          8,
          3,
          2,
          4,
          6,
          3,
          3,
          10,
          4,
          2,
          3,
          5,
          5,
          3,
          2,
          3,
          8,
          2,
          4,
          3,
          5,
          3,
          4,
          3,
          4,
          3,
          8,
          4,
          3,
          5,
          2,
          3,
          5,
          3,
          3,
          3,
          2,
          4,
          2,
          7,
          3,
          3,
          3,
          4,
          22,
          4,
          12,
          6,
          2,
          4,
          4,
          3,
          3,
          3,
          5,
          7,
          3,
          3,
          4,
          5,
          6,
          7,
          3,
          4,
          3,
          3,
          4,
          8,
          3,
          4,
          4,
          12,
          7,
          4,
          3,
          4,
          6,
          3,
          3,
          7,
          5,
          2,
          4,
          4,
          4,
          2,
          2,
          4,
          4,
          5,
          5,
          2,
          6,
          6,
          2,
          4,
          4,
          8,
          5,
          4,
          4,
          2,
          4,
          4,
          6,
          8,
          4,
          3,
          4,
          6,
          6,
          4,
          3,
          5,
          2,
          6,
          5,
          4,
          3,
          3,
          3,
          7,
          4,
          6,
          5,
          4,
          4,
          4,
          3,
          8,
          3,
          11,
          5,
          4,
          3,
          2,
          6,
          12,
          4,
          3,
          13,
          3,
          10,
          7,
          3,
          2,
          4,
          10,
          2,
          2,
          7,
          3,
          4,
          6,
          4,
          3,
          4,
          2,
          8,
          6,
          6,
          5,
          3,
          3,
          3,
          4,
          6,
          6,
          7,
          8,
          6,
          9,
          4,
          8,
          3,
          6,
          6,
          2,
          2,
          4,
          7,
          4,
          5,
          7,
          7,
          3,
          3,
          8,
          6,
          5,
          12,
          8,
          5,
          8,
          7,
          5,
          2,
          2,
          3,
          8,
          4,
          3,
          7,
          3,
          3,
          5,
          8,
          13,
          10,
          2,
          4,
          8,
          10,
          6,
          4,
          2,
          8,
          2,
          8,
          6,
          3,
          3,
          3,
          4,
          3,
          6,
          5,
          3,
          6,
          4,
          4,
          4,
          12,
          5,
          13,
          3,
          18,
          4,
          2,
          3,
          5,
          4,
          5,
          3,
          7,
          3,
          7,
          4,
          4,
          8,
          5,
          10,
          3,
          9,
          6,
          4,
          10,
          8,
          6,
          3,
          5,
          12,
          3,
          5,
          5,
          5,
          5,
          8,
          4,
          8,
          3,
          4,
          3,
          3,
          5,
          6,
          4,
          14,
          8,
          5,
          14,
          5,
          5,
          7,
          8,
          4,
          6,
          14,
          6,
          5,
          5,
          8,
          6,
          6,
          8,
          6,
          8,
          3,
          4,
          3,
          4,
          14,
          8,
          6,
          8,
          7,
          4,
          3,
          3,
          12,
          6,
          5,
          8,
          4,
          3,
          3,
          4,
          6,
          5,
          4,
          5,
          3,
          5,
          8,
          3,
          5,
          3,
          4,
          6,
          10,
          5,
          11,
          10,
          7,
          4,
          5,
          4,
          4,
          3,
          8,
          4,
          10,
          5,
          2,
          4,
          5,
          3,
          2,
          11,
          115,
          20,
          6,
          19,
          9,
          10,
          4,
          8,
          16,
          9,
          6,
          5,
          4,
          4,
          3,
          9,
          7,
          5,
          7,
          4,
          8,
          6,
          5,
          3,
          12,
          3,
          5,
          5,
          4,
          8,
          9,
          6,
          3,
          6,
          12,
          8,
          3,
          8,
          3,
          6,
          7,
          24,
          7,
          8,
          2,
          9,
          6,
          3,
          4,
          3,
          7,
          5,
          6,
          6,
          7,
          5,
          5,
          5,
          5,
          4,
          4,
          8,
          10,
          5,
          3,
          16,
          7,
          2,
          4,
          8,
          4,
          10,
          13,
          8,
          11,
          9,
          10,
          11,
          4,
          6,
          9,
          9,
          5,
          22,
          11,
          4,
          10,
          5,
          6,
          6,
          8,
          11,
          6,
          3,
          9,
          13,
          6,
          6,
          3,
          3,
          6,
          7,
          5,
          9,
          8,
          3,
          6,
          8,
          8,
          11,
          6,
          4,
          8,
          7,
          20,
          7,
          5,
          11,
          8,
          9,
          9,
          4,
          7,
          7,
          8,
          8,
          7,
          5,
          4,
          5,
          10,
          14,
          3,
          9,
          10,
          10,
          13,
          13,
          9,
          13,
          12,
          13,
          8,
          5,
          17,
          7,
          4,
          7,
          8,
          10,
          9,
          5,
          6,
          13,
          4,
          8,
          6,
          6,
          6,
          4,
          11,
          9,
          8,
          12,
          9,
          6,
          8,
          11,
          8,
          10,
          7,
          8,
          8,
          4,
          4,
          7,
          6,
          3,
          26,
          12,
          8,
          2,
          9,
          6,
          8,
          12,
          9,
          9,
          9,
          8,
          13,
          12,
          4,
          9,
          9,
          6,
          4,
          7,
          7,
          3,
          8,
          12,
          12,
          9,
          16,
          10,
          12,
          4,
          8,
          11,
          12,
          8,
          7,
          7,
          8,
          6,
          6,
          6,
          7,
          12,
          3,
          9,
          7,
          5,
          5,
          10,
          12,
          8,
          3,
          11,
          7,
          6,
          5,
          24,
          7,
          7,
          8,
          10,
          9,
          9,
          8,
          8,
          10,
          10,
          12,
          8,
          4,
          7,
          11,
          11,
          4,
          11,
          8,
          6,
          4,
          4,
          12,
          4,
          8,
          16,
          12,
          6,
          10,
          10,
          13,
          10,
          6,
          10,
          8,
          6,
          6,
          10,
          9,
          10,
          16,
          4,
          9,
          4,
          4,
          4,
          8,
          13,
          7,
          7,
          7,
          10,
          15,
          12,
          5,
          4,
          13,
          4,
          24,
          6,
          11,
          10,
          8,
          4,
          5,
          5,
          13,
          7,
          12,
          11,
          11,
          24,
          12,
          20,
          4,
          6,
          6,
          8,
          6,
          13,
          4,
          5,
          8,
          9,
          8,
          6,
          6,
          7,
          12,
          13,
          10,
          26,
          4,
          7,
          7,
          8,
          18,
          6,
          24,
          27,
          13,
          12,
          12,
          6,
          12,
          10,
          11,
          10,
          4,
          6,
          11,
          6,
          8,
          13,
          4,
          5,
          12,
          5,
          12,
          10,
          9,
          4,
          9,
          4,
          10,
          7,
          11,
          12,
          10,
          5,
          6,
          20,
          7,
          12,
          10,
          4,
          13,
          5,
          14,
          13,
          7,
          13,
          6,
          11,
          8,
          7,
          13,
          13,
          12,
          5,
          18,
          8,
          8,
          13,
          9,
          10,
          12,
          6,
          13,
          16,
          10,
          8,
          8,
          18,
          10,
          10,
          12,
          6,
          6,
          10,
          6,
          5,
          10,
          10,
          6,
          7,
          10,
          5,
          7,
          5,
          11,
          12,
          5,
          20,
          5,
          10,
          12,
          21,
          7,
          6,
          9,
          9,
          9,
          12,
          12,
          4,
          6,
          6,
          26,
          7,
          7,
          12,
          6,
          13,
          4,
          8,
          12,
          11,
          5,
          12,
          9,
          12,
          10,
          9,
          5,
          8,
          12,
          4,
          13,
          36,
          7,
          6,
          11,
          10,
          6,
          8,
          13,
          6,
          9,
          22,
          10,
          4,
          8,
          5,
          7,
          6,
          5,
          13,
          10,
          9,
          5,
          8,
          26,
          6,
          22,
          9,
          20,
          14,
          13,
          7,
          13,
          5,
          26,
          10,
          9,
          14,
          10,
          7,
          6,
          10,
          7,
          5,
          13,
          6,
          12,
          5,
          4,
          11,
          5,
          11,
          12,
          10,
          10,
          5,
          12,
          5,
          11,
          8,
          9,
          10,
          12,
          11,
          6,
          16,
          5,
          10,
          10,
          12,
          4,
          11,
          26,
          10,
          13,
          13,
          12,
          9,
          13,
          7,
          7,
          9,
          4,
          7,
          9,
          24,
          7,
          10,
          4,
          13,
          4,
          8,
          12,
          10,
          8,
          5,
          4,
          10,
          14,
          12,
          9,
          5,
          11,
          13,
          9,
          12,
          12,
          10,
          20,
          14,
          12,
          8,
          7,
          10,
          7,
          13,
          5,
          10,
          8,
          6,
          5,
          7,
          4,
          5,
          9,
          12,
          11,
          10,
          16,
          5,
          5,
          9,
          21,
          12,
          6,
          16,
          10,
          9,
          10,
          4,
          8,
          8,
          5,
          9,
          6,
          8,
          8,
          6,
          7,
          6,
          12,
          12,
          12,
          7,
          5,
          13,
          8,
          9,
          9,
          6,
          8,
          8,
          26,
          7,
          6,
          5,
          6,
          9,
          11,
          6,
          10,
          9,
          9,
          8,
          8,
          6,
          11,
          8,
          12,
          4,
          9,
          10,
          10,
          11,
          5,
          4,
          5,
          10,
          12,
          12,
          5,
          9,
          5,
          10,
          5,
          5,
          11,
          24,
          6,
          7,
          11,
          6,
          9,
          8,
          5,
          10,
          6,
          13,
          5,
          5,
          9,
          13,
          5,
          12,
          12,
          10,
          6,
          10,
          10,
          6,
          12,
          6,
          24,
          9,
          16,
          22,
          12,
          9,
          10,
          9,
          9,
          13,
          11,
          4,
          8,
          6,
          11,
          4,
          8,
          13,
          5,
          7,
          10,
          5,
          7,
          11,
          11,
          11,
          7,
          7,
          4,
          9,
          8,
          6,
          12,
          11,
          8,
          12,
          9,
          22,
          9,
          8,
          10,
          12,
          13,
          10,
          7,
          8,
          9,
          13,
          4,
          11,
          6,
          22,
          12,
          10,
          5,
          5,
          9,
          7,
          9,
          9,
          5,
          5,
          6,
          10,
          7,
          11,
          5,
          10,
          8,
          10,
          10,
          24,
          4,
          4,
          4,
          10,
          4,
          8,
          12,
          5,
          13,
          5,
          13,
          6,
          12,
          13,
          16,
          7,
          4,
          7,
          5,
          4,
          4,
          9,
          11,
          14,
          6,
          9,
          13,
          6,
          11,
          5,
          5,
          7,
          5,
          7,
          8,
          9,
          5,
          5,
          6,
          16,
          23,
          10,
          8,
          10,
          10,
          13,
          5,
          12,
          12,
          8,
          26,
          5,
          8,
          10,
          5,
          9,
          6,
          5,
          10,
          8,
          9,
          11,
          11,
          4,
          10,
          12,
          7,
          9,
          7,
          22,
          7,
          5,
          10,
          26,
          10,
          8,
          8,
          18,
          12,
          7,
          7,
          12,
          10,
          4,
          12,
          7,
          6,
          14,
          13,
          13,
          7,
          5,
          6,
          12,
          10,
          20,
          13,
          12,
          6,
          9,
          7,
          13,
          12,
          7,
          8,
          4,
          10,
          13,
          7,
          24,
          8,
          10,
          11,
          14,
          12,
          9,
          5,
          10,
          8,
          12,
          13,
          6,
          12,
          5,
          33,
          10,
          7,
          6,
          12,
          7,
          20,
          4,
          11,
          20,
          6,
          9,
          24,
          4,
          10,
          7,
          6,
          9,
          4,
          10,
          11,
          18,
          10,
          11,
          7,
          11,
          10,
          6,
          12,
          7,
          5,
          6,
          5,
          6,
          20,
          5,
          7,
          11,
          6,
          5,
          8,
          10,
          8,
          8,
          10,
          9,
          9,
          8,
          4,
          7,
          9,
          12,
          4,
          8,
          5,
          12,
          7,
          7,
          8,
          6,
          20,
          8,
          5,
          13,
          4,
          9,
          7,
          6,
          5,
          11,
          12,
          5,
          5,
          12,
          11,
          13,
          12,
          13,
          9,
          5,
          7,
          12,
          10,
          5,
          9,
          4,
          4,
          7,
          8,
          10,
          9,
          18,
          13,
          10,
          13,
          13,
          0,
          0,
          0,
          0,
          0,
          1,
          1,
          1
         ],
         "yaxis": "y"
        }
       ],
       "layout": {
        "legend": {
         "tracegroupgap": 0
        },
        "margin": {
         "t": 60
        },
        "template": {
         "data": {
          "bar": [
           {
            "error_x": {
             "color": "#2a3f5f"
            },
            "error_y": {
             "color": "#2a3f5f"
            },
            "marker": {
             "line": {
              "color": "#E5ECF6",
              "width": 0.5
             }
            },
            "type": "bar"
           }
          ],
          "barpolar": [
           {
            "marker": {
             "line": {
              "color": "#E5ECF6",
              "width": 0.5
             }
            },
            "type": "barpolar"
           }
          ],
          "carpet": [
           {
            "aaxis": {
             "endlinecolor": "#2a3f5f",
             "gridcolor": "white",
             "linecolor": "white",
             "minorgridcolor": "white",
             "startlinecolor": "#2a3f5f"
            },
            "baxis": {
             "endlinecolor": "#2a3f5f",
             "gridcolor": "white",
             "linecolor": "white",
             "minorgridcolor": "white",
             "startlinecolor": "#2a3f5f"
            },
            "type": "carpet"
           }
          ],
          "choropleth": [
           {
            "colorbar": {
             "outlinewidth": 0,
             "ticks": ""
            },
            "type": "choropleth"
           }
          ],
          "contour": [
           {
            "colorbar": {
             "outlinewidth": 0,
             "ticks": ""
            },
            "colorscale": [
             [
              0,
              "#0d0887"
             ],
             [
              0.1111111111111111,
              "#46039f"
             ],
             [
              0.2222222222222222,
              "#7201a8"
             ],
             [
              0.3333333333333333,
              "#9c179e"
             ],
             [
              0.4444444444444444,
              "#bd3786"
             ],
             [
              0.5555555555555556,
              "#d8576b"
             ],
             [
              0.6666666666666666,
              "#ed7953"
             ],
             [
              0.7777777777777778,
              "#fb9f3a"
             ],
             [
              0.8888888888888888,
              "#fdca26"
             ],
             [
              1,
              "#f0f921"
             ]
            ],
            "type": "contour"
           }
          ],
          "contourcarpet": [
           {
            "colorbar": {
             "outlinewidth": 0,
             "ticks": ""
            },
            "type": "contourcarpet"
           }
          ],
          "heatmap": [
           {
            "colorbar": {
             "outlinewidth": 0,
             "ticks": ""
            },
            "colorscale": [
             [
              0,
              "#0d0887"
             ],
             [
              0.1111111111111111,
              "#46039f"
             ],
             [
              0.2222222222222222,
              "#7201a8"
             ],
             [
              0.3333333333333333,
              "#9c179e"
             ],
             [
              0.4444444444444444,
              "#bd3786"
             ],
             [
              0.5555555555555556,
              "#d8576b"
             ],
             [
              0.6666666666666666,
              "#ed7953"
             ],
             [
              0.7777777777777778,
              "#fb9f3a"
             ],
             [
              0.8888888888888888,
              "#fdca26"
             ],
             [
              1,
              "#f0f921"
             ]
            ],
            "type": "heatmap"
           }
          ],
          "heatmapgl": [
           {
            "colorbar": {
             "outlinewidth": 0,
             "ticks": ""
            },
            "colorscale": [
             [
              0,
              "#0d0887"
             ],
             [
              0.1111111111111111,
              "#46039f"
             ],
             [
              0.2222222222222222,
              "#7201a8"
             ],
             [
              0.3333333333333333,
              "#9c179e"
             ],
             [
              0.4444444444444444,
              "#bd3786"
             ],
             [
              0.5555555555555556,
              "#d8576b"
             ],
             [
              0.6666666666666666,
              "#ed7953"
             ],
             [
              0.7777777777777778,
              "#fb9f3a"
             ],
             [
              0.8888888888888888,
              "#fdca26"
             ],
             [
              1,
              "#f0f921"
             ]
            ],
            "type": "heatmapgl"
           }
          ],
          "histogram": [
           {
            "marker": {
             "colorbar": {
              "outlinewidth": 0,
              "ticks": ""
             }
            },
            "type": "histogram"
           }
          ],
          "histogram2d": [
           {
            "colorbar": {
             "outlinewidth": 0,
             "ticks": ""
            },
            "colorscale": [
             [
              0,
              "#0d0887"
             ],
             [
              0.1111111111111111,
              "#46039f"
             ],
             [
              0.2222222222222222,
              "#7201a8"
             ],
             [
              0.3333333333333333,
              "#9c179e"
             ],
             [
              0.4444444444444444,
              "#bd3786"
             ],
             [
              0.5555555555555556,
              "#d8576b"
             ],
             [
              0.6666666666666666,
              "#ed7953"
             ],
             [
              0.7777777777777778,
              "#fb9f3a"
             ],
             [
              0.8888888888888888,
              "#fdca26"
             ],
             [
              1,
              "#f0f921"
             ]
            ],
            "type": "histogram2d"
           }
          ],
          "histogram2dcontour": [
           {
            "colorbar": {
             "outlinewidth": 0,
             "ticks": ""
            },
            "colorscale": [
             [
              0,
              "#0d0887"
             ],
             [
              0.1111111111111111,
              "#46039f"
             ],
             [
              0.2222222222222222,
              "#7201a8"
             ],
             [
              0.3333333333333333,
              "#9c179e"
             ],
             [
              0.4444444444444444,
              "#bd3786"
             ],
             [
              0.5555555555555556,
              "#d8576b"
             ],
             [
              0.6666666666666666,
              "#ed7953"
             ],
             [
              0.7777777777777778,
              "#fb9f3a"
             ],
             [
              0.8888888888888888,
              "#fdca26"
             ],
             [
              1,
              "#f0f921"
             ]
            ],
            "type": "histogram2dcontour"
           }
          ],
          "mesh3d": [
           {
            "colorbar": {
             "outlinewidth": 0,
             "ticks": ""
            },
            "type": "mesh3d"
           }
          ],
          "parcoords": [
           {
            "line": {
             "colorbar": {
              "outlinewidth": 0,
              "ticks": ""
             }
            },
            "type": "parcoords"
           }
          ],
          "pie": [
           {
            "automargin": true,
            "type": "pie"
           }
          ],
          "scatter": [
           {
            "marker": {
             "colorbar": {
              "outlinewidth": 0,
              "ticks": ""
             }
            },
            "type": "scatter"
           }
          ],
          "scatter3d": [
           {
            "line": {
             "colorbar": {
              "outlinewidth": 0,
              "ticks": ""
             }
            },
            "marker": {
             "colorbar": {
              "outlinewidth": 0,
              "ticks": ""
             }
            },
            "type": "scatter3d"
           }
          ],
          "scattercarpet": [
           {
            "marker": {
             "colorbar": {
              "outlinewidth": 0,
              "ticks": ""
             }
            },
            "type": "scattercarpet"
           }
          ],
          "scattergeo": [
           {
            "marker": {
             "colorbar": {
              "outlinewidth": 0,
              "ticks": ""
             }
            },
            "type": "scattergeo"
           }
          ],
          "scattergl": [
           {
            "marker": {
             "colorbar": {
              "outlinewidth": 0,
              "ticks": ""
             }
            },
            "type": "scattergl"
           }
          ],
          "scattermapbox": [
           {
            "marker": {
             "colorbar": {
              "outlinewidth": 0,
              "ticks": ""
             }
            },
            "type": "scattermapbox"
           }
          ],
          "scatterpolar": [
           {
            "marker": {
             "colorbar": {
              "outlinewidth": 0,
              "ticks": ""
             }
            },
            "type": "scatterpolar"
           }
          ],
          "scatterpolargl": [
           {
            "marker": {
             "colorbar": {
              "outlinewidth": 0,
              "ticks": ""
             }
            },
            "type": "scatterpolargl"
           }
          ],
          "scatterternary": [
           {
            "marker": {
             "colorbar": {
              "outlinewidth": 0,
              "ticks": ""
             }
            },
            "type": "scatterternary"
           }
          ],
          "surface": [
           {
            "colorbar": {
             "outlinewidth": 0,
             "ticks": ""
            },
            "colorscale": [
             [
              0,
              "#0d0887"
             ],
             [
              0.1111111111111111,
              "#46039f"
             ],
             [
              0.2222222222222222,
              "#7201a8"
             ],
             [
              0.3333333333333333,
              "#9c179e"
             ],
             [
              0.4444444444444444,
              "#bd3786"
             ],
             [
              0.5555555555555556,
              "#d8576b"
             ],
             [
              0.6666666666666666,
              "#ed7953"
             ],
             [
              0.7777777777777778,
              "#fb9f3a"
             ],
             [
              0.8888888888888888,
              "#fdca26"
             ],
             [
              1,
              "#f0f921"
             ]
            ],
            "type": "surface"
           }
          ],
          "table": [
           {
            "cells": {
             "fill": {
              "color": "#EBF0F8"
             },
             "line": {
              "color": "white"
             }
            },
            "header": {
             "fill": {
              "color": "#C8D4E3"
             },
             "line": {
              "color": "white"
             }
            },
            "type": "table"
           }
          ]
         },
         "layout": {
          "annotationdefaults": {
           "arrowcolor": "#2a3f5f",
           "arrowhead": 0,
           "arrowwidth": 1
          },
          "autotypenumbers": "strict",
          "coloraxis": {
           "colorbar": {
            "outlinewidth": 0,
            "ticks": ""
           }
          },
          "colorscale": {
           "diverging": [
            [
             0,
             "#8e0152"
            ],
            [
             0.1,
             "#c51b7d"
            ],
            [
             0.2,
             "#de77ae"
            ],
            [
             0.3,
             "#f1b6da"
            ],
            [
             0.4,
             "#fde0ef"
            ],
            [
             0.5,
             "#f7f7f7"
            ],
            [
             0.6,
             "#e6f5d0"
            ],
            [
             0.7,
             "#b8e186"
            ],
            [
             0.8,
             "#7fbc41"
            ],
            [
             0.9,
             "#4d9221"
            ],
            [
             1,
             "#276419"
            ]
           ],
           "sequential": [
            [
             0,
             "#0d0887"
            ],
            [
             0.1111111111111111,
             "#46039f"
            ],
            [
             0.2222222222222222,
             "#7201a8"
            ],
            [
             0.3333333333333333,
             "#9c179e"
            ],
            [
             0.4444444444444444,
             "#bd3786"
            ],
            [
             0.5555555555555556,
             "#d8576b"
            ],
            [
             0.6666666666666666,
             "#ed7953"
            ],
            [
             0.7777777777777778,
             "#fb9f3a"
            ],
            [
             0.8888888888888888,
             "#fdca26"
            ],
            [
             1,
             "#f0f921"
            ]
           ],
           "sequentialminus": [
            [
             0,
             "#0d0887"
            ],
            [
             0.1111111111111111,
             "#46039f"
            ],
            [
             0.2222222222222222,
             "#7201a8"
            ],
            [
             0.3333333333333333,
             "#9c179e"
            ],
            [
             0.4444444444444444,
             "#bd3786"
            ],
            [
             0.5555555555555556,
             "#d8576b"
            ],
            [
             0.6666666666666666,
             "#ed7953"
            ],
            [
             0.7777777777777778,
             "#fb9f3a"
            ],
            [
             0.8888888888888888,
             "#fdca26"
            ],
            [
             1,
             "#f0f921"
            ]
           ]
          },
          "colorway": [
           "#636efa",
           "#EF553B",
           "#00cc96",
           "#ab63fa",
           "#FFA15A",
           "#19d3f3",
           "#FF6692",
           "#B6E880",
           "#FF97FF",
           "#FECB52"
          ],
          "font": {
           "color": "#2a3f5f"
          },
          "geo": {
           "bgcolor": "white",
           "lakecolor": "white",
           "landcolor": "#E5ECF6",
           "showlakes": true,
           "showland": true,
           "subunitcolor": "white"
          },
          "hoverlabel": {
           "align": "left"
          },
          "hovermode": "closest",
          "mapbox": {
           "style": "light"
          },
          "paper_bgcolor": "white",
          "plot_bgcolor": "#E5ECF6",
          "polar": {
           "angularaxis": {
            "gridcolor": "white",
            "linecolor": "white",
            "ticks": ""
           },
           "bgcolor": "#E5ECF6",
           "radialaxis": {
            "gridcolor": "white",
            "linecolor": "white",
            "ticks": ""
           }
          },
          "scene": {
           "xaxis": {
            "backgroundcolor": "#E5ECF6",
            "gridcolor": "white",
            "gridwidth": 2,
            "linecolor": "white",
            "showbackground": true,
            "ticks": "",
            "zerolinecolor": "white"
           },
           "yaxis": {
            "backgroundcolor": "#E5ECF6",
            "gridcolor": "white",
            "gridwidth": 2,
            "linecolor": "white",
            "showbackground": true,
            "ticks": "",
            "zerolinecolor": "white"
           },
           "zaxis": {
            "backgroundcolor": "#E5ECF6",
            "gridcolor": "white",
            "gridwidth": 2,
            "linecolor": "white",
            "showbackground": true,
            "ticks": "",
            "zerolinecolor": "white"
           }
          },
          "shapedefaults": {
           "line": {
            "color": "#2a3f5f"
           }
          },
          "ternary": {
           "aaxis": {
            "gridcolor": "white",
            "linecolor": "white",
            "ticks": ""
           },
           "baxis": {
            "gridcolor": "white",
            "linecolor": "white",
            "ticks": ""
           },
           "bgcolor": "#E5ECF6",
           "caxis": {
            "gridcolor": "white",
            "linecolor": "white",
            "ticks": ""
           }
          },
          "title": {
           "x": 0.05
          },
          "xaxis": {
           "automargin": true,
           "gridcolor": "white",
           "linecolor": "white",
           "ticks": "",
           "title": {
            "standoff": 15
           },
           "zerolinecolor": "white",
           "zerolinewidth": 2
          },
          "yaxis": {
           "automargin": true,
           "gridcolor": "white",
           "linecolor": "white",
           "ticks": "",
           "title": {
            "standoff": 15
           },
           "zerolinecolor": "white",
           "zerolinewidth": 2
          }
         }
        },
        "xaxis": {
         "anchor": "y",
         "domain": [
          0,
          1
         ],
         "title": {
          "text": "Income"
         }
        },
        "yaxis": {
         "anchor": "x",
         "domain": [
          0,
          1
         ],
         "title": {
          "text": "NumStorePurchases"
         }
        }
       }
      },
      "text/html": [
       "<div>                            <div id=\"1ad7ae48-2385-4453-88e0-dfe1102c6200\" class=\"plotly-graph-div\" style=\"height:525px; width:100%;\"></div>            <script type=\"text/javascript\">                require([\"plotly\"], function(Plotly) {                    window.PLOTLYENV=window.PLOTLYENV || {};                                    if (document.getElementById(\"1ad7ae48-2385-4453-88e0-dfe1102c6200\")) {                    Plotly.newPlot(                        \"1ad7ae48-2385-4453-88e0-dfe1102c6200\",                        [{\"hovertemplate\": \"Income=%{x}<br>NumStorePurchases=%{y}<extra></extra>\", \"legendgroup\": \"\", \"marker\": {\"color\": \"#636efa\", \"symbol\": \"circle\"}, \"mode\": \"markers\", \"name\": \"\", \"showlegend\": false, \"type\": \"scattergl\", \"x\": [1730.0, 2447.0, 3502.0, 4023.0, 4428.0, 4861.0, 5305.0, 5648.0, 6560.0, 6835.0, 7144.0, 7500.0, 8028.0, 8820.0, 8940.0, 9255.0, 9548.0, 9722.0, 10245.0, 10404.0, 10979.0, 11012.0, 11448.0, 12393.0, 12571.0, 13084.0, 13260.0, 13533.0, 13624.0, 13672.0, 13724.0, 14045.0, 14188.0, 14421.0, 14515.0, 14661.0, 14796.0, 14849.0, 14906.0, 14918.0, 15033.0, 15038.0, 15056.0, 15072.0, 15253.0, 15287.0, 15315.0, 15345.0, 15716.0, 15759.0, 15862.0, 16005.0, 16014.0, 16185.0, 16248.0, 16269.0, 16529.0, 16531.0, 16581.0, 16626.0, 16653.0, 16813.0, 16860.0, 16927.0, 17003.0, 17117.0, 17144.0, 17148.0, 17256.0, 17323.0, 17345.0, 17459.0, 17487.0, 17649.0, 17688.0, 18100.0, 18169.0, 18222.0, 18227.0, 18351.0, 18358.0, 18393.0, 18492.0, 18589.0, 18690.0, 18701.0, 18746.0, 18793.0, 18890.0, 18929.0, 18978.0, 18988.0, 19107.0, 19329.0, 19346.0, 19414.0, 19419.0, 19444.0, 19485.0, 19510.0, 19514.0, 19656.0, 19740.0, 19789.0, 19986.0, 20130.0, 20180.0, 20193.0, 20194.0, 20425.0, 20427.0, 20491.0, 20518.0, 20559.0, 20587.0, 20895.0, 20981.0, 21024.0, 21059.0, 21063.0, 21255.0, 21282.0, 21355.0, 21359.0, 21474.0, 21645.0, 21675.0, 21840.0, 21846.0, 21888.0, 21918.0, 21955.0, 21994.0, 22010.0, 22063.0, 22070.0, 22108.0, 22123.0, 22148.0, 22212.0, 22263.0, 22280.0, 22304.0, 22327.0, 22390.0, 22419.0, 22434.0, 22448.0, 22507.0, 22518.0, 22554.0, 22574.0, 22585.0, 22634.0, 22669.0, 22682.0, 22701.0, 22775.0, 22804.0, 22944.0, 22979.0, 23091.0, 23148.0, 23162.0, 23228.0, 23272.0, 23295.0, 23331.0, 23442.0, 23477.0, 23478.0, 23529.0, 23536.0, 23539.0, 23559.0, 23616.0, 23626.0, 23661.0, 23718.0, 23724.0, 23748.0, 23763.0, 23830.0, 23910.0, 23957.0, 23976.0, 24027.0, 24072.0, 24163.0, 24206.0, 24221.0, 24279.0, 24336.0, 24367.0, 24401.0, 24434.0, 24480.0, 24570.0, 24594.0, 24639.0, 24645.0, 24683.0, 24711.0, 24762.0, 24882.0, 24884.0, 25008.0, 25130.0, 25176.0, 25224.0, 25252.0, 25271.0, 25293.0, 25315.0, 25358.0, 25410.0, 25443.0, 25509.0, 25545.0, 25707.0, 25721.0, 25804.0, 25818.0, 25851.0, 25930.0, 25959.0, 25965.0, 26067.0, 26091.0, 26095.0, 26150.0, 26224.0, 26228.0, 26290.0, 26304.0, 26326.0, 26487.0, 26490.0, 26518.0, 26576.0, 26642.0, 26646.0, 26751.0, 26759.0, 26816.0, 26850.0, 26868.0, 26872.0, 26877.0, 26887.0, 26907.0, 26954.0, 26997.0, 27038.0, 27071.0, 27100.0, 27116.0, 27159.0, 27161.0, 27190.0, 27203.0, 27213.0, 27215.0, 27238.0, 27242.0, 27244.0, 27255.0, 27421.0, 27450.0, 27469.0, 27573.0, 27590.0, 27683.0, 27733.0, 27803.0, 27889.0, 27922.0, 27938.0, 27943.0, 28071.0, 28072.0, 28087.0, 28164.0, 28249.0, 28320.0, 28332.0, 28359.0, 28389.0, 28420.0, 28427.0, 28440.0, 28442.0, 28457.0, 28510.0, 28520.0, 28567.0, 28587.0, 28647.0, 28691.0, 28718.0, 28764.0, 28769.0, 28839.0, 28973.0, 29009.0, 29103.0, 29187.0, 29236.0, 29298.0, 29315.0, 29435.0, 29440.0, 29478.0, 29543.0, 29548.0, 29604.0, 29672.0, 29732.0, 29760.0, 29791.0, 29819.0, 29938.0, 29999.0, 30015.0, 30023.0, 30081.0, 30093.0, 30096.0, 30168.0, 30261.0, 30279.0, 30298.0, 30351.0, 30368.0, 30372.0, 30390.0, 30396.0, 30467.0, 30477.0, 30507.0, 30522.0, 30523.0, 30538.0, 30545.0, 30560.0, 30630.0, 30631.0, 30675.0, 30732.0, 30753.0, 30772.0, 30801.0, 30822.0, 30828.0, 30833.0, 30843.0, 30899.0, 30983.0, 30992.0, 31056.0, 31086.0, 31089.0, 31158.0, 31160.0, 31163.0, 31353.0, 31385.0, 31395.0, 31454.0, 31497.0, 31535.0, 31560.0, 31590.0, 31605.0, 31615.0, 31626.0, 31632.0, 31686.0, 31761.0, 31788.0, 31814.0, 31859.0, 31878.0, 31880.0, 31907.0, 31928.0, 32011.0, 32144.0, 32146.0, 32173.0, 32218.0, 32233.0, 32300.0, 32303.0, 32313.0, 32414.0, 32474.0, 32557.0, 32583.0, 32632.0, 32644.0, 32727.0, 32765.0, 32871.0, 32880.0, 32889.0, 32892.0, 32952.0, 33039.0, 33051.0, 33168.0, 33178.0, 33181.0, 33183.0, 33228.0, 33235.0, 33249.0, 33279.0, 33316.0, 33378.0, 33402.0, 33419.0, 33438.0, 33444.0, 33454.0, 33456.0, 33462.0, 33471.0, 33562.0, 33564.0, 33569.0, 33581.0, 33585.0, 33590.0, 33622.0, 33629.0, 33697.0, 33762.0, 33812.0, 33955.0, 33986.0, 33996.0, 34026.0, 34043.0, 34053.0, 34074.0, 34109.0, 34176.0, 34213.0, 34230.0, 34242.0, 34320.0, 34350.0, 34377.0, 34380.0, 34412.0, 34421.0, 34445.0, 34469.0, 34487.0, 34529.0, 34554.0, 34578.0, 34587.0, 34596.0, 34600.0, 34633.0, 34704.0, 34728.0, 34738.0, 34824.0, 34838.0, 34853.0, 34916.0, 34935.0, 34941.0, 34961.0, 34968.0, 34984.0, 35178.0, 35196.0, 35246.0, 35322.0, 35340.0, 35388.0, 35416.0, 35441.0, 35523.0, 35544.0, 35641.0, 35682.0, 35684.0, 35688.0, 35701.0, 35704.0, 35765.0, 35788.0, 35790.0, 35791.0, 35797.0, 35860.0, 35876.0, 35893.0, 35924.0, 35946.0, 36026.0, 36038.0, 36065.0, 36075.0, 36108.0, 36130.0, 36138.0, 36143.0, 36145.0, 36230.0, 36262.0, 36273.0, 36283.0, 36301.0, 36317.0, 36408.0, 36443.0, 36550.0, 36627.0, 36634.0, 36640.0, 36663.0, 36715.0, 36732.0, 36736.0, 36778.0, 36781.0, 36790.0, 36802.0, 36807.0, 36864.0, 36921.0, 36927.0, 36930.0, 36947.0, 36957.0, 36959.0, 36975.0, 36997.0, 37040.0, 37054.0, 37070.0, 37085.0, 37087.0, 37126.0, 37150.0, 37155.0, 37235.0, 37244.0, 37284.0, 37292.0, 37334.0, 37368.0, 37395.0, 37401.0, 37406.0, 37509.0, 37633.0, 37697.0, 37716.0, 37717.0, 37758.0, 37760.0, 37774.0, 37787.0, 37859.0, 37929.0, 37971.0, 38054.0, 38097.0, 38136.0, 38175.0, 38179.0, 38196.0, 38197.0, 38200.0, 38201.0, 38232.0, 38236.0, 38285.0, 38360.0, 38361.0, 38410.0, 38415.0, 38443.0, 38452.0, 38508.0, 38513.0, 38547.0, 38557.0, 38576.0, 38578.0, 38590.0, 38593.0, 38620.0, 38643.0, 38680.0, 38683.0, 38702.0, 38725.0, 38741.0, 38808.0, 38823.0, 38829.0, 38853.0, 38872.0, 38887.0, 38946.0, 38961.0, 38988.0, 38998.0, 39062.0, 39146.0, 39190.0, 39228.0, 39356.0, 39435.0, 39453.0, 39548.0, 39552.0, 39660.0, 39665.0, 39684.0, 39722.0, 39747.0, 39763.0, 39767.0, 39771.0, 39791.0, 39858.0, 39898.0, 39922.0, 39996.0, 40049.0, 40059.0, 40101.0, 40211.0, 40233.0, 40246.0, 40304.0, 40321.0, 40344.0, 40442.0, 40451.0, 40464.0, 40479.0, 40521.0, 40548.0, 40590.0, 40637.0, 40662.0, 40689.0, 40706.0, 40737.0, 40760.0, 40780.0, 40794.0, 40800.0, 40851.0, 40887.0, 41003.0, 41014.0, 41020.0, 41021.0, 41039.0, 41120.0, 41124.0, 41145.0, 41154.0, 41275.0, 41335.0, 41411.0, 41437.0, 41443.0, 41452.0, 41473.0, 41551.0, 41580.0, 41638.0, 41644.0, 41658.0, 41713.0, 41728.0, 41769.0, 41850.0, 41883.0, 41967.0, 41986.0, 42000.0, 42011.0, 42014.0, 42021.0, 42033.0, 42081.0, 42160.0, 42162.0, 42169.0, 42192.0, 42207.0, 42213.0, 42231.0, 42243.0, 42315.0, 42373.0, 42386.0, 42387.0, 42394.0, 42395.0, 42403.0, 42429.0, 42473.0, 42523.0, 42554.0, 42557.0, 42564.0, 42586.0, 42607.0, 42618.0, 42664.0, 42670.0, 42691.0, 42693.0, 42710.0, 42720.0, 42731.0, 42767.0, 42769.0, 42835.0, 42873.0, 42997.0, 43018.0, 43020.0, 43050.0, 43057.0, 43140.0, 43142.0, 43185.0, 43263.0, 43269.0, 43300.0, 43322.0, 43456.0, 43462.0, 43482.0, 43586.0, 43602.0, 43638.0, 43641.0, 43776.0, 43783.0, 43795.0, 43815.0, 43824.0, 43974.0, 44010.0, 44051.0, 44078.0, 44124.0, 44155.0, 44159.0, 44213.0, 44267.0, 44300.0, 44319.0, 44322.0, 44325.0, 44359.0, 44375.0, 44377.0, 44392.0, 44393.0, 44421.0, 44503.0, 44511.0, 44512.0, 44529.0, 44551.0, 44602.0, 44635.0, 44689.0, 44794.0, 44802.0, 44911.0, 44931.0, 44953.0, 44964.0, 44989.0, 45006.0, 45057.0, 45068.0, 45072.0, 45143.0, 45146.0, 45160.0, 45183.0, 45203.0, 45204.0, 45207.0, 45503.0, 45576.0, 45579.0, 45684.0, 45688.0, 45736.0, 45759.0, 45837.0, 45889.0, 45894.0, 45903.0, 45906.0, 45921.0, 45938.0, 45989.0, 46014.0, 46015.0, 46049.0, 46053.0, 46086.0, 46094.0, 46097.0, 46098.0, 46102.0, 46106.0, 46107.0, 46149.0, 46231.0, 46310.0, 46344.0, 46374.0, 46377.0, 46390.0, 46423.0, 46463.0, 46524.0, 46610.0, 46681.0, 46692.0, 46734.0, 46757.0, 46772.0, 46779.0, 46831.0, 46854.0, 46891.0, 46904.0, 46910.0, 46923.0, 46931.0, 46984.0, 46998.0, 47009.0, 47025.0, 47111.0, 47139.0, 47175.0, 47320.0, 47352.0, 47353.0, 47472.0, 47570.0, 47682.0, 47691.0, 47703.0, 47743.0, 47808.0, 47821.0, 47823.0, 47850.0, 47889.0, 47916.0, 47958.0, 48006.0, 48070.0, 48150.0, 48178.0, 48186.0, 48192.0, 48195.0, 48240.0, 48330.0, 48432.0, 48526.0, 48686.0, 48699.0, 48721.0, 48726.0, 48752.0, 48767.0, 48789.0, 48794.0, 48799.0, 48877.0, 48904.0, 48918.0, 48920.0, 48948.0, 48985.0, 49090.0, 49094.0, 49096.0, 49118.0, 49154.0, 49160.0, 49166.0, 49187.0, 49269.0, 49389.0, 49413.0, 49431.0, 49476.0, 49494.0, 49505.0, 49514.0, 49544.0, 49572.0, 49605.0, 49618.0, 49638.0, 49667.0, 49669.0, 49678.0, 49681.0, 49767.0, 49854.0, 49912.0, 49967.0, 49980.0, 50002.0, 50014.0, 50116.0, 50127.0, 50150.0, 50183.0, 50200.0, 50272.0, 50300.0, 50334.0, 50353.0, 50387.0, 50388.0, 50437.0, 50447.0, 50501.0, 50520.0, 50523.0, 50611.0, 50616.0, 50664.0, 50725.0, 50729.0, 50737.0, 50785.0, 50870.0, 50898.0, 50943.0, 50965.0, 51012.0, 51039.0, 51111.0, 51124.0, 51141.0, 51148.0, 51195.0, 51250.0, 51267.0, 51287.0, 51315.0, 51369.0, 51373.0, 51390.0, 51411.0, 51412.0, 51479.0, 51518.0, 51529.0, 51537.0, 51563.0, 51569.0, 51650.0, 51651.0, 51717.0, 51766.0, 51813.0, 51876.0, 51948.0, 51983.0, 52034.0, 52074.0, 52117.0, 52157.0, 52190.0, 52195.0, 52203.0, 52247.25135379061, 52278.0, 52332.0, 52413.0, 52513.0, 52531.0, 52569.0, 52597.0, 52614.0, 52750.0, 52845.0, 52852.0, 52854.0, 52869.0, 52914.0, 52973.0, 53034.0, 53083.0, 53103.0, 53154.0, 53172.0, 53187.0, 53201.0, 53204.0, 53230.0, 53233.0, 53253.0, 53312.0, 53359.0, 53367.0, 53374.0, 53378.0, 53537.0, 53593.0, 53653.0, 53700.0, 53761.0, 53790.0, 53843.0, 53858.0, 53863.0, 53977.0, 54006.0, 54058.0, 54072.0, 54108.0, 54111.0, 54132.0, 54137.0, 54162.0, 54165.0, 54178.0, 54197.0, 54198.0, 54210.0, 54222.0, 54233.0, 54237.0, 54252.0, 54342.0, 54348.0, 54356.0, 54386.0, 54414.0, 54432.0, 54450.0, 54456.0, 54466.0, 54549.0, 54591.0, 54603.0, 54690.0, 54693.0, 54730.0, 54753.0, 54803.0, 54809.0, 54880.0, 54959.0, 54984.0, 54998.0, 55012.0, 55158.0, 55212.0, 55239.0, 55249.0, 55250.0, 55260.0, 55267.0, 55282.0, 55284.0, 55357.0, 55375.0, 55412.0, 55424.0, 55434.0, 55517.0, 55521.0, 55563.0, 55593.0, 55614.0, 55635.0, 55686.0, 55707.0, 55759.0, 55761.0, 55801.0, 55842.0, 55914.0, 55951.0, 55954.0, 55956.0, 56046.0, 56067.0, 56129.0, 56181.0, 56223.0, 56242.0, 56243.0, 56253.0, 56320.0, 56337.0, 56386.0, 56534.0, 56551.0, 56559.0, 56575.0, 56628.0, 56715.0, 56721.0, 56775.0, 56796.0, 56850.0, 56937.0, 56939.0, 56962.0, 56981.0, 57036.0, 57045.0, 57072.0, 57091.0, 57100.0, 57107.0, 57113.0, 57136.0, 57183.0, 57236.0, 57247.0, 57288.0, 57304.0, 57333.0, 57338.0, 57420.0, 57513.0, 57530.0, 57537.0, 57642.0, 57705.0, 57731.0, 57744.0, 57811.0, 57867.0, 57906.0, 57912.0, 57937.0, 57954.0, 57957.0, 57959.0, 57967.0, 58025.0, 58086.0, 58113.0, 58116.0, 58138.0, 58217.0, 58275.0, 58293.0, 58308.0, 58330.0, 58350.0, 58398.0, 58401.0, 58482.0, 58494.0, 58512.0, 58554.0, 58582.0, 58597.0, 58607.0, 58646.0, 58656.0, 58684.0, 58692.0, 58710.0, 58821.0, 58917.0, 59041.0, 59052.0, 59060.0, 59062.0, 59111.0, 59184.0, 59235.0, 59247.0, 59292.0, 59304.0, 59354.0, 59385.0, 59412.0, 59432.0, 59462.0, 59481.0, 59594.0, 59601.0, 59666.0, 59686.0, 59754.0, 59809.0, 59821.0, 59868.0, 59892.0, 59925.0, 59973.0, 60000.0, 60033.0, 60093.0, 60152.0, 60161.0, 60199.0, 60200.0, 60208.0, 60230.0, 60432.0, 60474.0, 60482.0, 60491.0, 60504.0, 60544.0, 60554.0, 60585.0, 60597.0, 60631.0, 60689.0, 60714.0, 60839.0, 60894.0, 60896.0, 60905.0, 60934.0, 61010.0, 61014.0, 61064.0, 61074.0, 61180.0, 61209.0, 61223.0, 61250.0, 61278.0, 61284.0, 61286.0, 61314.0, 61331.0, 61346.0, 61416.0, 61456.0, 61467.0, 61482.0, 61559.0, 61618.0, 61671.0, 61787.0, 61794.0, 61798.0, 61823.0, 61825.0, 61839.0, 61872.0, 61905.0, 61917.0, 61923.0, 61996.0, 62000.0, 62010.0, 62058.0, 62061.0, 62159.0, 62187.0, 62204.0, 62220.0, 62307.0, 62335.0, 62450.0, 62466.0, 62499.0, 62503.0, 62513.0, 62535.0, 62551.0, 62568.0, 62637.0, 62670.0, 62694.0, 62710.0, 62745.0, 62772.0, 62807.0, 62820.0, 62845.0, 62847.0, 62859.0, 62882.0, 62905.0, 62972.0, 62981.0, 62994.0, 62998.0, 63033.0, 63120.0, 63159.0, 63206.0, 63207.0, 63211.0, 63246.0, 63285.0, 63342.0, 63381.0, 63404.0, 63516.0, 63564.0, 63684.0, 63693.0, 63777.0, 63810.0, 63841.0, 63855.0, 63887.0, 63915.0, 63943.0, 63967.0, 63972.0, 63998.0, 64014.0, 64090.0, 64100.0, 64108.0, 64140.0, 64176.0, 64191.0, 64260.0, 64325.0, 64355.0, 64413.0, 64449.0, 64474.0, 64497.0, 64504.0, 64509.0, 64587.0, 64590.0, 64713.0, 64722.0, 64795.0, 64813.0, 64831.0, 64849.0, 64857.0, 64866.0, 64892.0, 64950.0, 64961.0, 65031.0, 65073.0, 65104.0, 65106.0, 65148.0, 65169.0, 65176.0, 65196.0, 65210.0, 65220.0, 65275.0, 65295.0, 65308.0, 65316.0, 65324.0, 65333.0, 65352.0, 65370.0, 65463.0, 65486.0, 65487.0, 65488.0, 65492.0, 65526.0, 65569.0, 65640.0, 65665.0, 65685.0, 65695.0, 65704.0, 65706.0, 65735.0, 65747.0, 65748.0, 65777.0, 65808.0, 65814.0, 65819.0, 65846.0, 65968.0, 65991.0, 66000.0, 66033.0, 66294.0, 66303.0, 66313.0, 66334.0, 66373.0, 66375.0, 66426.0, 66465.0, 66476.0, 66480.0, 66503.0, 66565.0, 66582.0, 66636.0, 66653.0, 66664.0, 66726.0, 66731.0, 66825.0, 66835.0, 66886.0, 66951.0, 66973.0, 66991.0, 67023.0, 67046.0, 67087.0, 67131.0, 67225.0, 67267.0, 67272.0, 67309.0, 67353.0, 67369.0, 67381.0, 67384.0, 67419.0, 67430.0, 67432.0, 67433.0, 67445.0, 67472.0, 67506.0, 67536.0, 67546.0, 67605.0, 67680.0, 67716.0, 67786.0, 67893.0, 67911.0, 68092.0, 68117.0, 68118.0, 68126.0, 68142.0, 68148.0, 68274.0, 68281.0, 68316.0, 68352.0, 68397.0, 68462.0, 68487.0, 68627.0, 68655.0, 68657.0, 68682.0, 68695.0, 68743.0, 68805.0, 69016.0, 69063.0, 69084.0, 69096.0, 69098.0, 69109.0, 69139.0, 69142.0, 69209.0, 69245.0, 69263.0, 69267.0, 69283.0, 69372.0, 69389.0, 69401.0, 69476.0, 69508.0, 69520.0, 69627.0, 69661.0, 69674.0, 69702.0, 69719.0, 69755.0, 69759.0, 69805.0, 69867.0, 69882.0, 69901.0, 69930.0, 69932.0, 69969.0, 70038.0, 70044.0, 70053.0, 70091.0, 70116.0, 70123.0, 70165.0, 70179.0, 70287.0, 70300.0, 70321.0, 70337.0, 70356.0, 70379.0, 70421.0, 70440.0, 70503.0, 70515.0, 70545.0, 70566.0, 70596.0, 70617.0, 70638.0, 70643.0, 70647.0, 70666.0, 70713.0, 70777.0, 70792.0, 70829.0, 70844.0, 70886.0, 70893.0, 70924.0, 70932.0, 70951.0, 70971.0, 71022.0, 71107.0, 71113.0, 71128.0, 71163.0, 71232.0, 71322.0, 71367.0, 71391.0, 71427.0, 71434.0, 71466.0, 71488.0, 71499.0, 71604.0, 71613.0, 71626.0, 71670.0, 71691.0, 71706.0, 71796.0, 71819.0, 71847.0, 71853.0, 71855.0, 71866.0, 71952.0, 71964.0, 71965.0, 71969.0, 72025.0, 72063.0, 72066.0, 72071.0, 72099.0, 72117.0, 72159.0, 72190.0, 72217.0, 72228.0, 72258.0, 72282.0, 72298.0, 72309.0, 72335.0, 72354.0, 72460.0, 72504.0, 72550.0, 72570.0, 72635.0, 72643.0, 72679.0, 72828.0, 72903.0, 72905.0, 72906.0, 72940.0, 72967.0, 72968.0, 73059.0, 73113.0, 73170.0, 73356.0, 73395.0, 73448.0, 73450.0, 73454.0, 73455.0, 73538.0, 73687.0, 73691.0, 73705.0, 73803.0, 73807.0, 73892.0, 73926.0, 74004.0, 74068.0, 74116.0, 74165.0, 74190.0, 74214.0, 74250.0, 74268.0, 74290.0, 74293.0, 74485.0, 74538.0, 74637.0, 74716.0, 74805.0, 74806.0, 74854.0, 74859.0, 74881.0, 74918.0, 74985.0, 75012.0, 75027.0, 75032.0, 75072.0, 75114.0, 75127.0, 75154.0, 75236.0, 75251.0, 75261.0, 75276.0, 75278.0, 75283.0, 75315.0, 75330.0, 75342.0, 75345.0, 75433.0, 75437.0, 75484.0, 75507.0, 75693.0, 75702.0, 75759.0, 75774.0, 75777.0, 75794.0, 75825.0, 75865.0, 75903.0, 75922.0, 76005.0, 76045.0, 76068.0, 76081.0, 76140.0, 76234.0, 76320.0, 76412.0, 76445.0, 76467.0, 76532.0, 76542.0, 76618.0, 76624.0, 76630.0, 76653.0, 76773.0, 76800.0, 76842.0, 76982.0, 76995.0, 76998.0, 77027.0, 77037.0, 77044.0, 77142.0, 77226.0, 77297.0, 77298.0, 77343.0, 77353.0, 77376.0, 77382.0, 77437.0, 77457.0, 77520.0, 77568.0, 77583.0, 77598.0, 77610.0, 77622.0, 77632.0, 77766.0, 77845.0, 77863.0, 77870.0, 77882.0, 77972.0, 77981.0, 78028.0, 78041.0, 78075.0, 78093.0, 78128.0, 78285.0, 78331.0, 78353.0, 78394.0, 78416.0, 78420.0, 78427.0, 78468.0, 78497.0, 78499.0, 78569.0, 78579.0, 78618.0, 78642.0, 78687.0, 78710.0, 78789.0, 78825.0, 78901.0, 78931.0, 78939.0, 78952.0, 79143.0, 79146.0, 79174.0, 79205.0, 79244.0, 79410.0, 79419.0, 79456.0, 79529.0, 79530.0, 79593.0, 79607.0, 79632.0, 79689.0, 79734.0, 79761.0, 79800.0, 79803.0, 79823.0, 79865.0, 79908.0, 79930.0, 79941.0, 79946.0, 80011.0, 80067.0, 80124.0, 80134.0, 80141.0, 80144.0, 80184.0, 80317.0, 80336.0, 80360.0, 80395.0, 80398.0, 80427.0, 80573.0, 80589.0, 80617.0, 80685.0, 80695.0, 80739.0, 80763.0, 80812.0, 80872.0, 80910.0, 80950.0, 80952.0, 80982.0, 80995.0, 81044.0, 81051.0, 81168.0, 81169.0, 81205.0, 81217.0, 81246.0, 81300.0, 81320.0, 81361.0, 81380.0, 81574.0, 81657.0, 81698.0, 81702.0, 81741.0, 81795.0, 81843.0, 81929.0, 81975.0, 82014.0, 82017.0, 82025.0, 82032.0, 82072.0, 82122.0, 82170.0, 82224.0, 82326.0, 82332.0, 82333.0, 82347.0, 82384.0, 82427.0, 82460.0, 82497.0, 82504.0, 82571.0, 82576.0, 82582.0, 82584.0, 82623.0, 82657.0, 82716.0, 82733.0, 82800.0, 83003.0, 83033.0, 83145.0, 83151.0, 83257.0, 83273.0, 83443.0, 83512.0, 83528.0, 83664.0, 83715.0, 83790.0, 83829.0, 83837.0, 83844.0, 83891.0, 83917.0, 84117.0, 84169.0, 84196.0, 84219.0, 84460.0, 84574.0, 84618.0, 84835.0, 84865.0, 84906.0, 84953.0, 85072.0, 85431.0, 85485.0, 85606.0, 85620.0, 85683.0, 85693.0, 85696.0, 85710.0, 85738.0, 85844.0, 86037.0, 86111.0, 86358.0, 86424.0, 86429.0, 86580.0, 86610.0, 86718.0, 86836.0, 86857.0, 86979.0, 87000.0, 87171.0, 87188.0, 87195.0, 87305.0, 87679.0, 87771.0, 88097.0, 88194.0, 88325.0, 88347.0, 88420.0, 89058.0, 89120.0, 89572.0, 89616.0, 89694.0, 89891.0, 90000.0, 90226.0, 90247.0, 90273.0, 90300.0, 90369.0, 90638.0, 90687.0, 90765.0, 90842.0, 90933.0, 91065.0, 91172.0, 91249.0, 91700.0, 91712.0, 91820.0, 92163.0, 92344.0, 92491.0, 92533.0, 92556.0, 92859.0, 92910.0, 92955.0, 93027.0, 93404.0, 93790.0, 94384.0, 94472.0, 94642.0, 94871.0, 95169.0, 95529.0, 96547.0, 96843.0, 96876.0, 98777.0, 101970.0, 102160.0, 102692.0, 105471.0, 113734.0, 153924.0, 156924.0, 157146.0, 157243.0, 157733.0, 160803.0, 162397.0], \"xaxis\": \"x\", \"y\": [0, 0, 0, 0, 0, 0, 0, 0, 1, 1, 1, 32, 0, 3, 3, 2, 3, 3, 2, 4, 6, 2, 2, 3, 3, 3, 3, 3, 3, 3, 2, 3, 4, 2, 3, 3, 3, 4, 3, 3, 3, 2, 3, 3, 3, 4, 8, 2, 4, 2, 3, 2, 4, 2, 3, 3, 3, 3, 3, 3, 3, 3, 3, 4, 4, 3, 8, 3, 2, 3, 2, 2, 2, 3, 2, 3, 2, 3, 2, 3, 4, 3, 2, 3, 6, 8, 3, 4, 2, 12, 3, 3, 3, 3, 3, 3, 3, 2, 2, 3, 4, 3, 3, 3, 6, 6, 8, 4, 3, 6, 2, 2, 2, 3, 4, 3, 2, 4, 3, 3, 4, 2, 2, 3, 2, 3, 3, 3, 3, 2, 3, 3, 6, 3, 3, 2, 3, 3, 3, 4, 3, 2, 2, 3, 2, 4, 3, 3, 4, 2, 4, 6, 2, 4, 2, 4, 3, 4, 4, 3, 2, 3, 3, 3, 7, 3, 2, 8, 3, 4, 3, 2, 3, 4, 3, 3, 3, 3, 2, 3, 3, 3, 3, 3, 3, 3, 3, 2, 3, 3, 3, 3, 2, 2, 6, 2, 4, 4, 6, 4, 2, 4, 3, 2, 4, 3, 3, 3, 2, 3, 2, 2, 4, 3, 3, 4, 3, 6, 3, 3, 2, 3, 2, 3, 2, 2, 3, 3, 6, 3, 3, 3, 2, 4, 2, 3, 3, 10, 3, 2, 3, 4, 2, 3, 3, 4, 2, 2, 6, 3, 6, 2, 5, 3, 3, 6, 3, 3, 3, 2, 2, 4, 4, 3, 3, 2, 3, 6, 3, 3, 4, 2, 4, 3, 4, 2, 3, 4, 3, 5, 3, 2, 4, 6, 3, 4, 2, 2, 2, 6, 3, 4, 4, 4, 2, 3, 4, 2, 6, 3, 2, 4, 3, 5, 3, 3, 3, 3, 2, 4, 2, 4, 3, 2, 2, 3, 6, 2, 8, 3, 3, 3, 4, 4, 3, 3, 3, 6, 4, 3, 6, 3, 4, 3, 6, 3, 2, 2, 3, 4, 9, 2, 4, 3, 6, 3, 2, 3, 4, 3, 2, 3, 3, 4, 3, 2, 3, 3, 6, 3, 2, 4, 3, 3, 6, 4, 2, 3, 3, 8, 2, 3, 3, 4, 3, 2, 2, 3, 4, 4, 3, 5, 4, 2, 6, 4, 4, 3, 4, 3, 3, 2, 3, 4, 4, 3, 2, 3, 2, 8, 6, 5, 4, 3, 3, 3, 6, 3, 8, 8, 4, 3, 2, 3, 3, 3, 6, 3, 8, 4, 3, 4, 4, 2, 4, 3, 3, 4, 4, 3, 2, 2, 4, 2, 4, 4, 2, 2, 3, 5, 3, 6, 6, 2, 3, 3, 3, 11, 2, 2, 3, 2, 3, 2, 3, 3, 4, 8, 4, 3, 3, 3, 2, 3, 4, 10, 2, 3, 2, 3, 4, 4, 3, 3, 8, 3, 3, 5, 3, 4, 10, 3, 4, 3, 3, 5, 3, 3, 3, 4, 3, 3, 8, 3, 4, 4, 3, 3, 6, 3, 8, 3, 5, 3, 3, 3, 3, 3, 4, 4, 4, 4, 2, 3, 4, 3, 3, 3, 3, 4, 2, 3, 5, 3, 5, 2, 3, 4, 4, 2, 3, 2, 2, 3, 2, 4, 3, 3, 4, 4, 2, 3, 3, 4, 5, 3, 16, 3, 8, 2, 6, 4, 2, 2, 6, 5, 4, 2, 3, 6, 2, 4, 3, 6, 3, 4, 6, 15, 3, 3, 3, 5, 3, 3, 2, 2, 4, 3, 4, 3, 2, 5, 3, 4, 3, 4, 6, 9, 3, 3, 6, 5, 5, 2, 3, 3, 6, 2, 3, 6, 3, 3, 6, 4, 4, 3, 4, 3, 2, 3, 3, 3, 12, 2, 6, 6, 3, 4, 4, 3, 2, 2, 3, 3, 5, 3, 3, 2, 3, 4, 2, 7, 3, 4, 4, 8, 12, 2, 9, 3, 6, 2, 5, 2, 3, 6, 5, 4, 2, 8, 3, 2, 4, 6, 3, 3, 10, 4, 2, 3, 5, 5, 3, 2, 3, 8, 2, 4, 3, 5, 3, 4, 3, 4, 3, 8, 4, 3, 5, 2, 3, 5, 3, 3, 3, 2, 4, 2, 7, 3, 3, 3, 4, 22, 4, 12, 6, 2, 4, 4, 3, 3, 3, 5, 7, 3, 3, 4, 5, 6, 7, 3, 4, 3, 3, 4, 8, 3, 4, 4, 12, 7, 4, 3, 4, 6, 3, 3, 7, 5, 2, 4, 4, 4, 2, 2, 4, 4, 5, 5, 2, 6, 6, 2, 4, 4, 8, 5, 4, 4, 2, 4, 4, 6, 8, 4, 3, 4, 6, 6, 4, 3, 5, 2, 6, 5, 4, 3, 3, 3, 7, 4, 6, 5, 4, 4, 4, 3, 8, 3, 11, 5, 4, 3, 2, 6, 12, 4, 3, 13, 3, 10, 7, 3, 2, 4, 10, 2, 2, 7, 3, 4, 6, 4, 3, 4, 2, 8, 6, 6, 5, 3, 3, 3, 4, 6, 6, 7, 8, 6, 9, 4, 8, 3, 6, 6, 2, 2, 4, 7, 4, 5, 7, 7, 3, 3, 8, 6, 5, 12, 8, 5, 8, 7, 5, 2, 2, 3, 8, 4, 3, 7, 3, 3, 5, 8, 13, 10, 2, 4, 8, 10, 6, 4, 2, 8, 2, 8, 6, 3, 3, 3, 4, 3, 6, 5, 3, 6, 4, 4, 4, 12, 5, 13, 3, 18, 4, 2, 3, 5, 4, 5, 3, 7, 3, 7, 4, 4, 8, 5, 10, 3, 9, 6, 4, 10, 8, 6, 3, 5, 12, 3, 5, 5, 5, 5, 8, 4, 8, 3, 4, 3, 3, 5, 6, 4, 14, 8, 5, 14, 5, 5, 7, 8, 4, 6, 14, 6, 5, 5, 8, 6, 6, 8, 6, 8, 3, 4, 3, 4, 14, 8, 6, 8, 7, 4, 3, 3, 12, 6, 5, 8, 4, 3, 3, 4, 6, 5, 4, 5, 3, 5, 8, 3, 5, 3, 4, 6, 10, 5, 11, 10, 7, 4, 5, 4, 4, 3, 8, 4, 10, 5, 2, 4, 5, 3, 2, 11, 115, 20, 6, 19, 9, 10, 4, 8, 16, 9, 6, 5, 4, 4, 3, 9, 7, 5, 7, 4, 8, 6, 5, 3, 12, 3, 5, 5, 4, 8, 9, 6, 3, 6, 12, 8, 3, 8, 3, 6, 7, 24, 7, 8, 2, 9, 6, 3, 4, 3, 7, 5, 6, 6, 7, 5, 5, 5, 5, 4, 4, 8, 10, 5, 3, 16, 7, 2, 4, 8, 4, 10, 13, 8, 11, 9, 10, 11, 4, 6, 9, 9, 5, 22, 11, 4, 10, 5, 6, 6, 8, 11, 6, 3, 9, 13, 6, 6, 3, 3, 6, 7, 5, 9, 8, 3, 6, 8, 8, 11, 6, 4, 8, 7, 20, 7, 5, 11, 8, 9, 9, 4, 7, 7, 8, 8, 7, 5, 4, 5, 10, 14, 3, 9, 10, 10, 13, 13, 9, 13, 12, 13, 8, 5, 17, 7, 4, 7, 8, 10, 9, 5, 6, 13, 4, 8, 6, 6, 6, 4, 11, 9, 8, 12, 9, 6, 8, 11, 8, 10, 7, 8, 8, 4, 4, 7, 6, 3, 26, 12, 8, 2, 9, 6, 8, 12, 9, 9, 9, 8, 13, 12, 4, 9, 9, 6, 4, 7, 7, 3, 8, 12, 12, 9, 16, 10, 12, 4, 8, 11, 12, 8, 7, 7, 8, 6, 6, 6, 7, 12, 3, 9, 7, 5, 5, 10, 12, 8, 3, 11, 7, 6, 5, 24, 7, 7, 8, 10, 9, 9, 8, 8, 10, 10, 12, 8, 4, 7, 11, 11, 4, 11, 8, 6, 4, 4, 12, 4, 8, 16, 12, 6, 10, 10, 13, 10, 6, 10, 8, 6, 6, 10, 9, 10, 16, 4, 9, 4, 4, 4, 8, 13, 7, 7, 7, 10, 15, 12, 5, 4, 13, 4, 24, 6, 11, 10, 8, 4, 5, 5, 13, 7, 12, 11, 11, 24, 12, 20, 4, 6, 6, 8, 6, 13, 4, 5, 8, 9, 8, 6, 6, 7, 12, 13, 10, 26, 4, 7, 7, 8, 18, 6, 24, 27, 13, 12, 12, 6, 12, 10, 11, 10, 4, 6, 11, 6, 8, 13, 4, 5, 12, 5, 12, 10, 9, 4, 9, 4, 10, 7, 11, 12, 10, 5, 6, 20, 7, 12, 10, 4, 13, 5, 14, 13, 7, 13, 6, 11, 8, 7, 13, 13, 12, 5, 18, 8, 8, 13, 9, 10, 12, 6, 13, 16, 10, 8, 8, 18, 10, 10, 12, 6, 6, 10, 6, 5, 10, 10, 6, 7, 10, 5, 7, 5, 11, 12, 5, 20, 5, 10, 12, 21, 7, 6, 9, 9, 9, 12, 12, 4, 6, 6, 26, 7, 7, 12, 6, 13, 4, 8, 12, 11, 5, 12, 9, 12, 10, 9, 5, 8, 12, 4, 13, 36, 7, 6, 11, 10, 6, 8, 13, 6, 9, 22, 10, 4, 8, 5, 7, 6, 5, 13, 10, 9, 5, 8, 26, 6, 22, 9, 20, 14, 13, 7, 13, 5, 26, 10, 9, 14, 10, 7, 6, 10, 7, 5, 13, 6, 12, 5, 4, 11, 5, 11, 12, 10, 10, 5, 12, 5, 11, 8, 9, 10, 12, 11, 6, 16, 5, 10, 10, 12, 4, 11, 26, 10, 13, 13, 12, 9, 13, 7, 7, 9, 4, 7, 9, 24, 7, 10, 4, 13, 4, 8, 12, 10, 8, 5, 4, 10, 14, 12, 9, 5, 11, 13, 9, 12, 12, 10, 20, 14, 12, 8, 7, 10, 7, 13, 5, 10, 8, 6, 5, 7, 4, 5, 9, 12, 11, 10, 16, 5, 5, 9, 21, 12, 6, 16, 10, 9, 10, 4, 8, 8, 5, 9, 6, 8, 8, 6, 7, 6, 12, 12, 12, 7, 5, 13, 8, 9, 9, 6, 8, 8, 26, 7, 6, 5, 6, 9, 11, 6, 10, 9, 9, 8, 8, 6, 11, 8, 12, 4, 9, 10, 10, 11, 5, 4, 5, 10, 12, 12, 5, 9, 5, 10, 5, 5, 11, 24, 6, 7, 11, 6, 9, 8, 5, 10, 6, 13, 5, 5, 9, 13, 5, 12, 12, 10, 6, 10, 10, 6, 12, 6, 24, 9, 16, 22, 12, 9, 10, 9, 9, 13, 11, 4, 8, 6, 11, 4, 8, 13, 5, 7, 10, 5, 7, 11, 11, 11, 7, 7, 4, 9, 8, 6, 12, 11, 8, 12, 9, 22, 9, 8, 10, 12, 13, 10, 7, 8, 9, 13, 4, 11, 6, 22, 12, 10, 5, 5, 9, 7, 9, 9, 5, 5, 6, 10, 7, 11, 5, 10, 8, 10, 10, 24, 4, 4, 4, 10, 4, 8, 12, 5, 13, 5, 13, 6, 12, 13, 16, 7, 4, 7, 5, 4, 4, 9, 11, 14, 6, 9, 13, 6, 11, 5, 5, 7, 5, 7, 8, 9, 5, 5, 6, 16, 23, 10, 8, 10, 10, 13, 5, 12, 12, 8, 26, 5, 8, 10, 5, 9, 6, 5, 10, 8, 9, 11, 11, 4, 10, 12, 7, 9, 7, 22, 7, 5, 10, 26, 10, 8, 8, 18, 12, 7, 7, 12, 10, 4, 12, 7, 6, 14, 13, 13, 7, 5, 6, 12, 10, 20, 13, 12, 6, 9, 7, 13, 12, 7, 8, 4, 10, 13, 7, 24, 8, 10, 11, 14, 12, 9, 5, 10, 8, 12, 13, 6, 12, 5, 33, 10, 7, 6, 12, 7, 20, 4, 11, 20, 6, 9, 24, 4, 10, 7, 6, 9, 4, 10, 11, 18, 10, 11, 7, 11, 10, 6, 12, 7, 5, 6, 5, 6, 20, 5, 7, 11, 6, 5, 8, 10, 8, 8, 10, 9, 9, 8, 4, 7, 9, 12, 4, 8, 5, 12, 7, 7, 8, 6, 20, 8, 5, 13, 4, 9, 7, 6, 5, 11, 12, 5, 5, 12, 11, 13, 12, 13, 9, 5, 7, 12, 10, 5, 9, 4, 4, 7, 8, 10, 9, 18, 13, 10, 13, 13, 0, 0, 0, 0, 0, 1, 1, 1], \"yaxis\": \"y\"}],                        {\"legend\": {\"tracegroupgap\": 0}, \"margin\": {\"t\": 60}, \"template\": {\"data\": {\"bar\": [{\"error_x\": {\"color\": \"#2a3f5f\"}, \"error_y\": {\"color\": \"#2a3f5f\"}, \"marker\": {\"line\": {\"color\": \"#E5ECF6\", \"width\": 0.5}}, \"type\": \"bar\"}], \"barpolar\": [{\"marker\": {\"line\": {\"color\": \"#E5ECF6\", \"width\": 0.5}}, \"type\": \"barpolar\"}], \"carpet\": [{\"aaxis\": {\"endlinecolor\": \"#2a3f5f\", \"gridcolor\": \"white\", \"linecolor\": \"white\", \"minorgridcolor\": \"white\", \"startlinecolor\": \"#2a3f5f\"}, \"baxis\": {\"endlinecolor\": \"#2a3f5f\", \"gridcolor\": \"white\", \"linecolor\": \"white\", \"minorgridcolor\": \"white\", \"startlinecolor\": \"#2a3f5f\"}, \"type\": \"carpet\"}], \"choropleth\": [{\"colorbar\": {\"outlinewidth\": 0, \"ticks\": \"\"}, \"type\": \"choropleth\"}], \"contour\": [{\"colorbar\": {\"outlinewidth\": 0, \"ticks\": \"\"}, \"colorscale\": [[0.0, \"#0d0887\"], [0.1111111111111111, \"#46039f\"], [0.2222222222222222, \"#7201a8\"], [0.3333333333333333, \"#9c179e\"], [0.4444444444444444, \"#bd3786\"], [0.5555555555555556, \"#d8576b\"], [0.6666666666666666, \"#ed7953\"], [0.7777777777777778, \"#fb9f3a\"], [0.8888888888888888, \"#fdca26\"], [1.0, \"#f0f921\"]], \"type\": \"contour\"}], \"contourcarpet\": [{\"colorbar\": {\"outlinewidth\": 0, \"ticks\": \"\"}, \"type\": \"contourcarpet\"}], \"heatmap\": [{\"colorbar\": {\"outlinewidth\": 0, \"ticks\": \"\"}, \"colorscale\": [[0.0, \"#0d0887\"], [0.1111111111111111, \"#46039f\"], [0.2222222222222222, \"#7201a8\"], [0.3333333333333333, \"#9c179e\"], [0.4444444444444444, \"#bd3786\"], [0.5555555555555556, \"#d8576b\"], [0.6666666666666666, \"#ed7953\"], [0.7777777777777778, \"#fb9f3a\"], [0.8888888888888888, \"#fdca26\"], [1.0, \"#f0f921\"]], \"type\": \"heatmap\"}], \"heatmapgl\": [{\"colorbar\": {\"outlinewidth\": 0, \"ticks\": \"\"}, \"colorscale\": [[0.0, \"#0d0887\"], [0.1111111111111111, \"#46039f\"], [0.2222222222222222, \"#7201a8\"], [0.3333333333333333, \"#9c179e\"], [0.4444444444444444, \"#bd3786\"], [0.5555555555555556, \"#d8576b\"], [0.6666666666666666, \"#ed7953\"], [0.7777777777777778, \"#fb9f3a\"], [0.8888888888888888, \"#fdca26\"], [1.0, \"#f0f921\"]], \"type\": \"heatmapgl\"}], \"histogram\": [{\"marker\": {\"colorbar\": {\"outlinewidth\": 0, \"ticks\": \"\"}}, \"type\": \"histogram\"}], \"histogram2d\": [{\"colorbar\": {\"outlinewidth\": 0, \"ticks\": \"\"}, \"colorscale\": [[0.0, \"#0d0887\"], [0.1111111111111111, \"#46039f\"], [0.2222222222222222, \"#7201a8\"], [0.3333333333333333, \"#9c179e\"], [0.4444444444444444, \"#bd3786\"], [0.5555555555555556, \"#d8576b\"], [0.6666666666666666, \"#ed7953\"], [0.7777777777777778, \"#fb9f3a\"], [0.8888888888888888, \"#fdca26\"], [1.0, \"#f0f921\"]], \"type\": \"histogram2d\"}], \"histogram2dcontour\": [{\"colorbar\": {\"outlinewidth\": 0, \"ticks\": \"\"}, \"colorscale\": [[0.0, \"#0d0887\"], [0.1111111111111111, \"#46039f\"], [0.2222222222222222, \"#7201a8\"], [0.3333333333333333, \"#9c179e\"], [0.4444444444444444, \"#bd3786\"], [0.5555555555555556, \"#d8576b\"], [0.6666666666666666, \"#ed7953\"], [0.7777777777777778, \"#fb9f3a\"], [0.8888888888888888, \"#fdca26\"], [1.0, \"#f0f921\"]], \"type\": \"histogram2dcontour\"}], \"mesh3d\": [{\"colorbar\": {\"outlinewidth\": 0, \"ticks\": \"\"}, \"type\": \"mesh3d\"}], \"parcoords\": [{\"line\": {\"colorbar\": {\"outlinewidth\": 0, \"ticks\": \"\"}}, \"type\": \"parcoords\"}], \"pie\": [{\"automargin\": true, \"type\": \"pie\"}], \"scatter\": [{\"marker\": {\"colorbar\": {\"outlinewidth\": 0, \"ticks\": \"\"}}, \"type\": \"scatter\"}], \"scatter3d\": [{\"line\": {\"colorbar\": {\"outlinewidth\": 0, \"ticks\": \"\"}}, \"marker\": {\"colorbar\": {\"outlinewidth\": 0, \"ticks\": \"\"}}, \"type\": \"scatter3d\"}], \"scattercarpet\": [{\"marker\": {\"colorbar\": {\"outlinewidth\": 0, \"ticks\": \"\"}}, \"type\": \"scattercarpet\"}], \"scattergeo\": [{\"marker\": {\"colorbar\": {\"outlinewidth\": 0, \"ticks\": \"\"}}, \"type\": \"scattergeo\"}], \"scattergl\": [{\"marker\": {\"colorbar\": {\"outlinewidth\": 0, \"ticks\": \"\"}}, \"type\": \"scattergl\"}], \"scattermapbox\": [{\"marker\": {\"colorbar\": {\"outlinewidth\": 0, \"ticks\": \"\"}}, \"type\": \"scattermapbox\"}], \"scatterpolar\": [{\"marker\": {\"colorbar\": {\"outlinewidth\": 0, \"ticks\": \"\"}}, \"type\": \"scatterpolar\"}], \"scatterpolargl\": [{\"marker\": {\"colorbar\": {\"outlinewidth\": 0, \"ticks\": \"\"}}, \"type\": \"scatterpolargl\"}], \"scatterternary\": [{\"marker\": {\"colorbar\": {\"outlinewidth\": 0, \"ticks\": \"\"}}, \"type\": \"scatterternary\"}], \"surface\": [{\"colorbar\": {\"outlinewidth\": 0, \"ticks\": \"\"}, \"colorscale\": [[0.0, \"#0d0887\"], [0.1111111111111111, \"#46039f\"], [0.2222222222222222, \"#7201a8\"], [0.3333333333333333, \"#9c179e\"], [0.4444444444444444, \"#bd3786\"], [0.5555555555555556, \"#d8576b\"], [0.6666666666666666, \"#ed7953\"], [0.7777777777777778, \"#fb9f3a\"], [0.8888888888888888, \"#fdca26\"], [1.0, \"#f0f921\"]], \"type\": \"surface\"}], \"table\": [{\"cells\": {\"fill\": {\"color\": \"#EBF0F8\"}, \"line\": {\"color\": \"white\"}}, \"header\": {\"fill\": {\"color\": \"#C8D4E3\"}, \"line\": {\"color\": \"white\"}}, \"type\": \"table\"}]}, \"layout\": {\"annotationdefaults\": {\"arrowcolor\": \"#2a3f5f\", \"arrowhead\": 0, \"arrowwidth\": 1}, \"autotypenumbers\": \"strict\", \"coloraxis\": {\"colorbar\": {\"outlinewidth\": 0, \"ticks\": \"\"}}, \"colorscale\": {\"diverging\": [[0, \"#8e0152\"], [0.1, \"#c51b7d\"], [0.2, \"#de77ae\"], [0.3, \"#f1b6da\"], [0.4, \"#fde0ef\"], [0.5, \"#f7f7f7\"], [0.6, \"#e6f5d0\"], [0.7, \"#b8e186\"], [0.8, \"#7fbc41\"], [0.9, \"#4d9221\"], [1, \"#276419\"]], \"sequential\": [[0.0, \"#0d0887\"], [0.1111111111111111, \"#46039f\"], [0.2222222222222222, \"#7201a8\"], [0.3333333333333333, \"#9c179e\"], [0.4444444444444444, \"#bd3786\"], [0.5555555555555556, \"#d8576b\"], [0.6666666666666666, \"#ed7953\"], [0.7777777777777778, \"#fb9f3a\"], [0.8888888888888888, \"#fdca26\"], [1.0, \"#f0f921\"]], \"sequentialminus\": [[0.0, \"#0d0887\"], [0.1111111111111111, \"#46039f\"], [0.2222222222222222, \"#7201a8\"], [0.3333333333333333, \"#9c179e\"], [0.4444444444444444, \"#bd3786\"], [0.5555555555555556, \"#d8576b\"], [0.6666666666666666, \"#ed7953\"], [0.7777777777777778, \"#fb9f3a\"], [0.8888888888888888, \"#fdca26\"], [1.0, \"#f0f921\"]]}, \"colorway\": [\"#636efa\", \"#EF553B\", \"#00cc96\", \"#ab63fa\", \"#FFA15A\", \"#19d3f3\", \"#FF6692\", \"#B6E880\", \"#FF97FF\", \"#FECB52\"], \"font\": {\"color\": \"#2a3f5f\"}, \"geo\": {\"bgcolor\": \"white\", \"lakecolor\": \"white\", \"landcolor\": \"#E5ECF6\", \"showlakes\": true, \"showland\": true, \"subunitcolor\": \"white\"}, \"hoverlabel\": {\"align\": \"left\"}, \"hovermode\": \"closest\", \"mapbox\": {\"style\": \"light\"}, \"paper_bgcolor\": \"white\", \"plot_bgcolor\": \"#E5ECF6\", \"polar\": {\"angularaxis\": {\"gridcolor\": \"white\", \"linecolor\": \"white\", \"ticks\": \"\"}, \"bgcolor\": \"#E5ECF6\", \"radialaxis\": {\"gridcolor\": \"white\", \"linecolor\": \"white\", \"ticks\": \"\"}}, \"scene\": {\"xaxis\": {\"backgroundcolor\": \"#E5ECF6\", \"gridcolor\": \"white\", \"gridwidth\": 2, \"linecolor\": \"white\", \"showbackground\": true, \"ticks\": \"\", \"zerolinecolor\": \"white\"}, \"yaxis\": {\"backgroundcolor\": \"#E5ECF6\", \"gridcolor\": \"white\", \"gridwidth\": 2, \"linecolor\": \"white\", \"showbackground\": true, \"ticks\": \"\", \"zerolinecolor\": \"white\"}, \"zaxis\": {\"backgroundcolor\": \"#E5ECF6\", \"gridcolor\": \"white\", \"gridwidth\": 2, \"linecolor\": \"white\", \"showbackground\": true, \"ticks\": \"\", \"zerolinecolor\": \"white\"}}, \"shapedefaults\": {\"line\": {\"color\": \"#2a3f5f\"}}, \"ternary\": {\"aaxis\": {\"gridcolor\": \"white\", \"linecolor\": \"white\", \"ticks\": \"\"}, \"baxis\": {\"gridcolor\": \"white\", \"linecolor\": \"white\", \"ticks\": \"\"}, \"bgcolor\": \"#E5ECF6\", \"caxis\": {\"gridcolor\": \"white\", \"linecolor\": \"white\", \"ticks\": \"\"}}, \"title\": {\"x\": 0.05}, \"xaxis\": {\"automargin\": true, \"gridcolor\": \"white\", \"linecolor\": \"white\", \"ticks\": \"\", \"title\": {\"standoff\": 15}, \"zerolinecolor\": \"white\", \"zerolinewidth\": 2}, \"yaxis\": {\"automargin\": true, \"gridcolor\": \"white\", \"linecolor\": \"white\", \"ticks\": \"\", \"title\": {\"standoff\": 15}, \"zerolinecolor\": \"white\", \"zerolinewidth\": 2}}}, \"xaxis\": {\"anchor\": \"y\", \"domain\": [0.0, 1.0], \"title\": {\"text\": \"Income\"}}, \"yaxis\": {\"anchor\": \"x\", \"domain\": [0.0, 1.0], \"title\": {\"text\": \"NumStorePurchases\"}}},                        {\"responsive\": true}                    ).then(function(){\n",
       "                            \n",
       "var gd = document.getElementById('1ad7ae48-2385-4453-88e0-dfe1102c6200');\n",
       "var x = new MutationObserver(function (mutations, observer) {{\n",
       "        var display = window.getComputedStyle(gd).display;\n",
       "        if (!display || display === 'none') {{\n",
       "            console.log([gd, 'removed!']);\n",
       "            Plotly.purge(gd);\n",
       "            observer.disconnect();\n",
       "        }}\n",
       "}});\n",
       "\n",
       "// Listen for the removal of the full notebook cells\n",
       "var notebookContainer = gd.closest('#notebook-container');\n",
       "if (notebookContainer) {{\n",
       "    x.observe(notebookContainer, {childList: true});\n",
       "}}\n",
       "\n",
       "// Listen for the clearing of the current output cell\n",
       "var outputEl = gd.closest('.output');\n",
       "if (outputEl) {{\n",
       "    x.observe(outputEl, {childList: true});\n",
       "}}\n",
       "\n",
       "                        })                };                });            </script>        </div>"
      ]
     },
     "metadata": {},
     "output_type": "display_data"
    }
   ],
   "source": [
    "fig = px.scatter(B, x=\"Income\", y ='NumStorePurchases')\n",
    "fig.show()"
   ]
  },
  {
   "cell_type": "markdown",
   "metadata": {},
   "source": [
    "5. Country"
   ]
  },
  {
   "cell_type": "code",
   "execution_count": 42,
   "metadata": {},
   "outputs": [
    {
     "data": {
      "text/html": [
       "<div>\n",
       "<style scoped>\n",
       "    .dataframe tbody tr th:only-of-type {\n",
       "        vertical-align: middle;\n",
       "    }\n",
       "\n",
       "    .dataframe tbody tr th {\n",
       "        vertical-align: top;\n",
       "    }\n",
       "\n",
       "    .dataframe thead th {\n",
       "        text-align: right;\n",
       "    }\n",
       "</style>\n",
       "<table border=\"1\" class=\"dataframe\">\n",
       "  <thead>\n",
       "    <tr style=\"text-align: right;\">\n",
       "      <th></th>\n",
       "      <th>Country</th>\n",
       "      <th>NumStorePurchases</th>\n",
       "    </tr>\n",
       "  </thead>\n",
       "  <tbody>\n",
       "    <tr>\n",
       "      <th>0</th>\n",
       "      <td>AUS</td>\n",
       "      <td>879</td>\n",
       "    </tr>\n",
       "    <tr>\n",
       "      <th>1</th>\n",
       "      <td>CA</td>\n",
       "      <td>1568</td>\n",
       "    </tr>\n",
       "    <tr>\n",
       "      <th>2</th>\n",
       "      <td>GER</td>\n",
       "      <td>721</td>\n",
       "    </tr>\n",
       "    <tr>\n",
       "      <th>3</th>\n",
       "      <td>IND</td>\n",
       "      <td>785</td>\n",
       "    </tr>\n",
       "    <tr>\n",
       "      <th>4</th>\n",
       "      <td>ME</td>\n",
       "      <td>19</td>\n",
       "    </tr>\n",
       "    <tr>\n",
       "      <th>5</th>\n",
       "      <td>SA</td>\n",
       "      <td>1983</td>\n",
       "    </tr>\n",
       "    <tr>\n",
       "      <th>6</th>\n",
       "      <td>SP</td>\n",
       "      <td>6345</td>\n",
       "    </tr>\n",
       "    <tr>\n",
       "      <th>7</th>\n",
       "      <td>US</td>\n",
       "      <td>658</td>\n",
       "    </tr>\n",
       "  </tbody>\n",
       "</table>\n",
       "</div>"
      ],
      "text/plain": [
       "  Country  NumStorePurchases\n",
       "0     AUS                879\n",
       "1      CA               1568\n",
       "2     GER                721\n",
       "3     IND                785\n",
       "4      ME                 19\n",
       "5      SA               1983\n",
       "6      SP               6345\n",
       "7      US                658"
      ]
     },
     "execution_count": 42,
     "metadata": {},
     "output_type": "execute_result"
    }
   ],
   "source": [
    "Country = df.groupby('Country').sum()['NumStorePurchases'].reset_index()\n",
    "\n",
    "Country"
   ]
  },
  {
   "cell_type": "code",
   "execution_count": 43,
   "metadata": {},
   "outputs": [
    {
     "data": {
      "application/vnd.plotly.v1+json": {
       "config": {
        "plotlyServerURL": "https://plot.ly"
       },
       "data": [
        {
         "alignmentgroup": "True",
         "hovertemplate": "Country=%{x}<br>NumStorePurchases=%{y}<extra></extra>",
         "legendgroup": "",
         "marker": {
          "color": "#636efa"
         },
         "name": "",
         "offsetgroup": "",
         "orientation": "v",
         "showlegend": false,
         "textposition": "auto",
         "type": "bar",
         "x": [
          "AUS",
          "CA",
          "GER",
          "IND",
          "ME",
          "SA",
          "SP",
          "US"
         ],
         "xaxis": "x",
         "y": [
          879,
          1568,
          721,
          785,
          19,
          1983,
          6345,
          658
         ],
         "yaxis": "y"
        }
       ],
       "layout": {
        "barmode": "relative",
        "legend": {
         "tracegroupgap": 0
        },
        "margin": {
         "t": 60
        },
        "template": {
         "data": {
          "bar": [
           {
            "error_x": {
             "color": "#2a3f5f"
            },
            "error_y": {
             "color": "#2a3f5f"
            },
            "marker": {
             "line": {
              "color": "#E5ECF6",
              "width": 0.5
             }
            },
            "type": "bar"
           }
          ],
          "barpolar": [
           {
            "marker": {
             "line": {
              "color": "#E5ECF6",
              "width": 0.5
             }
            },
            "type": "barpolar"
           }
          ],
          "carpet": [
           {
            "aaxis": {
             "endlinecolor": "#2a3f5f",
             "gridcolor": "white",
             "linecolor": "white",
             "minorgridcolor": "white",
             "startlinecolor": "#2a3f5f"
            },
            "baxis": {
             "endlinecolor": "#2a3f5f",
             "gridcolor": "white",
             "linecolor": "white",
             "minorgridcolor": "white",
             "startlinecolor": "#2a3f5f"
            },
            "type": "carpet"
           }
          ],
          "choropleth": [
           {
            "colorbar": {
             "outlinewidth": 0,
             "ticks": ""
            },
            "type": "choropleth"
           }
          ],
          "contour": [
           {
            "colorbar": {
             "outlinewidth": 0,
             "ticks": ""
            },
            "colorscale": [
             [
              0,
              "#0d0887"
             ],
             [
              0.1111111111111111,
              "#46039f"
             ],
             [
              0.2222222222222222,
              "#7201a8"
             ],
             [
              0.3333333333333333,
              "#9c179e"
             ],
             [
              0.4444444444444444,
              "#bd3786"
             ],
             [
              0.5555555555555556,
              "#d8576b"
             ],
             [
              0.6666666666666666,
              "#ed7953"
             ],
             [
              0.7777777777777778,
              "#fb9f3a"
             ],
             [
              0.8888888888888888,
              "#fdca26"
             ],
             [
              1,
              "#f0f921"
             ]
            ],
            "type": "contour"
           }
          ],
          "contourcarpet": [
           {
            "colorbar": {
             "outlinewidth": 0,
             "ticks": ""
            },
            "type": "contourcarpet"
           }
          ],
          "heatmap": [
           {
            "colorbar": {
             "outlinewidth": 0,
             "ticks": ""
            },
            "colorscale": [
             [
              0,
              "#0d0887"
             ],
             [
              0.1111111111111111,
              "#46039f"
             ],
             [
              0.2222222222222222,
              "#7201a8"
             ],
             [
              0.3333333333333333,
              "#9c179e"
             ],
             [
              0.4444444444444444,
              "#bd3786"
             ],
             [
              0.5555555555555556,
              "#d8576b"
             ],
             [
              0.6666666666666666,
              "#ed7953"
             ],
             [
              0.7777777777777778,
              "#fb9f3a"
             ],
             [
              0.8888888888888888,
              "#fdca26"
             ],
             [
              1,
              "#f0f921"
             ]
            ],
            "type": "heatmap"
           }
          ],
          "heatmapgl": [
           {
            "colorbar": {
             "outlinewidth": 0,
             "ticks": ""
            },
            "colorscale": [
             [
              0,
              "#0d0887"
             ],
             [
              0.1111111111111111,
              "#46039f"
             ],
             [
              0.2222222222222222,
              "#7201a8"
             ],
             [
              0.3333333333333333,
              "#9c179e"
             ],
             [
              0.4444444444444444,
              "#bd3786"
             ],
             [
              0.5555555555555556,
              "#d8576b"
             ],
             [
              0.6666666666666666,
              "#ed7953"
             ],
             [
              0.7777777777777778,
              "#fb9f3a"
             ],
             [
              0.8888888888888888,
              "#fdca26"
             ],
             [
              1,
              "#f0f921"
             ]
            ],
            "type": "heatmapgl"
           }
          ],
          "histogram": [
           {
            "marker": {
             "colorbar": {
              "outlinewidth": 0,
              "ticks": ""
             }
            },
            "type": "histogram"
           }
          ],
          "histogram2d": [
           {
            "colorbar": {
             "outlinewidth": 0,
             "ticks": ""
            },
            "colorscale": [
             [
              0,
              "#0d0887"
             ],
             [
              0.1111111111111111,
              "#46039f"
             ],
             [
              0.2222222222222222,
              "#7201a8"
             ],
             [
              0.3333333333333333,
              "#9c179e"
             ],
             [
              0.4444444444444444,
              "#bd3786"
             ],
             [
              0.5555555555555556,
              "#d8576b"
             ],
             [
              0.6666666666666666,
              "#ed7953"
             ],
             [
              0.7777777777777778,
              "#fb9f3a"
             ],
             [
              0.8888888888888888,
              "#fdca26"
             ],
             [
              1,
              "#f0f921"
             ]
            ],
            "type": "histogram2d"
           }
          ],
          "histogram2dcontour": [
           {
            "colorbar": {
             "outlinewidth": 0,
             "ticks": ""
            },
            "colorscale": [
             [
              0,
              "#0d0887"
             ],
             [
              0.1111111111111111,
              "#46039f"
             ],
             [
              0.2222222222222222,
              "#7201a8"
             ],
             [
              0.3333333333333333,
              "#9c179e"
             ],
             [
              0.4444444444444444,
              "#bd3786"
             ],
             [
              0.5555555555555556,
              "#d8576b"
             ],
             [
              0.6666666666666666,
              "#ed7953"
             ],
             [
              0.7777777777777778,
              "#fb9f3a"
             ],
             [
              0.8888888888888888,
              "#fdca26"
             ],
             [
              1,
              "#f0f921"
             ]
            ],
            "type": "histogram2dcontour"
           }
          ],
          "mesh3d": [
           {
            "colorbar": {
             "outlinewidth": 0,
             "ticks": ""
            },
            "type": "mesh3d"
           }
          ],
          "parcoords": [
           {
            "line": {
             "colorbar": {
              "outlinewidth": 0,
              "ticks": ""
             }
            },
            "type": "parcoords"
           }
          ],
          "pie": [
           {
            "automargin": true,
            "type": "pie"
           }
          ],
          "scatter": [
           {
            "marker": {
             "colorbar": {
              "outlinewidth": 0,
              "ticks": ""
             }
            },
            "type": "scatter"
           }
          ],
          "scatter3d": [
           {
            "line": {
             "colorbar": {
              "outlinewidth": 0,
              "ticks": ""
             }
            },
            "marker": {
             "colorbar": {
              "outlinewidth": 0,
              "ticks": ""
             }
            },
            "type": "scatter3d"
           }
          ],
          "scattercarpet": [
           {
            "marker": {
             "colorbar": {
              "outlinewidth": 0,
              "ticks": ""
             }
            },
            "type": "scattercarpet"
           }
          ],
          "scattergeo": [
           {
            "marker": {
             "colorbar": {
              "outlinewidth": 0,
              "ticks": ""
             }
            },
            "type": "scattergeo"
           }
          ],
          "scattergl": [
           {
            "marker": {
             "colorbar": {
              "outlinewidth": 0,
              "ticks": ""
             }
            },
            "type": "scattergl"
           }
          ],
          "scattermapbox": [
           {
            "marker": {
             "colorbar": {
              "outlinewidth": 0,
              "ticks": ""
             }
            },
            "type": "scattermapbox"
           }
          ],
          "scatterpolar": [
           {
            "marker": {
             "colorbar": {
              "outlinewidth": 0,
              "ticks": ""
             }
            },
            "type": "scatterpolar"
           }
          ],
          "scatterpolargl": [
           {
            "marker": {
             "colorbar": {
              "outlinewidth": 0,
              "ticks": ""
             }
            },
            "type": "scatterpolargl"
           }
          ],
          "scatterternary": [
           {
            "marker": {
             "colorbar": {
              "outlinewidth": 0,
              "ticks": ""
             }
            },
            "type": "scatterternary"
           }
          ],
          "surface": [
           {
            "colorbar": {
             "outlinewidth": 0,
             "ticks": ""
            },
            "colorscale": [
             [
              0,
              "#0d0887"
             ],
             [
              0.1111111111111111,
              "#46039f"
             ],
             [
              0.2222222222222222,
              "#7201a8"
             ],
             [
              0.3333333333333333,
              "#9c179e"
             ],
             [
              0.4444444444444444,
              "#bd3786"
             ],
             [
              0.5555555555555556,
              "#d8576b"
             ],
             [
              0.6666666666666666,
              "#ed7953"
             ],
             [
              0.7777777777777778,
              "#fb9f3a"
             ],
             [
              0.8888888888888888,
              "#fdca26"
             ],
             [
              1,
              "#f0f921"
             ]
            ],
            "type": "surface"
           }
          ],
          "table": [
           {
            "cells": {
             "fill": {
              "color": "#EBF0F8"
             },
             "line": {
              "color": "white"
             }
            },
            "header": {
             "fill": {
              "color": "#C8D4E3"
             },
             "line": {
              "color": "white"
             }
            },
            "type": "table"
           }
          ]
         },
         "layout": {
          "annotationdefaults": {
           "arrowcolor": "#2a3f5f",
           "arrowhead": 0,
           "arrowwidth": 1
          },
          "autotypenumbers": "strict",
          "coloraxis": {
           "colorbar": {
            "outlinewidth": 0,
            "ticks": ""
           }
          },
          "colorscale": {
           "diverging": [
            [
             0,
             "#8e0152"
            ],
            [
             0.1,
             "#c51b7d"
            ],
            [
             0.2,
             "#de77ae"
            ],
            [
             0.3,
             "#f1b6da"
            ],
            [
             0.4,
             "#fde0ef"
            ],
            [
             0.5,
             "#f7f7f7"
            ],
            [
             0.6,
             "#e6f5d0"
            ],
            [
             0.7,
             "#b8e186"
            ],
            [
             0.8,
             "#7fbc41"
            ],
            [
             0.9,
             "#4d9221"
            ],
            [
             1,
             "#276419"
            ]
           ],
           "sequential": [
            [
             0,
             "#0d0887"
            ],
            [
             0.1111111111111111,
             "#46039f"
            ],
            [
             0.2222222222222222,
             "#7201a8"
            ],
            [
             0.3333333333333333,
             "#9c179e"
            ],
            [
             0.4444444444444444,
             "#bd3786"
            ],
            [
             0.5555555555555556,
             "#d8576b"
            ],
            [
             0.6666666666666666,
             "#ed7953"
            ],
            [
             0.7777777777777778,
             "#fb9f3a"
            ],
            [
             0.8888888888888888,
             "#fdca26"
            ],
            [
             1,
             "#f0f921"
            ]
           ],
           "sequentialminus": [
            [
             0,
             "#0d0887"
            ],
            [
             0.1111111111111111,
             "#46039f"
            ],
            [
             0.2222222222222222,
             "#7201a8"
            ],
            [
             0.3333333333333333,
             "#9c179e"
            ],
            [
             0.4444444444444444,
             "#bd3786"
            ],
            [
             0.5555555555555556,
             "#d8576b"
            ],
            [
             0.6666666666666666,
             "#ed7953"
            ],
            [
             0.7777777777777778,
             "#fb9f3a"
            ],
            [
             0.8888888888888888,
             "#fdca26"
            ],
            [
             1,
             "#f0f921"
            ]
           ]
          },
          "colorway": [
           "#636efa",
           "#EF553B",
           "#00cc96",
           "#ab63fa",
           "#FFA15A",
           "#19d3f3",
           "#FF6692",
           "#B6E880",
           "#FF97FF",
           "#FECB52"
          ],
          "font": {
           "color": "#2a3f5f"
          },
          "geo": {
           "bgcolor": "white",
           "lakecolor": "white",
           "landcolor": "#E5ECF6",
           "showlakes": true,
           "showland": true,
           "subunitcolor": "white"
          },
          "hoverlabel": {
           "align": "left"
          },
          "hovermode": "closest",
          "mapbox": {
           "style": "light"
          },
          "paper_bgcolor": "white",
          "plot_bgcolor": "#E5ECF6",
          "polar": {
           "angularaxis": {
            "gridcolor": "white",
            "linecolor": "white",
            "ticks": ""
           },
           "bgcolor": "#E5ECF6",
           "radialaxis": {
            "gridcolor": "white",
            "linecolor": "white",
            "ticks": ""
           }
          },
          "scene": {
           "xaxis": {
            "backgroundcolor": "#E5ECF6",
            "gridcolor": "white",
            "gridwidth": 2,
            "linecolor": "white",
            "showbackground": true,
            "ticks": "",
            "zerolinecolor": "white"
           },
           "yaxis": {
            "backgroundcolor": "#E5ECF6",
            "gridcolor": "white",
            "gridwidth": 2,
            "linecolor": "white",
            "showbackground": true,
            "ticks": "",
            "zerolinecolor": "white"
           },
           "zaxis": {
            "backgroundcolor": "#E5ECF6",
            "gridcolor": "white",
            "gridwidth": 2,
            "linecolor": "white",
            "showbackground": true,
            "ticks": "",
            "zerolinecolor": "white"
           }
          },
          "shapedefaults": {
           "line": {
            "color": "#2a3f5f"
           }
          },
          "ternary": {
           "aaxis": {
            "gridcolor": "white",
            "linecolor": "white",
            "ticks": ""
           },
           "baxis": {
            "gridcolor": "white",
            "linecolor": "white",
            "ticks": ""
           },
           "bgcolor": "#E5ECF6",
           "caxis": {
            "gridcolor": "white",
            "linecolor": "white",
            "ticks": ""
           }
          },
          "title": {
           "x": 0.05
          },
          "xaxis": {
           "automargin": true,
           "gridcolor": "white",
           "linecolor": "white",
           "ticks": "",
           "title": {
            "standoff": 15
           },
           "zerolinecolor": "white",
           "zerolinewidth": 2
          },
          "yaxis": {
           "automargin": true,
           "gridcolor": "white",
           "linecolor": "white",
           "ticks": "",
           "title": {
            "standoff": 15
           },
           "zerolinecolor": "white",
           "zerolinewidth": 2
          }
         }
        },
        "xaxis": {
         "anchor": "y",
         "domain": [
          0,
          1
         ],
         "title": {
          "text": "Country"
         }
        },
        "yaxis": {
         "anchor": "x",
         "domain": [
          0,
          1
         ],
         "title": {
          "text": "NumStorePurchases"
         }
        }
       }
      },
      "text/html": [
       "<div>                            <div id=\"041b8798-7f71-4479-a1d7-a7c0a7dd49f8\" class=\"plotly-graph-div\" style=\"height:525px; width:100%;\"></div>            <script type=\"text/javascript\">                require([\"plotly\"], function(Plotly) {                    window.PLOTLYENV=window.PLOTLYENV || {};                                    if (document.getElementById(\"041b8798-7f71-4479-a1d7-a7c0a7dd49f8\")) {                    Plotly.newPlot(                        \"041b8798-7f71-4479-a1d7-a7c0a7dd49f8\",                        [{\"alignmentgroup\": \"True\", \"hovertemplate\": \"Country=%{x}<br>NumStorePurchases=%{y}<extra></extra>\", \"legendgroup\": \"\", \"marker\": {\"color\": \"#636efa\"}, \"name\": \"\", \"offsetgroup\": \"\", \"orientation\": \"v\", \"showlegend\": false, \"textposition\": \"auto\", \"type\": \"bar\", \"x\": [\"AUS\", \"CA\", \"GER\", \"IND\", \"ME\", \"SA\", \"SP\", \"US\"], \"xaxis\": \"x\", \"y\": [879, 1568, 721, 785, 19, 1983, 6345, 658], \"yaxis\": \"y\"}],                        {\"barmode\": \"relative\", \"legend\": {\"tracegroupgap\": 0}, \"margin\": {\"t\": 60}, \"template\": {\"data\": {\"bar\": [{\"error_x\": {\"color\": \"#2a3f5f\"}, \"error_y\": {\"color\": \"#2a3f5f\"}, \"marker\": {\"line\": {\"color\": \"#E5ECF6\", \"width\": 0.5}}, \"type\": \"bar\"}], \"barpolar\": [{\"marker\": {\"line\": {\"color\": \"#E5ECF6\", \"width\": 0.5}}, \"type\": \"barpolar\"}], \"carpet\": [{\"aaxis\": {\"endlinecolor\": \"#2a3f5f\", \"gridcolor\": \"white\", \"linecolor\": \"white\", \"minorgridcolor\": \"white\", \"startlinecolor\": \"#2a3f5f\"}, \"baxis\": {\"endlinecolor\": \"#2a3f5f\", \"gridcolor\": \"white\", \"linecolor\": \"white\", \"minorgridcolor\": \"white\", \"startlinecolor\": \"#2a3f5f\"}, \"type\": \"carpet\"}], \"choropleth\": [{\"colorbar\": {\"outlinewidth\": 0, \"ticks\": \"\"}, \"type\": \"choropleth\"}], \"contour\": [{\"colorbar\": {\"outlinewidth\": 0, \"ticks\": \"\"}, \"colorscale\": [[0.0, \"#0d0887\"], [0.1111111111111111, \"#46039f\"], [0.2222222222222222, \"#7201a8\"], [0.3333333333333333, \"#9c179e\"], [0.4444444444444444, \"#bd3786\"], [0.5555555555555556, \"#d8576b\"], [0.6666666666666666, \"#ed7953\"], [0.7777777777777778, \"#fb9f3a\"], [0.8888888888888888, \"#fdca26\"], [1.0, \"#f0f921\"]], \"type\": \"contour\"}], \"contourcarpet\": [{\"colorbar\": {\"outlinewidth\": 0, \"ticks\": \"\"}, \"type\": \"contourcarpet\"}], \"heatmap\": [{\"colorbar\": {\"outlinewidth\": 0, \"ticks\": \"\"}, \"colorscale\": [[0.0, \"#0d0887\"], [0.1111111111111111, \"#46039f\"], [0.2222222222222222, \"#7201a8\"], [0.3333333333333333, \"#9c179e\"], [0.4444444444444444, \"#bd3786\"], [0.5555555555555556, \"#d8576b\"], [0.6666666666666666, \"#ed7953\"], [0.7777777777777778, \"#fb9f3a\"], [0.8888888888888888, \"#fdca26\"], [1.0, \"#f0f921\"]], \"type\": \"heatmap\"}], \"heatmapgl\": [{\"colorbar\": {\"outlinewidth\": 0, \"ticks\": \"\"}, \"colorscale\": [[0.0, \"#0d0887\"], [0.1111111111111111, \"#46039f\"], [0.2222222222222222, \"#7201a8\"], [0.3333333333333333, \"#9c179e\"], [0.4444444444444444, \"#bd3786\"], [0.5555555555555556, \"#d8576b\"], [0.6666666666666666, \"#ed7953\"], [0.7777777777777778, \"#fb9f3a\"], [0.8888888888888888, \"#fdca26\"], [1.0, \"#f0f921\"]], \"type\": \"heatmapgl\"}], \"histogram\": [{\"marker\": {\"colorbar\": {\"outlinewidth\": 0, \"ticks\": \"\"}}, \"type\": \"histogram\"}], \"histogram2d\": [{\"colorbar\": {\"outlinewidth\": 0, \"ticks\": \"\"}, \"colorscale\": [[0.0, \"#0d0887\"], [0.1111111111111111, \"#46039f\"], [0.2222222222222222, \"#7201a8\"], [0.3333333333333333, \"#9c179e\"], [0.4444444444444444, \"#bd3786\"], [0.5555555555555556, \"#d8576b\"], [0.6666666666666666, \"#ed7953\"], [0.7777777777777778, \"#fb9f3a\"], [0.8888888888888888, \"#fdca26\"], [1.0, \"#f0f921\"]], \"type\": \"histogram2d\"}], \"histogram2dcontour\": [{\"colorbar\": {\"outlinewidth\": 0, \"ticks\": \"\"}, \"colorscale\": [[0.0, \"#0d0887\"], [0.1111111111111111, \"#46039f\"], [0.2222222222222222, \"#7201a8\"], [0.3333333333333333, \"#9c179e\"], [0.4444444444444444, \"#bd3786\"], [0.5555555555555556, \"#d8576b\"], [0.6666666666666666, \"#ed7953\"], [0.7777777777777778, \"#fb9f3a\"], [0.8888888888888888, \"#fdca26\"], [1.0, \"#f0f921\"]], \"type\": \"histogram2dcontour\"}], \"mesh3d\": [{\"colorbar\": {\"outlinewidth\": 0, \"ticks\": \"\"}, \"type\": \"mesh3d\"}], \"parcoords\": [{\"line\": {\"colorbar\": {\"outlinewidth\": 0, \"ticks\": \"\"}}, \"type\": \"parcoords\"}], \"pie\": [{\"automargin\": true, \"type\": \"pie\"}], \"scatter\": [{\"marker\": {\"colorbar\": {\"outlinewidth\": 0, \"ticks\": \"\"}}, \"type\": \"scatter\"}], \"scatter3d\": [{\"line\": {\"colorbar\": {\"outlinewidth\": 0, \"ticks\": \"\"}}, \"marker\": {\"colorbar\": {\"outlinewidth\": 0, \"ticks\": \"\"}}, \"type\": \"scatter3d\"}], \"scattercarpet\": [{\"marker\": {\"colorbar\": {\"outlinewidth\": 0, \"ticks\": \"\"}}, \"type\": \"scattercarpet\"}], \"scattergeo\": [{\"marker\": {\"colorbar\": {\"outlinewidth\": 0, \"ticks\": \"\"}}, \"type\": \"scattergeo\"}], \"scattergl\": [{\"marker\": {\"colorbar\": {\"outlinewidth\": 0, \"ticks\": \"\"}}, \"type\": \"scattergl\"}], \"scattermapbox\": [{\"marker\": {\"colorbar\": {\"outlinewidth\": 0, \"ticks\": \"\"}}, \"type\": \"scattermapbox\"}], \"scatterpolar\": [{\"marker\": {\"colorbar\": {\"outlinewidth\": 0, \"ticks\": \"\"}}, \"type\": \"scatterpolar\"}], \"scatterpolargl\": [{\"marker\": {\"colorbar\": {\"outlinewidth\": 0, \"ticks\": \"\"}}, \"type\": \"scatterpolargl\"}], \"scatterternary\": [{\"marker\": {\"colorbar\": {\"outlinewidth\": 0, \"ticks\": \"\"}}, \"type\": \"scatterternary\"}], \"surface\": [{\"colorbar\": {\"outlinewidth\": 0, \"ticks\": \"\"}, \"colorscale\": [[0.0, \"#0d0887\"], [0.1111111111111111, \"#46039f\"], [0.2222222222222222, \"#7201a8\"], [0.3333333333333333, \"#9c179e\"], [0.4444444444444444, \"#bd3786\"], [0.5555555555555556, \"#d8576b\"], [0.6666666666666666, \"#ed7953\"], [0.7777777777777778, \"#fb9f3a\"], [0.8888888888888888, \"#fdca26\"], [1.0, \"#f0f921\"]], \"type\": \"surface\"}], \"table\": [{\"cells\": {\"fill\": {\"color\": \"#EBF0F8\"}, \"line\": {\"color\": \"white\"}}, \"header\": {\"fill\": {\"color\": \"#C8D4E3\"}, \"line\": {\"color\": \"white\"}}, \"type\": \"table\"}]}, \"layout\": {\"annotationdefaults\": {\"arrowcolor\": \"#2a3f5f\", \"arrowhead\": 0, \"arrowwidth\": 1}, \"autotypenumbers\": \"strict\", \"coloraxis\": {\"colorbar\": {\"outlinewidth\": 0, \"ticks\": \"\"}}, \"colorscale\": {\"diverging\": [[0, \"#8e0152\"], [0.1, \"#c51b7d\"], [0.2, \"#de77ae\"], [0.3, \"#f1b6da\"], [0.4, \"#fde0ef\"], [0.5, \"#f7f7f7\"], [0.6, \"#e6f5d0\"], [0.7, \"#b8e186\"], [0.8, \"#7fbc41\"], [0.9, \"#4d9221\"], [1, \"#276419\"]], \"sequential\": [[0.0, \"#0d0887\"], [0.1111111111111111, \"#46039f\"], [0.2222222222222222, \"#7201a8\"], [0.3333333333333333, \"#9c179e\"], [0.4444444444444444, \"#bd3786\"], [0.5555555555555556, \"#d8576b\"], [0.6666666666666666, \"#ed7953\"], [0.7777777777777778, \"#fb9f3a\"], [0.8888888888888888, \"#fdca26\"], [1.0, \"#f0f921\"]], \"sequentialminus\": [[0.0, \"#0d0887\"], [0.1111111111111111, \"#46039f\"], [0.2222222222222222, \"#7201a8\"], [0.3333333333333333, \"#9c179e\"], [0.4444444444444444, \"#bd3786\"], [0.5555555555555556, \"#d8576b\"], [0.6666666666666666, \"#ed7953\"], [0.7777777777777778, \"#fb9f3a\"], [0.8888888888888888, \"#fdca26\"], [1.0, \"#f0f921\"]]}, \"colorway\": [\"#636efa\", \"#EF553B\", \"#00cc96\", \"#ab63fa\", \"#FFA15A\", \"#19d3f3\", \"#FF6692\", \"#B6E880\", \"#FF97FF\", \"#FECB52\"], \"font\": {\"color\": \"#2a3f5f\"}, \"geo\": {\"bgcolor\": \"white\", \"lakecolor\": \"white\", \"landcolor\": \"#E5ECF6\", \"showlakes\": true, \"showland\": true, \"subunitcolor\": \"white\"}, \"hoverlabel\": {\"align\": \"left\"}, \"hovermode\": \"closest\", \"mapbox\": {\"style\": \"light\"}, \"paper_bgcolor\": \"white\", \"plot_bgcolor\": \"#E5ECF6\", \"polar\": {\"angularaxis\": {\"gridcolor\": \"white\", \"linecolor\": \"white\", \"ticks\": \"\"}, \"bgcolor\": \"#E5ECF6\", \"radialaxis\": {\"gridcolor\": \"white\", \"linecolor\": \"white\", \"ticks\": \"\"}}, \"scene\": {\"xaxis\": {\"backgroundcolor\": \"#E5ECF6\", \"gridcolor\": \"white\", \"gridwidth\": 2, \"linecolor\": \"white\", \"showbackground\": true, \"ticks\": \"\", \"zerolinecolor\": \"white\"}, \"yaxis\": {\"backgroundcolor\": \"#E5ECF6\", \"gridcolor\": \"white\", \"gridwidth\": 2, \"linecolor\": \"white\", \"showbackground\": true, \"ticks\": \"\", \"zerolinecolor\": \"white\"}, \"zaxis\": {\"backgroundcolor\": \"#E5ECF6\", \"gridcolor\": \"white\", \"gridwidth\": 2, \"linecolor\": \"white\", \"showbackground\": true, \"ticks\": \"\", \"zerolinecolor\": \"white\"}}, \"shapedefaults\": {\"line\": {\"color\": \"#2a3f5f\"}}, \"ternary\": {\"aaxis\": {\"gridcolor\": \"white\", \"linecolor\": \"white\", \"ticks\": \"\"}, \"baxis\": {\"gridcolor\": \"white\", \"linecolor\": \"white\", \"ticks\": \"\"}, \"bgcolor\": \"#E5ECF6\", \"caxis\": {\"gridcolor\": \"white\", \"linecolor\": \"white\", \"ticks\": \"\"}}, \"title\": {\"x\": 0.05}, \"xaxis\": {\"automargin\": true, \"gridcolor\": \"white\", \"linecolor\": \"white\", \"ticks\": \"\", \"title\": {\"standoff\": 15}, \"zerolinecolor\": \"white\", \"zerolinewidth\": 2}, \"yaxis\": {\"automargin\": true, \"gridcolor\": \"white\", \"linecolor\": \"white\", \"ticks\": \"\", \"title\": {\"standoff\": 15}, \"zerolinecolor\": \"white\", \"zerolinewidth\": 2}}}, \"xaxis\": {\"anchor\": \"y\", \"domain\": [0.0, 1.0], \"title\": {\"text\": \"Country\"}}, \"yaxis\": {\"anchor\": \"x\", \"domain\": [0.0, 1.0], \"title\": {\"text\": \"NumStorePurchases\"}}},                        {\"responsive\": true}                    ).then(function(){\n",
       "                            \n",
       "var gd = document.getElementById('041b8798-7f71-4479-a1d7-a7c0a7dd49f8');\n",
       "var x = new MutationObserver(function (mutations, observer) {{\n",
       "        var display = window.getComputedStyle(gd).display;\n",
       "        if (!display || display === 'none') {{\n",
       "            console.log([gd, 'removed!']);\n",
       "            Plotly.purge(gd);\n",
       "            observer.disconnect();\n",
       "        }}\n",
       "}});\n",
       "\n",
       "// Listen for the removal of the full notebook cells\n",
       "var notebookContainer = gd.closest('#notebook-container');\n",
       "if (notebookContainer) {{\n",
       "    x.observe(notebookContainer, {childList: true});\n",
       "}}\n",
       "\n",
       "// Listen for the clearing of the current output cell\n",
       "var outputEl = gd.closest('.output');\n",
       "if (outputEl) {{\n",
       "    x.observe(outputEl, {childList: true});\n",
       "}}\n",
       "\n",
       "                        })                };                });            </script>        </div>"
      ]
     },
     "metadata": {},
     "output_type": "display_data"
    }
   ],
   "source": [
    "px.bar(Country , x = 'Country' , y = 'NumStorePurchases')"
   ]
  },
  {
   "cell_type": "markdown",
   "metadata": {},
   "source": [
    "# US Purchases vs World Purchases"
   ]
  },
  {
   "cell_type": "code",
   "execution_count": 74,
   "metadata": {},
   "outputs": [
    {
     "data": {
      "text/html": [
       "<div>\n",
       "<style scoped>\n",
       "    .dataframe tbody tr th:only-of-type {\n",
       "        vertical-align: middle;\n",
       "    }\n",
       "\n",
       "    .dataframe tbody tr th {\n",
       "        vertical-align: top;\n",
       "    }\n",
       "\n",
       "    .dataframe thead th {\n",
       "        text-align: right;\n",
       "    }\n",
       "</style>\n",
       "<table border=\"1\" class=\"dataframe\">\n",
       "  <thead>\n",
       "    <tr style=\"text-align: right;\">\n",
       "      <th></th>\n",
       "      <th>Country</th>\n",
       "      <th>TotalPurchases</th>\n",
       "    </tr>\n",
       "  </thead>\n",
       "  <tbody>\n",
       "    <tr>\n",
       "      <th>0</th>\n",
       "      <td>AUS</td>\n",
       "      <td>1435</td>\n",
       "    </tr>\n",
       "    <tr>\n",
       "      <th>1</th>\n",
       "      <td>CA</td>\n",
       "      <td>2533</td>\n",
       "    </tr>\n",
       "    <tr>\n",
       "      <th>2</th>\n",
       "      <td>GER</td>\n",
       "      <td>1067</td>\n",
       "    </tr>\n",
       "    <tr>\n",
       "      <th>3</th>\n",
       "      <td>IND</td>\n",
       "      <td>1314</td>\n",
       "    </tr>\n",
       "    <tr>\n",
       "      <th>4</th>\n",
       "      <td>ME</td>\n",
       "      <td>40</td>\n",
       "    </tr>\n",
       "    <tr>\n",
       "      <th>5</th>\n",
       "      <td>SA</td>\n",
       "      <td>3119</td>\n",
       "    </tr>\n",
       "    <tr>\n",
       "      <th>6</th>\n",
       "      <td>SP</td>\n",
       "      <td>9685</td>\n",
       "    </tr>\n",
       "    <tr>\n",
       "      <th>7</th>\n",
       "      <td>US</td>\n",
       "      <td>1103</td>\n",
       "    </tr>\n",
       "  </tbody>\n",
       "</table>\n",
       "</div>"
      ],
      "text/plain": [
       "  Country  TotalPurchases\n",
       "0     AUS            1435\n",
       "1      CA            2533\n",
       "2     GER            1067\n",
       "3     IND            1314\n",
       "4      ME              40\n",
       "5      SA            3119\n",
       "6      SP            9685\n",
       "7      US            1103"
      ]
     },
     "execution_count": 74,
     "metadata": {},
     "output_type": "execute_result"
    }
   ],
   "source": [
    "Country_TotalPurchases = df.groupby('Country').sum()['TotalPurchases'].reset_index()\n",
    "\n",
    "Country_TotalPurchases"
   ]
  },
  {
   "cell_type": "code",
   "execution_count": 75,
   "metadata": {},
   "outputs": [
    {
     "data": {
      "application/vnd.plotly.v1+json": {
       "config": {
        "plotlyServerURL": "https://plot.ly"
       },
       "data": [
        {
         "alignmentgroup": "True",
         "hovertemplate": "Country=%{x}<br>TotalPurchases=%{y}<extra></extra>",
         "legendgroup": "",
         "marker": {
          "color": "#636efa"
         },
         "name": "",
         "offsetgroup": "",
         "orientation": "v",
         "showlegend": false,
         "textposition": "auto",
         "type": "bar",
         "x": [
          "AUS",
          "CA",
          "GER",
          "IND",
          "ME",
          "SA",
          "SP",
          "US"
         ],
         "xaxis": "x",
         "y": [
          1435,
          2533,
          1067,
          1314,
          40,
          3119,
          9685,
          1103
         ],
         "yaxis": "y"
        }
       ],
       "layout": {
        "barmode": "relative",
        "legend": {
         "tracegroupgap": 0
        },
        "margin": {
         "t": 60
        },
        "template": {
         "data": {
          "bar": [
           {
            "error_x": {
             "color": "#2a3f5f"
            },
            "error_y": {
             "color": "#2a3f5f"
            },
            "marker": {
             "line": {
              "color": "#E5ECF6",
              "width": 0.5
             }
            },
            "type": "bar"
           }
          ],
          "barpolar": [
           {
            "marker": {
             "line": {
              "color": "#E5ECF6",
              "width": 0.5
             }
            },
            "type": "barpolar"
           }
          ],
          "carpet": [
           {
            "aaxis": {
             "endlinecolor": "#2a3f5f",
             "gridcolor": "white",
             "linecolor": "white",
             "minorgridcolor": "white",
             "startlinecolor": "#2a3f5f"
            },
            "baxis": {
             "endlinecolor": "#2a3f5f",
             "gridcolor": "white",
             "linecolor": "white",
             "minorgridcolor": "white",
             "startlinecolor": "#2a3f5f"
            },
            "type": "carpet"
           }
          ],
          "choropleth": [
           {
            "colorbar": {
             "outlinewidth": 0,
             "ticks": ""
            },
            "type": "choropleth"
           }
          ],
          "contour": [
           {
            "colorbar": {
             "outlinewidth": 0,
             "ticks": ""
            },
            "colorscale": [
             [
              0,
              "#0d0887"
             ],
             [
              0.1111111111111111,
              "#46039f"
             ],
             [
              0.2222222222222222,
              "#7201a8"
             ],
             [
              0.3333333333333333,
              "#9c179e"
             ],
             [
              0.4444444444444444,
              "#bd3786"
             ],
             [
              0.5555555555555556,
              "#d8576b"
             ],
             [
              0.6666666666666666,
              "#ed7953"
             ],
             [
              0.7777777777777778,
              "#fb9f3a"
             ],
             [
              0.8888888888888888,
              "#fdca26"
             ],
             [
              1,
              "#f0f921"
             ]
            ],
            "type": "contour"
           }
          ],
          "contourcarpet": [
           {
            "colorbar": {
             "outlinewidth": 0,
             "ticks": ""
            },
            "type": "contourcarpet"
           }
          ],
          "heatmap": [
           {
            "colorbar": {
             "outlinewidth": 0,
             "ticks": ""
            },
            "colorscale": [
             [
              0,
              "#0d0887"
             ],
             [
              0.1111111111111111,
              "#46039f"
             ],
             [
              0.2222222222222222,
              "#7201a8"
             ],
             [
              0.3333333333333333,
              "#9c179e"
             ],
             [
              0.4444444444444444,
              "#bd3786"
             ],
             [
              0.5555555555555556,
              "#d8576b"
             ],
             [
              0.6666666666666666,
              "#ed7953"
             ],
             [
              0.7777777777777778,
              "#fb9f3a"
             ],
             [
              0.8888888888888888,
              "#fdca26"
             ],
             [
              1,
              "#f0f921"
             ]
            ],
            "type": "heatmap"
           }
          ],
          "heatmapgl": [
           {
            "colorbar": {
             "outlinewidth": 0,
             "ticks": ""
            },
            "colorscale": [
             [
              0,
              "#0d0887"
             ],
             [
              0.1111111111111111,
              "#46039f"
             ],
             [
              0.2222222222222222,
              "#7201a8"
             ],
             [
              0.3333333333333333,
              "#9c179e"
             ],
             [
              0.4444444444444444,
              "#bd3786"
             ],
             [
              0.5555555555555556,
              "#d8576b"
             ],
             [
              0.6666666666666666,
              "#ed7953"
             ],
             [
              0.7777777777777778,
              "#fb9f3a"
             ],
             [
              0.8888888888888888,
              "#fdca26"
             ],
             [
              1,
              "#f0f921"
             ]
            ],
            "type": "heatmapgl"
           }
          ],
          "histogram": [
           {
            "marker": {
             "colorbar": {
              "outlinewidth": 0,
              "ticks": ""
             }
            },
            "type": "histogram"
           }
          ],
          "histogram2d": [
           {
            "colorbar": {
             "outlinewidth": 0,
             "ticks": ""
            },
            "colorscale": [
             [
              0,
              "#0d0887"
             ],
             [
              0.1111111111111111,
              "#46039f"
             ],
             [
              0.2222222222222222,
              "#7201a8"
             ],
             [
              0.3333333333333333,
              "#9c179e"
             ],
             [
              0.4444444444444444,
              "#bd3786"
             ],
             [
              0.5555555555555556,
              "#d8576b"
             ],
             [
              0.6666666666666666,
              "#ed7953"
             ],
             [
              0.7777777777777778,
              "#fb9f3a"
             ],
             [
              0.8888888888888888,
              "#fdca26"
             ],
             [
              1,
              "#f0f921"
             ]
            ],
            "type": "histogram2d"
           }
          ],
          "histogram2dcontour": [
           {
            "colorbar": {
             "outlinewidth": 0,
             "ticks": ""
            },
            "colorscale": [
             [
              0,
              "#0d0887"
             ],
             [
              0.1111111111111111,
              "#46039f"
             ],
             [
              0.2222222222222222,
              "#7201a8"
             ],
             [
              0.3333333333333333,
              "#9c179e"
             ],
             [
              0.4444444444444444,
              "#bd3786"
             ],
             [
              0.5555555555555556,
              "#d8576b"
             ],
             [
              0.6666666666666666,
              "#ed7953"
             ],
             [
              0.7777777777777778,
              "#fb9f3a"
             ],
             [
              0.8888888888888888,
              "#fdca26"
             ],
             [
              1,
              "#f0f921"
             ]
            ],
            "type": "histogram2dcontour"
           }
          ],
          "mesh3d": [
           {
            "colorbar": {
             "outlinewidth": 0,
             "ticks": ""
            },
            "type": "mesh3d"
           }
          ],
          "parcoords": [
           {
            "line": {
             "colorbar": {
              "outlinewidth": 0,
              "ticks": ""
             }
            },
            "type": "parcoords"
           }
          ],
          "pie": [
           {
            "automargin": true,
            "type": "pie"
           }
          ],
          "scatter": [
           {
            "marker": {
             "colorbar": {
              "outlinewidth": 0,
              "ticks": ""
             }
            },
            "type": "scatter"
           }
          ],
          "scatter3d": [
           {
            "line": {
             "colorbar": {
              "outlinewidth": 0,
              "ticks": ""
             }
            },
            "marker": {
             "colorbar": {
              "outlinewidth": 0,
              "ticks": ""
             }
            },
            "type": "scatter3d"
           }
          ],
          "scattercarpet": [
           {
            "marker": {
             "colorbar": {
              "outlinewidth": 0,
              "ticks": ""
             }
            },
            "type": "scattercarpet"
           }
          ],
          "scattergeo": [
           {
            "marker": {
             "colorbar": {
              "outlinewidth": 0,
              "ticks": ""
             }
            },
            "type": "scattergeo"
           }
          ],
          "scattergl": [
           {
            "marker": {
             "colorbar": {
              "outlinewidth": 0,
              "ticks": ""
             }
            },
            "type": "scattergl"
           }
          ],
          "scattermapbox": [
           {
            "marker": {
             "colorbar": {
              "outlinewidth": 0,
              "ticks": ""
             }
            },
            "type": "scattermapbox"
           }
          ],
          "scatterpolar": [
           {
            "marker": {
             "colorbar": {
              "outlinewidth": 0,
              "ticks": ""
             }
            },
            "type": "scatterpolar"
           }
          ],
          "scatterpolargl": [
           {
            "marker": {
             "colorbar": {
              "outlinewidth": 0,
              "ticks": ""
             }
            },
            "type": "scatterpolargl"
           }
          ],
          "scatterternary": [
           {
            "marker": {
             "colorbar": {
              "outlinewidth": 0,
              "ticks": ""
             }
            },
            "type": "scatterternary"
           }
          ],
          "surface": [
           {
            "colorbar": {
             "outlinewidth": 0,
             "ticks": ""
            },
            "colorscale": [
             [
              0,
              "#0d0887"
             ],
             [
              0.1111111111111111,
              "#46039f"
             ],
             [
              0.2222222222222222,
              "#7201a8"
             ],
             [
              0.3333333333333333,
              "#9c179e"
             ],
             [
              0.4444444444444444,
              "#bd3786"
             ],
             [
              0.5555555555555556,
              "#d8576b"
             ],
             [
              0.6666666666666666,
              "#ed7953"
             ],
             [
              0.7777777777777778,
              "#fb9f3a"
             ],
             [
              0.8888888888888888,
              "#fdca26"
             ],
             [
              1,
              "#f0f921"
             ]
            ],
            "type": "surface"
           }
          ],
          "table": [
           {
            "cells": {
             "fill": {
              "color": "#EBF0F8"
             },
             "line": {
              "color": "white"
             }
            },
            "header": {
             "fill": {
              "color": "#C8D4E3"
             },
             "line": {
              "color": "white"
             }
            },
            "type": "table"
           }
          ]
         },
         "layout": {
          "annotationdefaults": {
           "arrowcolor": "#2a3f5f",
           "arrowhead": 0,
           "arrowwidth": 1
          },
          "autotypenumbers": "strict",
          "coloraxis": {
           "colorbar": {
            "outlinewidth": 0,
            "ticks": ""
           }
          },
          "colorscale": {
           "diverging": [
            [
             0,
             "#8e0152"
            ],
            [
             0.1,
             "#c51b7d"
            ],
            [
             0.2,
             "#de77ae"
            ],
            [
             0.3,
             "#f1b6da"
            ],
            [
             0.4,
             "#fde0ef"
            ],
            [
             0.5,
             "#f7f7f7"
            ],
            [
             0.6,
             "#e6f5d0"
            ],
            [
             0.7,
             "#b8e186"
            ],
            [
             0.8,
             "#7fbc41"
            ],
            [
             0.9,
             "#4d9221"
            ],
            [
             1,
             "#276419"
            ]
           ],
           "sequential": [
            [
             0,
             "#0d0887"
            ],
            [
             0.1111111111111111,
             "#46039f"
            ],
            [
             0.2222222222222222,
             "#7201a8"
            ],
            [
             0.3333333333333333,
             "#9c179e"
            ],
            [
             0.4444444444444444,
             "#bd3786"
            ],
            [
             0.5555555555555556,
             "#d8576b"
            ],
            [
             0.6666666666666666,
             "#ed7953"
            ],
            [
             0.7777777777777778,
             "#fb9f3a"
            ],
            [
             0.8888888888888888,
             "#fdca26"
            ],
            [
             1,
             "#f0f921"
            ]
           ],
           "sequentialminus": [
            [
             0,
             "#0d0887"
            ],
            [
             0.1111111111111111,
             "#46039f"
            ],
            [
             0.2222222222222222,
             "#7201a8"
            ],
            [
             0.3333333333333333,
             "#9c179e"
            ],
            [
             0.4444444444444444,
             "#bd3786"
            ],
            [
             0.5555555555555556,
             "#d8576b"
            ],
            [
             0.6666666666666666,
             "#ed7953"
            ],
            [
             0.7777777777777778,
             "#fb9f3a"
            ],
            [
             0.8888888888888888,
             "#fdca26"
            ],
            [
             1,
             "#f0f921"
            ]
           ]
          },
          "colorway": [
           "#636efa",
           "#EF553B",
           "#00cc96",
           "#ab63fa",
           "#FFA15A",
           "#19d3f3",
           "#FF6692",
           "#B6E880",
           "#FF97FF",
           "#FECB52"
          ],
          "font": {
           "color": "#2a3f5f"
          },
          "geo": {
           "bgcolor": "white",
           "lakecolor": "white",
           "landcolor": "#E5ECF6",
           "showlakes": true,
           "showland": true,
           "subunitcolor": "white"
          },
          "hoverlabel": {
           "align": "left"
          },
          "hovermode": "closest",
          "mapbox": {
           "style": "light"
          },
          "paper_bgcolor": "white",
          "plot_bgcolor": "#E5ECF6",
          "polar": {
           "angularaxis": {
            "gridcolor": "white",
            "linecolor": "white",
            "ticks": ""
           },
           "bgcolor": "#E5ECF6",
           "radialaxis": {
            "gridcolor": "white",
            "linecolor": "white",
            "ticks": ""
           }
          },
          "scene": {
           "xaxis": {
            "backgroundcolor": "#E5ECF6",
            "gridcolor": "white",
            "gridwidth": 2,
            "linecolor": "white",
            "showbackground": true,
            "ticks": "",
            "zerolinecolor": "white"
           },
           "yaxis": {
            "backgroundcolor": "#E5ECF6",
            "gridcolor": "white",
            "gridwidth": 2,
            "linecolor": "white",
            "showbackground": true,
            "ticks": "",
            "zerolinecolor": "white"
           },
           "zaxis": {
            "backgroundcolor": "#E5ECF6",
            "gridcolor": "white",
            "gridwidth": 2,
            "linecolor": "white",
            "showbackground": true,
            "ticks": "",
            "zerolinecolor": "white"
           }
          },
          "shapedefaults": {
           "line": {
            "color": "#2a3f5f"
           }
          },
          "ternary": {
           "aaxis": {
            "gridcolor": "white",
            "linecolor": "white",
            "ticks": ""
           },
           "baxis": {
            "gridcolor": "white",
            "linecolor": "white",
            "ticks": ""
           },
           "bgcolor": "#E5ECF6",
           "caxis": {
            "gridcolor": "white",
            "linecolor": "white",
            "ticks": ""
           }
          },
          "title": {
           "x": 0.05
          },
          "xaxis": {
           "automargin": true,
           "gridcolor": "white",
           "linecolor": "white",
           "ticks": "",
           "title": {
            "standoff": 15
           },
           "zerolinecolor": "white",
           "zerolinewidth": 2
          },
          "yaxis": {
           "automargin": true,
           "gridcolor": "white",
           "linecolor": "white",
           "ticks": "",
           "title": {
            "standoff": 15
           },
           "zerolinecolor": "white",
           "zerolinewidth": 2
          }
         }
        },
        "xaxis": {
         "anchor": "y",
         "domain": [
          0,
          1
         ],
         "title": {
          "text": "Country"
         }
        },
        "yaxis": {
         "anchor": "x",
         "domain": [
          0,
          1
         ],
         "title": {
          "text": "TotalPurchases"
         }
        }
       }
      },
      "text/html": [
       "<div>                            <div id=\"296c1969-cace-4285-b53b-9a7aecfe4a0b\" class=\"plotly-graph-div\" style=\"height:525px; width:100%;\"></div>            <script type=\"text/javascript\">                require([\"plotly\"], function(Plotly) {                    window.PLOTLYENV=window.PLOTLYENV || {};                                    if (document.getElementById(\"296c1969-cace-4285-b53b-9a7aecfe4a0b\")) {                    Plotly.newPlot(                        \"296c1969-cace-4285-b53b-9a7aecfe4a0b\",                        [{\"alignmentgroup\": \"True\", \"hovertemplate\": \"Country=%{x}<br>TotalPurchases=%{y}<extra></extra>\", \"legendgroup\": \"\", \"marker\": {\"color\": \"#636efa\"}, \"name\": \"\", \"offsetgroup\": \"\", \"orientation\": \"v\", \"showlegend\": false, \"textposition\": \"auto\", \"type\": \"bar\", \"x\": [\"AUS\", \"CA\", \"GER\", \"IND\", \"ME\", \"SA\", \"SP\", \"US\"], \"xaxis\": \"x\", \"y\": [1435, 2533, 1067, 1314, 40, 3119, 9685, 1103], \"yaxis\": \"y\"}],                        {\"barmode\": \"relative\", \"legend\": {\"tracegroupgap\": 0}, \"margin\": {\"t\": 60}, \"template\": {\"data\": {\"bar\": [{\"error_x\": {\"color\": \"#2a3f5f\"}, \"error_y\": {\"color\": \"#2a3f5f\"}, \"marker\": {\"line\": {\"color\": \"#E5ECF6\", \"width\": 0.5}}, \"type\": \"bar\"}], \"barpolar\": [{\"marker\": {\"line\": {\"color\": \"#E5ECF6\", \"width\": 0.5}}, \"type\": \"barpolar\"}], \"carpet\": [{\"aaxis\": {\"endlinecolor\": \"#2a3f5f\", \"gridcolor\": \"white\", \"linecolor\": \"white\", \"minorgridcolor\": \"white\", \"startlinecolor\": \"#2a3f5f\"}, \"baxis\": {\"endlinecolor\": \"#2a3f5f\", \"gridcolor\": \"white\", \"linecolor\": \"white\", \"minorgridcolor\": \"white\", \"startlinecolor\": \"#2a3f5f\"}, \"type\": \"carpet\"}], \"choropleth\": [{\"colorbar\": {\"outlinewidth\": 0, \"ticks\": \"\"}, \"type\": \"choropleth\"}], \"contour\": [{\"colorbar\": {\"outlinewidth\": 0, \"ticks\": \"\"}, \"colorscale\": [[0.0, \"#0d0887\"], [0.1111111111111111, \"#46039f\"], [0.2222222222222222, \"#7201a8\"], [0.3333333333333333, \"#9c179e\"], [0.4444444444444444, \"#bd3786\"], [0.5555555555555556, \"#d8576b\"], [0.6666666666666666, \"#ed7953\"], [0.7777777777777778, \"#fb9f3a\"], [0.8888888888888888, \"#fdca26\"], [1.0, \"#f0f921\"]], \"type\": \"contour\"}], \"contourcarpet\": [{\"colorbar\": {\"outlinewidth\": 0, \"ticks\": \"\"}, \"type\": \"contourcarpet\"}], \"heatmap\": [{\"colorbar\": {\"outlinewidth\": 0, \"ticks\": \"\"}, \"colorscale\": [[0.0, \"#0d0887\"], [0.1111111111111111, \"#46039f\"], [0.2222222222222222, \"#7201a8\"], [0.3333333333333333, \"#9c179e\"], [0.4444444444444444, \"#bd3786\"], [0.5555555555555556, \"#d8576b\"], [0.6666666666666666, \"#ed7953\"], [0.7777777777777778, \"#fb9f3a\"], [0.8888888888888888, \"#fdca26\"], [1.0, \"#f0f921\"]], \"type\": \"heatmap\"}], \"heatmapgl\": [{\"colorbar\": {\"outlinewidth\": 0, \"ticks\": \"\"}, \"colorscale\": [[0.0, \"#0d0887\"], [0.1111111111111111, \"#46039f\"], [0.2222222222222222, \"#7201a8\"], [0.3333333333333333, \"#9c179e\"], [0.4444444444444444, \"#bd3786\"], [0.5555555555555556, \"#d8576b\"], [0.6666666666666666, \"#ed7953\"], [0.7777777777777778, \"#fb9f3a\"], [0.8888888888888888, \"#fdca26\"], [1.0, \"#f0f921\"]], \"type\": \"heatmapgl\"}], \"histogram\": [{\"marker\": {\"colorbar\": {\"outlinewidth\": 0, \"ticks\": \"\"}}, \"type\": \"histogram\"}], \"histogram2d\": [{\"colorbar\": {\"outlinewidth\": 0, \"ticks\": \"\"}, \"colorscale\": [[0.0, \"#0d0887\"], [0.1111111111111111, \"#46039f\"], [0.2222222222222222, \"#7201a8\"], [0.3333333333333333, \"#9c179e\"], [0.4444444444444444, \"#bd3786\"], [0.5555555555555556, \"#d8576b\"], [0.6666666666666666, \"#ed7953\"], [0.7777777777777778, \"#fb9f3a\"], [0.8888888888888888, \"#fdca26\"], [1.0, \"#f0f921\"]], \"type\": \"histogram2d\"}], \"histogram2dcontour\": [{\"colorbar\": {\"outlinewidth\": 0, \"ticks\": \"\"}, \"colorscale\": [[0.0, \"#0d0887\"], [0.1111111111111111, \"#46039f\"], [0.2222222222222222, \"#7201a8\"], [0.3333333333333333, \"#9c179e\"], [0.4444444444444444, \"#bd3786\"], [0.5555555555555556, \"#d8576b\"], [0.6666666666666666, \"#ed7953\"], [0.7777777777777778, \"#fb9f3a\"], [0.8888888888888888, \"#fdca26\"], [1.0, \"#f0f921\"]], \"type\": \"histogram2dcontour\"}], \"mesh3d\": [{\"colorbar\": {\"outlinewidth\": 0, \"ticks\": \"\"}, \"type\": \"mesh3d\"}], \"parcoords\": [{\"line\": {\"colorbar\": {\"outlinewidth\": 0, \"ticks\": \"\"}}, \"type\": \"parcoords\"}], \"pie\": [{\"automargin\": true, \"type\": \"pie\"}], \"scatter\": [{\"marker\": {\"colorbar\": {\"outlinewidth\": 0, \"ticks\": \"\"}}, \"type\": \"scatter\"}], \"scatter3d\": [{\"line\": {\"colorbar\": {\"outlinewidth\": 0, \"ticks\": \"\"}}, \"marker\": {\"colorbar\": {\"outlinewidth\": 0, \"ticks\": \"\"}}, \"type\": \"scatter3d\"}], \"scattercarpet\": [{\"marker\": {\"colorbar\": {\"outlinewidth\": 0, \"ticks\": \"\"}}, \"type\": \"scattercarpet\"}], \"scattergeo\": [{\"marker\": {\"colorbar\": {\"outlinewidth\": 0, \"ticks\": \"\"}}, \"type\": \"scattergeo\"}], \"scattergl\": [{\"marker\": {\"colorbar\": {\"outlinewidth\": 0, \"ticks\": \"\"}}, \"type\": \"scattergl\"}], \"scattermapbox\": [{\"marker\": {\"colorbar\": {\"outlinewidth\": 0, \"ticks\": \"\"}}, \"type\": \"scattermapbox\"}], \"scatterpolar\": [{\"marker\": {\"colorbar\": {\"outlinewidth\": 0, \"ticks\": \"\"}}, \"type\": \"scatterpolar\"}], \"scatterpolargl\": [{\"marker\": {\"colorbar\": {\"outlinewidth\": 0, \"ticks\": \"\"}}, \"type\": \"scatterpolargl\"}], \"scatterternary\": [{\"marker\": {\"colorbar\": {\"outlinewidth\": 0, \"ticks\": \"\"}}, \"type\": \"scatterternary\"}], \"surface\": [{\"colorbar\": {\"outlinewidth\": 0, \"ticks\": \"\"}, \"colorscale\": [[0.0, \"#0d0887\"], [0.1111111111111111, \"#46039f\"], [0.2222222222222222, \"#7201a8\"], [0.3333333333333333, \"#9c179e\"], [0.4444444444444444, \"#bd3786\"], [0.5555555555555556, \"#d8576b\"], [0.6666666666666666, \"#ed7953\"], [0.7777777777777778, \"#fb9f3a\"], [0.8888888888888888, \"#fdca26\"], [1.0, \"#f0f921\"]], \"type\": \"surface\"}], \"table\": [{\"cells\": {\"fill\": {\"color\": \"#EBF0F8\"}, \"line\": {\"color\": \"white\"}}, \"header\": {\"fill\": {\"color\": \"#C8D4E3\"}, \"line\": {\"color\": \"white\"}}, \"type\": \"table\"}]}, \"layout\": {\"annotationdefaults\": {\"arrowcolor\": \"#2a3f5f\", \"arrowhead\": 0, \"arrowwidth\": 1}, \"autotypenumbers\": \"strict\", \"coloraxis\": {\"colorbar\": {\"outlinewidth\": 0, \"ticks\": \"\"}}, \"colorscale\": {\"diverging\": [[0, \"#8e0152\"], [0.1, \"#c51b7d\"], [0.2, \"#de77ae\"], [0.3, \"#f1b6da\"], [0.4, \"#fde0ef\"], [0.5, \"#f7f7f7\"], [0.6, \"#e6f5d0\"], [0.7, \"#b8e186\"], [0.8, \"#7fbc41\"], [0.9, \"#4d9221\"], [1, \"#276419\"]], \"sequential\": [[0.0, \"#0d0887\"], [0.1111111111111111, \"#46039f\"], [0.2222222222222222, \"#7201a8\"], [0.3333333333333333, \"#9c179e\"], [0.4444444444444444, \"#bd3786\"], [0.5555555555555556, \"#d8576b\"], [0.6666666666666666, \"#ed7953\"], [0.7777777777777778, \"#fb9f3a\"], [0.8888888888888888, \"#fdca26\"], [1.0, \"#f0f921\"]], \"sequentialminus\": [[0.0, \"#0d0887\"], [0.1111111111111111, \"#46039f\"], [0.2222222222222222, \"#7201a8\"], [0.3333333333333333, \"#9c179e\"], [0.4444444444444444, \"#bd3786\"], [0.5555555555555556, \"#d8576b\"], [0.6666666666666666, \"#ed7953\"], [0.7777777777777778, \"#fb9f3a\"], [0.8888888888888888, \"#fdca26\"], [1.0, \"#f0f921\"]]}, \"colorway\": [\"#636efa\", \"#EF553B\", \"#00cc96\", \"#ab63fa\", \"#FFA15A\", \"#19d3f3\", \"#FF6692\", \"#B6E880\", \"#FF97FF\", \"#FECB52\"], \"font\": {\"color\": \"#2a3f5f\"}, \"geo\": {\"bgcolor\": \"white\", \"lakecolor\": \"white\", \"landcolor\": \"#E5ECF6\", \"showlakes\": true, \"showland\": true, \"subunitcolor\": \"white\"}, \"hoverlabel\": {\"align\": \"left\"}, \"hovermode\": \"closest\", \"mapbox\": {\"style\": \"light\"}, \"paper_bgcolor\": \"white\", \"plot_bgcolor\": \"#E5ECF6\", \"polar\": {\"angularaxis\": {\"gridcolor\": \"white\", \"linecolor\": \"white\", \"ticks\": \"\"}, \"bgcolor\": \"#E5ECF6\", \"radialaxis\": {\"gridcolor\": \"white\", \"linecolor\": \"white\", \"ticks\": \"\"}}, \"scene\": {\"xaxis\": {\"backgroundcolor\": \"#E5ECF6\", \"gridcolor\": \"white\", \"gridwidth\": 2, \"linecolor\": \"white\", \"showbackground\": true, \"ticks\": \"\", \"zerolinecolor\": \"white\"}, \"yaxis\": {\"backgroundcolor\": \"#E5ECF6\", \"gridcolor\": \"white\", \"gridwidth\": 2, \"linecolor\": \"white\", \"showbackground\": true, \"ticks\": \"\", \"zerolinecolor\": \"white\"}, \"zaxis\": {\"backgroundcolor\": \"#E5ECF6\", \"gridcolor\": \"white\", \"gridwidth\": 2, \"linecolor\": \"white\", \"showbackground\": true, \"ticks\": \"\", \"zerolinecolor\": \"white\"}}, \"shapedefaults\": {\"line\": {\"color\": \"#2a3f5f\"}}, \"ternary\": {\"aaxis\": {\"gridcolor\": \"white\", \"linecolor\": \"white\", \"ticks\": \"\"}, \"baxis\": {\"gridcolor\": \"white\", \"linecolor\": \"white\", \"ticks\": \"\"}, \"bgcolor\": \"#E5ECF6\", \"caxis\": {\"gridcolor\": \"white\", \"linecolor\": \"white\", \"ticks\": \"\"}}, \"title\": {\"x\": 0.05}, \"xaxis\": {\"automargin\": true, \"gridcolor\": \"white\", \"linecolor\": \"white\", \"ticks\": \"\", \"title\": {\"standoff\": 15}, \"zerolinecolor\": \"white\", \"zerolinewidth\": 2}, \"yaxis\": {\"automargin\": true, \"gridcolor\": \"white\", \"linecolor\": \"white\", \"ticks\": \"\", \"title\": {\"standoff\": 15}, \"zerolinecolor\": \"white\", \"zerolinewidth\": 2}}}, \"xaxis\": {\"anchor\": \"y\", \"domain\": [0.0, 1.0], \"title\": {\"text\": \"Country\"}}, \"yaxis\": {\"anchor\": \"x\", \"domain\": [0.0, 1.0], \"title\": {\"text\": \"TotalPurchases\"}}},                        {\"responsive\": true}                    ).then(function(){\n",
       "                            \n",
       "var gd = document.getElementById('296c1969-cace-4285-b53b-9a7aecfe4a0b');\n",
       "var x = new MutationObserver(function (mutations, observer) {{\n",
       "        var display = window.getComputedStyle(gd).display;\n",
       "        if (!display || display === 'none') {{\n",
       "            console.log([gd, 'removed!']);\n",
       "            Plotly.purge(gd);\n",
       "            observer.disconnect();\n",
       "        }}\n",
       "}});\n",
       "\n",
       "// Listen for the removal of the full notebook cells\n",
       "var notebookContainer = gd.closest('#notebook-container');\n",
       "if (notebookContainer) {{\n",
       "    x.observe(notebookContainer, {childList: true});\n",
       "}}\n",
       "\n",
       "// Listen for the clearing of the current output cell\n",
       "var outputEl = gd.closest('.output');\n",
       "if (outputEl) {{\n",
       "    x.observe(outputEl, {childList: true});\n",
       "}}\n",
       "\n",
       "                        })                };                });            </script>        </div>"
      ]
     },
     "metadata": {},
     "output_type": "display_data"
    }
   ],
   "source": [
    "px.bar(Country_TotalPurchases , x = 'Country' , y = 'TotalPurchases')"
   ]
  },
  {
   "cell_type": "markdown",
   "metadata": {},
   "source": [
    "# Relationship between Buying Gold and In-Store Purchases"
   ]
  },
  {
   "cell_type": "code",
   "execution_count": 44,
   "metadata": {},
   "outputs": [],
   "source": [
    "MntGoldProds= df.groupby('MntGoldProds').sum()['NumStorePurchases'].reset_index()"
   ]
  },
  {
   "cell_type": "code",
   "execution_count": 45,
   "metadata": {},
   "outputs": [
    {
     "data": {
      "text/html": [
       "<div>\n",
       "<style scoped>\n",
       "    .dataframe tbody tr th:only-of-type {\n",
       "        vertical-align: middle;\n",
       "    }\n",
       "\n",
       "    .dataframe tbody tr th {\n",
       "        vertical-align: top;\n",
       "    }\n",
       "\n",
       "    .dataframe thead th {\n",
       "        text-align: right;\n",
       "    }\n",
       "</style>\n",
       "<table border=\"1\" class=\"dataframe\">\n",
       "  <thead>\n",
       "    <tr style=\"text-align: right;\">\n",
       "      <th></th>\n",
       "      <th>MntGoldProds</th>\n",
       "      <th>NumStorePurchases</th>\n",
       "    </tr>\n",
       "  </thead>\n",
       "  <tbody>\n",
       "    <tr>\n",
       "      <th>0</th>\n",
       "      <td>0</td>\n",
       "      <td>311</td>\n",
       "    </tr>\n",
       "    <tr>\n",
       "      <th>1</th>\n",
       "      <td>1</td>\n",
       "      <td>176</td>\n",
       "    </tr>\n",
       "    <tr>\n",
       "      <th>2</th>\n",
       "      <td>2</td>\n",
       "      <td>183</td>\n",
       "    </tr>\n",
       "    <tr>\n",
       "      <th>3</th>\n",
       "      <td>3</td>\n",
       "      <td>215</td>\n",
       "    </tr>\n",
       "    <tr>\n",
       "      <th>4</th>\n",
       "      <td>4</td>\n",
       "      <td>242</td>\n",
       "    </tr>\n",
       "    <tr>\n",
       "      <th>...</th>\n",
       "      <td>...</td>\n",
       "      <td>...</td>\n",
       "    </tr>\n",
       "    <tr>\n",
       "      <th>208</th>\n",
       "      <td>249</td>\n",
       "      <td>4</td>\n",
       "    </tr>\n",
       "    <tr>\n",
       "      <th>209</th>\n",
       "      <td>262</td>\n",
       "      <td>1</td>\n",
       "    </tr>\n",
       "    <tr>\n",
       "      <th>210</th>\n",
       "      <td>291</td>\n",
       "      <td>1</td>\n",
       "    </tr>\n",
       "    <tr>\n",
       "      <th>211</th>\n",
       "      <td>321</td>\n",
       "      <td>0</td>\n",
       "    </tr>\n",
       "    <tr>\n",
       "      <th>212</th>\n",
       "      <td>362</td>\n",
       "      <td>0</td>\n",
       "    </tr>\n",
       "  </tbody>\n",
       "</table>\n",
       "<p>213 rows × 2 columns</p>\n",
       "</div>"
      ],
      "text/plain": [
       "     MntGoldProds  NumStorePurchases\n",
       "0               0                311\n",
       "1               1                176\n",
       "2               2                183\n",
       "3               3                215\n",
       "4               4                242\n",
       "..            ...                ...\n",
       "208           249                  4\n",
       "209           262                  1\n",
       "210           291                  1\n",
       "211           321                  0\n",
       "212           362                  0\n",
       "\n",
       "[213 rows x 2 columns]"
      ]
     },
     "execution_count": 45,
     "metadata": {},
     "output_type": "execute_result"
    }
   ],
   "source": [
    "MntGoldProds"
   ]
  },
  {
   "cell_type": "code",
   "execution_count": 46,
   "metadata": {},
   "outputs": [
    {
     "data": {
      "application/vnd.plotly.v1+json": {
       "config": {
        "plotlyServerURL": "https://plot.ly"
       },
       "data": [
        {
         "hovertemplate": "NumStorePurchases=%{x}<br>MntGoldProds=%{y}<extra></extra>",
         "legendgroup": "",
         "marker": {
          "color": "#636efa",
          "symbol": "circle"
         },
         "mode": "markers",
         "name": "",
         "orientation": "v",
         "showlegend": false,
         "type": "scatter",
         "x": [
          311,
          176,
          183,
          215,
          242,
          234,
          231,
          206,
          186,
          159,
          205,
          240,
          327,
          121,
          211,
          289,
          145,
          197,
          150,
          118,
          200,
          162,
          132,
          95,
          142,
          66,
          215,
          165,
          142,
          139,
          214,
          88,
          116,
          146,
          172,
          181,
          70,
          117,
          185,
          64,
          137,
          135,
          162,
          110,
          72,
          121,
          58,
          85,
          112,
          64,
          90,
          58,
          42,
          88,
          164,
          30,
          70,
          111,
          65,
          45,
          26,
          76,
          26,
          73,
          55,
          44,
          88,
          25,
          24,
          33,
          55,
          42,
          23,
          37,
          19,
          40,
          113,
          35,
          44,
          49,
          88,
          29,
          42,
          55,
          53,
          27,
          42,
          54,
          77,
          30,
          59,
          63,
          60,
          6,
          39,
          30,
          39,
          10,
          46,
          39,
          34,
          41,
          10,
          34,
          71,
          75,
          34,
          7,
          30,
          23,
          56,
          19,
          15,
          35,
          20,
          19,
          16,
          25,
          26,
          8,
          27,
          45,
          53,
          7,
          18,
          32,
          35,
          38,
          6,
          54,
          48,
          16,
          8,
          22,
          26,
          4,
          44,
          24,
          20,
          18,
          31,
          12,
          24,
          13,
          26,
          16,
          37,
          20,
          43,
          28,
          8,
          10,
          8,
          26,
          6,
          13,
          22,
          23,
          9,
          15,
          25,
          10,
          28,
          5,
          44,
          4,
          44,
          17,
          21,
          8,
          9,
          11,
          9,
          27,
          24,
          22,
          22,
          28,
          58,
          15,
          20,
          29,
          9,
          4,
          9,
          19,
          18,
          13,
          27,
          13,
          19,
          6,
          6,
          12,
          8,
          24,
          17,
          13,
          12,
          6,
          17,
          8,
          46,
          16,
          7,
          10,
          4,
          5,
          4,
          1,
          1,
          0,
          0
         ],
         "xaxis": "x",
         "y": [
          0,
          1,
          2,
          3,
          4,
          5,
          6,
          7,
          8,
          9,
          10,
          11,
          12,
          13,
          14,
          15,
          16,
          17,
          18,
          19,
          20,
          21,
          22,
          23,
          24,
          25,
          26,
          27,
          28,
          29,
          30,
          31,
          32,
          33,
          34,
          35,
          36,
          37,
          38,
          39,
          40,
          41,
          42,
          43,
          44,
          45,
          46,
          47,
          48,
          49,
          50,
          51,
          52,
          53,
          54,
          55,
          56,
          57,
          58,
          59,
          60,
          61,
          62,
          63,
          64,
          65,
          66,
          67,
          68,
          69,
          70,
          71,
          72,
          73,
          74,
          75,
          76,
          77,
          78,
          79,
          80,
          81,
          82,
          83,
          84,
          85,
          86,
          88,
          89,
          90,
          91,
          92,
          93,
          94,
          95,
          96,
          97,
          98,
          99,
          100,
          101,
          102,
          103,
          106,
          107,
          108,
          109,
          110,
          111,
          112,
          114,
          115,
          116,
          117,
          118,
          119,
          120,
          121,
          122,
          123,
          124,
          125,
          126,
          127,
          128,
          129,
          130,
          131,
          132,
          133,
          134,
          135,
          137,
          138,
          139,
          140,
          141,
          142,
          143,
          144,
          145,
          146,
          147,
          148,
          149,
          150,
          151,
          152,
          153,
          154,
          155,
          157,
          158,
          159,
          160,
          161,
          162,
          163,
          165,
          166,
          168,
          169,
          170,
          171,
          172,
          173,
          174,
          175,
          176,
          177,
          178,
          180,
          181,
          182,
          183,
          185,
          187,
          190,
          191,
          192,
          195,
          196,
          197,
          198,
          199,
          200,
          203,
          204,
          205,
          207,
          210,
          215,
          216,
          218,
          219,
          223,
          224,
          227,
          229,
          231,
          232,
          233,
          241,
          242,
          245,
          246,
          247,
          248,
          249,
          262,
          291,
          321,
          362
         ],
         "yaxis": "y"
        }
       ],
       "layout": {
        "legend": {
         "tracegroupgap": 0
        },
        "margin": {
         "t": 60
        },
        "template": {
         "data": {
          "bar": [
           {
            "error_x": {
             "color": "#2a3f5f"
            },
            "error_y": {
             "color": "#2a3f5f"
            },
            "marker": {
             "line": {
              "color": "#E5ECF6",
              "width": 0.5
             }
            },
            "type": "bar"
           }
          ],
          "barpolar": [
           {
            "marker": {
             "line": {
              "color": "#E5ECF6",
              "width": 0.5
             }
            },
            "type": "barpolar"
           }
          ],
          "carpet": [
           {
            "aaxis": {
             "endlinecolor": "#2a3f5f",
             "gridcolor": "white",
             "linecolor": "white",
             "minorgridcolor": "white",
             "startlinecolor": "#2a3f5f"
            },
            "baxis": {
             "endlinecolor": "#2a3f5f",
             "gridcolor": "white",
             "linecolor": "white",
             "minorgridcolor": "white",
             "startlinecolor": "#2a3f5f"
            },
            "type": "carpet"
           }
          ],
          "choropleth": [
           {
            "colorbar": {
             "outlinewidth": 0,
             "ticks": ""
            },
            "type": "choropleth"
           }
          ],
          "contour": [
           {
            "colorbar": {
             "outlinewidth": 0,
             "ticks": ""
            },
            "colorscale": [
             [
              0,
              "#0d0887"
             ],
             [
              0.1111111111111111,
              "#46039f"
             ],
             [
              0.2222222222222222,
              "#7201a8"
             ],
             [
              0.3333333333333333,
              "#9c179e"
             ],
             [
              0.4444444444444444,
              "#bd3786"
             ],
             [
              0.5555555555555556,
              "#d8576b"
             ],
             [
              0.6666666666666666,
              "#ed7953"
             ],
             [
              0.7777777777777778,
              "#fb9f3a"
             ],
             [
              0.8888888888888888,
              "#fdca26"
             ],
             [
              1,
              "#f0f921"
             ]
            ],
            "type": "contour"
           }
          ],
          "contourcarpet": [
           {
            "colorbar": {
             "outlinewidth": 0,
             "ticks": ""
            },
            "type": "contourcarpet"
           }
          ],
          "heatmap": [
           {
            "colorbar": {
             "outlinewidth": 0,
             "ticks": ""
            },
            "colorscale": [
             [
              0,
              "#0d0887"
             ],
             [
              0.1111111111111111,
              "#46039f"
             ],
             [
              0.2222222222222222,
              "#7201a8"
             ],
             [
              0.3333333333333333,
              "#9c179e"
             ],
             [
              0.4444444444444444,
              "#bd3786"
             ],
             [
              0.5555555555555556,
              "#d8576b"
             ],
             [
              0.6666666666666666,
              "#ed7953"
             ],
             [
              0.7777777777777778,
              "#fb9f3a"
             ],
             [
              0.8888888888888888,
              "#fdca26"
             ],
             [
              1,
              "#f0f921"
             ]
            ],
            "type": "heatmap"
           }
          ],
          "heatmapgl": [
           {
            "colorbar": {
             "outlinewidth": 0,
             "ticks": ""
            },
            "colorscale": [
             [
              0,
              "#0d0887"
             ],
             [
              0.1111111111111111,
              "#46039f"
             ],
             [
              0.2222222222222222,
              "#7201a8"
             ],
             [
              0.3333333333333333,
              "#9c179e"
             ],
             [
              0.4444444444444444,
              "#bd3786"
             ],
             [
              0.5555555555555556,
              "#d8576b"
             ],
             [
              0.6666666666666666,
              "#ed7953"
             ],
             [
              0.7777777777777778,
              "#fb9f3a"
             ],
             [
              0.8888888888888888,
              "#fdca26"
             ],
             [
              1,
              "#f0f921"
             ]
            ],
            "type": "heatmapgl"
           }
          ],
          "histogram": [
           {
            "marker": {
             "colorbar": {
              "outlinewidth": 0,
              "ticks": ""
             }
            },
            "type": "histogram"
           }
          ],
          "histogram2d": [
           {
            "colorbar": {
             "outlinewidth": 0,
             "ticks": ""
            },
            "colorscale": [
             [
              0,
              "#0d0887"
             ],
             [
              0.1111111111111111,
              "#46039f"
             ],
             [
              0.2222222222222222,
              "#7201a8"
             ],
             [
              0.3333333333333333,
              "#9c179e"
             ],
             [
              0.4444444444444444,
              "#bd3786"
             ],
             [
              0.5555555555555556,
              "#d8576b"
             ],
             [
              0.6666666666666666,
              "#ed7953"
             ],
             [
              0.7777777777777778,
              "#fb9f3a"
             ],
             [
              0.8888888888888888,
              "#fdca26"
             ],
             [
              1,
              "#f0f921"
             ]
            ],
            "type": "histogram2d"
           }
          ],
          "histogram2dcontour": [
           {
            "colorbar": {
             "outlinewidth": 0,
             "ticks": ""
            },
            "colorscale": [
             [
              0,
              "#0d0887"
             ],
             [
              0.1111111111111111,
              "#46039f"
             ],
             [
              0.2222222222222222,
              "#7201a8"
             ],
             [
              0.3333333333333333,
              "#9c179e"
             ],
             [
              0.4444444444444444,
              "#bd3786"
             ],
             [
              0.5555555555555556,
              "#d8576b"
             ],
             [
              0.6666666666666666,
              "#ed7953"
             ],
             [
              0.7777777777777778,
              "#fb9f3a"
             ],
             [
              0.8888888888888888,
              "#fdca26"
             ],
             [
              1,
              "#f0f921"
             ]
            ],
            "type": "histogram2dcontour"
           }
          ],
          "mesh3d": [
           {
            "colorbar": {
             "outlinewidth": 0,
             "ticks": ""
            },
            "type": "mesh3d"
           }
          ],
          "parcoords": [
           {
            "line": {
             "colorbar": {
              "outlinewidth": 0,
              "ticks": ""
             }
            },
            "type": "parcoords"
           }
          ],
          "pie": [
           {
            "automargin": true,
            "type": "pie"
           }
          ],
          "scatter": [
           {
            "marker": {
             "colorbar": {
              "outlinewidth": 0,
              "ticks": ""
             }
            },
            "type": "scatter"
           }
          ],
          "scatter3d": [
           {
            "line": {
             "colorbar": {
              "outlinewidth": 0,
              "ticks": ""
             }
            },
            "marker": {
             "colorbar": {
              "outlinewidth": 0,
              "ticks": ""
             }
            },
            "type": "scatter3d"
           }
          ],
          "scattercarpet": [
           {
            "marker": {
             "colorbar": {
              "outlinewidth": 0,
              "ticks": ""
             }
            },
            "type": "scattercarpet"
           }
          ],
          "scattergeo": [
           {
            "marker": {
             "colorbar": {
              "outlinewidth": 0,
              "ticks": ""
             }
            },
            "type": "scattergeo"
           }
          ],
          "scattergl": [
           {
            "marker": {
             "colorbar": {
              "outlinewidth": 0,
              "ticks": ""
             }
            },
            "type": "scattergl"
           }
          ],
          "scattermapbox": [
           {
            "marker": {
             "colorbar": {
              "outlinewidth": 0,
              "ticks": ""
             }
            },
            "type": "scattermapbox"
           }
          ],
          "scatterpolar": [
           {
            "marker": {
             "colorbar": {
              "outlinewidth": 0,
              "ticks": ""
             }
            },
            "type": "scatterpolar"
           }
          ],
          "scatterpolargl": [
           {
            "marker": {
             "colorbar": {
              "outlinewidth": 0,
              "ticks": ""
             }
            },
            "type": "scatterpolargl"
           }
          ],
          "scatterternary": [
           {
            "marker": {
             "colorbar": {
              "outlinewidth": 0,
              "ticks": ""
             }
            },
            "type": "scatterternary"
           }
          ],
          "surface": [
           {
            "colorbar": {
             "outlinewidth": 0,
             "ticks": ""
            },
            "colorscale": [
             [
              0,
              "#0d0887"
             ],
             [
              0.1111111111111111,
              "#46039f"
             ],
             [
              0.2222222222222222,
              "#7201a8"
             ],
             [
              0.3333333333333333,
              "#9c179e"
             ],
             [
              0.4444444444444444,
              "#bd3786"
             ],
             [
              0.5555555555555556,
              "#d8576b"
             ],
             [
              0.6666666666666666,
              "#ed7953"
             ],
             [
              0.7777777777777778,
              "#fb9f3a"
             ],
             [
              0.8888888888888888,
              "#fdca26"
             ],
             [
              1,
              "#f0f921"
             ]
            ],
            "type": "surface"
           }
          ],
          "table": [
           {
            "cells": {
             "fill": {
              "color": "#EBF0F8"
             },
             "line": {
              "color": "white"
             }
            },
            "header": {
             "fill": {
              "color": "#C8D4E3"
             },
             "line": {
              "color": "white"
             }
            },
            "type": "table"
           }
          ]
         },
         "layout": {
          "annotationdefaults": {
           "arrowcolor": "#2a3f5f",
           "arrowhead": 0,
           "arrowwidth": 1
          },
          "autotypenumbers": "strict",
          "coloraxis": {
           "colorbar": {
            "outlinewidth": 0,
            "ticks": ""
           }
          },
          "colorscale": {
           "diverging": [
            [
             0,
             "#8e0152"
            ],
            [
             0.1,
             "#c51b7d"
            ],
            [
             0.2,
             "#de77ae"
            ],
            [
             0.3,
             "#f1b6da"
            ],
            [
             0.4,
             "#fde0ef"
            ],
            [
             0.5,
             "#f7f7f7"
            ],
            [
             0.6,
             "#e6f5d0"
            ],
            [
             0.7,
             "#b8e186"
            ],
            [
             0.8,
             "#7fbc41"
            ],
            [
             0.9,
             "#4d9221"
            ],
            [
             1,
             "#276419"
            ]
           ],
           "sequential": [
            [
             0,
             "#0d0887"
            ],
            [
             0.1111111111111111,
             "#46039f"
            ],
            [
             0.2222222222222222,
             "#7201a8"
            ],
            [
             0.3333333333333333,
             "#9c179e"
            ],
            [
             0.4444444444444444,
             "#bd3786"
            ],
            [
             0.5555555555555556,
             "#d8576b"
            ],
            [
             0.6666666666666666,
             "#ed7953"
            ],
            [
             0.7777777777777778,
             "#fb9f3a"
            ],
            [
             0.8888888888888888,
             "#fdca26"
            ],
            [
             1,
             "#f0f921"
            ]
           ],
           "sequentialminus": [
            [
             0,
             "#0d0887"
            ],
            [
             0.1111111111111111,
             "#46039f"
            ],
            [
             0.2222222222222222,
             "#7201a8"
            ],
            [
             0.3333333333333333,
             "#9c179e"
            ],
            [
             0.4444444444444444,
             "#bd3786"
            ],
            [
             0.5555555555555556,
             "#d8576b"
            ],
            [
             0.6666666666666666,
             "#ed7953"
            ],
            [
             0.7777777777777778,
             "#fb9f3a"
            ],
            [
             0.8888888888888888,
             "#fdca26"
            ],
            [
             1,
             "#f0f921"
            ]
           ]
          },
          "colorway": [
           "#636efa",
           "#EF553B",
           "#00cc96",
           "#ab63fa",
           "#FFA15A",
           "#19d3f3",
           "#FF6692",
           "#B6E880",
           "#FF97FF",
           "#FECB52"
          ],
          "font": {
           "color": "#2a3f5f"
          },
          "geo": {
           "bgcolor": "white",
           "lakecolor": "white",
           "landcolor": "#E5ECF6",
           "showlakes": true,
           "showland": true,
           "subunitcolor": "white"
          },
          "hoverlabel": {
           "align": "left"
          },
          "hovermode": "closest",
          "mapbox": {
           "style": "light"
          },
          "paper_bgcolor": "white",
          "plot_bgcolor": "#E5ECF6",
          "polar": {
           "angularaxis": {
            "gridcolor": "white",
            "linecolor": "white",
            "ticks": ""
           },
           "bgcolor": "#E5ECF6",
           "radialaxis": {
            "gridcolor": "white",
            "linecolor": "white",
            "ticks": ""
           }
          },
          "scene": {
           "xaxis": {
            "backgroundcolor": "#E5ECF6",
            "gridcolor": "white",
            "gridwidth": 2,
            "linecolor": "white",
            "showbackground": true,
            "ticks": "",
            "zerolinecolor": "white"
           },
           "yaxis": {
            "backgroundcolor": "#E5ECF6",
            "gridcolor": "white",
            "gridwidth": 2,
            "linecolor": "white",
            "showbackground": true,
            "ticks": "",
            "zerolinecolor": "white"
           },
           "zaxis": {
            "backgroundcolor": "#E5ECF6",
            "gridcolor": "white",
            "gridwidth": 2,
            "linecolor": "white",
            "showbackground": true,
            "ticks": "",
            "zerolinecolor": "white"
           }
          },
          "shapedefaults": {
           "line": {
            "color": "#2a3f5f"
           }
          },
          "ternary": {
           "aaxis": {
            "gridcolor": "white",
            "linecolor": "white",
            "ticks": ""
           },
           "baxis": {
            "gridcolor": "white",
            "linecolor": "white",
            "ticks": ""
           },
           "bgcolor": "#E5ECF6",
           "caxis": {
            "gridcolor": "white",
            "linecolor": "white",
            "ticks": ""
           }
          },
          "title": {
           "x": 0.05
          },
          "xaxis": {
           "automargin": true,
           "gridcolor": "white",
           "linecolor": "white",
           "ticks": "",
           "title": {
            "standoff": 15
           },
           "zerolinecolor": "white",
           "zerolinewidth": 2
          },
          "yaxis": {
           "automargin": true,
           "gridcolor": "white",
           "linecolor": "white",
           "ticks": "",
           "title": {
            "standoff": 15
           },
           "zerolinecolor": "white",
           "zerolinewidth": 2
          }
         }
        },
        "xaxis": {
         "anchor": "y",
         "domain": [
          0,
          1
         ],
         "title": {
          "text": "NumStorePurchases"
         }
        },
        "yaxis": {
         "anchor": "x",
         "domain": [
          0,
          1
         ],
         "title": {
          "text": "MntGoldProds"
         }
        }
       }
      },
      "text/html": [
       "<div>                            <div id=\"93c27bdd-7656-49ff-a44e-2075014bb54a\" class=\"plotly-graph-div\" style=\"height:525px; width:100%;\"></div>            <script type=\"text/javascript\">                require([\"plotly\"], function(Plotly) {                    window.PLOTLYENV=window.PLOTLYENV || {};                                    if (document.getElementById(\"93c27bdd-7656-49ff-a44e-2075014bb54a\")) {                    Plotly.newPlot(                        \"93c27bdd-7656-49ff-a44e-2075014bb54a\",                        [{\"hovertemplate\": \"NumStorePurchases=%{x}<br>MntGoldProds=%{y}<extra></extra>\", \"legendgroup\": \"\", \"marker\": {\"color\": \"#636efa\", \"symbol\": \"circle\"}, \"mode\": \"markers\", \"name\": \"\", \"orientation\": \"v\", \"showlegend\": false, \"type\": \"scatter\", \"x\": [311, 176, 183, 215, 242, 234, 231, 206, 186, 159, 205, 240, 327, 121, 211, 289, 145, 197, 150, 118, 200, 162, 132, 95, 142, 66, 215, 165, 142, 139, 214, 88, 116, 146, 172, 181, 70, 117, 185, 64, 137, 135, 162, 110, 72, 121, 58, 85, 112, 64, 90, 58, 42, 88, 164, 30, 70, 111, 65, 45, 26, 76, 26, 73, 55, 44, 88, 25, 24, 33, 55, 42, 23, 37, 19, 40, 113, 35, 44, 49, 88, 29, 42, 55, 53, 27, 42, 54, 77, 30, 59, 63, 60, 6, 39, 30, 39, 10, 46, 39, 34, 41, 10, 34, 71, 75, 34, 7, 30, 23, 56, 19, 15, 35, 20, 19, 16, 25, 26, 8, 27, 45, 53, 7, 18, 32, 35, 38, 6, 54, 48, 16, 8, 22, 26, 4, 44, 24, 20, 18, 31, 12, 24, 13, 26, 16, 37, 20, 43, 28, 8, 10, 8, 26, 6, 13, 22, 23, 9, 15, 25, 10, 28, 5, 44, 4, 44, 17, 21, 8, 9, 11, 9, 27, 24, 22, 22, 28, 58, 15, 20, 29, 9, 4, 9, 19, 18, 13, 27, 13, 19, 6, 6, 12, 8, 24, 17, 13, 12, 6, 17, 8, 46, 16, 7, 10, 4, 5, 4, 1, 1, 0, 0], \"xaxis\": \"x\", \"y\": [0, 1, 2, 3, 4, 5, 6, 7, 8, 9, 10, 11, 12, 13, 14, 15, 16, 17, 18, 19, 20, 21, 22, 23, 24, 25, 26, 27, 28, 29, 30, 31, 32, 33, 34, 35, 36, 37, 38, 39, 40, 41, 42, 43, 44, 45, 46, 47, 48, 49, 50, 51, 52, 53, 54, 55, 56, 57, 58, 59, 60, 61, 62, 63, 64, 65, 66, 67, 68, 69, 70, 71, 72, 73, 74, 75, 76, 77, 78, 79, 80, 81, 82, 83, 84, 85, 86, 88, 89, 90, 91, 92, 93, 94, 95, 96, 97, 98, 99, 100, 101, 102, 103, 106, 107, 108, 109, 110, 111, 112, 114, 115, 116, 117, 118, 119, 120, 121, 122, 123, 124, 125, 126, 127, 128, 129, 130, 131, 132, 133, 134, 135, 137, 138, 139, 140, 141, 142, 143, 144, 145, 146, 147, 148, 149, 150, 151, 152, 153, 154, 155, 157, 158, 159, 160, 161, 162, 163, 165, 166, 168, 169, 170, 171, 172, 173, 174, 175, 176, 177, 178, 180, 181, 182, 183, 185, 187, 190, 191, 192, 195, 196, 197, 198, 199, 200, 203, 204, 205, 207, 210, 215, 216, 218, 219, 223, 224, 227, 229, 231, 232, 233, 241, 242, 245, 246, 247, 248, 249, 262, 291, 321, 362], \"yaxis\": \"y\"}],                        {\"legend\": {\"tracegroupgap\": 0}, \"margin\": {\"t\": 60}, \"template\": {\"data\": {\"bar\": [{\"error_x\": {\"color\": \"#2a3f5f\"}, \"error_y\": {\"color\": \"#2a3f5f\"}, \"marker\": {\"line\": {\"color\": \"#E5ECF6\", \"width\": 0.5}}, \"type\": \"bar\"}], \"barpolar\": [{\"marker\": {\"line\": {\"color\": \"#E5ECF6\", \"width\": 0.5}}, \"type\": \"barpolar\"}], \"carpet\": [{\"aaxis\": {\"endlinecolor\": \"#2a3f5f\", \"gridcolor\": \"white\", \"linecolor\": \"white\", \"minorgridcolor\": \"white\", \"startlinecolor\": \"#2a3f5f\"}, \"baxis\": {\"endlinecolor\": \"#2a3f5f\", \"gridcolor\": \"white\", \"linecolor\": \"white\", \"minorgridcolor\": \"white\", \"startlinecolor\": \"#2a3f5f\"}, \"type\": \"carpet\"}], \"choropleth\": [{\"colorbar\": {\"outlinewidth\": 0, \"ticks\": \"\"}, \"type\": \"choropleth\"}], \"contour\": [{\"colorbar\": {\"outlinewidth\": 0, \"ticks\": \"\"}, \"colorscale\": [[0.0, \"#0d0887\"], [0.1111111111111111, \"#46039f\"], [0.2222222222222222, \"#7201a8\"], [0.3333333333333333, \"#9c179e\"], [0.4444444444444444, \"#bd3786\"], [0.5555555555555556, \"#d8576b\"], [0.6666666666666666, \"#ed7953\"], [0.7777777777777778, \"#fb9f3a\"], [0.8888888888888888, \"#fdca26\"], [1.0, \"#f0f921\"]], \"type\": \"contour\"}], \"contourcarpet\": [{\"colorbar\": {\"outlinewidth\": 0, \"ticks\": \"\"}, \"type\": \"contourcarpet\"}], \"heatmap\": [{\"colorbar\": {\"outlinewidth\": 0, \"ticks\": \"\"}, \"colorscale\": [[0.0, \"#0d0887\"], [0.1111111111111111, \"#46039f\"], [0.2222222222222222, \"#7201a8\"], [0.3333333333333333, \"#9c179e\"], [0.4444444444444444, \"#bd3786\"], [0.5555555555555556, \"#d8576b\"], [0.6666666666666666, \"#ed7953\"], [0.7777777777777778, \"#fb9f3a\"], [0.8888888888888888, \"#fdca26\"], [1.0, \"#f0f921\"]], \"type\": \"heatmap\"}], \"heatmapgl\": [{\"colorbar\": {\"outlinewidth\": 0, \"ticks\": \"\"}, \"colorscale\": [[0.0, \"#0d0887\"], [0.1111111111111111, \"#46039f\"], [0.2222222222222222, \"#7201a8\"], [0.3333333333333333, \"#9c179e\"], [0.4444444444444444, \"#bd3786\"], [0.5555555555555556, \"#d8576b\"], [0.6666666666666666, \"#ed7953\"], [0.7777777777777778, \"#fb9f3a\"], [0.8888888888888888, \"#fdca26\"], [1.0, \"#f0f921\"]], \"type\": \"heatmapgl\"}], \"histogram\": [{\"marker\": {\"colorbar\": {\"outlinewidth\": 0, \"ticks\": \"\"}}, \"type\": \"histogram\"}], \"histogram2d\": [{\"colorbar\": {\"outlinewidth\": 0, \"ticks\": \"\"}, \"colorscale\": [[0.0, \"#0d0887\"], [0.1111111111111111, \"#46039f\"], [0.2222222222222222, \"#7201a8\"], [0.3333333333333333, \"#9c179e\"], [0.4444444444444444, \"#bd3786\"], [0.5555555555555556, \"#d8576b\"], [0.6666666666666666, \"#ed7953\"], [0.7777777777777778, \"#fb9f3a\"], [0.8888888888888888, \"#fdca26\"], [1.0, \"#f0f921\"]], \"type\": \"histogram2d\"}], \"histogram2dcontour\": [{\"colorbar\": {\"outlinewidth\": 0, \"ticks\": \"\"}, \"colorscale\": [[0.0, \"#0d0887\"], [0.1111111111111111, \"#46039f\"], [0.2222222222222222, \"#7201a8\"], [0.3333333333333333, \"#9c179e\"], [0.4444444444444444, \"#bd3786\"], [0.5555555555555556, \"#d8576b\"], [0.6666666666666666, \"#ed7953\"], [0.7777777777777778, \"#fb9f3a\"], [0.8888888888888888, \"#fdca26\"], [1.0, \"#f0f921\"]], \"type\": \"histogram2dcontour\"}], \"mesh3d\": [{\"colorbar\": {\"outlinewidth\": 0, \"ticks\": \"\"}, \"type\": \"mesh3d\"}], \"parcoords\": [{\"line\": {\"colorbar\": {\"outlinewidth\": 0, \"ticks\": \"\"}}, \"type\": \"parcoords\"}], \"pie\": [{\"automargin\": true, \"type\": \"pie\"}], \"scatter\": [{\"marker\": {\"colorbar\": {\"outlinewidth\": 0, \"ticks\": \"\"}}, \"type\": \"scatter\"}], \"scatter3d\": [{\"line\": {\"colorbar\": {\"outlinewidth\": 0, \"ticks\": \"\"}}, \"marker\": {\"colorbar\": {\"outlinewidth\": 0, \"ticks\": \"\"}}, \"type\": \"scatter3d\"}], \"scattercarpet\": [{\"marker\": {\"colorbar\": {\"outlinewidth\": 0, \"ticks\": \"\"}}, \"type\": \"scattercarpet\"}], \"scattergeo\": [{\"marker\": {\"colorbar\": {\"outlinewidth\": 0, \"ticks\": \"\"}}, \"type\": \"scattergeo\"}], \"scattergl\": [{\"marker\": {\"colorbar\": {\"outlinewidth\": 0, \"ticks\": \"\"}}, \"type\": \"scattergl\"}], \"scattermapbox\": [{\"marker\": {\"colorbar\": {\"outlinewidth\": 0, \"ticks\": \"\"}}, \"type\": \"scattermapbox\"}], \"scatterpolar\": [{\"marker\": {\"colorbar\": {\"outlinewidth\": 0, \"ticks\": \"\"}}, \"type\": \"scatterpolar\"}], \"scatterpolargl\": [{\"marker\": {\"colorbar\": {\"outlinewidth\": 0, \"ticks\": \"\"}}, \"type\": \"scatterpolargl\"}], \"scatterternary\": [{\"marker\": {\"colorbar\": {\"outlinewidth\": 0, \"ticks\": \"\"}}, \"type\": \"scatterternary\"}], \"surface\": [{\"colorbar\": {\"outlinewidth\": 0, \"ticks\": \"\"}, \"colorscale\": [[0.0, \"#0d0887\"], [0.1111111111111111, \"#46039f\"], [0.2222222222222222, \"#7201a8\"], [0.3333333333333333, \"#9c179e\"], [0.4444444444444444, \"#bd3786\"], [0.5555555555555556, \"#d8576b\"], [0.6666666666666666, \"#ed7953\"], [0.7777777777777778, \"#fb9f3a\"], [0.8888888888888888, \"#fdca26\"], [1.0, \"#f0f921\"]], \"type\": \"surface\"}], \"table\": [{\"cells\": {\"fill\": {\"color\": \"#EBF0F8\"}, \"line\": {\"color\": \"white\"}}, \"header\": {\"fill\": {\"color\": \"#C8D4E3\"}, \"line\": {\"color\": \"white\"}}, \"type\": \"table\"}]}, \"layout\": {\"annotationdefaults\": {\"arrowcolor\": \"#2a3f5f\", \"arrowhead\": 0, \"arrowwidth\": 1}, \"autotypenumbers\": \"strict\", \"coloraxis\": {\"colorbar\": {\"outlinewidth\": 0, \"ticks\": \"\"}}, \"colorscale\": {\"diverging\": [[0, \"#8e0152\"], [0.1, \"#c51b7d\"], [0.2, \"#de77ae\"], [0.3, \"#f1b6da\"], [0.4, \"#fde0ef\"], [0.5, \"#f7f7f7\"], [0.6, \"#e6f5d0\"], [0.7, \"#b8e186\"], [0.8, \"#7fbc41\"], [0.9, \"#4d9221\"], [1, \"#276419\"]], \"sequential\": [[0.0, \"#0d0887\"], [0.1111111111111111, \"#46039f\"], [0.2222222222222222, \"#7201a8\"], [0.3333333333333333, \"#9c179e\"], [0.4444444444444444, \"#bd3786\"], [0.5555555555555556, \"#d8576b\"], [0.6666666666666666, \"#ed7953\"], [0.7777777777777778, \"#fb9f3a\"], [0.8888888888888888, \"#fdca26\"], [1.0, \"#f0f921\"]], \"sequentialminus\": [[0.0, \"#0d0887\"], [0.1111111111111111, \"#46039f\"], [0.2222222222222222, \"#7201a8\"], [0.3333333333333333, \"#9c179e\"], [0.4444444444444444, \"#bd3786\"], [0.5555555555555556, \"#d8576b\"], [0.6666666666666666, \"#ed7953\"], [0.7777777777777778, \"#fb9f3a\"], [0.8888888888888888, \"#fdca26\"], [1.0, \"#f0f921\"]]}, \"colorway\": [\"#636efa\", \"#EF553B\", \"#00cc96\", \"#ab63fa\", \"#FFA15A\", \"#19d3f3\", \"#FF6692\", \"#B6E880\", \"#FF97FF\", \"#FECB52\"], \"font\": {\"color\": \"#2a3f5f\"}, \"geo\": {\"bgcolor\": \"white\", \"lakecolor\": \"white\", \"landcolor\": \"#E5ECF6\", \"showlakes\": true, \"showland\": true, \"subunitcolor\": \"white\"}, \"hoverlabel\": {\"align\": \"left\"}, \"hovermode\": \"closest\", \"mapbox\": {\"style\": \"light\"}, \"paper_bgcolor\": \"white\", \"plot_bgcolor\": \"#E5ECF6\", \"polar\": {\"angularaxis\": {\"gridcolor\": \"white\", \"linecolor\": \"white\", \"ticks\": \"\"}, \"bgcolor\": \"#E5ECF6\", \"radialaxis\": {\"gridcolor\": \"white\", \"linecolor\": \"white\", \"ticks\": \"\"}}, \"scene\": {\"xaxis\": {\"backgroundcolor\": \"#E5ECF6\", \"gridcolor\": \"white\", \"gridwidth\": 2, \"linecolor\": \"white\", \"showbackground\": true, \"ticks\": \"\", \"zerolinecolor\": \"white\"}, \"yaxis\": {\"backgroundcolor\": \"#E5ECF6\", \"gridcolor\": \"white\", \"gridwidth\": 2, \"linecolor\": \"white\", \"showbackground\": true, \"ticks\": \"\", \"zerolinecolor\": \"white\"}, \"zaxis\": {\"backgroundcolor\": \"#E5ECF6\", \"gridcolor\": \"white\", \"gridwidth\": 2, \"linecolor\": \"white\", \"showbackground\": true, \"ticks\": \"\", \"zerolinecolor\": \"white\"}}, \"shapedefaults\": {\"line\": {\"color\": \"#2a3f5f\"}}, \"ternary\": {\"aaxis\": {\"gridcolor\": \"white\", \"linecolor\": \"white\", \"ticks\": \"\"}, \"baxis\": {\"gridcolor\": \"white\", \"linecolor\": \"white\", \"ticks\": \"\"}, \"bgcolor\": \"#E5ECF6\", \"caxis\": {\"gridcolor\": \"white\", \"linecolor\": \"white\", \"ticks\": \"\"}}, \"title\": {\"x\": 0.05}, \"xaxis\": {\"automargin\": true, \"gridcolor\": \"white\", \"linecolor\": \"white\", \"ticks\": \"\", \"title\": {\"standoff\": 15}, \"zerolinecolor\": \"white\", \"zerolinewidth\": 2}, \"yaxis\": {\"automargin\": true, \"gridcolor\": \"white\", \"linecolor\": \"white\", \"ticks\": \"\", \"title\": {\"standoff\": 15}, \"zerolinecolor\": \"white\", \"zerolinewidth\": 2}}}, \"xaxis\": {\"anchor\": \"y\", \"domain\": [0.0, 1.0], \"title\": {\"text\": \"NumStorePurchases\"}}, \"yaxis\": {\"anchor\": \"x\", \"domain\": [0.0, 1.0], \"title\": {\"text\": \"MntGoldProds\"}}},                        {\"responsive\": true}                    ).then(function(){\n",
       "                            \n",
       "var gd = document.getElementById('93c27bdd-7656-49ff-a44e-2075014bb54a');\n",
       "var x = new MutationObserver(function (mutations, observer) {{\n",
       "        var display = window.getComputedStyle(gd).display;\n",
       "        if (!display || display === 'none') {{\n",
       "            console.log([gd, 'removed!']);\n",
       "            Plotly.purge(gd);\n",
       "            observer.disconnect();\n",
       "        }}\n",
       "}});\n",
       "\n",
       "// Listen for the removal of the full notebook cells\n",
       "var notebookContainer = gd.closest('#notebook-container');\n",
       "if (notebookContainer) {{\n",
       "    x.observe(notebookContainer, {childList: true});\n",
       "}}\n",
       "\n",
       "// Listen for the clearing of the current output cell\n",
       "var outputEl = gd.closest('.output');\n",
       "if (outputEl) {{\n",
       "    x.observe(outputEl, {childList: true});\n",
       "}}\n",
       "\n",
       "                        })                };                });            </script>        </div>"
      ]
     },
     "metadata": {},
     "output_type": "display_data"
    }
   ],
   "source": [
    "fig = px.scatter(MntGoldProds , x = 'NumStorePurchases' , y = 'MntGoldProds')\n",
    "fig.show()"
   ]
  },
  {
   "cell_type": "markdown",
   "metadata": {},
   "source": [
    "# Are Married PhD customers buying more Fish Products ?"
   ]
  },
  {
   "cell_type": "code",
   "execution_count": 47,
   "metadata": {},
   "outputs": [],
   "source": [
    "MntFishProducts = df.groupby('Education').sum()['MntFishProducts'].reset_index()"
   ]
  },
  {
   "cell_type": "code",
   "execution_count": 48,
   "metadata": {},
   "outputs": [
    {
     "data": {
      "text/html": [
       "<div>\n",
       "<style scoped>\n",
       "    .dataframe tbody tr th:only-of-type {\n",
       "        vertical-align: middle;\n",
       "    }\n",
       "\n",
       "    .dataframe tbody tr th {\n",
       "        vertical-align: top;\n",
       "    }\n",
       "\n",
       "    .dataframe thead th {\n",
       "        text-align: right;\n",
       "    }\n",
       "</style>\n",
       "<table border=\"1\" class=\"dataframe\">\n",
       "  <thead>\n",
       "    <tr style=\"text-align: right;\">\n",
       "      <th></th>\n",
       "      <th>Education</th>\n",
       "      <th>MntFishProducts</th>\n",
       "    </tr>\n",
       "  </thead>\n",
       "  <tbody>\n",
       "    <tr>\n",
       "      <th>0</th>\n",
       "      <td>2n Cycle</td>\n",
       "      <td>9632</td>\n",
       "    </tr>\n",
       "    <tr>\n",
       "      <th>1</th>\n",
       "      <td>Basic</td>\n",
       "      <td>921</td>\n",
       "    </tr>\n",
       "    <tr>\n",
       "      <th>2</th>\n",
       "      <td>Graduation</td>\n",
       "      <td>48620</td>\n",
       "    </tr>\n",
       "    <tr>\n",
       "      <th>3</th>\n",
       "      <td>Master</td>\n",
       "      <td>11877</td>\n",
       "    </tr>\n",
       "    <tr>\n",
       "      <th>4</th>\n",
       "      <td>PhD</td>\n",
       "      <td>12886</td>\n",
       "    </tr>\n",
       "  </tbody>\n",
       "</table>\n",
       "</div>"
      ],
      "text/plain": [
       "    Education  MntFishProducts\n",
       "0    2n Cycle             9632\n",
       "1       Basic              921\n",
       "2  Graduation            48620\n",
       "3      Master            11877\n",
       "4         PhD            12886"
      ]
     },
     "execution_count": 48,
     "metadata": {},
     "output_type": "execute_result"
    }
   ],
   "source": [
    "MntFishProducts"
   ]
  },
  {
   "cell_type": "code",
   "execution_count": 49,
   "metadata": {},
   "outputs": [
    {
     "data": {
      "application/vnd.plotly.v1+json": {
       "config": {
        "linkText": "Export to plot.ly",
        "plotlyServerURL": "https://plot.ly",
        "showLink": true
       },
       "data": [
        {
         "marker": {
          "color": "rgba(255, 153, 51, 0.6)",
          "line": {
           "color": "rgba(255, 153, 51, 1.0)",
           "width": 1
          }
         },
         "name": "MntFishProducts",
         "orientation": "v",
         "text": "",
         "type": "bar",
         "x": [
          "2n Cycle",
          "Basic",
          "Graduation",
          "Master",
          "PhD"
         ],
         "y": [
          9632,
          921,
          48620,
          11877,
          12886
         ]
        }
       ],
       "layout": {
        "legend": {
         "bgcolor": "#F5F6F9",
         "font": {
          "color": "#4D5663"
         }
        },
        "paper_bgcolor": "#F5F6F9",
        "plot_bgcolor": "#F5F6F9",
        "template": {
         "data": {
          "bar": [
           {
            "error_x": {
             "color": "#2a3f5f"
            },
            "error_y": {
             "color": "#2a3f5f"
            },
            "marker": {
             "line": {
              "color": "#E5ECF6",
              "width": 0.5
             }
            },
            "type": "bar"
           }
          ],
          "barpolar": [
           {
            "marker": {
             "line": {
              "color": "#E5ECF6",
              "width": 0.5
             }
            },
            "type": "barpolar"
           }
          ],
          "carpet": [
           {
            "aaxis": {
             "endlinecolor": "#2a3f5f",
             "gridcolor": "white",
             "linecolor": "white",
             "minorgridcolor": "white",
             "startlinecolor": "#2a3f5f"
            },
            "baxis": {
             "endlinecolor": "#2a3f5f",
             "gridcolor": "white",
             "linecolor": "white",
             "minorgridcolor": "white",
             "startlinecolor": "#2a3f5f"
            },
            "type": "carpet"
           }
          ],
          "choropleth": [
           {
            "colorbar": {
             "outlinewidth": 0,
             "ticks": ""
            },
            "type": "choropleth"
           }
          ],
          "contour": [
           {
            "colorbar": {
             "outlinewidth": 0,
             "ticks": ""
            },
            "colorscale": [
             [
              0,
              "#0d0887"
             ],
             [
              0.1111111111111111,
              "#46039f"
             ],
             [
              0.2222222222222222,
              "#7201a8"
             ],
             [
              0.3333333333333333,
              "#9c179e"
             ],
             [
              0.4444444444444444,
              "#bd3786"
             ],
             [
              0.5555555555555556,
              "#d8576b"
             ],
             [
              0.6666666666666666,
              "#ed7953"
             ],
             [
              0.7777777777777778,
              "#fb9f3a"
             ],
             [
              0.8888888888888888,
              "#fdca26"
             ],
             [
              1,
              "#f0f921"
             ]
            ],
            "type": "contour"
           }
          ],
          "contourcarpet": [
           {
            "colorbar": {
             "outlinewidth": 0,
             "ticks": ""
            },
            "type": "contourcarpet"
           }
          ],
          "heatmap": [
           {
            "colorbar": {
             "outlinewidth": 0,
             "ticks": ""
            },
            "colorscale": [
             [
              0,
              "#0d0887"
             ],
             [
              0.1111111111111111,
              "#46039f"
             ],
             [
              0.2222222222222222,
              "#7201a8"
             ],
             [
              0.3333333333333333,
              "#9c179e"
             ],
             [
              0.4444444444444444,
              "#bd3786"
             ],
             [
              0.5555555555555556,
              "#d8576b"
             ],
             [
              0.6666666666666666,
              "#ed7953"
             ],
             [
              0.7777777777777778,
              "#fb9f3a"
             ],
             [
              0.8888888888888888,
              "#fdca26"
             ],
             [
              1,
              "#f0f921"
             ]
            ],
            "type": "heatmap"
           }
          ],
          "heatmapgl": [
           {
            "colorbar": {
             "outlinewidth": 0,
             "ticks": ""
            },
            "colorscale": [
             [
              0,
              "#0d0887"
             ],
             [
              0.1111111111111111,
              "#46039f"
             ],
             [
              0.2222222222222222,
              "#7201a8"
             ],
             [
              0.3333333333333333,
              "#9c179e"
             ],
             [
              0.4444444444444444,
              "#bd3786"
             ],
             [
              0.5555555555555556,
              "#d8576b"
             ],
             [
              0.6666666666666666,
              "#ed7953"
             ],
             [
              0.7777777777777778,
              "#fb9f3a"
             ],
             [
              0.8888888888888888,
              "#fdca26"
             ],
             [
              1,
              "#f0f921"
             ]
            ],
            "type": "heatmapgl"
           }
          ],
          "histogram": [
           {
            "marker": {
             "colorbar": {
              "outlinewidth": 0,
              "ticks": ""
             }
            },
            "type": "histogram"
           }
          ],
          "histogram2d": [
           {
            "colorbar": {
             "outlinewidth": 0,
             "ticks": ""
            },
            "colorscale": [
             [
              0,
              "#0d0887"
             ],
             [
              0.1111111111111111,
              "#46039f"
             ],
             [
              0.2222222222222222,
              "#7201a8"
             ],
             [
              0.3333333333333333,
              "#9c179e"
             ],
             [
              0.4444444444444444,
              "#bd3786"
             ],
             [
              0.5555555555555556,
              "#d8576b"
             ],
             [
              0.6666666666666666,
              "#ed7953"
             ],
             [
              0.7777777777777778,
              "#fb9f3a"
             ],
             [
              0.8888888888888888,
              "#fdca26"
             ],
             [
              1,
              "#f0f921"
             ]
            ],
            "type": "histogram2d"
           }
          ],
          "histogram2dcontour": [
           {
            "colorbar": {
             "outlinewidth": 0,
             "ticks": ""
            },
            "colorscale": [
             [
              0,
              "#0d0887"
             ],
             [
              0.1111111111111111,
              "#46039f"
             ],
             [
              0.2222222222222222,
              "#7201a8"
             ],
             [
              0.3333333333333333,
              "#9c179e"
             ],
             [
              0.4444444444444444,
              "#bd3786"
             ],
             [
              0.5555555555555556,
              "#d8576b"
             ],
             [
              0.6666666666666666,
              "#ed7953"
             ],
             [
              0.7777777777777778,
              "#fb9f3a"
             ],
             [
              0.8888888888888888,
              "#fdca26"
             ],
             [
              1,
              "#f0f921"
             ]
            ],
            "type": "histogram2dcontour"
           }
          ],
          "mesh3d": [
           {
            "colorbar": {
             "outlinewidth": 0,
             "ticks": ""
            },
            "type": "mesh3d"
           }
          ],
          "parcoords": [
           {
            "line": {
             "colorbar": {
              "outlinewidth": 0,
              "ticks": ""
             }
            },
            "type": "parcoords"
           }
          ],
          "pie": [
           {
            "automargin": true,
            "type": "pie"
           }
          ],
          "scatter": [
           {
            "marker": {
             "colorbar": {
              "outlinewidth": 0,
              "ticks": ""
             }
            },
            "type": "scatter"
           }
          ],
          "scatter3d": [
           {
            "line": {
             "colorbar": {
              "outlinewidth": 0,
              "ticks": ""
             }
            },
            "marker": {
             "colorbar": {
              "outlinewidth": 0,
              "ticks": ""
             }
            },
            "type": "scatter3d"
           }
          ],
          "scattercarpet": [
           {
            "marker": {
             "colorbar": {
              "outlinewidth": 0,
              "ticks": ""
             }
            },
            "type": "scattercarpet"
           }
          ],
          "scattergeo": [
           {
            "marker": {
             "colorbar": {
              "outlinewidth": 0,
              "ticks": ""
             }
            },
            "type": "scattergeo"
           }
          ],
          "scattergl": [
           {
            "marker": {
             "colorbar": {
              "outlinewidth": 0,
              "ticks": ""
             }
            },
            "type": "scattergl"
           }
          ],
          "scattermapbox": [
           {
            "marker": {
             "colorbar": {
              "outlinewidth": 0,
              "ticks": ""
             }
            },
            "type": "scattermapbox"
           }
          ],
          "scatterpolar": [
           {
            "marker": {
             "colorbar": {
              "outlinewidth": 0,
              "ticks": ""
             }
            },
            "type": "scatterpolar"
           }
          ],
          "scatterpolargl": [
           {
            "marker": {
             "colorbar": {
              "outlinewidth": 0,
              "ticks": ""
             }
            },
            "type": "scatterpolargl"
           }
          ],
          "scatterternary": [
           {
            "marker": {
             "colorbar": {
              "outlinewidth": 0,
              "ticks": ""
             }
            },
            "type": "scatterternary"
           }
          ],
          "surface": [
           {
            "colorbar": {
             "outlinewidth": 0,
             "ticks": ""
            },
            "colorscale": [
             [
              0,
              "#0d0887"
             ],
             [
              0.1111111111111111,
              "#46039f"
             ],
             [
              0.2222222222222222,
              "#7201a8"
             ],
             [
              0.3333333333333333,
              "#9c179e"
             ],
             [
              0.4444444444444444,
              "#bd3786"
             ],
             [
              0.5555555555555556,
              "#d8576b"
             ],
             [
              0.6666666666666666,
              "#ed7953"
             ],
             [
              0.7777777777777778,
              "#fb9f3a"
             ],
             [
              0.8888888888888888,
              "#fdca26"
             ],
             [
              1,
              "#f0f921"
             ]
            ],
            "type": "surface"
           }
          ],
          "table": [
           {
            "cells": {
             "fill": {
              "color": "#EBF0F8"
             },
             "line": {
              "color": "white"
             }
            },
            "header": {
             "fill": {
              "color": "#C8D4E3"
             },
             "line": {
              "color": "white"
             }
            },
            "type": "table"
           }
          ]
         },
         "layout": {
          "annotationdefaults": {
           "arrowcolor": "#2a3f5f",
           "arrowhead": 0,
           "arrowwidth": 1
          },
          "autotypenumbers": "strict",
          "coloraxis": {
           "colorbar": {
            "outlinewidth": 0,
            "ticks": ""
           }
          },
          "colorscale": {
           "diverging": [
            [
             0,
             "#8e0152"
            ],
            [
             0.1,
             "#c51b7d"
            ],
            [
             0.2,
             "#de77ae"
            ],
            [
             0.3,
             "#f1b6da"
            ],
            [
             0.4,
             "#fde0ef"
            ],
            [
             0.5,
             "#f7f7f7"
            ],
            [
             0.6,
             "#e6f5d0"
            ],
            [
             0.7,
             "#b8e186"
            ],
            [
             0.8,
             "#7fbc41"
            ],
            [
             0.9,
             "#4d9221"
            ],
            [
             1,
             "#276419"
            ]
           ],
           "sequential": [
            [
             0,
             "#0d0887"
            ],
            [
             0.1111111111111111,
             "#46039f"
            ],
            [
             0.2222222222222222,
             "#7201a8"
            ],
            [
             0.3333333333333333,
             "#9c179e"
            ],
            [
             0.4444444444444444,
             "#bd3786"
            ],
            [
             0.5555555555555556,
             "#d8576b"
            ],
            [
             0.6666666666666666,
             "#ed7953"
            ],
            [
             0.7777777777777778,
             "#fb9f3a"
            ],
            [
             0.8888888888888888,
             "#fdca26"
            ],
            [
             1,
             "#f0f921"
            ]
           ],
           "sequentialminus": [
            [
             0,
             "#0d0887"
            ],
            [
             0.1111111111111111,
             "#46039f"
            ],
            [
             0.2222222222222222,
             "#7201a8"
            ],
            [
             0.3333333333333333,
             "#9c179e"
            ],
            [
             0.4444444444444444,
             "#bd3786"
            ],
            [
             0.5555555555555556,
             "#d8576b"
            ],
            [
             0.6666666666666666,
             "#ed7953"
            ],
            [
             0.7777777777777778,
             "#fb9f3a"
            ],
            [
             0.8888888888888888,
             "#fdca26"
            ],
            [
             1,
             "#f0f921"
            ]
           ]
          },
          "colorway": [
           "#636efa",
           "#EF553B",
           "#00cc96",
           "#ab63fa",
           "#FFA15A",
           "#19d3f3",
           "#FF6692",
           "#B6E880",
           "#FF97FF",
           "#FECB52"
          ],
          "font": {
           "color": "#2a3f5f"
          },
          "geo": {
           "bgcolor": "white",
           "lakecolor": "white",
           "landcolor": "#E5ECF6",
           "showlakes": true,
           "showland": true,
           "subunitcolor": "white"
          },
          "hoverlabel": {
           "align": "left"
          },
          "hovermode": "closest",
          "mapbox": {
           "style": "light"
          },
          "paper_bgcolor": "white",
          "plot_bgcolor": "#E5ECF6",
          "polar": {
           "angularaxis": {
            "gridcolor": "white",
            "linecolor": "white",
            "ticks": ""
           },
           "bgcolor": "#E5ECF6",
           "radialaxis": {
            "gridcolor": "white",
            "linecolor": "white",
            "ticks": ""
           }
          },
          "scene": {
           "xaxis": {
            "backgroundcolor": "#E5ECF6",
            "gridcolor": "white",
            "gridwidth": 2,
            "linecolor": "white",
            "showbackground": true,
            "ticks": "",
            "zerolinecolor": "white"
           },
           "yaxis": {
            "backgroundcolor": "#E5ECF6",
            "gridcolor": "white",
            "gridwidth": 2,
            "linecolor": "white",
            "showbackground": true,
            "ticks": "",
            "zerolinecolor": "white"
           },
           "zaxis": {
            "backgroundcolor": "#E5ECF6",
            "gridcolor": "white",
            "gridwidth": 2,
            "linecolor": "white",
            "showbackground": true,
            "ticks": "",
            "zerolinecolor": "white"
           }
          },
          "shapedefaults": {
           "line": {
            "color": "#2a3f5f"
           }
          },
          "ternary": {
           "aaxis": {
            "gridcolor": "white",
            "linecolor": "white",
            "ticks": ""
           },
           "baxis": {
            "gridcolor": "white",
            "linecolor": "white",
            "ticks": ""
           },
           "bgcolor": "#E5ECF6",
           "caxis": {
            "gridcolor": "white",
            "linecolor": "white",
            "ticks": ""
           }
          },
          "title": {
           "x": 0.05
          },
          "xaxis": {
           "automargin": true,
           "gridcolor": "white",
           "linecolor": "white",
           "ticks": "",
           "title": {
            "standoff": 15
           },
           "zerolinecolor": "white",
           "zerolinewidth": 2
          },
          "yaxis": {
           "automargin": true,
           "gridcolor": "white",
           "linecolor": "white",
           "ticks": "",
           "title": {
            "standoff": 15
           },
           "zerolinecolor": "white",
           "zerolinewidth": 2
          }
         }
        },
        "title": {
         "font": {
          "color": "#4D5663"
         }
        },
        "xaxis": {
         "gridcolor": "#E1E5ED",
         "showgrid": true,
         "tickfont": {
          "color": "#4D5663"
         },
         "title": {
          "font": {
           "color": "#4D5663"
          },
          "text": ""
         },
         "zerolinecolor": "#E1E5ED"
        },
        "yaxis": {
         "gridcolor": "#E1E5ED",
         "showgrid": true,
         "tickfont": {
          "color": "#4D5663"
         },
         "title": {
          "font": {
           "color": "#4D5663"
          },
          "text": ""
         },
         "zerolinecolor": "#E1E5ED"
        }
       }
      },
      "text/html": [
       "<div>                            <div id=\"3b7b0bc5-e67f-47bd-83ea-a07620f030d2\" class=\"plotly-graph-div\" style=\"height:525px; width:100%;\"></div>            <script type=\"text/javascript\">                require([\"plotly\"], function(Plotly) {                    window.PLOTLYENV=window.PLOTLYENV || {};\n",
       "                    window.PLOTLYENV.BASE_URL='https://plot.ly';                                    if (document.getElementById(\"3b7b0bc5-e67f-47bd-83ea-a07620f030d2\")) {                    Plotly.newPlot(                        \"3b7b0bc5-e67f-47bd-83ea-a07620f030d2\",                        [{\"marker\": {\"color\": \"rgba(255, 153, 51, 0.6)\", \"line\": {\"color\": \"rgba(255, 153, 51, 1.0)\", \"width\": 1}}, \"name\": \"MntFishProducts\", \"orientation\": \"v\", \"text\": \"\", \"type\": \"bar\", \"x\": [\"2n Cycle\", \"Basic\", \"Graduation\", \"Master\", \"PhD\"], \"y\": [9632, 921, 48620, 11877, 12886]}],                        {\"legend\": {\"bgcolor\": \"#F5F6F9\", \"font\": {\"color\": \"#4D5663\"}}, \"paper_bgcolor\": \"#F5F6F9\", \"plot_bgcolor\": \"#F5F6F9\", \"template\": {\"data\": {\"bar\": [{\"error_x\": {\"color\": \"#2a3f5f\"}, \"error_y\": {\"color\": \"#2a3f5f\"}, \"marker\": {\"line\": {\"color\": \"#E5ECF6\", \"width\": 0.5}}, \"type\": \"bar\"}], \"barpolar\": [{\"marker\": {\"line\": {\"color\": \"#E5ECF6\", \"width\": 0.5}}, \"type\": \"barpolar\"}], \"carpet\": [{\"aaxis\": {\"endlinecolor\": \"#2a3f5f\", \"gridcolor\": \"white\", \"linecolor\": \"white\", \"minorgridcolor\": \"white\", \"startlinecolor\": \"#2a3f5f\"}, \"baxis\": {\"endlinecolor\": \"#2a3f5f\", \"gridcolor\": \"white\", \"linecolor\": \"white\", \"minorgridcolor\": \"white\", \"startlinecolor\": \"#2a3f5f\"}, \"type\": \"carpet\"}], \"choropleth\": [{\"colorbar\": {\"outlinewidth\": 0, \"ticks\": \"\"}, \"type\": \"choropleth\"}], \"contour\": [{\"colorbar\": {\"outlinewidth\": 0, \"ticks\": \"\"}, \"colorscale\": [[0.0, \"#0d0887\"], [0.1111111111111111, \"#46039f\"], [0.2222222222222222, \"#7201a8\"], [0.3333333333333333, \"#9c179e\"], [0.4444444444444444, \"#bd3786\"], [0.5555555555555556, \"#d8576b\"], [0.6666666666666666, \"#ed7953\"], [0.7777777777777778, \"#fb9f3a\"], [0.8888888888888888, \"#fdca26\"], [1.0, \"#f0f921\"]], \"type\": \"contour\"}], \"contourcarpet\": [{\"colorbar\": {\"outlinewidth\": 0, \"ticks\": \"\"}, \"type\": \"contourcarpet\"}], \"heatmap\": [{\"colorbar\": {\"outlinewidth\": 0, \"ticks\": \"\"}, \"colorscale\": [[0.0, \"#0d0887\"], [0.1111111111111111, \"#46039f\"], [0.2222222222222222, \"#7201a8\"], [0.3333333333333333, \"#9c179e\"], [0.4444444444444444, \"#bd3786\"], [0.5555555555555556, \"#d8576b\"], [0.6666666666666666, \"#ed7953\"], [0.7777777777777778, \"#fb9f3a\"], [0.8888888888888888, \"#fdca26\"], [1.0, \"#f0f921\"]], \"type\": \"heatmap\"}], \"heatmapgl\": [{\"colorbar\": {\"outlinewidth\": 0, \"ticks\": \"\"}, \"colorscale\": [[0.0, \"#0d0887\"], [0.1111111111111111, \"#46039f\"], [0.2222222222222222, \"#7201a8\"], [0.3333333333333333, \"#9c179e\"], [0.4444444444444444, \"#bd3786\"], [0.5555555555555556, \"#d8576b\"], [0.6666666666666666, \"#ed7953\"], [0.7777777777777778, \"#fb9f3a\"], [0.8888888888888888, \"#fdca26\"], [1.0, \"#f0f921\"]], \"type\": \"heatmapgl\"}], \"histogram\": [{\"marker\": {\"colorbar\": {\"outlinewidth\": 0, \"ticks\": \"\"}}, \"type\": \"histogram\"}], \"histogram2d\": [{\"colorbar\": {\"outlinewidth\": 0, \"ticks\": \"\"}, \"colorscale\": [[0.0, \"#0d0887\"], [0.1111111111111111, \"#46039f\"], [0.2222222222222222, \"#7201a8\"], [0.3333333333333333, \"#9c179e\"], [0.4444444444444444, \"#bd3786\"], [0.5555555555555556, \"#d8576b\"], [0.6666666666666666, \"#ed7953\"], [0.7777777777777778, \"#fb9f3a\"], [0.8888888888888888, \"#fdca26\"], [1.0, \"#f0f921\"]], \"type\": \"histogram2d\"}], \"histogram2dcontour\": [{\"colorbar\": {\"outlinewidth\": 0, \"ticks\": \"\"}, \"colorscale\": [[0.0, \"#0d0887\"], [0.1111111111111111, \"#46039f\"], [0.2222222222222222, \"#7201a8\"], [0.3333333333333333, \"#9c179e\"], [0.4444444444444444, \"#bd3786\"], [0.5555555555555556, \"#d8576b\"], [0.6666666666666666, \"#ed7953\"], [0.7777777777777778, \"#fb9f3a\"], [0.8888888888888888, \"#fdca26\"], [1.0, \"#f0f921\"]], \"type\": \"histogram2dcontour\"}], \"mesh3d\": [{\"colorbar\": {\"outlinewidth\": 0, \"ticks\": \"\"}, \"type\": \"mesh3d\"}], \"parcoords\": [{\"line\": {\"colorbar\": {\"outlinewidth\": 0, \"ticks\": \"\"}}, \"type\": \"parcoords\"}], \"pie\": [{\"automargin\": true, \"type\": \"pie\"}], \"scatter\": [{\"marker\": {\"colorbar\": {\"outlinewidth\": 0, \"ticks\": \"\"}}, \"type\": \"scatter\"}], \"scatter3d\": [{\"line\": {\"colorbar\": {\"outlinewidth\": 0, \"ticks\": \"\"}}, \"marker\": {\"colorbar\": {\"outlinewidth\": 0, \"ticks\": \"\"}}, \"type\": \"scatter3d\"}], \"scattercarpet\": [{\"marker\": {\"colorbar\": {\"outlinewidth\": 0, \"ticks\": \"\"}}, \"type\": \"scattercarpet\"}], \"scattergeo\": [{\"marker\": {\"colorbar\": {\"outlinewidth\": 0, \"ticks\": \"\"}}, \"type\": \"scattergeo\"}], \"scattergl\": [{\"marker\": {\"colorbar\": {\"outlinewidth\": 0, \"ticks\": \"\"}}, \"type\": \"scattergl\"}], \"scattermapbox\": [{\"marker\": {\"colorbar\": {\"outlinewidth\": 0, \"ticks\": \"\"}}, \"type\": \"scattermapbox\"}], \"scatterpolar\": [{\"marker\": {\"colorbar\": {\"outlinewidth\": 0, \"ticks\": \"\"}}, \"type\": \"scatterpolar\"}], \"scatterpolargl\": [{\"marker\": {\"colorbar\": {\"outlinewidth\": 0, \"ticks\": \"\"}}, \"type\": \"scatterpolargl\"}], \"scatterternary\": [{\"marker\": {\"colorbar\": {\"outlinewidth\": 0, \"ticks\": \"\"}}, \"type\": \"scatterternary\"}], \"surface\": [{\"colorbar\": {\"outlinewidth\": 0, \"ticks\": \"\"}, \"colorscale\": [[0.0, \"#0d0887\"], [0.1111111111111111, \"#46039f\"], [0.2222222222222222, \"#7201a8\"], [0.3333333333333333, \"#9c179e\"], [0.4444444444444444, \"#bd3786\"], [0.5555555555555556, \"#d8576b\"], [0.6666666666666666, \"#ed7953\"], [0.7777777777777778, \"#fb9f3a\"], [0.8888888888888888, \"#fdca26\"], [1.0, \"#f0f921\"]], \"type\": \"surface\"}], \"table\": [{\"cells\": {\"fill\": {\"color\": \"#EBF0F8\"}, \"line\": {\"color\": \"white\"}}, \"header\": {\"fill\": {\"color\": \"#C8D4E3\"}, \"line\": {\"color\": \"white\"}}, \"type\": \"table\"}]}, \"layout\": {\"annotationdefaults\": {\"arrowcolor\": \"#2a3f5f\", \"arrowhead\": 0, \"arrowwidth\": 1}, \"autotypenumbers\": \"strict\", \"coloraxis\": {\"colorbar\": {\"outlinewidth\": 0, \"ticks\": \"\"}}, \"colorscale\": {\"diverging\": [[0, \"#8e0152\"], [0.1, \"#c51b7d\"], [0.2, \"#de77ae\"], [0.3, \"#f1b6da\"], [0.4, \"#fde0ef\"], [0.5, \"#f7f7f7\"], [0.6, \"#e6f5d0\"], [0.7, \"#b8e186\"], [0.8, \"#7fbc41\"], [0.9, \"#4d9221\"], [1, \"#276419\"]], \"sequential\": [[0.0, \"#0d0887\"], [0.1111111111111111, \"#46039f\"], [0.2222222222222222, \"#7201a8\"], [0.3333333333333333, \"#9c179e\"], [0.4444444444444444, \"#bd3786\"], [0.5555555555555556, \"#d8576b\"], [0.6666666666666666, \"#ed7953\"], [0.7777777777777778, \"#fb9f3a\"], [0.8888888888888888, \"#fdca26\"], [1.0, \"#f0f921\"]], \"sequentialminus\": [[0.0, \"#0d0887\"], [0.1111111111111111, \"#46039f\"], [0.2222222222222222, \"#7201a8\"], [0.3333333333333333, \"#9c179e\"], [0.4444444444444444, \"#bd3786\"], [0.5555555555555556, \"#d8576b\"], [0.6666666666666666, \"#ed7953\"], [0.7777777777777778, \"#fb9f3a\"], [0.8888888888888888, \"#fdca26\"], [1.0, \"#f0f921\"]]}, \"colorway\": [\"#636efa\", \"#EF553B\", \"#00cc96\", \"#ab63fa\", \"#FFA15A\", \"#19d3f3\", \"#FF6692\", \"#B6E880\", \"#FF97FF\", \"#FECB52\"], \"font\": {\"color\": \"#2a3f5f\"}, \"geo\": {\"bgcolor\": \"white\", \"lakecolor\": \"white\", \"landcolor\": \"#E5ECF6\", \"showlakes\": true, \"showland\": true, \"subunitcolor\": \"white\"}, \"hoverlabel\": {\"align\": \"left\"}, \"hovermode\": \"closest\", \"mapbox\": {\"style\": \"light\"}, \"paper_bgcolor\": \"white\", \"plot_bgcolor\": \"#E5ECF6\", \"polar\": {\"angularaxis\": {\"gridcolor\": \"white\", \"linecolor\": \"white\", \"ticks\": \"\"}, \"bgcolor\": \"#E5ECF6\", \"radialaxis\": {\"gridcolor\": \"white\", \"linecolor\": \"white\", \"ticks\": \"\"}}, \"scene\": {\"xaxis\": {\"backgroundcolor\": \"#E5ECF6\", \"gridcolor\": \"white\", \"gridwidth\": 2, \"linecolor\": \"white\", \"showbackground\": true, \"ticks\": \"\", \"zerolinecolor\": \"white\"}, \"yaxis\": {\"backgroundcolor\": \"#E5ECF6\", \"gridcolor\": \"white\", \"gridwidth\": 2, \"linecolor\": \"white\", \"showbackground\": true, \"ticks\": \"\", \"zerolinecolor\": \"white\"}, \"zaxis\": {\"backgroundcolor\": \"#E5ECF6\", \"gridcolor\": \"white\", \"gridwidth\": 2, \"linecolor\": \"white\", \"showbackground\": true, \"ticks\": \"\", \"zerolinecolor\": \"white\"}}, \"shapedefaults\": {\"line\": {\"color\": \"#2a3f5f\"}}, \"ternary\": {\"aaxis\": {\"gridcolor\": \"white\", \"linecolor\": \"white\", \"ticks\": \"\"}, \"baxis\": {\"gridcolor\": \"white\", \"linecolor\": \"white\", \"ticks\": \"\"}, \"bgcolor\": \"#E5ECF6\", \"caxis\": {\"gridcolor\": \"white\", \"linecolor\": \"white\", \"ticks\": \"\"}}, \"title\": {\"x\": 0.05}, \"xaxis\": {\"automargin\": true, \"gridcolor\": \"white\", \"linecolor\": \"white\", \"ticks\": \"\", \"title\": {\"standoff\": 15}, \"zerolinecolor\": \"white\", \"zerolinewidth\": 2}, \"yaxis\": {\"automargin\": true, \"gridcolor\": \"white\", \"linecolor\": \"white\", \"ticks\": \"\", \"title\": {\"standoff\": 15}, \"zerolinecolor\": \"white\", \"zerolinewidth\": 2}}}, \"title\": {\"font\": {\"color\": \"#4D5663\"}}, \"xaxis\": {\"gridcolor\": \"#E1E5ED\", \"showgrid\": true, \"tickfont\": {\"color\": \"#4D5663\"}, \"title\": {\"font\": {\"color\": \"#4D5663\"}, \"text\": \"\"}, \"zerolinecolor\": \"#E1E5ED\"}, \"yaxis\": {\"gridcolor\": \"#E1E5ED\", \"showgrid\": true, \"tickfont\": {\"color\": \"#4D5663\"}, \"title\": {\"font\": {\"color\": \"#4D5663\"}, \"text\": \"\"}, \"zerolinecolor\": \"#E1E5ED\"}},                        {\"showLink\": true, \"linkText\": \"Export to plot.ly\", \"plotlyServerURL\": \"https://plot.ly\", \"responsive\": true}                    ).then(function(){\n",
       "                            \n",
       "var gd = document.getElementById('3b7b0bc5-e67f-47bd-83ea-a07620f030d2');\n",
       "var x = new MutationObserver(function (mutations, observer) {{\n",
       "        var display = window.getComputedStyle(gd).display;\n",
       "        if (!display || display === 'none') {{\n",
       "            console.log([gd, 'removed!']);\n",
       "            Plotly.purge(gd);\n",
       "            observer.disconnect();\n",
       "        }}\n",
       "}});\n",
       "\n",
       "// Listen for the removal of the full notebook cells\n",
       "var notebookContainer = gd.closest('#notebook-container');\n",
       "if (notebookContainer) {{\n",
       "    x.observe(notebookContainer, {childList: true});\n",
       "}}\n",
       "\n",
       "// Listen for the clearing of the current output cell\n",
       "var outputEl = gd.closest('.output');\n",
       "if (outputEl) {{\n",
       "    x.observe(outputEl, {childList: true});\n",
       "}}\n",
       "\n",
       "                        })                };                });            </script>        </div>"
      ]
     },
     "metadata": {},
     "output_type": "display_data"
    }
   ],
   "source": [
    "MntFishProducts.iplot(x = 'Education' , y = 'MntFishProducts' , kind = 'bar')"
   ]
  },
  {
   "cell_type": "code",
   "execution_count": 50,
   "metadata": {},
   "outputs": [],
   "source": [
    "MntFishProducts_Marital_Status =  df.groupby('Marital_Status').sum()['MntFishProducts'].reset_index()"
   ]
  },
  {
   "cell_type": "code",
   "execution_count": 51,
   "metadata": {},
   "outputs": [
    {
     "data": {
      "text/html": [
       "<div>\n",
       "<style scoped>\n",
       "    .dataframe tbody tr th:only-of-type {\n",
       "        vertical-align: middle;\n",
       "    }\n",
       "\n",
       "    .dataframe tbody tr th {\n",
       "        vertical-align: top;\n",
       "    }\n",
       "\n",
       "    .dataframe thead th {\n",
       "        text-align: right;\n",
       "    }\n",
       "</style>\n",
       "<table border=\"1\" class=\"dataframe\">\n",
       "  <thead>\n",
       "    <tr style=\"text-align: right;\">\n",
       "      <th></th>\n",
       "      <th>Marital_Status</th>\n",
       "      <th>MntFishProducts</th>\n",
       "    </tr>\n",
       "  </thead>\n",
       "  <tbody>\n",
       "    <tr>\n",
       "      <th>0</th>\n",
       "      <td>Absurd</td>\n",
       "      <td>411</td>\n",
       "    </tr>\n",
       "    <tr>\n",
       "      <th>1</th>\n",
       "      <td>Alone</td>\n",
       "      <td>23</td>\n",
       "    </tr>\n",
       "    <tr>\n",
       "      <th>2</th>\n",
       "      <td>Divorced</td>\n",
       "      <td>8130</td>\n",
       "    </tr>\n",
       "    <tr>\n",
       "      <th>3</th>\n",
       "      <td>Married</td>\n",
       "      <td>30569</td>\n",
       "    </tr>\n",
       "    <tr>\n",
       "      <th>4</th>\n",
       "      <td>Single</td>\n",
       "      <td>18337</td>\n",
       "    </tr>\n",
       "    <tr>\n",
       "      <th>5</th>\n",
       "      <td>Together</td>\n",
       "      <td>22503</td>\n",
       "    </tr>\n",
       "    <tr>\n",
       "      <th>6</th>\n",
       "      <td>Widow</td>\n",
       "      <td>3955</td>\n",
       "    </tr>\n",
       "    <tr>\n",
       "      <th>7</th>\n",
       "      <td>YOLO</td>\n",
       "      <td>8</td>\n",
       "    </tr>\n",
       "  </tbody>\n",
       "</table>\n",
       "</div>"
      ],
      "text/plain": [
       "  Marital_Status  MntFishProducts\n",
       "0         Absurd              411\n",
       "1          Alone               23\n",
       "2       Divorced             8130\n",
       "3        Married            30569\n",
       "4         Single            18337\n",
       "5       Together            22503\n",
       "6          Widow             3955\n",
       "7           YOLO                8"
      ]
     },
     "execution_count": 51,
     "metadata": {},
     "output_type": "execute_result"
    }
   ],
   "source": [
    "MntFishProducts_Marital_Status"
   ]
  },
  {
   "cell_type": "code",
   "execution_count": 52,
   "metadata": {},
   "outputs": [
    {
     "data": {
      "application/vnd.plotly.v1+json": {
       "config": {
        "linkText": "Export to plot.ly",
        "plotlyServerURL": "https://plot.ly",
        "showLink": true
       },
       "data": [
        {
         "marker": {
          "color": "rgba(255, 153, 51, 0.6)",
          "line": {
           "color": "rgba(255, 153, 51, 1.0)",
           "width": 1
          }
         },
         "name": "MntFishProducts",
         "orientation": "v",
         "text": "",
         "type": "bar",
         "x": [
          "Absurd",
          "Alone",
          "Divorced",
          "Married",
          "Single",
          "Together",
          "Widow",
          "YOLO"
         ],
         "y": [
          411,
          23,
          8130,
          30569,
          18337,
          22503,
          3955,
          8
         ]
        }
       ],
       "layout": {
        "legend": {
         "bgcolor": "#F5F6F9",
         "font": {
          "color": "#4D5663"
         }
        },
        "paper_bgcolor": "#F5F6F9",
        "plot_bgcolor": "#F5F6F9",
        "template": {
         "data": {
          "bar": [
           {
            "error_x": {
             "color": "#2a3f5f"
            },
            "error_y": {
             "color": "#2a3f5f"
            },
            "marker": {
             "line": {
              "color": "#E5ECF6",
              "width": 0.5
             }
            },
            "type": "bar"
           }
          ],
          "barpolar": [
           {
            "marker": {
             "line": {
              "color": "#E5ECF6",
              "width": 0.5
             }
            },
            "type": "barpolar"
           }
          ],
          "carpet": [
           {
            "aaxis": {
             "endlinecolor": "#2a3f5f",
             "gridcolor": "white",
             "linecolor": "white",
             "minorgridcolor": "white",
             "startlinecolor": "#2a3f5f"
            },
            "baxis": {
             "endlinecolor": "#2a3f5f",
             "gridcolor": "white",
             "linecolor": "white",
             "minorgridcolor": "white",
             "startlinecolor": "#2a3f5f"
            },
            "type": "carpet"
           }
          ],
          "choropleth": [
           {
            "colorbar": {
             "outlinewidth": 0,
             "ticks": ""
            },
            "type": "choropleth"
           }
          ],
          "contour": [
           {
            "colorbar": {
             "outlinewidth": 0,
             "ticks": ""
            },
            "colorscale": [
             [
              0,
              "#0d0887"
             ],
             [
              0.1111111111111111,
              "#46039f"
             ],
             [
              0.2222222222222222,
              "#7201a8"
             ],
             [
              0.3333333333333333,
              "#9c179e"
             ],
             [
              0.4444444444444444,
              "#bd3786"
             ],
             [
              0.5555555555555556,
              "#d8576b"
             ],
             [
              0.6666666666666666,
              "#ed7953"
             ],
             [
              0.7777777777777778,
              "#fb9f3a"
             ],
             [
              0.8888888888888888,
              "#fdca26"
             ],
             [
              1,
              "#f0f921"
             ]
            ],
            "type": "contour"
           }
          ],
          "contourcarpet": [
           {
            "colorbar": {
             "outlinewidth": 0,
             "ticks": ""
            },
            "type": "contourcarpet"
           }
          ],
          "heatmap": [
           {
            "colorbar": {
             "outlinewidth": 0,
             "ticks": ""
            },
            "colorscale": [
             [
              0,
              "#0d0887"
             ],
             [
              0.1111111111111111,
              "#46039f"
             ],
             [
              0.2222222222222222,
              "#7201a8"
             ],
             [
              0.3333333333333333,
              "#9c179e"
             ],
             [
              0.4444444444444444,
              "#bd3786"
             ],
             [
              0.5555555555555556,
              "#d8576b"
             ],
             [
              0.6666666666666666,
              "#ed7953"
             ],
             [
              0.7777777777777778,
              "#fb9f3a"
             ],
             [
              0.8888888888888888,
              "#fdca26"
             ],
             [
              1,
              "#f0f921"
             ]
            ],
            "type": "heatmap"
           }
          ],
          "heatmapgl": [
           {
            "colorbar": {
             "outlinewidth": 0,
             "ticks": ""
            },
            "colorscale": [
             [
              0,
              "#0d0887"
             ],
             [
              0.1111111111111111,
              "#46039f"
             ],
             [
              0.2222222222222222,
              "#7201a8"
             ],
             [
              0.3333333333333333,
              "#9c179e"
             ],
             [
              0.4444444444444444,
              "#bd3786"
             ],
             [
              0.5555555555555556,
              "#d8576b"
             ],
             [
              0.6666666666666666,
              "#ed7953"
             ],
             [
              0.7777777777777778,
              "#fb9f3a"
             ],
             [
              0.8888888888888888,
              "#fdca26"
             ],
             [
              1,
              "#f0f921"
             ]
            ],
            "type": "heatmapgl"
           }
          ],
          "histogram": [
           {
            "marker": {
             "colorbar": {
              "outlinewidth": 0,
              "ticks": ""
             }
            },
            "type": "histogram"
           }
          ],
          "histogram2d": [
           {
            "colorbar": {
             "outlinewidth": 0,
             "ticks": ""
            },
            "colorscale": [
             [
              0,
              "#0d0887"
             ],
             [
              0.1111111111111111,
              "#46039f"
             ],
             [
              0.2222222222222222,
              "#7201a8"
             ],
             [
              0.3333333333333333,
              "#9c179e"
             ],
             [
              0.4444444444444444,
              "#bd3786"
             ],
             [
              0.5555555555555556,
              "#d8576b"
             ],
             [
              0.6666666666666666,
              "#ed7953"
             ],
             [
              0.7777777777777778,
              "#fb9f3a"
             ],
             [
              0.8888888888888888,
              "#fdca26"
             ],
             [
              1,
              "#f0f921"
             ]
            ],
            "type": "histogram2d"
           }
          ],
          "histogram2dcontour": [
           {
            "colorbar": {
             "outlinewidth": 0,
             "ticks": ""
            },
            "colorscale": [
             [
              0,
              "#0d0887"
             ],
             [
              0.1111111111111111,
              "#46039f"
             ],
             [
              0.2222222222222222,
              "#7201a8"
             ],
             [
              0.3333333333333333,
              "#9c179e"
             ],
             [
              0.4444444444444444,
              "#bd3786"
             ],
             [
              0.5555555555555556,
              "#d8576b"
             ],
             [
              0.6666666666666666,
              "#ed7953"
             ],
             [
              0.7777777777777778,
              "#fb9f3a"
             ],
             [
              0.8888888888888888,
              "#fdca26"
             ],
             [
              1,
              "#f0f921"
             ]
            ],
            "type": "histogram2dcontour"
           }
          ],
          "mesh3d": [
           {
            "colorbar": {
             "outlinewidth": 0,
             "ticks": ""
            },
            "type": "mesh3d"
           }
          ],
          "parcoords": [
           {
            "line": {
             "colorbar": {
              "outlinewidth": 0,
              "ticks": ""
             }
            },
            "type": "parcoords"
           }
          ],
          "pie": [
           {
            "automargin": true,
            "type": "pie"
           }
          ],
          "scatter": [
           {
            "marker": {
             "colorbar": {
              "outlinewidth": 0,
              "ticks": ""
             }
            },
            "type": "scatter"
           }
          ],
          "scatter3d": [
           {
            "line": {
             "colorbar": {
              "outlinewidth": 0,
              "ticks": ""
             }
            },
            "marker": {
             "colorbar": {
              "outlinewidth": 0,
              "ticks": ""
             }
            },
            "type": "scatter3d"
           }
          ],
          "scattercarpet": [
           {
            "marker": {
             "colorbar": {
              "outlinewidth": 0,
              "ticks": ""
             }
            },
            "type": "scattercarpet"
           }
          ],
          "scattergeo": [
           {
            "marker": {
             "colorbar": {
              "outlinewidth": 0,
              "ticks": ""
             }
            },
            "type": "scattergeo"
           }
          ],
          "scattergl": [
           {
            "marker": {
             "colorbar": {
              "outlinewidth": 0,
              "ticks": ""
             }
            },
            "type": "scattergl"
           }
          ],
          "scattermapbox": [
           {
            "marker": {
             "colorbar": {
              "outlinewidth": 0,
              "ticks": ""
             }
            },
            "type": "scattermapbox"
           }
          ],
          "scatterpolar": [
           {
            "marker": {
             "colorbar": {
              "outlinewidth": 0,
              "ticks": ""
             }
            },
            "type": "scatterpolar"
           }
          ],
          "scatterpolargl": [
           {
            "marker": {
             "colorbar": {
              "outlinewidth": 0,
              "ticks": ""
             }
            },
            "type": "scatterpolargl"
           }
          ],
          "scatterternary": [
           {
            "marker": {
             "colorbar": {
              "outlinewidth": 0,
              "ticks": ""
             }
            },
            "type": "scatterternary"
           }
          ],
          "surface": [
           {
            "colorbar": {
             "outlinewidth": 0,
             "ticks": ""
            },
            "colorscale": [
             [
              0,
              "#0d0887"
             ],
             [
              0.1111111111111111,
              "#46039f"
             ],
             [
              0.2222222222222222,
              "#7201a8"
             ],
             [
              0.3333333333333333,
              "#9c179e"
             ],
             [
              0.4444444444444444,
              "#bd3786"
             ],
             [
              0.5555555555555556,
              "#d8576b"
             ],
             [
              0.6666666666666666,
              "#ed7953"
             ],
             [
              0.7777777777777778,
              "#fb9f3a"
             ],
             [
              0.8888888888888888,
              "#fdca26"
             ],
             [
              1,
              "#f0f921"
             ]
            ],
            "type": "surface"
           }
          ],
          "table": [
           {
            "cells": {
             "fill": {
              "color": "#EBF0F8"
             },
             "line": {
              "color": "white"
             }
            },
            "header": {
             "fill": {
              "color": "#C8D4E3"
             },
             "line": {
              "color": "white"
             }
            },
            "type": "table"
           }
          ]
         },
         "layout": {
          "annotationdefaults": {
           "arrowcolor": "#2a3f5f",
           "arrowhead": 0,
           "arrowwidth": 1
          },
          "autotypenumbers": "strict",
          "coloraxis": {
           "colorbar": {
            "outlinewidth": 0,
            "ticks": ""
           }
          },
          "colorscale": {
           "diverging": [
            [
             0,
             "#8e0152"
            ],
            [
             0.1,
             "#c51b7d"
            ],
            [
             0.2,
             "#de77ae"
            ],
            [
             0.3,
             "#f1b6da"
            ],
            [
             0.4,
             "#fde0ef"
            ],
            [
             0.5,
             "#f7f7f7"
            ],
            [
             0.6,
             "#e6f5d0"
            ],
            [
             0.7,
             "#b8e186"
            ],
            [
             0.8,
             "#7fbc41"
            ],
            [
             0.9,
             "#4d9221"
            ],
            [
             1,
             "#276419"
            ]
           ],
           "sequential": [
            [
             0,
             "#0d0887"
            ],
            [
             0.1111111111111111,
             "#46039f"
            ],
            [
             0.2222222222222222,
             "#7201a8"
            ],
            [
             0.3333333333333333,
             "#9c179e"
            ],
            [
             0.4444444444444444,
             "#bd3786"
            ],
            [
             0.5555555555555556,
             "#d8576b"
            ],
            [
             0.6666666666666666,
             "#ed7953"
            ],
            [
             0.7777777777777778,
             "#fb9f3a"
            ],
            [
             0.8888888888888888,
             "#fdca26"
            ],
            [
             1,
             "#f0f921"
            ]
           ],
           "sequentialminus": [
            [
             0,
             "#0d0887"
            ],
            [
             0.1111111111111111,
             "#46039f"
            ],
            [
             0.2222222222222222,
             "#7201a8"
            ],
            [
             0.3333333333333333,
             "#9c179e"
            ],
            [
             0.4444444444444444,
             "#bd3786"
            ],
            [
             0.5555555555555556,
             "#d8576b"
            ],
            [
             0.6666666666666666,
             "#ed7953"
            ],
            [
             0.7777777777777778,
             "#fb9f3a"
            ],
            [
             0.8888888888888888,
             "#fdca26"
            ],
            [
             1,
             "#f0f921"
            ]
           ]
          },
          "colorway": [
           "#636efa",
           "#EF553B",
           "#00cc96",
           "#ab63fa",
           "#FFA15A",
           "#19d3f3",
           "#FF6692",
           "#B6E880",
           "#FF97FF",
           "#FECB52"
          ],
          "font": {
           "color": "#2a3f5f"
          },
          "geo": {
           "bgcolor": "white",
           "lakecolor": "white",
           "landcolor": "#E5ECF6",
           "showlakes": true,
           "showland": true,
           "subunitcolor": "white"
          },
          "hoverlabel": {
           "align": "left"
          },
          "hovermode": "closest",
          "mapbox": {
           "style": "light"
          },
          "paper_bgcolor": "white",
          "plot_bgcolor": "#E5ECF6",
          "polar": {
           "angularaxis": {
            "gridcolor": "white",
            "linecolor": "white",
            "ticks": ""
           },
           "bgcolor": "#E5ECF6",
           "radialaxis": {
            "gridcolor": "white",
            "linecolor": "white",
            "ticks": ""
           }
          },
          "scene": {
           "xaxis": {
            "backgroundcolor": "#E5ECF6",
            "gridcolor": "white",
            "gridwidth": 2,
            "linecolor": "white",
            "showbackground": true,
            "ticks": "",
            "zerolinecolor": "white"
           },
           "yaxis": {
            "backgroundcolor": "#E5ECF6",
            "gridcolor": "white",
            "gridwidth": 2,
            "linecolor": "white",
            "showbackground": true,
            "ticks": "",
            "zerolinecolor": "white"
           },
           "zaxis": {
            "backgroundcolor": "#E5ECF6",
            "gridcolor": "white",
            "gridwidth": 2,
            "linecolor": "white",
            "showbackground": true,
            "ticks": "",
            "zerolinecolor": "white"
           }
          },
          "shapedefaults": {
           "line": {
            "color": "#2a3f5f"
           }
          },
          "ternary": {
           "aaxis": {
            "gridcolor": "white",
            "linecolor": "white",
            "ticks": ""
           },
           "baxis": {
            "gridcolor": "white",
            "linecolor": "white",
            "ticks": ""
           },
           "bgcolor": "#E5ECF6",
           "caxis": {
            "gridcolor": "white",
            "linecolor": "white",
            "ticks": ""
           }
          },
          "title": {
           "x": 0.05
          },
          "xaxis": {
           "automargin": true,
           "gridcolor": "white",
           "linecolor": "white",
           "ticks": "",
           "title": {
            "standoff": 15
           },
           "zerolinecolor": "white",
           "zerolinewidth": 2
          },
          "yaxis": {
           "automargin": true,
           "gridcolor": "white",
           "linecolor": "white",
           "ticks": "",
           "title": {
            "standoff": 15
           },
           "zerolinecolor": "white",
           "zerolinewidth": 2
          }
         }
        },
        "title": {
         "font": {
          "color": "#4D5663"
         }
        },
        "xaxis": {
         "gridcolor": "#E1E5ED",
         "showgrid": true,
         "tickfont": {
          "color": "#4D5663"
         },
         "title": {
          "font": {
           "color": "#4D5663"
          },
          "text": ""
         },
         "zerolinecolor": "#E1E5ED"
        },
        "yaxis": {
         "gridcolor": "#E1E5ED",
         "showgrid": true,
         "tickfont": {
          "color": "#4D5663"
         },
         "title": {
          "font": {
           "color": "#4D5663"
          },
          "text": ""
         },
         "zerolinecolor": "#E1E5ED"
        }
       }
      },
      "text/html": [
       "<div>                            <div id=\"30f72450-e2c1-4482-af88-f03786955abd\" class=\"plotly-graph-div\" style=\"height:525px; width:100%;\"></div>            <script type=\"text/javascript\">                require([\"plotly\"], function(Plotly) {                    window.PLOTLYENV=window.PLOTLYENV || {};\n",
       "                    window.PLOTLYENV.BASE_URL='https://plot.ly';                                    if (document.getElementById(\"30f72450-e2c1-4482-af88-f03786955abd\")) {                    Plotly.newPlot(                        \"30f72450-e2c1-4482-af88-f03786955abd\",                        [{\"marker\": {\"color\": \"rgba(255, 153, 51, 0.6)\", \"line\": {\"color\": \"rgba(255, 153, 51, 1.0)\", \"width\": 1}}, \"name\": \"MntFishProducts\", \"orientation\": \"v\", \"text\": \"\", \"type\": \"bar\", \"x\": [\"Absurd\", \"Alone\", \"Divorced\", \"Married\", \"Single\", \"Together\", \"Widow\", \"YOLO\"], \"y\": [411, 23, 8130, 30569, 18337, 22503, 3955, 8]}],                        {\"legend\": {\"bgcolor\": \"#F5F6F9\", \"font\": {\"color\": \"#4D5663\"}}, \"paper_bgcolor\": \"#F5F6F9\", \"plot_bgcolor\": \"#F5F6F9\", \"template\": {\"data\": {\"bar\": [{\"error_x\": {\"color\": \"#2a3f5f\"}, \"error_y\": {\"color\": \"#2a3f5f\"}, \"marker\": {\"line\": {\"color\": \"#E5ECF6\", \"width\": 0.5}}, \"type\": \"bar\"}], \"barpolar\": [{\"marker\": {\"line\": {\"color\": \"#E5ECF6\", \"width\": 0.5}}, \"type\": \"barpolar\"}], \"carpet\": [{\"aaxis\": {\"endlinecolor\": \"#2a3f5f\", \"gridcolor\": \"white\", \"linecolor\": \"white\", \"minorgridcolor\": \"white\", \"startlinecolor\": \"#2a3f5f\"}, \"baxis\": {\"endlinecolor\": \"#2a3f5f\", \"gridcolor\": \"white\", \"linecolor\": \"white\", \"minorgridcolor\": \"white\", \"startlinecolor\": \"#2a3f5f\"}, \"type\": \"carpet\"}], \"choropleth\": [{\"colorbar\": {\"outlinewidth\": 0, \"ticks\": \"\"}, \"type\": \"choropleth\"}], \"contour\": [{\"colorbar\": {\"outlinewidth\": 0, \"ticks\": \"\"}, \"colorscale\": [[0.0, \"#0d0887\"], [0.1111111111111111, \"#46039f\"], [0.2222222222222222, \"#7201a8\"], [0.3333333333333333, \"#9c179e\"], [0.4444444444444444, \"#bd3786\"], [0.5555555555555556, \"#d8576b\"], [0.6666666666666666, \"#ed7953\"], [0.7777777777777778, \"#fb9f3a\"], [0.8888888888888888, \"#fdca26\"], [1.0, \"#f0f921\"]], \"type\": \"contour\"}], \"contourcarpet\": [{\"colorbar\": {\"outlinewidth\": 0, \"ticks\": \"\"}, \"type\": \"contourcarpet\"}], \"heatmap\": [{\"colorbar\": {\"outlinewidth\": 0, \"ticks\": \"\"}, \"colorscale\": [[0.0, \"#0d0887\"], [0.1111111111111111, \"#46039f\"], [0.2222222222222222, \"#7201a8\"], [0.3333333333333333, \"#9c179e\"], [0.4444444444444444, \"#bd3786\"], [0.5555555555555556, \"#d8576b\"], [0.6666666666666666, \"#ed7953\"], [0.7777777777777778, \"#fb9f3a\"], [0.8888888888888888, \"#fdca26\"], [1.0, \"#f0f921\"]], \"type\": \"heatmap\"}], \"heatmapgl\": [{\"colorbar\": {\"outlinewidth\": 0, \"ticks\": \"\"}, \"colorscale\": [[0.0, \"#0d0887\"], [0.1111111111111111, \"#46039f\"], [0.2222222222222222, \"#7201a8\"], [0.3333333333333333, \"#9c179e\"], [0.4444444444444444, \"#bd3786\"], [0.5555555555555556, \"#d8576b\"], [0.6666666666666666, \"#ed7953\"], [0.7777777777777778, \"#fb9f3a\"], [0.8888888888888888, \"#fdca26\"], [1.0, \"#f0f921\"]], \"type\": \"heatmapgl\"}], \"histogram\": [{\"marker\": {\"colorbar\": {\"outlinewidth\": 0, \"ticks\": \"\"}}, \"type\": \"histogram\"}], \"histogram2d\": [{\"colorbar\": {\"outlinewidth\": 0, \"ticks\": \"\"}, \"colorscale\": [[0.0, \"#0d0887\"], [0.1111111111111111, \"#46039f\"], [0.2222222222222222, \"#7201a8\"], [0.3333333333333333, \"#9c179e\"], [0.4444444444444444, \"#bd3786\"], [0.5555555555555556, \"#d8576b\"], [0.6666666666666666, \"#ed7953\"], [0.7777777777777778, \"#fb9f3a\"], [0.8888888888888888, \"#fdca26\"], [1.0, \"#f0f921\"]], \"type\": \"histogram2d\"}], \"histogram2dcontour\": [{\"colorbar\": {\"outlinewidth\": 0, \"ticks\": \"\"}, \"colorscale\": [[0.0, \"#0d0887\"], [0.1111111111111111, \"#46039f\"], [0.2222222222222222, \"#7201a8\"], [0.3333333333333333, \"#9c179e\"], [0.4444444444444444, \"#bd3786\"], [0.5555555555555556, \"#d8576b\"], [0.6666666666666666, \"#ed7953\"], [0.7777777777777778, \"#fb9f3a\"], [0.8888888888888888, \"#fdca26\"], [1.0, \"#f0f921\"]], \"type\": \"histogram2dcontour\"}], \"mesh3d\": [{\"colorbar\": {\"outlinewidth\": 0, \"ticks\": \"\"}, \"type\": \"mesh3d\"}], \"parcoords\": [{\"line\": {\"colorbar\": {\"outlinewidth\": 0, \"ticks\": \"\"}}, \"type\": \"parcoords\"}], \"pie\": [{\"automargin\": true, \"type\": \"pie\"}], \"scatter\": [{\"marker\": {\"colorbar\": {\"outlinewidth\": 0, \"ticks\": \"\"}}, \"type\": \"scatter\"}], \"scatter3d\": [{\"line\": {\"colorbar\": {\"outlinewidth\": 0, \"ticks\": \"\"}}, \"marker\": {\"colorbar\": {\"outlinewidth\": 0, \"ticks\": \"\"}}, \"type\": \"scatter3d\"}], \"scattercarpet\": [{\"marker\": {\"colorbar\": {\"outlinewidth\": 0, \"ticks\": \"\"}}, \"type\": \"scattercarpet\"}], \"scattergeo\": [{\"marker\": {\"colorbar\": {\"outlinewidth\": 0, \"ticks\": \"\"}}, \"type\": \"scattergeo\"}], \"scattergl\": [{\"marker\": {\"colorbar\": {\"outlinewidth\": 0, \"ticks\": \"\"}}, \"type\": \"scattergl\"}], \"scattermapbox\": [{\"marker\": {\"colorbar\": {\"outlinewidth\": 0, \"ticks\": \"\"}}, \"type\": \"scattermapbox\"}], \"scatterpolar\": [{\"marker\": {\"colorbar\": {\"outlinewidth\": 0, \"ticks\": \"\"}}, \"type\": \"scatterpolar\"}], \"scatterpolargl\": [{\"marker\": {\"colorbar\": {\"outlinewidth\": 0, \"ticks\": \"\"}}, \"type\": \"scatterpolargl\"}], \"scatterternary\": [{\"marker\": {\"colorbar\": {\"outlinewidth\": 0, \"ticks\": \"\"}}, \"type\": \"scatterternary\"}], \"surface\": [{\"colorbar\": {\"outlinewidth\": 0, \"ticks\": \"\"}, \"colorscale\": [[0.0, \"#0d0887\"], [0.1111111111111111, \"#46039f\"], [0.2222222222222222, \"#7201a8\"], [0.3333333333333333, \"#9c179e\"], [0.4444444444444444, \"#bd3786\"], [0.5555555555555556, \"#d8576b\"], [0.6666666666666666, \"#ed7953\"], [0.7777777777777778, \"#fb9f3a\"], [0.8888888888888888, \"#fdca26\"], [1.0, \"#f0f921\"]], \"type\": \"surface\"}], \"table\": [{\"cells\": {\"fill\": {\"color\": \"#EBF0F8\"}, \"line\": {\"color\": \"white\"}}, \"header\": {\"fill\": {\"color\": \"#C8D4E3\"}, \"line\": {\"color\": \"white\"}}, \"type\": \"table\"}]}, \"layout\": {\"annotationdefaults\": {\"arrowcolor\": \"#2a3f5f\", \"arrowhead\": 0, \"arrowwidth\": 1}, \"autotypenumbers\": \"strict\", \"coloraxis\": {\"colorbar\": {\"outlinewidth\": 0, \"ticks\": \"\"}}, \"colorscale\": {\"diverging\": [[0, \"#8e0152\"], [0.1, \"#c51b7d\"], [0.2, \"#de77ae\"], [0.3, \"#f1b6da\"], [0.4, \"#fde0ef\"], [0.5, \"#f7f7f7\"], [0.6, \"#e6f5d0\"], [0.7, \"#b8e186\"], [0.8, \"#7fbc41\"], [0.9, \"#4d9221\"], [1, \"#276419\"]], \"sequential\": [[0.0, \"#0d0887\"], [0.1111111111111111, \"#46039f\"], [0.2222222222222222, \"#7201a8\"], [0.3333333333333333, \"#9c179e\"], [0.4444444444444444, \"#bd3786\"], [0.5555555555555556, \"#d8576b\"], [0.6666666666666666, \"#ed7953\"], [0.7777777777777778, \"#fb9f3a\"], [0.8888888888888888, \"#fdca26\"], [1.0, \"#f0f921\"]], \"sequentialminus\": [[0.0, \"#0d0887\"], [0.1111111111111111, \"#46039f\"], [0.2222222222222222, \"#7201a8\"], [0.3333333333333333, \"#9c179e\"], [0.4444444444444444, \"#bd3786\"], [0.5555555555555556, \"#d8576b\"], [0.6666666666666666, \"#ed7953\"], [0.7777777777777778, \"#fb9f3a\"], [0.8888888888888888, \"#fdca26\"], [1.0, \"#f0f921\"]]}, \"colorway\": [\"#636efa\", \"#EF553B\", \"#00cc96\", \"#ab63fa\", \"#FFA15A\", \"#19d3f3\", \"#FF6692\", \"#B6E880\", \"#FF97FF\", \"#FECB52\"], \"font\": {\"color\": \"#2a3f5f\"}, \"geo\": {\"bgcolor\": \"white\", \"lakecolor\": \"white\", \"landcolor\": \"#E5ECF6\", \"showlakes\": true, \"showland\": true, \"subunitcolor\": \"white\"}, \"hoverlabel\": {\"align\": \"left\"}, \"hovermode\": \"closest\", \"mapbox\": {\"style\": \"light\"}, \"paper_bgcolor\": \"white\", \"plot_bgcolor\": \"#E5ECF6\", \"polar\": {\"angularaxis\": {\"gridcolor\": \"white\", \"linecolor\": \"white\", \"ticks\": \"\"}, \"bgcolor\": \"#E5ECF6\", \"radialaxis\": {\"gridcolor\": \"white\", \"linecolor\": \"white\", \"ticks\": \"\"}}, \"scene\": {\"xaxis\": {\"backgroundcolor\": \"#E5ECF6\", \"gridcolor\": \"white\", \"gridwidth\": 2, \"linecolor\": \"white\", \"showbackground\": true, \"ticks\": \"\", \"zerolinecolor\": \"white\"}, \"yaxis\": {\"backgroundcolor\": \"#E5ECF6\", \"gridcolor\": \"white\", \"gridwidth\": 2, \"linecolor\": \"white\", \"showbackground\": true, \"ticks\": \"\", \"zerolinecolor\": \"white\"}, \"zaxis\": {\"backgroundcolor\": \"#E5ECF6\", \"gridcolor\": \"white\", \"gridwidth\": 2, \"linecolor\": \"white\", \"showbackground\": true, \"ticks\": \"\", \"zerolinecolor\": \"white\"}}, \"shapedefaults\": {\"line\": {\"color\": \"#2a3f5f\"}}, \"ternary\": {\"aaxis\": {\"gridcolor\": \"white\", \"linecolor\": \"white\", \"ticks\": \"\"}, \"baxis\": {\"gridcolor\": \"white\", \"linecolor\": \"white\", \"ticks\": \"\"}, \"bgcolor\": \"#E5ECF6\", \"caxis\": {\"gridcolor\": \"white\", \"linecolor\": \"white\", \"ticks\": \"\"}}, \"title\": {\"x\": 0.05}, \"xaxis\": {\"automargin\": true, \"gridcolor\": \"white\", \"linecolor\": \"white\", \"ticks\": \"\", \"title\": {\"standoff\": 15}, \"zerolinecolor\": \"white\", \"zerolinewidth\": 2}, \"yaxis\": {\"automargin\": true, \"gridcolor\": \"white\", \"linecolor\": \"white\", \"ticks\": \"\", \"title\": {\"standoff\": 15}, \"zerolinecolor\": \"white\", \"zerolinewidth\": 2}}}, \"title\": {\"font\": {\"color\": \"#4D5663\"}}, \"xaxis\": {\"gridcolor\": \"#E1E5ED\", \"showgrid\": true, \"tickfont\": {\"color\": \"#4D5663\"}, \"title\": {\"font\": {\"color\": \"#4D5663\"}, \"text\": \"\"}, \"zerolinecolor\": \"#E1E5ED\"}, \"yaxis\": {\"gridcolor\": \"#E1E5ED\", \"showgrid\": true, \"tickfont\": {\"color\": \"#4D5663\"}, \"title\": {\"font\": {\"color\": \"#4D5663\"}, \"text\": \"\"}, \"zerolinecolor\": \"#E1E5ED\"}},                        {\"showLink\": true, \"linkText\": \"Export to plot.ly\", \"plotlyServerURL\": \"https://plot.ly\", \"responsive\": true}                    ).then(function(){\n",
       "                            \n",
       "var gd = document.getElementById('30f72450-e2c1-4482-af88-f03786955abd');\n",
       "var x = new MutationObserver(function (mutations, observer) {{\n",
       "        var display = window.getComputedStyle(gd).display;\n",
       "        if (!display || display === 'none') {{\n",
       "            console.log([gd, 'removed!']);\n",
       "            Plotly.purge(gd);\n",
       "            observer.disconnect();\n",
       "        }}\n",
       "}});\n",
       "\n",
       "// Listen for the removal of the full notebook cells\n",
       "var notebookContainer = gd.closest('#notebook-container');\n",
       "if (notebookContainer) {{\n",
       "    x.observe(notebookContainer, {childList: true});\n",
       "}}\n",
       "\n",
       "// Listen for the clearing of the current output cell\n",
       "var outputEl = gd.closest('.output');\n",
       "if (outputEl) {{\n",
       "    x.observe(outputEl, {childList: true});\n",
       "}}\n",
       "\n",
       "                        })                };                });            </script>        </div>"
      ]
     },
     "metadata": {},
     "output_type": "display_data"
    }
   ],
   "source": [
    "MntFishProducts_Marital_Status.iplot(x = 'Marital_Status' , y = 'MntFishProducts' , kind = 'bar')"
   ]
  },
  {
   "cell_type": "markdown",
   "metadata": {},
   "source": [
    "# Other factors related to amount spent on fish"
   ]
  },
  {
   "cell_type": "markdown",
   "metadata": {},
   "source": [
    "1. Number of Children at Home"
   ]
  },
  {
   "cell_type": "code",
   "execution_count": 53,
   "metadata": {},
   "outputs": [
    {
     "data": {
      "text/html": [
       "<div>\n",
       "<style scoped>\n",
       "    .dataframe tbody tr th:only-of-type {\n",
       "        vertical-align: middle;\n",
       "    }\n",
       "\n",
       "    .dataframe tbody tr th {\n",
       "        vertical-align: top;\n",
       "    }\n",
       "\n",
       "    .dataframe thead th {\n",
       "        text-align: right;\n",
       "    }\n",
       "</style>\n",
       "<table border=\"1\" class=\"dataframe\">\n",
       "  <thead>\n",
       "    <tr style=\"text-align: right;\">\n",
       "      <th></th>\n",
       "      <th>TotalChildren</th>\n",
       "      <th>MntFishProducts</th>\n",
       "    </tr>\n",
       "  </thead>\n",
       "  <tbody>\n",
       "    <tr>\n",
       "      <th>0</th>\n",
       "      <td>0</td>\n",
       "      <td>48733</td>\n",
       "    </tr>\n",
       "    <tr>\n",
       "      <th>1</th>\n",
       "      <td>1</td>\n",
       "      <td>30034</td>\n",
       "    </tr>\n",
       "    <tr>\n",
       "      <th>2</th>\n",
       "      <td>2</td>\n",
       "      <td>4794</td>\n",
       "    </tr>\n",
       "    <tr>\n",
       "      <th>3</th>\n",
       "      <td>3</td>\n",
       "      <td>375</td>\n",
       "    </tr>\n",
       "  </tbody>\n",
       "</table>\n",
       "</div>"
      ],
      "text/plain": [
       "   TotalChildren  MntFishProducts\n",
       "0              0            48733\n",
       "1              1            30034\n",
       "2              2             4794\n",
       "3              3              375"
      ]
     },
     "execution_count": 53,
     "metadata": {},
     "output_type": "execute_result"
    }
   ],
   "source": [
    "TotalChildren_MntFishProducts = df.groupby('TotalChildren').sum()['MntFishProducts'].reset_index()\n",
    "\n",
    "TotalChildren_MntFishProducts"
   ]
  },
  {
   "cell_type": "code",
   "execution_count": 54,
   "metadata": {},
   "outputs": [
    {
     "data": {
      "application/vnd.plotly.v1+json": {
       "config": {
        "plotlyServerURL": "https://plot.ly"
       },
       "data": [
        {
         "alignmentgroup": "True",
         "hovertemplate": "TotalChildren=%{x}<br>MntFishProducts=%{y}<extra></extra>",
         "legendgroup": "",
         "marker": {
          "color": "#636efa"
         },
         "name": "",
         "offsetgroup": "",
         "orientation": "v",
         "showlegend": false,
         "textposition": "auto",
         "type": "bar",
         "x": [
          0,
          1,
          2,
          3
         ],
         "xaxis": "x",
         "y": [
          48733,
          30034,
          4794,
          375
         ],
         "yaxis": "y"
        }
       ],
       "layout": {
        "barmode": "relative",
        "legend": {
         "tracegroupgap": 0
        },
        "margin": {
         "t": 60
        },
        "template": {
         "data": {
          "bar": [
           {
            "error_x": {
             "color": "#2a3f5f"
            },
            "error_y": {
             "color": "#2a3f5f"
            },
            "marker": {
             "line": {
              "color": "#E5ECF6",
              "width": 0.5
             }
            },
            "type": "bar"
           }
          ],
          "barpolar": [
           {
            "marker": {
             "line": {
              "color": "#E5ECF6",
              "width": 0.5
             }
            },
            "type": "barpolar"
           }
          ],
          "carpet": [
           {
            "aaxis": {
             "endlinecolor": "#2a3f5f",
             "gridcolor": "white",
             "linecolor": "white",
             "minorgridcolor": "white",
             "startlinecolor": "#2a3f5f"
            },
            "baxis": {
             "endlinecolor": "#2a3f5f",
             "gridcolor": "white",
             "linecolor": "white",
             "minorgridcolor": "white",
             "startlinecolor": "#2a3f5f"
            },
            "type": "carpet"
           }
          ],
          "choropleth": [
           {
            "colorbar": {
             "outlinewidth": 0,
             "ticks": ""
            },
            "type": "choropleth"
           }
          ],
          "contour": [
           {
            "colorbar": {
             "outlinewidth": 0,
             "ticks": ""
            },
            "colorscale": [
             [
              0,
              "#0d0887"
             ],
             [
              0.1111111111111111,
              "#46039f"
             ],
             [
              0.2222222222222222,
              "#7201a8"
             ],
             [
              0.3333333333333333,
              "#9c179e"
             ],
             [
              0.4444444444444444,
              "#bd3786"
             ],
             [
              0.5555555555555556,
              "#d8576b"
             ],
             [
              0.6666666666666666,
              "#ed7953"
             ],
             [
              0.7777777777777778,
              "#fb9f3a"
             ],
             [
              0.8888888888888888,
              "#fdca26"
             ],
             [
              1,
              "#f0f921"
             ]
            ],
            "type": "contour"
           }
          ],
          "contourcarpet": [
           {
            "colorbar": {
             "outlinewidth": 0,
             "ticks": ""
            },
            "type": "contourcarpet"
           }
          ],
          "heatmap": [
           {
            "colorbar": {
             "outlinewidth": 0,
             "ticks": ""
            },
            "colorscale": [
             [
              0,
              "#0d0887"
             ],
             [
              0.1111111111111111,
              "#46039f"
             ],
             [
              0.2222222222222222,
              "#7201a8"
             ],
             [
              0.3333333333333333,
              "#9c179e"
             ],
             [
              0.4444444444444444,
              "#bd3786"
             ],
             [
              0.5555555555555556,
              "#d8576b"
             ],
             [
              0.6666666666666666,
              "#ed7953"
             ],
             [
              0.7777777777777778,
              "#fb9f3a"
             ],
             [
              0.8888888888888888,
              "#fdca26"
             ],
             [
              1,
              "#f0f921"
             ]
            ],
            "type": "heatmap"
           }
          ],
          "heatmapgl": [
           {
            "colorbar": {
             "outlinewidth": 0,
             "ticks": ""
            },
            "colorscale": [
             [
              0,
              "#0d0887"
             ],
             [
              0.1111111111111111,
              "#46039f"
             ],
             [
              0.2222222222222222,
              "#7201a8"
             ],
             [
              0.3333333333333333,
              "#9c179e"
             ],
             [
              0.4444444444444444,
              "#bd3786"
             ],
             [
              0.5555555555555556,
              "#d8576b"
             ],
             [
              0.6666666666666666,
              "#ed7953"
             ],
             [
              0.7777777777777778,
              "#fb9f3a"
             ],
             [
              0.8888888888888888,
              "#fdca26"
             ],
             [
              1,
              "#f0f921"
             ]
            ],
            "type": "heatmapgl"
           }
          ],
          "histogram": [
           {
            "marker": {
             "colorbar": {
              "outlinewidth": 0,
              "ticks": ""
             }
            },
            "type": "histogram"
           }
          ],
          "histogram2d": [
           {
            "colorbar": {
             "outlinewidth": 0,
             "ticks": ""
            },
            "colorscale": [
             [
              0,
              "#0d0887"
             ],
             [
              0.1111111111111111,
              "#46039f"
             ],
             [
              0.2222222222222222,
              "#7201a8"
             ],
             [
              0.3333333333333333,
              "#9c179e"
             ],
             [
              0.4444444444444444,
              "#bd3786"
             ],
             [
              0.5555555555555556,
              "#d8576b"
             ],
             [
              0.6666666666666666,
              "#ed7953"
             ],
             [
              0.7777777777777778,
              "#fb9f3a"
             ],
             [
              0.8888888888888888,
              "#fdca26"
             ],
             [
              1,
              "#f0f921"
             ]
            ],
            "type": "histogram2d"
           }
          ],
          "histogram2dcontour": [
           {
            "colorbar": {
             "outlinewidth": 0,
             "ticks": ""
            },
            "colorscale": [
             [
              0,
              "#0d0887"
             ],
             [
              0.1111111111111111,
              "#46039f"
             ],
             [
              0.2222222222222222,
              "#7201a8"
             ],
             [
              0.3333333333333333,
              "#9c179e"
             ],
             [
              0.4444444444444444,
              "#bd3786"
             ],
             [
              0.5555555555555556,
              "#d8576b"
             ],
             [
              0.6666666666666666,
              "#ed7953"
             ],
             [
              0.7777777777777778,
              "#fb9f3a"
             ],
             [
              0.8888888888888888,
              "#fdca26"
             ],
             [
              1,
              "#f0f921"
             ]
            ],
            "type": "histogram2dcontour"
           }
          ],
          "mesh3d": [
           {
            "colorbar": {
             "outlinewidth": 0,
             "ticks": ""
            },
            "type": "mesh3d"
           }
          ],
          "parcoords": [
           {
            "line": {
             "colorbar": {
              "outlinewidth": 0,
              "ticks": ""
             }
            },
            "type": "parcoords"
           }
          ],
          "pie": [
           {
            "automargin": true,
            "type": "pie"
           }
          ],
          "scatter": [
           {
            "marker": {
             "colorbar": {
              "outlinewidth": 0,
              "ticks": ""
             }
            },
            "type": "scatter"
           }
          ],
          "scatter3d": [
           {
            "line": {
             "colorbar": {
              "outlinewidth": 0,
              "ticks": ""
             }
            },
            "marker": {
             "colorbar": {
              "outlinewidth": 0,
              "ticks": ""
             }
            },
            "type": "scatter3d"
           }
          ],
          "scattercarpet": [
           {
            "marker": {
             "colorbar": {
              "outlinewidth": 0,
              "ticks": ""
             }
            },
            "type": "scattercarpet"
           }
          ],
          "scattergeo": [
           {
            "marker": {
             "colorbar": {
              "outlinewidth": 0,
              "ticks": ""
             }
            },
            "type": "scattergeo"
           }
          ],
          "scattergl": [
           {
            "marker": {
             "colorbar": {
              "outlinewidth": 0,
              "ticks": ""
             }
            },
            "type": "scattergl"
           }
          ],
          "scattermapbox": [
           {
            "marker": {
             "colorbar": {
              "outlinewidth": 0,
              "ticks": ""
             }
            },
            "type": "scattermapbox"
           }
          ],
          "scatterpolar": [
           {
            "marker": {
             "colorbar": {
              "outlinewidth": 0,
              "ticks": ""
             }
            },
            "type": "scatterpolar"
           }
          ],
          "scatterpolargl": [
           {
            "marker": {
             "colorbar": {
              "outlinewidth": 0,
              "ticks": ""
             }
            },
            "type": "scatterpolargl"
           }
          ],
          "scatterternary": [
           {
            "marker": {
             "colorbar": {
              "outlinewidth": 0,
              "ticks": ""
             }
            },
            "type": "scatterternary"
           }
          ],
          "surface": [
           {
            "colorbar": {
             "outlinewidth": 0,
             "ticks": ""
            },
            "colorscale": [
             [
              0,
              "#0d0887"
             ],
             [
              0.1111111111111111,
              "#46039f"
             ],
             [
              0.2222222222222222,
              "#7201a8"
             ],
             [
              0.3333333333333333,
              "#9c179e"
             ],
             [
              0.4444444444444444,
              "#bd3786"
             ],
             [
              0.5555555555555556,
              "#d8576b"
             ],
             [
              0.6666666666666666,
              "#ed7953"
             ],
             [
              0.7777777777777778,
              "#fb9f3a"
             ],
             [
              0.8888888888888888,
              "#fdca26"
             ],
             [
              1,
              "#f0f921"
             ]
            ],
            "type": "surface"
           }
          ],
          "table": [
           {
            "cells": {
             "fill": {
              "color": "#EBF0F8"
             },
             "line": {
              "color": "white"
             }
            },
            "header": {
             "fill": {
              "color": "#C8D4E3"
             },
             "line": {
              "color": "white"
             }
            },
            "type": "table"
           }
          ]
         },
         "layout": {
          "annotationdefaults": {
           "arrowcolor": "#2a3f5f",
           "arrowhead": 0,
           "arrowwidth": 1
          },
          "autotypenumbers": "strict",
          "coloraxis": {
           "colorbar": {
            "outlinewidth": 0,
            "ticks": ""
           }
          },
          "colorscale": {
           "diverging": [
            [
             0,
             "#8e0152"
            ],
            [
             0.1,
             "#c51b7d"
            ],
            [
             0.2,
             "#de77ae"
            ],
            [
             0.3,
             "#f1b6da"
            ],
            [
             0.4,
             "#fde0ef"
            ],
            [
             0.5,
             "#f7f7f7"
            ],
            [
             0.6,
             "#e6f5d0"
            ],
            [
             0.7,
             "#b8e186"
            ],
            [
             0.8,
             "#7fbc41"
            ],
            [
             0.9,
             "#4d9221"
            ],
            [
             1,
             "#276419"
            ]
           ],
           "sequential": [
            [
             0,
             "#0d0887"
            ],
            [
             0.1111111111111111,
             "#46039f"
            ],
            [
             0.2222222222222222,
             "#7201a8"
            ],
            [
             0.3333333333333333,
             "#9c179e"
            ],
            [
             0.4444444444444444,
             "#bd3786"
            ],
            [
             0.5555555555555556,
             "#d8576b"
            ],
            [
             0.6666666666666666,
             "#ed7953"
            ],
            [
             0.7777777777777778,
             "#fb9f3a"
            ],
            [
             0.8888888888888888,
             "#fdca26"
            ],
            [
             1,
             "#f0f921"
            ]
           ],
           "sequentialminus": [
            [
             0,
             "#0d0887"
            ],
            [
             0.1111111111111111,
             "#46039f"
            ],
            [
             0.2222222222222222,
             "#7201a8"
            ],
            [
             0.3333333333333333,
             "#9c179e"
            ],
            [
             0.4444444444444444,
             "#bd3786"
            ],
            [
             0.5555555555555556,
             "#d8576b"
            ],
            [
             0.6666666666666666,
             "#ed7953"
            ],
            [
             0.7777777777777778,
             "#fb9f3a"
            ],
            [
             0.8888888888888888,
             "#fdca26"
            ],
            [
             1,
             "#f0f921"
            ]
           ]
          },
          "colorway": [
           "#636efa",
           "#EF553B",
           "#00cc96",
           "#ab63fa",
           "#FFA15A",
           "#19d3f3",
           "#FF6692",
           "#B6E880",
           "#FF97FF",
           "#FECB52"
          ],
          "font": {
           "color": "#2a3f5f"
          },
          "geo": {
           "bgcolor": "white",
           "lakecolor": "white",
           "landcolor": "#E5ECF6",
           "showlakes": true,
           "showland": true,
           "subunitcolor": "white"
          },
          "hoverlabel": {
           "align": "left"
          },
          "hovermode": "closest",
          "mapbox": {
           "style": "light"
          },
          "paper_bgcolor": "white",
          "plot_bgcolor": "#E5ECF6",
          "polar": {
           "angularaxis": {
            "gridcolor": "white",
            "linecolor": "white",
            "ticks": ""
           },
           "bgcolor": "#E5ECF6",
           "radialaxis": {
            "gridcolor": "white",
            "linecolor": "white",
            "ticks": ""
           }
          },
          "scene": {
           "xaxis": {
            "backgroundcolor": "#E5ECF6",
            "gridcolor": "white",
            "gridwidth": 2,
            "linecolor": "white",
            "showbackground": true,
            "ticks": "",
            "zerolinecolor": "white"
           },
           "yaxis": {
            "backgroundcolor": "#E5ECF6",
            "gridcolor": "white",
            "gridwidth": 2,
            "linecolor": "white",
            "showbackground": true,
            "ticks": "",
            "zerolinecolor": "white"
           },
           "zaxis": {
            "backgroundcolor": "#E5ECF6",
            "gridcolor": "white",
            "gridwidth": 2,
            "linecolor": "white",
            "showbackground": true,
            "ticks": "",
            "zerolinecolor": "white"
           }
          },
          "shapedefaults": {
           "line": {
            "color": "#2a3f5f"
           }
          },
          "ternary": {
           "aaxis": {
            "gridcolor": "white",
            "linecolor": "white",
            "ticks": ""
           },
           "baxis": {
            "gridcolor": "white",
            "linecolor": "white",
            "ticks": ""
           },
           "bgcolor": "#E5ECF6",
           "caxis": {
            "gridcolor": "white",
            "linecolor": "white",
            "ticks": ""
           }
          },
          "title": {
           "x": 0.05
          },
          "xaxis": {
           "automargin": true,
           "gridcolor": "white",
           "linecolor": "white",
           "ticks": "",
           "title": {
            "standoff": 15
           },
           "zerolinecolor": "white",
           "zerolinewidth": 2
          },
          "yaxis": {
           "automargin": true,
           "gridcolor": "white",
           "linecolor": "white",
           "ticks": "",
           "title": {
            "standoff": 15
           },
           "zerolinecolor": "white",
           "zerolinewidth": 2
          }
         }
        },
        "xaxis": {
         "anchor": "y",
         "domain": [
          0,
          1
         ],
         "title": {
          "text": "TotalChildren"
         }
        },
        "yaxis": {
         "anchor": "x",
         "domain": [
          0,
          1
         ],
         "title": {
          "text": "MntFishProducts"
         }
        }
       }
      },
      "text/html": [
       "<div>                            <div id=\"1d2bc888-e9e5-4427-951c-f595ffef18f1\" class=\"plotly-graph-div\" style=\"height:525px; width:100%;\"></div>            <script type=\"text/javascript\">                require([\"plotly\"], function(Plotly) {                    window.PLOTLYENV=window.PLOTLYENV || {};                                    if (document.getElementById(\"1d2bc888-e9e5-4427-951c-f595ffef18f1\")) {                    Plotly.newPlot(                        \"1d2bc888-e9e5-4427-951c-f595ffef18f1\",                        [{\"alignmentgroup\": \"True\", \"hovertemplate\": \"TotalChildren=%{x}<br>MntFishProducts=%{y}<extra></extra>\", \"legendgroup\": \"\", \"marker\": {\"color\": \"#636efa\"}, \"name\": \"\", \"offsetgroup\": \"\", \"orientation\": \"v\", \"showlegend\": false, \"textposition\": \"auto\", \"type\": \"bar\", \"x\": [0, 1, 2, 3], \"xaxis\": \"x\", \"y\": [48733, 30034, 4794, 375], \"yaxis\": \"y\"}],                        {\"barmode\": \"relative\", \"legend\": {\"tracegroupgap\": 0}, \"margin\": {\"t\": 60}, \"template\": {\"data\": {\"bar\": [{\"error_x\": {\"color\": \"#2a3f5f\"}, \"error_y\": {\"color\": \"#2a3f5f\"}, \"marker\": {\"line\": {\"color\": \"#E5ECF6\", \"width\": 0.5}}, \"type\": \"bar\"}], \"barpolar\": [{\"marker\": {\"line\": {\"color\": \"#E5ECF6\", \"width\": 0.5}}, \"type\": \"barpolar\"}], \"carpet\": [{\"aaxis\": {\"endlinecolor\": \"#2a3f5f\", \"gridcolor\": \"white\", \"linecolor\": \"white\", \"minorgridcolor\": \"white\", \"startlinecolor\": \"#2a3f5f\"}, \"baxis\": {\"endlinecolor\": \"#2a3f5f\", \"gridcolor\": \"white\", \"linecolor\": \"white\", \"minorgridcolor\": \"white\", \"startlinecolor\": \"#2a3f5f\"}, \"type\": \"carpet\"}], \"choropleth\": [{\"colorbar\": {\"outlinewidth\": 0, \"ticks\": \"\"}, \"type\": \"choropleth\"}], \"contour\": [{\"colorbar\": {\"outlinewidth\": 0, \"ticks\": \"\"}, \"colorscale\": [[0.0, \"#0d0887\"], [0.1111111111111111, \"#46039f\"], [0.2222222222222222, \"#7201a8\"], [0.3333333333333333, \"#9c179e\"], [0.4444444444444444, \"#bd3786\"], [0.5555555555555556, \"#d8576b\"], [0.6666666666666666, \"#ed7953\"], [0.7777777777777778, \"#fb9f3a\"], [0.8888888888888888, \"#fdca26\"], [1.0, \"#f0f921\"]], \"type\": \"contour\"}], \"contourcarpet\": [{\"colorbar\": {\"outlinewidth\": 0, \"ticks\": \"\"}, \"type\": \"contourcarpet\"}], \"heatmap\": [{\"colorbar\": {\"outlinewidth\": 0, \"ticks\": \"\"}, \"colorscale\": [[0.0, \"#0d0887\"], [0.1111111111111111, \"#46039f\"], [0.2222222222222222, \"#7201a8\"], [0.3333333333333333, \"#9c179e\"], [0.4444444444444444, \"#bd3786\"], [0.5555555555555556, \"#d8576b\"], [0.6666666666666666, \"#ed7953\"], [0.7777777777777778, \"#fb9f3a\"], [0.8888888888888888, \"#fdca26\"], [1.0, \"#f0f921\"]], \"type\": \"heatmap\"}], \"heatmapgl\": [{\"colorbar\": {\"outlinewidth\": 0, \"ticks\": \"\"}, \"colorscale\": [[0.0, \"#0d0887\"], [0.1111111111111111, \"#46039f\"], [0.2222222222222222, \"#7201a8\"], [0.3333333333333333, \"#9c179e\"], [0.4444444444444444, \"#bd3786\"], [0.5555555555555556, \"#d8576b\"], [0.6666666666666666, \"#ed7953\"], [0.7777777777777778, \"#fb9f3a\"], [0.8888888888888888, \"#fdca26\"], [1.0, \"#f0f921\"]], \"type\": \"heatmapgl\"}], \"histogram\": [{\"marker\": {\"colorbar\": {\"outlinewidth\": 0, \"ticks\": \"\"}}, \"type\": \"histogram\"}], \"histogram2d\": [{\"colorbar\": {\"outlinewidth\": 0, \"ticks\": \"\"}, \"colorscale\": [[0.0, \"#0d0887\"], [0.1111111111111111, \"#46039f\"], [0.2222222222222222, \"#7201a8\"], [0.3333333333333333, \"#9c179e\"], [0.4444444444444444, \"#bd3786\"], [0.5555555555555556, \"#d8576b\"], [0.6666666666666666, \"#ed7953\"], [0.7777777777777778, \"#fb9f3a\"], [0.8888888888888888, \"#fdca26\"], [1.0, \"#f0f921\"]], \"type\": \"histogram2d\"}], \"histogram2dcontour\": [{\"colorbar\": {\"outlinewidth\": 0, \"ticks\": \"\"}, \"colorscale\": [[0.0, \"#0d0887\"], [0.1111111111111111, \"#46039f\"], [0.2222222222222222, \"#7201a8\"], [0.3333333333333333, \"#9c179e\"], [0.4444444444444444, \"#bd3786\"], [0.5555555555555556, \"#d8576b\"], [0.6666666666666666, \"#ed7953\"], [0.7777777777777778, \"#fb9f3a\"], [0.8888888888888888, \"#fdca26\"], [1.0, \"#f0f921\"]], \"type\": \"histogram2dcontour\"}], \"mesh3d\": [{\"colorbar\": {\"outlinewidth\": 0, \"ticks\": \"\"}, \"type\": \"mesh3d\"}], \"parcoords\": [{\"line\": {\"colorbar\": {\"outlinewidth\": 0, \"ticks\": \"\"}}, \"type\": \"parcoords\"}], \"pie\": [{\"automargin\": true, \"type\": \"pie\"}], \"scatter\": [{\"marker\": {\"colorbar\": {\"outlinewidth\": 0, \"ticks\": \"\"}}, \"type\": \"scatter\"}], \"scatter3d\": [{\"line\": {\"colorbar\": {\"outlinewidth\": 0, \"ticks\": \"\"}}, \"marker\": {\"colorbar\": {\"outlinewidth\": 0, \"ticks\": \"\"}}, \"type\": \"scatter3d\"}], \"scattercarpet\": [{\"marker\": {\"colorbar\": {\"outlinewidth\": 0, \"ticks\": \"\"}}, \"type\": \"scattercarpet\"}], \"scattergeo\": [{\"marker\": {\"colorbar\": {\"outlinewidth\": 0, \"ticks\": \"\"}}, \"type\": \"scattergeo\"}], \"scattergl\": [{\"marker\": {\"colorbar\": {\"outlinewidth\": 0, \"ticks\": \"\"}}, \"type\": \"scattergl\"}], \"scattermapbox\": [{\"marker\": {\"colorbar\": {\"outlinewidth\": 0, \"ticks\": \"\"}}, \"type\": \"scattermapbox\"}], \"scatterpolar\": [{\"marker\": {\"colorbar\": {\"outlinewidth\": 0, \"ticks\": \"\"}}, \"type\": \"scatterpolar\"}], \"scatterpolargl\": [{\"marker\": {\"colorbar\": {\"outlinewidth\": 0, \"ticks\": \"\"}}, \"type\": \"scatterpolargl\"}], \"scatterternary\": [{\"marker\": {\"colorbar\": {\"outlinewidth\": 0, \"ticks\": \"\"}}, \"type\": \"scatterternary\"}], \"surface\": [{\"colorbar\": {\"outlinewidth\": 0, \"ticks\": \"\"}, \"colorscale\": [[0.0, \"#0d0887\"], [0.1111111111111111, \"#46039f\"], [0.2222222222222222, \"#7201a8\"], [0.3333333333333333, \"#9c179e\"], [0.4444444444444444, \"#bd3786\"], [0.5555555555555556, \"#d8576b\"], [0.6666666666666666, \"#ed7953\"], [0.7777777777777778, \"#fb9f3a\"], [0.8888888888888888, \"#fdca26\"], [1.0, \"#f0f921\"]], \"type\": \"surface\"}], \"table\": [{\"cells\": {\"fill\": {\"color\": \"#EBF0F8\"}, \"line\": {\"color\": \"white\"}}, \"header\": {\"fill\": {\"color\": \"#C8D4E3\"}, \"line\": {\"color\": \"white\"}}, \"type\": \"table\"}]}, \"layout\": {\"annotationdefaults\": {\"arrowcolor\": \"#2a3f5f\", \"arrowhead\": 0, \"arrowwidth\": 1}, \"autotypenumbers\": \"strict\", \"coloraxis\": {\"colorbar\": {\"outlinewidth\": 0, \"ticks\": \"\"}}, \"colorscale\": {\"diverging\": [[0, \"#8e0152\"], [0.1, \"#c51b7d\"], [0.2, \"#de77ae\"], [0.3, \"#f1b6da\"], [0.4, \"#fde0ef\"], [0.5, \"#f7f7f7\"], [0.6, \"#e6f5d0\"], [0.7, \"#b8e186\"], [0.8, \"#7fbc41\"], [0.9, \"#4d9221\"], [1, \"#276419\"]], \"sequential\": [[0.0, \"#0d0887\"], [0.1111111111111111, \"#46039f\"], [0.2222222222222222, \"#7201a8\"], [0.3333333333333333, \"#9c179e\"], [0.4444444444444444, \"#bd3786\"], [0.5555555555555556, \"#d8576b\"], [0.6666666666666666, \"#ed7953\"], [0.7777777777777778, \"#fb9f3a\"], [0.8888888888888888, \"#fdca26\"], [1.0, \"#f0f921\"]], \"sequentialminus\": [[0.0, \"#0d0887\"], [0.1111111111111111, \"#46039f\"], [0.2222222222222222, \"#7201a8\"], [0.3333333333333333, \"#9c179e\"], [0.4444444444444444, \"#bd3786\"], [0.5555555555555556, \"#d8576b\"], [0.6666666666666666, \"#ed7953\"], [0.7777777777777778, \"#fb9f3a\"], [0.8888888888888888, \"#fdca26\"], [1.0, \"#f0f921\"]]}, \"colorway\": [\"#636efa\", \"#EF553B\", \"#00cc96\", \"#ab63fa\", \"#FFA15A\", \"#19d3f3\", \"#FF6692\", \"#B6E880\", \"#FF97FF\", \"#FECB52\"], \"font\": {\"color\": \"#2a3f5f\"}, \"geo\": {\"bgcolor\": \"white\", \"lakecolor\": \"white\", \"landcolor\": \"#E5ECF6\", \"showlakes\": true, \"showland\": true, \"subunitcolor\": \"white\"}, \"hoverlabel\": {\"align\": \"left\"}, \"hovermode\": \"closest\", \"mapbox\": {\"style\": \"light\"}, \"paper_bgcolor\": \"white\", \"plot_bgcolor\": \"#E5ECF6\", \"polar\": {\"angularaxis\": {\"gridcolor\": \"white\", \"linecolor\": \"white\", \"ticks\": \"\"}, \"bgcolor\": \"#E5ECF6\", \"radialaxis\": {\"gridcolor\": \"white\", \"linecolor\": \"white\", \"ticks\": \"\"}}, \"scene\": {\"xaxis\": {\"backgroundcolor\": \"#E5ECF6\", \"gridcolor\": \"white\", \"gridwidth\": 2, \"linecolor\": \"white\", \"showbackground\": true, \"ticks\": \"\", \"zerolinecolor\": \"white\"}, \"yaxis\": {\"backgroundcolor\": \"#E5ECF6\", \"gridcolor\": \"white\", \"gridwidth\": 2, \"linecolor\": \"white\", \"showbackground\": true, \"ticks\": \"\", \"zerolinecolor\": \"white\"}, \"zaxis\": {\"backgroundcolor\": \"#E5ECF6\", \"gridcolor\": \"white\", \"gridwidth\": 2, \"linecolor\": \"white\", \"showbackground\": true, \"ticks\": \"\", \"zerolinecolor\": \"white\"}}, \"shapedefaults\": {\"line\": {\"color\": \"#2a3f5f\"}}, \"ternary\": {\"aaxis\": {\"gridcolor\": \"white\", \"linecolor\": \"white\", \"ticks\": \"\"}, \"baxis\": {\"gridcolor\": \"white\", \"linecolor\": \"white\", \"ticks\": \"\"}, \"bgcolor\": \"#E5ECF6\", \"caxis\": {\"gridcolor\": \"white\", \"linecolor\": \"white\", \"ticks\": \"\"}}, \"title\": {\"x\": 0.05}, \"xaxis\": {\"automargin\": true, \"gridcolor\": \"white\", \"linecolor\": \"white\", \"ticks\": \"\", \"title\": {\"standoff\": 15}, \"zerolinecolor\": \"white\", \"zerolinewidth\": 2}, \"yaxis\": {\"automargin\": true, \"gridcolor\": \"white\", \"linecolor\": \"white\", \"ticks\": \"\", \"title\": {\"standoff\": 15}, \"zerolinecolor\": \"white\", \"zerolinewidth\": 2}}}, \"xaxis\": {\"anchor\": \"y\", \"domain\": [0.0, 1.0], \"title\": {\"text\": \"TotalChildren\"}}, \"yaxis\": {\"anchor\": \"x\", \"domain\": [0.0, 1.0], \"title\": {\"text\": \"MntFishProducts\"}}},                        {\"responsive\": true}                    ).then(function(){\n",
       "                            \n",
       "var gd = document.getElementById('1d2bc888-e9e5-4427-951c-f595ffef18f1');\n",
       "var x = new MutationObserver(function (mutations, observer) {{\n",
       "        var display = window.getComputedStyle(gd).display;\n",
       "        if (!display || display === 'none') {{\n",
       "            console.log([gd, 'removed!']);\n",
       "            Plotly.purge(gd);\n",
       "            observer.disconnect();\n",
       "        }}\n",
       "}});\n",
       "\n",
       "// Listen for the removal of the full notebook cells\n",
       "var notebookContainer = gd.closest('#notebook-container');\n",
       "if (notebookContainer) {{\n",
       "    x.observe(notebookContainer, {childList: true});\n",
       "}}\n",
       "\n",
       "// Listen for the clearing of the current output cell\n",
       "var outputEl = gd.closest('.output');\n",
       "if (outputEl) {{\n",
       "    x.observe(outputEl, {childList: true});\n",
       "}}\n",
       "\n",
       "                        })                };                });            </script>        </div>"
      ]
     },
     "metadata": {},
     "output_type": "display_data"
    }
   ],
   "source": [
    "px.bar(TotalChildren_MntFishProducts , x = 'TotalChildren' , y = 'MntFishProducts' )"
   ]
  },
  {
   "cell_type": "markdown",
   "metadata": {},
   "source": [
    "2. Income"
   ]
  },
  {
   "cell_type": "code",
   "execution_count": 55,
   "metadata": {},
   "outputs": [
    {
     "data": {
      "application/vnd.plotly.v1+json": {
       "config": {
        "plotlyServerURL": "https://plot.ly"
       },
       "data": [
        {
         "hovertemplate": "Income=%{x}<br>MntFishProducts=%{y}<extra></extra>",
         "legendgroup": "",
         "marker": {
          "color": "#636efa",
          "symbol": "circle"
         },
         "mode": "markers",
         "name": "",
         "showlegend": false,
         "type": "scattergl",
         "x": [
          84835,
          57091,
          67267,
          32474,
          21474,
          71691,
          63564,
          44931,
          65324,
          65324,
          81044,
          62499,
          67786,
          26872,
          4428,
          54809,
          54809,
          32173,
          47823,
          30523,
          36634,
          43456,
          40662,
          49544,
          57731,
          33168,
          54450,
          54450,
          35340,
          73170,
          65808,
          79529,
          34578,
          46374,
          18351,
          95169,
          65370,
          39228,
          84865,
          61314,
          21359,
          66465,
          81698,
          39146,
          25959,
          64260,
          32300,
          74806,
          72967,
          48904,
          14796,
          66991,
          52195,
          90369,
          18393,
          47139,
          38576,
          61905,
          83715,
          60597,
          6560,
          48330,
          38236,
          22701,
          53367,
          34728,
          63915,
          82504,
          38578,
          38578,
          79174,
          81975,
          43263,
          27242,
          76445,
          75276,
          34213,
          72335,
          79143,
          27469,
          68695,
          68695,
          50388,
          77622,
          46102,
          31859,
          23830,
          24639,
          71604,
          27255,
          55375,
          77037,
          24163,
          69476,
          72063,
          58646,
          58646,
          47570,
          80011,
          54998,
          60200,
          63211,
          48432,
          48432,
          48432,
          62845,
          62845,
          65220,
          74214,
          96547,
          53863,
          50447,
          37716,
          45203,
          37368,
          67225,
          65104,
          65104,
          81698,
          70566,
          69096,
          71434,
          33039,
          33039,
          46610,
          49967,
          53359,
          49505,
          68657,
          72071,
          72071,
          59235,
          21994,
          21994,
          52247.25135379061,
          69209,
          31928,
          74004,
          30390,
          21355,
          26304,
          85710,
          102692,
          58350,
          7500,
          18890,
          20425,
          20425,
          41437,
          49912,
          49912,
          79823,
          85683,
          47025,
          68397,
          38175,
          46423,
          46423,
          30560,
          30560,
          60152,
          29672,
          29672,
          70321,
          56181,
          24279,
          68462,
          55424,
          49094,
          59184,
          67430,
          30522,
          31878,
          83528,
          90300,
          68092,
          53761,
          52845,
          24027,
          7500,
          42586,
          42586,
          9722,
          86836,
          30467,
          54549,
          19444,
          69245,
          72968,
          48686,
          73687,
          82716,
          35523,
          60554,
          64090,
          61559,
          71670,
          67680,
          54386,
          64108,
          69702,
          47958,
          67716,
          34600,
          34600,
          48752,
          15716,
          46610,
          74985,
          45576,
          113734,
          57100,
          24434,
          37126,
          45160,
          33178,
          64866,
          34176,
          50014,
          92344,
          55282,
          48799,
          84169,
          84169,
          39763,
          74165,
          42720,
          65275,
          36443,
          43776,
          56046,
          65148,
          49431,
          32583,
          16653,
          26850,
          51287,
          43050,
          73448,
          17256,
          86429,
          33569,
          25130,
          62998,
          26907,
          26907,
          45579,
          47320,
          70179,
          70179,
          28072,
          50501,
          58917,
          69372,
          35178,
          35178,
          75693,
          69109,
          69109,
          80134,
          64713,
          41411,
          52247.25135379061,
          55521,
          43795,
          22070,
          36408,
          34026,
          34026,
          46049,
          35641,
          32414,
          59821,
          34968,
          56320,
          70091,
          46097,
          41003,
          44911,
          33249,
          33249,
          42873,
          51039,
          78952,
          29435,
          79865,
          34176,
          34176,
          65968,
          86424,
          67272,
          78499,
          77044,
          70515,
          17459,
          80336,
          15759,
          26326,
          62061,
          5305,
          75777,
          75777,
          71499,
          31626,
          42670,
          83917,
          41021,
          79456,
          78789,
          50870,
          35876,
          23539,
          32557,
          62466,
          62466,
          54198,
          82170,
          61798,
          15253,
          78285,
          62535,
          27190,
          48985,
          72940,
          36145,
          157146,
          81843,
          41883,
          45759,
          45759,
          78394,
          30279,
          30279,
          31880,
          60208,
          78687,
          37401,
          37401,
          75315,
          69263,
          78569,
          57705,
          74805,
          66426,
          51529,
          18100,
          59601,
          20981,
          74068,
          36790,
          18793,
          27421,
          30675,
          83145,
          34053,
          31788,
          45894,
          41986,
          42769,
          58582,
          49096,
          76412,
          18929,
          18929,
          18929,
          21888,
          41580,
          31605,
          25509,
          25509,
          33051,
          28764,
          32146,
          22148,
          36781,
          54197,
          93790,
          24762,
          30477,
          11448,
          70844,
          30828,
          62513,
          27733,
          39435,
          75345,
          20491,
          36715,
          71706,
          69063,
          24645,
          35797,
          44078,
          26954,
          52247.25135379061,
          38887,
          65463,
          53537,
          36230,
          80763,
          60585,
          49166,
          75261,
          89891,
          72828,
          75278,
          38557,
          81300,
          60161,
          69389,
          64497,
          61014,
          44319,
          53233,
          77972,
          81361,
          81361,
          25707,
          42403,
          65704,
          37406,
          39767,
          54210,
          57136,
          40794,
          83003,
          89058,
          20193,
          72099,
          43824,
          66653,
          44359,
          79410,
          55842,
          79946,
          88194,
          80184,
          76982,
          65295,
          57100,
          29009,
          78931,
          7500,
          56939,
          64509,
          30093,
          30351,
          30351,
          38201,
          52247.25135379061,
          43974,
          38200,
          87305,
          16860,
          27213,
          7500,
          4861,
          38196,
          41145,
          38513,
          45688,
          77863,
          42169,
          45906,
          35388,
          80952,
          39898,
          39898,
          44051,
          86718,
          80141,
          58597,
          70356,
          46904,
          37760,
          37760,
          61839,
          29791,
          48918,
          48918,
          58692,
          39356,
          76234,
          55434,
          66835,
          66835,
          71965,
          74538,
          50002,
          53977,
          53977,
          69930,
          62981,
          46014,
          18227,
          65991,
          38808,
          160803,
          43783,
          30396,
          65526,
          65526,
          55956,
          55563,
          57236,
          89694,
          57420,
          33622,
          29999,
          31497,
          31497,
          36802,
          61671,
          29732,
          45921,
          16529,
          98777,
          98777,
          77027,
          69139,
          69139,
          65169,
          40049,
          69755,
          52247.25135379061,
          54456,
          60689,
          26487,
          28164,
          22585,
          64795,
          42000,
          42000,
          70713,
          82800,
          82800,
          30801,
          83891,
          38054,
          14045,
          44155,
          57642,
          31353,
          31353,
          41335,
          41335,
          40737,
          19789,
          35946,
          36262,
          44551,
          71367,
          71367,
          57957,
          50334,
          48150,
          56796,
          56796,
          52278,
          52278,
          7500,
          33444,
          20895,
          37509,
          88097,
          59041,
          43322,
          46015,
          46015,
          34242,
          65210,
          50520,
          90765,
          80589,
          49572,
          75437,
          44635,
          58512,
          62000,
          54252,
          45068,
          60474,
          60474,
          56337,
          22434,
          61416,
          92163,
          58656,
          52247.25135379061,
          8940,
          26751,
          71427,
          26646,
          19346,
          56243,
          59892,
          71613,
          25252,
          42160,
          15862,
          82584,
          38360,
          75283,
          34941,
          61823,
          90226,
          44989,
          44989,
          43586,
          32233,
          62882,
          57288,
          75774,
          75774,
          90247,
          32218,
          84219,
          84219,
          48877,
          60905,
          75236,
          62551,
          70123,
          50785,
          15315,
          15315,
          64413,
          87171,
          30081,
          20180,
          20180,
          55686,
          26887,
          61996,
          51537,
          72025,
          30538,
          61618,
          77343,
          75433,
          82571,
          60033,
          39062,
          30023,
          30015,
          33228,
          22574,
          22574,
          55267,
          66886,
          72258,
          82733,
          45146,
          51250,
          32871,
          63855,
          42564,
          46344,
          50437,
          70971,
          37774,
          4023,
          33279,
          42693,
          70545,
          65486,
          77882,
          78468,
          77226,
          90638,
          90638,
          70666,
          59052,
          13084,
          49160,
          23272,
          49476,
          62694,
          57906,
          71853,
          71853,
          65031,
          30507,
          67419,
          59462,
          95529,
          53653,
          25965,
          22979,
          64950,
          44322,
          30096,
          30096,
          56628,
          82326,
          71163,
          71022,
          42607,
          43057,
          47808,
          29236,
          40590,
          40590,
          77520,
          40211,
          63516,
          53034,
          22669,
          79908,
          69867,
          70287,
          37070,
          37070,
          38179,
          39922,
          39922,
          39922,
          64191,
          41658,
          40780,
          77568,
          66503,
          83512,
          31686,
          71322,
          27938,
          22263,
          34633,
          42162,
          162397,
          54162,
          41769,
          44953,
          37717,
          37717,
          40548,
          67893,
          69267,
          9548,
          68281,
          92556,
          48526,
          90273,
          19414,
          79761,
          53312,
          41039,
          88347,
          50150,
          50150,
          10245,
          33454,
          40887,
          55914,
          37292,
          52914,
          24884,
          67384,
          51651,
          82497,
          32632,
          33562,
          79146,
          79146,
          36143,
          27159,
          41275,
          76800,
          75794,
          30833,
          26518,
          91065,
          45183,
          48070,
          30372,
          30372,
          57036,
          66731,
          35682,
          10979,
          10979,
          57912,
          36026,
          35788,
          42243,
          46086,
          61346,
          33316,
          33316,
          21063,
          33697,
          25804,
          72117,
          61286,
          61286,
          65196,
          55635,
          42021,
          75251,
          35322,
          53374,
          87195,
          42395,
          82427,
          44602,
          94642,
          28359,
          55801,
          92955,
          56534,
          69627,
          78579,
          44964,
          30899,
          78825,
          25545,
          47111,
          49667,
          66000,
          46910,
          25224,
          77382,
          28420,
          32952,
          46149,
          73059,
          73059,
          35701,
          89616,
          105471,
          78427,
          22518,
          59809,
          39660,
          52203,
          35860,
          35860,
          35860,
          35860,
          76842,
          15033,
          67353,
          17003,
          65735,
          45684,
          21918,
          51267,
          59868,
          51373,
          46692,
          157733,
          54432,
          79607,
          51813,
          17487,
          40706,
          62859,
          61074,
          43638,
          58116,
          62187,
          46344,
          77353,
          69759,
          21846,
          76532,
          70053,
          75342,
          27590,
          51148,
          33378,
          32644,
          33581,
          12393,
          42710,
          82347,
          82347,
          22554,
          17323,
          62204,
          78028,
          63887,
          32727,
          29103,
          61482,
          20587,
          20587,
          52190,
          48186,
          19329,
          34109,
          23477,
          47472,
          14849,
          26224,
          27238,
          52247.25135379061,
          57967,
          51569,
          72550,
          44511,
          62972,
          62972,
          77845,
          36663,
          53204,
          21059,
          67087,
          73892,
          75114,
          42192,
          31454,
          22775,
          22775,
          31590,
          80134,
          80134,
          14188,
          18169,
          62503,
          46734,
          68126,
          52869,
          26576,
          75825,
          57045,
          34984,
          27803,
          69283,
          18746,
          70924,
          70924,
          69401,
          75012,
          85738,
          60934,
          27161,
          64325,
          18978,
          41124,
          39684,
          53378,
          37040,
          78710,
          92910,
          36283,
          79632,
          28587,
          88325,
          51412,
          63998,
          38593,
          27889,
          45889,
          56575,
          16014,
          61331,
          70893,
          2447,
          64849,
          42387,
          80617,
          54006,
          16531,
          30843,
          18988,
          81051,
          39747,
          34554,
          52854,
          81205,
          69084,
          69084,
          65352,
          22063,
          47691,
          29187,
          72504,
          33986,
          42386,
          42386,
          36957,
          13724,
          42664,
          37334,
          78497,
          78497,
          58821,
          58398,
          80950,
          30732,
          89572,
          57107,
          76467,
          52247.25135379061,
          51315,
          43602,
          38643,
          49090,
          70617,
          67536,
          27573,
          13533,
          50725,
          25851,
          57113,
          62847,
          68627,
          25271,
          63810,
          63810,
          65488,
          36927,
          22108,
          72025,
          33183,
          23661,
          25315,
          45938,
          66951,
          77298,
          77298,
          43018,
          75759,
          33996,
          33996,
          54137,
          61223,
          69674,
          49494,
          51195,
          37284,
          37284,
          42011,
          70044,
          46053,
          24480,
          54233,
          36130,
          56559,
          92859,
          44010,
          80124,
          80124,
          50183,
          64722,
          37395,
          29543,
          19514,
          19514,
          59481,
          91712,
          80144,
          59973,
          68352,
          81169,
          61456,
          22634,
          22634,
          23957,
          33471,
          52157,
          30298,
          56551,
          56551,
          65487,
          65487,
          44213,
          40344,
          57867,
          25410,
          13260,
          42691,
          36138,
          57136,
          58275,
          54237,
          34596,
          34596,
          74881,
          74881,
          44267,
          68487,
          68487,
          80982,
          69508,
          63342,
          63342,
          82014,
          76320,
          64587,
          74190,
          32765,
          52247.25135379061,
          22212,
          18358,
          26067,
          22390,
          70440,
          60199,
          38547,
          19107,
          37929,
          16813,
          62187,
          57811,
          50943,
          50943,
          53201,
          54414,
          26290,
          61250,
          28389,
          55250,
          37758,
          37758,
          37633,
          33629,
          36947,
          69142,
          53154,
          65695,
          69805,
          36975,
          26228,
          37787,
          37087,
          57247,
          36930,
          48721,
          43641,
          75903,
          71391,
          16927,
          27215,
          53858,
          30983,
          43462,
          63943,
          26816,
          75484,
          33564,
          54348,
          54984,
          34738,
          68118,
          68118,
          22682,
          51948,
          25293,
          25293,
          41551,
          56067,
          67433,
          22010,
          64831,
          62820,
          62820,
          78353,
          57183,
          23478,
          30168,
          37155,
          16581,
          41850,
          81380,
          56386,
          25818,
          15345,
          57954,
          50300,
          38725,
          10404,
          26868,
          72298,
          72905,
          47025,
          29938,
          46681,
          46681,
          29548,
          62058,
          52247.25135379061,
          36736,
          8820,
          14918,
          56715,
          24882,
          24882,
          40442,
          64176,
          23536,
          35246,
          28442,
          48195,
          74116,
          78093,
          59354,
          36301,
          77598,
          62710,
          36317,
          42767,
          43815,
          44421,
          48948,
          48948,
          63120,
          55517,
          36864,
          52247.25135379061,
          82582,
          79803,
          52569,
          82032,
          82032,
          65685,
          65685,
          40451,
          31163,
          31163,
          35704,
          7500,
          36075,
          70038,
          70038,
          71796,
          47821,
          45503,
          28647,
          37760,
          85431,
          72635,
          72635,
          77142,
          53172,
          36065,
          73926,
          35790,
          39552,
          68316,
          102160,
          51390,
          72066,
          21675,
          48006,
          65106,
          58401,
          29315,
          49389,
          51717,
          46779,
          28520,
          34377,
          54959,
          82384,
          46998,
          58554,
          58554,
          57333,
          80685,
          52117,
          62220,
          64014,
          64014,
          46390,
          75507,
          75507,
          59412,
          50616,
          35924,
          57937,
          73356,
          21255,
          58494,
          72460,
          68682,
          68682,
          36959,
          46463,
          61825,
          61825,
          28691,
          28691,
          54058,
          84196,
          38620,
          38620,
          3502,
          47743,
          80360,
          66303,
          52413,
          60714,
          31385,
          83257,
          80427,
          38823,
          42014,
          42014,
          76140,
          41713,
          62670,
          70932,
          78939,
          44512,
          63967,
          90842,
          25358,
          52247.25135379061,
          28567,
          66373,
          66373,
          83844,
          83844,
          83844,
          83664,
          27450,
          54880,
          71322,
          60000,
          65176,
          61010,
          31089,
          20518,
          34469,
          28332,
          33456,
          38443,
          65333,
          82623,
          73691,
          74485,
          65748,
          24367,
          91700,
          79244,
          82017,
          58138,
          59354,
          58482,
          29478,
          64474,
          31160,
          40321,
          40321,
          55239,
          57513,
          85693,
          71855,
          7500,
          71969,
          28973,
          80872,
          84117,
          38741,
          38961,
          75922,
          56962,
          56962,
          70165,
          65308,
          29298,
          63246,
          33402,
          96843,
          82333,
          72643,
          32313,
          55284,
          15287,
          15287,
          51563,
          81929,
          53593,
          60432,
          66726,
          62450,
          49514,
          43269,
          33762,
          60894,
          87771,
          87771,
          50737,
          26150,
          57304,
          71107,
          53253,
          81320,
          87000,
          40049,
          63684,
          69016,
          7500,
          73803,
          46094,
          85844,
          38452,
          38452,
          80395,
          87679,
          35416,
          44124,
          50729,
          94384,
          94384,
          34412,
          31158,
          34838,
          56775,
          54356,
          72159,
          8028,
          55951,
          67911,
          67911,
          20427,
          32303,
          55954,
          49187,
          49854,
          63693,
          63693,
          19510,
          52332,
          55593,
          54591,
          74859,
          40851,
          58607,
          7500,
          52614,
          52614,
          67445,
          67445,
          67445,
          36778,
          39453,
          42731,
          40760,
          69969,
          80317,
          66636,
          54730,
          42835,
          53843,
          79530,
          63841,
          63841,
          63841,
          27100,
          27100,
          72309,
          50664,
          20194,
          76618,
          45207,
          56721,
          27038,
          23763,
          37085,
          49605,
          1730,
          34824,
          34824,
          63206,
          26759,
          55412,
          33590,
          70886,
          72679,
          65073,
          44300,
          56129,
          56129,
          38590,
          53083,
          79689,
          34704,
          65316,
          41014,
          19740,
          23724,
          55212,
          55212,
          79800,
          70647,
          38410,
          28071,
          54803,
          74293,
          74293,
          35684,
          34320,
          41967,
          49681,
          49681,
          53187,
          86610,
          70951,
          24206,
          55357,
          58113,
          70643,
          64355,
          82576,
          41644,
          72570,
          30630,
          22944,
          86979,
          52247.25135379061,
          82072,
          52034,
          72354,
          28427,
          28427,
          39858,
          67381,
          23529,
          51479,
          76068,
          22507,
          52413,
          50116,
          76624,
          34587,
          62159,
          66294,
          5648,
          37235,
          85620,
          23976,
          41020,
          36108,
          57530,
          62905,
          65846,
          34380,
          41638,
          63207,
          28320,
          43140,
          52531,
          40246,
          35196,
          35196,
          70596,
          70596,
          52597,
          42394,
          81657,
          49154,
          34074,
          52247.25135379061,
          70638,
          38136,
          67432,
          40689,
          40689,
          101970,
          44325,
          61467,
          48178,
          16005,
          79593,
          79593,
          61180,
          64449,
          77437,
          17649,
          53103,
          71819,
          74290,
          72282,
          47352,
          47352,
          46524,
          50200,
          18222,
          77610,
          38097,
          44377,
          58684,
          66480,
          49638,
          50616,
          26642,
          33235,
          23228,
          36732,
          82657,
          64140,
          44392,
          16185,
          38702,
          54072,
          61787,
          34935,
          34935,
          59292,
          59292,
          57959,
          92491,
          42207,
          46984,
          23442,
          46757,
          14515,
          80910,
          30545,
          44802,
          79941,
          79734,
          50353,
          77376,
          78075,
          42473,
          25008,
          56223,
          47850,
          91820,
          40637,
          23295,
          84574,
          54165,
          28510,
          67131,
          56242,
          86580,
          76005,
          54693,
          52750,
          36997,
          34230,
          47916,
          60839,
          79930,
          55158,
          85485,
          75865,
          44375,
          60504,
          65492,
          67506,
          68805,
          61209,
          66825,
          87188,
          84953,
          74637,
          86111,
          77632,
          31814,
          70116,
          48240,
          40101,
          70503,
          79205,
          51766,
          62994,
          65640,
          38361,
          38361,
          19986,
          19986,
          72903,
          45072,
          59062,
          61794,
          45143,
          45143,
          26877,
          36921,
          54342,
          62772,
          75032,
          22419,
          22419,
          36550,
          75027,
          63159,
          54108,
          81795,
          59594,
          18492,
          94472,
          70337,
          34853,
          52247.25135379061,
          16269,
          50272,
          22804,
          22804,
          30631,
          78420,
          81741,
          25721,
          31907,
          37859,
          30261,
          21645,
          21282,
          32144,
          62637,
          16626,
          54690,
          54690,
          61284,
          23718,
          33419,
          82025,
          15056,
          48192,
          67309,
          66033,
          28769,
          6835,
          32880,
          23616,
          19419,
          34961,
          64892,
          16248,
          43776,
          52074,
          22123,
          35544,
          59060,
          65665,
          29819,
          81217,
          81217,
          26095,
          65706,
          31859,
          93027,
          58710,
          49618,
          58308,
          40800,
          18690,
          18690,
          18690,
          28087,
          75702,
          32892,
          32892,
          89120,
          27116,
          46107,
          54466,
          59686,
          82460,
          76045,
          83829,
          83829,
          32889,
          33462,
          36627,
          28718,
          77981,
          60230,
          74918,
          40464,
          64857,
          64857,
          63381,
          63381,
          66664,
          66664,
          86358,
          41443,
          57072,
          54178,
          48767,
          51124,
          43020,
          49980,
          72906,
          25176,
          96876,
          31086,
          24072,
          76773,
          72190,
          83837,
          17345,
          75154,
          28249,
          28249,
          69661,
          27922,
          45903,
          36273,
          70777,
          17148,
          66476,
          45057,
          41120,
          52247.25135379061,
          19485,
          21840,
          41473,
          31395,
          68117,
          47682,
          83151,
          58086,
          84460,
          66565,
          23910,
          35893,
          71128,
          38683,
          37150,
          61064,
          51650,
          55249,
          46854,
          14421,
          54132,
          153924,
          64813,
          61872,
          58025,
          83790,
          34350,
          33438,
          21955,
          60491,
          59304,
          34421,
          34421,
          51411,
          71964,
          64504,
          49678,
          60482,
          55260,
          67369,
          47175,
          68743,
          56937,
          83033,
          37697,
          37697,
          44689,
          23162,
          63033,
          40304,
          40059,
          80067,
          36038,
          52247.25135379061,
          40521,
          66334,
          11012,
          31615,
          52247.25135379061,
          69098,
          70792,
          17688,
          25443,
          57091,
          24336,
          51111,
          44503,
          56850,
          66582,
          23148,
          82224,
          61917,
          43482,
          68274,
          42373,
          52247.25135379061,
          57537,
          80995,
          30992,
          30992,
          78642,
          74268,
          75072,
          56253,
          59925,
          62807,
          62807,
          23626,
          46106,
          81168,
          27244,
          26091,
          26091,
          43142,
          38232,
          92533,
          63285,
          38946,
          38946,
          40233,
          46831,
          67605,
          70379,
          77297,
          55759,
          58217,
          51369,
          51369,
          91249,
          52513,
          44159,
          76081,
          76081,
          39996,
          55012,
          77457,
          80695,
          71866,
          73450,
          55614,
          156924,
          30753,
          54603,
          22280,
          59385,
          76998,
          80573,
          80573,
          24711,
          38829,
          71466,
          28839,
          53790,
          73705,
          22448,
          12571,
          73113,
          35765,
          46734,
          66313,
          68148,
          44393,
          38197,
          51012,
          51012,
          13672,
          41452,
          42081,
          14906,
          33812,
          46098,
          46098,
          46098,
          53230,
          88420,
          39548,
          61278,
          81246,
          58330,
          58330,
          65777,
          70829,
          52247.25135379061,
          59247,
          25930,
          54753,
          28440,
          23559,
          62335,
          63777,
          59666,
          50965,
          71488,
          72228,
          46231,
          75702,
          43300,
          78618,
          52247.25135379061,
          29760,
          29760,
          50127,
          29604,
          49413,
          51876,
          45837,
          85696,
          85696,
          59432,
          43185,
          60631,
          20559,
          50898,
          73807,
          14661,
          36807,
          46772,
          81574,
          30772,
          46377,
          78128,
          83443,
          50523,
          47009,
          37054,
          32011,
          82122,
          70300,
          21024,
          34916,
          27943,
          39791,
          62745,
          18589,
          85606,
          26997,
          82332,
          38853,
          27071,
          90933,
          65814,
          74250,
          33181,
          45006,
          42315,
          48699,
          59111,
          48726,
          37244,
          74854,
          60896,
          67546,
          67546,
          46923,
          38988,
          49118,
          27683,
          39190,
          56981,
          23228,
          90000,
          55707,
          9255,
          42997,
          71232,
          57744,
          33585,
          46891,
          46891,
          50387,
          76653,
          76542,
          76995,
          38415,
          22304,
          75127,
          75127,
          39722,
          7144,
          39771,
          42618,
          51518,
          74716,
          33955,
          45736,
          31632,
          60093,
          30822,
          41728,
          80739,
          49767,
          34445,
          67046,
          73538,
          80398,
          52973,
          38998,
          38998,
          26490,
          26490,
          23331,
          60544,
          60544,
          49269,
          27203,
          45204,
          67023,
          77583,
          76630,
          47353,
          48920,
          67472,
          64100,
          38872,
          72217,
          15038,
          13624,
          42554,
          71952,
          71952,
          78041,
          63972,
          52852,
          62010,
          83151,
          77870,
          46931,
          85072,
          73395,
          62307,
          58293,
          47889,
          24594,
          24594,
          69882,
          24221,
          22327,
          61923,
          35791,
          35791,
          91172,
          35441,
          19656,
          7500,
          71626,
          75330,
          34529,
          48789,
          34487,
          35688,
          35688,
          53700,
          73454,
          71113,
          52247.25135379061,
          31535,
          80812,
          40479,
          29440,
          38508,
          69520,
          18701,
          18701,
          69901,
          47703,
          86037,
          71847,
          42033,
          51983,
          68655,
          68655,
          38285,
          79419,
          57338,
          42523,
          42523,
          31761,
          65747,
          17144,
          17144,
          52247.25135379061,
          84618,
          84618,
          66375,
          42213,
          52247.25135379061,
          51141,
          15072,
          7500,
          17117,
          59754,
          65569,
          28457,
          86857,
          86857,
          68142,
          48794,
          63404,
          49669,
          55761,
          78331,
          37971,
          30368,
          34043,
          54111,
          69932,
          39665,
          93404,
          38680,
          24570,
          77766,
          77766,
          64961,
          23748,
          45989,
          23331,
          70421,
          23091,
          24683,
          157243,
          54222,
          73455,
          84906,
          84906,
          47025,
          44529,
          31560,
          90687,
          66973,
          41154,
          64590,
          50611,
          50611,
          83273,
          81702,
          24401,
          42557,
          7500,
          78416,
          44794,
          44794,
          69719,
          62568,
          42231,
          20130,
          20130,
          42429,
          36640,
          78901,
          66476,
          31056,
          46310,
          65819,
          94871
         ],
         "xaxis": "x",
         "y": [
          111,
          7,
          15,
          0,
          11,
          240,
          15,
          0,
          21,
          21,
          73,
          0,
          80,
          3,
          2,
          13,
          13,
          0,
          2,
          0,
          4,
          25,
          0,
          0,
          65,
          0,
          8,
          8,
          0,
          50,
          13,
          73,
          0,
          0,
          0,
          106,
          138,
          0,
          43,
          97,
          6,
          38,
          30,
          13,
          7,
          20,
          6,
          0,
          0,
          0,
          7,
          189,
          0,
          224,
          16,
          0,
          0,
          6,
          150,
          32,
          4,
          0,
          2,
          0,
          10,
          0,
          30,
          134,
          3,
          3,
          193,
          180,
          0,
          20,
          140,
          137,
          6,
          28,
          27,
          3,
          106,
          106,
          0,
          19,
          0,
          15,
          4,
          0,
          98,
          0,
          10,
          168,
          2,
          63,
          76,
          6,
          6,
          0,
          82,
          39,
          0,
          205,
          4,
          4,
          4,
          0,
          0,
          0,
          86,
          52,
          6,
          2,
          6,
          10,
          2,
          46,
          13,
          13,
          111,
          84,
          7,
          172,
          8,
          8,
          4,
          4,
          3,
          19,
          119,
          150,
          150,
          80,
          3,
          3,
          49,
          229,
          4,
          42,
          25,
          0,
          2,
          29,
          32,
          116,
          13,
          7,
          3,
          3,
          0,
          32,
          32,
          114,
          45,
          0,
          17,
          2,
          0,
          0,
          4,
          4,
          86,
          0,
          0,
          82,
          8,
          20,
          84,
          10,
          11,
          259,
          127,
          19,
          10,
          134,
          33,
          78,
          13,
          130,
          11,
          3,
          0,
          0,
          6,
          0,
          2,
          0,
          3,
          80,
          145,
          2,
          218,
          15,
          12,
          110,
          76,
          32,
          0,
          0,
          62,
          13,
          50,
          15,
          62,
          8,
          8,
          71,
          8,
          33,
          247,
          2,
          1,
          15,
          20,
          4,
          3,
          11,
          7,
          4,
          19,
          51,
          8,
          28,
          0,
          0,
          4,
          16,
          28,
          91,
          4,
          3,
          0,
          33,
          26,
          0,
          15,
          7,
          13,
          6,
          23,
          8,
          29,
          3,
          0,
          65,
          0,
          0,
          2,
          50,
          69,
          69,
          2,
          13,
          0,
          34,
          2,
          2,
          72,
          124,
          124,
          52,
          13,
          11,
          0,
          0,
          4,
          8,
          3,
          12,
          12,
          19,
          8,
          0,
          0,
          8,
          116,
          15,
          65,
          71,
          2,
          19,
          19,
          3,
          65,
          99,
          4,
          185,
          19,
          19,
          19,
          89,
          28,
          47,
          50,
          182,
          3,
          160,
          6,
          0,
          0,
          1,
          69,
          69,
          136,
          2,
          20,
          42,
          6,
          64,
          21,
          0,
          4,
          16,
          0,
          168,
          168,
          3,
          49,
          11,
          8,
          175,
          0,
          0,
          10,
          162,
          17,
          2,
          34,
          73,
          3,
          3,
          216,
          4,
          4,
          2,
          15,
          145,
          3,
          3,
          142,
          13,
          207,
          6,
          41,
          32,
          6,
          4,
          0,
          6,
          140,
          15,
          0,
          78,
          11,
          39,
          7,
          0,
          0,
          8,
          3,
          101,
          2,
          23,
          23,
          23,
          23,
          2,
          4,
          2,
          10,
          10,
          108,
          0,
          4,
          0,
          0,
          6,
          89,
          3,
          0,
          6,
          3,
          2,
          0,
          26,
          0,
          99,
          4,
          21,
          91,
          69,
          4,
          4,
          2,
          0,
          0,
          0,
          21,
          0,
          8,
          192,
          55,
          7,
          23,
          59,
          19,
          150,
          4,
          32,
          46,
          69,
          42,
          182,
          0,
          3,
          33,
          27,
          27,
          3,
          0,
          38,
          2,
          34,
          80,
          34,
          4,
          40,
          31,
          24,
          119,
          12,
          16,
          7,
          123,
          0,
          166,
          201,
          25,
          65,
          34,
          39,
          10,
          58,
          3,
          90,
          24,
          13,
          3,
          3,
          0,
          3,
          0,
          0,
          63,
          3,
          10,
          13,
          1,
          0,
          0,
          16,
          0,
          16,
          0,
          4,
          4,
          41,
          12,
          12,
          6,
          50,
          52,
          10,
          43,
          0,
          150,
          150,
          224,
          0,
          0,
          0,
          4,
          0,
          130,
          169,
          34,
          34,
          50,
          110,
          21,
          0,
          0,
          219,
          38,
          19,
          4,
          25,
          3,
          17,
          25,
          0,
          12,
          12,
          50,
          2,
          2,
          37,
          0,
          3,
          10,
          13,
          13,
          0,
          0,
          0,
          24,
          13,
          125,
          125,
          45,
          33,
          33,
          0,
          0,
          111,
          10,
          10,
          63,
          12,
          11,
          13,
          38,
          85,
          85,
          82,
          59,
          59,
          15,
          111,
          2,
          2,
          0,
          8,
          3,
          3,
          16,
          16,
          0,
          28,
          0,
          64,
          0,
          42,
          42,
          77,
          84,
          3,
          62,
          62,
          0,
          0,
          15,
          0,
          3,
          12,
          0,
          2,
          10,
          0,
          0,
          0,
          0,
          2,
          151,
          242,
          0,
          95,
          0,
          13,
          0,
          8,
          0,
          234,
          234,
          28,
          3,
          201,
          106,
          16,
          17,
          4,
          0,
          15,
          10,
          3,
          4,
          0,
          111,
          2,
          3,
          11,
          29,
          20,
          12,
          4,
          37,
          253,
          49,
          49,
          4,
          25,
          78,
          0,
          258,
          258,
          21,
          13,
          45,
          45,
          2,
          36,
          12,
          134,
          23,
          0,
          15,
          15,
          0,
          58,
          0,
          15,
          15,
          37,
          3,
          0,
          0,
          151,
          8,
          0,
          98,
          0,
          62,
          19,
          0,
          7,
          2,
          7,
          2,
          2,
          32,
          41,
          227,
          65,
          0,
          34,
          0,
          93,
          39,
          8,
          6,
          93,
          7,
          1,
          0,
          6,
          55,
          37,
          188,
          104,
          128,
          94,
          94,
          119,
          63,
          3,
          25,
          4,
          54,
          25,
          10,
          141,
          141,
          84,
          38,
          91,
          0,
          250,
          28,
          41,
          20,
          12,
          3,
          12,
          12,
          7,
          159,
          138,
          0,
          30,
          0,
          2,
          16,
          6,
          6,
          0,
          2,
          15,
          15,
          37,
          29,
          33,
          121,
          4,
          4,
          4,
          19,
          19,
          19,
          151,
          15,
          13,
          232,
          65,
          80,
          0,
          24,
          2,
          0,
          0,
          2,
          2,
          6,
          32,
          11,
          4,
          4,
          2,
          49,
          95,
          10,
          42,
          184,
          43,
          120,
          3,
          15,
          0,
          179,
          77,
          65,
          65,
          6,
          3,
          10,
          119,
          10,
          30,
          0,
          158,
          13,
          216,
          153,
          0,
          21,
          21,
          0,
          0,
          0,
          35,
          63,
          3,
          3,
          179,
          12,
          6,
          7,
          7,
          19,
          58,
          6,
          2,
          2,
          0,
          6,
          3,
          0,
          7,
          43,
          4,
          4,
          19,
          0,
          13,
          65,
          19,
          19,
          12,
          50,
          7,
          97,
          12,
          13,
          50,
          24,
          104,
          0,
          106,
          2,
          6,
          31,
          10,
          171,
          216,
          2,
          0,
          169,
          16,
          120,
          17,
          101,
          0,
          11,
          112,
          2,
          3,
          4,
          0,
          0,
          7,
          145,
          202,
          180,
          2,
          32,
          20,
          56,
          4,
          4,
          4,
          4,
          84,
          6,
          0,
          4,
          4,
          10,
          11,
          7,
          54,
          64,
          24,
          2,
          0,
          173,
          0,
          7,
          4,
          16,
          0,
          7,
          4,
          0,
          2,
          69,
          13,
          6,
          90,
          81,
          21,
          0,
          8,
          3,
          0,
          0,
          11,
          4,
          202,
          202,
          0,
          6,
          151,
          25,
          15,
          86,
          6,
          16,
          4,
          4,
          0,
          12,
          12,
          2,
          3,
          0,
          3,
          13,
          0,
          26,
          4,
          6,
          50,
          46,
          20,
          20,
          0,
          3,
          2,
          3,
          130,
          0,
          63,
          17,
          0,
          0,
          0,
          6,
          104,
          104,
          16,
          0,
          110,
          26,
          23,
          2,
          0,
          137,
          11,
          3,
          38,
          0,
          12,
          132,
          132,
          58,
          164,
          17,
          192,
          7,
          78,
          4,
          15,
          6,
          8,
          69,
          119,
          179,
          8,
          99,
          12,
          93,
          4,
          0,
          17,
          0,
          0,
          0,
          7,
          0,
          77,
          1,
          94,
          19,
          72,
          6,
          7,
          0,
          2,
          38,
          20,
          2,
          0,
          97,
          39,
          39,
          4,
          3,
          0,
          0,
          123,
          2,
          0,
          0,
          2,
          2,
          0,
          2,
          75,
          75,
          19,
          21,
          219,
          0,
          197,
          0,
          210,
          2,
          16,
          10,
          0,
          7,
          40,
          23,
          39,
          8,
          0,
          7,
          0,
          80,
          60,
          10,
          16,
          16,
          36,
          0,
          6,
          43,
          17,
          0,
          11,
          62,
          173,
          23,
          23,
          7,
          89,
          8,
          8,
          0,
          42,
          11,
          0,
          82,
          2,
          2,
          2,
          153,
          19,
          28,
          21,
          68,
          41,
          52,
          86,
          205,
          205,
          13,
          60,
          0,
          3,
          2,
          2,
          71,
          94,
          250,
          20,
          43,
          80,
          84,
          8,
          8,
          20,
          0,
          3,
          6,
          17,
          17,
          199,
          199,
          0,
          0,
          15,
          13,
          10,
          38,
          0,
          21,
          56,
          4,
          0,
          0,
          36,
          36,
          3,
          33,
          33,
          104,
          42,
          13,
          13,
          35,
          69,
          0,
          168,
          7,
          2,
          6,
          16,
          0,
          15,
          76,
          2,
          0,
          10,
          3,
          12,
          45,
          37,
          2,
          2,
          20,
          24,
          11,
          60,
          7,
          32,
          0,
          0,
          0,
          0,
          4,
          6,
          0,
          0,
          13,
          0,
          3,
          4,
          15,
          37,
          0,
          47,
          4,
          130,
          46,
          3,
          8,
          58,
          12,
          15,
          13,
          3,
          197,
          0,
          0,
          32,
          3,
          10,
          10,
          4,
          71,
          0,
          0,
          3,
          16,
          12,
          3,
          75,
          138,
          138,
          39,
          7,
          12,
          0,
          7,
          2,
          2,
          224,
          13,
          2,
          3,
          0,
          24,
          2,
          10,
          8,
          58,
          181,
          20,
          0,
          15,
          15,
          3,
          10,
          94,
          0,
          4,
          15,
          237,
          29,
          29,
          25,
          64,
          0,
          2,
          11,
          52,
          145,
          13,
          3,
          3,
          129,
          7,
          3,
          19,
          4,
          7,
          160,
          160,
          54,
          0,
          17,
          12,
          156,
          21,
          0,
          149,
          149,
          0,
          0,
          0,
          11,
          11,
          2,
          12,
          12,
          71,
          71,
          167,
          6,
          6,
          0,
          2,
          168,
          104,
          104,
          29,
          68,
          10,
          159,
          30,
          4,
          120,
          76,
          23,
          134,
          17,
          3,
          12,
          17,
          8,
          2,
          0,
          0,
          0,
          3,
          0,
          180,
          45,
          38,
          38,
          76,
          34,
          30,
          16,
          0,
          0,
          2,
          104,
          104,
          30,
          0,
          2,
          55,
          0,
          2,
          4,
          80,
          99,
          99,
          6,
          8,
          55,
          55,
          8,
          8,
          32,
          231,
          34,
          34,
          0,
          0,
          112,
          16,
          75,
          101,
          0,
          38,
          69,
          2,
          4,
          4,
          17,
          10,
          80,
          46,
          150,
          0,
          73,
          182,
          0,
          2,
          2,
          12,
          12,
          75,
          75,
          75,
          28,
          8,
          102,
          69,
          0,
          220,
          0,
          2,
          4,
          0,
          4,
          8,
          0,
          0,
          172,
          85,
          173,
          95,
          0,
          125,
          212,
          30,
          172,
          39,
          19,
          3,
          56,
          6,
          6,
          6,
          23,
          52,
          185,
          0,
          11,
          0,
          3,
          94,
          59,
          8,
          0,
          224,
          10,
          10,
          199,
          120,
          2,
          29,
          10,
          40,
          46,
          123,
          2,
          0,
          4,
          4,
          0,
          49,
          6,
          4,
          0,
          62,
          58,
          0,
          2,
          10,
          50,
          50,
          0,
          3,
          138,
          198,
          20,
          59,
          67,
          10,
          208,
          123,
          3,
          52,
          3,
          25,
          0,
          0,
          80,
          97,
          4,
          0,
          45,
          160,
          160,
          4,
          20,
          29,
          58,
          20,
          34,
          7,
          0,
          63,
          63,
          0,
          0,
          0,
          2,
          39,
          42,
          42,
          3,
          7,
          11,
          12,
          133,
          0,
          0,
          8,
          12,
          12,
          29,
          29,
          29,
          2,
          0,
          6,
          0,
          38,
          149,
          84,
          4,
          12,
          19,
          129,
          20,
          20,
          20,
          2,
          2,
          50,
          6,
          11,
          121,
          0,
          6,
          17,
          6,
          2,
          12,
          1,
          2,
          2,
          11,
          8,
          11,
          0,
          103,
          127,
          69,
          0,
          39,
          39,
          4,
          3,
          180,
          0,
          3,
          2,
          10,
          0,
          0,
          0,
          32,
          25,
          116,
          41,
          28,
          93,
          93,
          0,
          3,
          0,
          0,
          0,
          7,
          33,
          254,
          3,
          84,
          102,
          23,
          67,
          168,
          2,
          151,
          2,
          4,
          65,
          52,
          168,
          7,
          220,
          3,
          3,
          2,
          11,
          3,
          6,
          33,
          51,
          56,
          0,
          54,
          2,
          77,
          65,
          1,
          4,
          60,
          2,
          7,
          3,
          6,
          119,
          80,
          13,
          4,
          91,
          3,
          6,
          51,
          2,
          43,
          43,
          17,
          17,
          7,
          0,
          158,
          30,
          10,
          60,
          16,
          0,
          177,
          39,
          39,
          44,
          0,
          0,
          6,
          20,
          110,
          110,
          6,
          137,
          29,
          0,
          11,
          0,
          0,
          90,
          8,
          8,
          26,
          8,
          12,
          21,
          0,
          0,
          28,
          20,
          3,
          0,
          2,
          2,
          6,
          10,
          246,
          0,
          7,
          21,
          13,
          0,
          78,
          3,
          3,
          19,
          19,
          43,
          29,
          3,
          2,
          8,
          0,
          6,
          67,
          19,
          13,
          227,
          23,
          67,
          16,
          34,
          0,
          6,
          16,
          20,
          76,
          0,
          2,
          38,
          15,
          0,
          93,
          11,
          26,
          240,
          23,
          90,
          8,
          0,
          0,
          223,
          67,
          4,
          44,
          156,
          7,
          6,
          210,
          33,
          17,
          119,
          29,
          49,
          63,
          146,
          36,
          0,
          4,
          95,
          64,
          26,
          0,
          179,
          6,
          4,
          20,
          20,
          20,
          0,
          0,
          0,
          7,
          3,
          54,
          11,
          11,
          20,
          3,
          11,
          43,
          47,
          19,
          19,
          123,
          133,
          89,
          8,
          27,
          0,
          2,
          108,
          25,
          2,
          164,
          3,
          43,
          2,
          2,
          4,
          91,
          58,
          3,
          175,
          2,
          0,
          4,
          4,
          0,
          4,
          21,
          7,
          7,
          20,
          15,
          0,
          48,
          21,
          153,
          149,
          46,
          10,
          2,
          7,
          3,
          16,
          4,
          32,
          3,
          2,
          0,
          34,
          4,
          36,
          106,
          2,
          146,
          146,
          3,
          13,
          8,
          55,
          0,
          4,
          10,
          8,
          23,
          23,
          23,
          13,
          45,
          2,
          2,
          72,
          2,
          16,
          0,
          34,
          52,
          17,
          186,
          186,
          4,
          0,
          0,
          11,
          16,
          39,
          25,
          7,
          210,
          210,
          33,
          33,
          220,
          220,
          82,
          25,
          0,
          4,
          3,
          0,
          4,
          13,
          71,
          0,
          40,
          3,
          3,
          86,
          172,
          86,
          17,
          160,
          2,
          2,
          32,
          2,
          2,
          3,
          0,
          13,
          25,
          3,
          0,
          3,
          0,
          0,
          15,
          0,
          0,
          97,
          137,
          0,
          106,
          65,
          7,
          0,
          20,
          84,
          49,
          0,
          2,
          2,
          7,
          3,
          0,
          1,
          179,
          36,
          11,
          42,
          2,
          3,
          17,
          12,
          80,
          6,
          6,
          0,
          180,
          16,
          3,
          37,
          11,
          37,
          6,
          175,
          11,
          237,
          11,
          11,
          0,
          19,
          225,
          0,
          28,
          27,
          0,
          0,
          0,
          0,
          7,
          6,
          0,
          145,
          104,
          3,
          8,
          6,
          8,
          6,
          0,
          2,
          16,
          6,
          138,
          2,
          6,
          23,
          3,
          0,
          51,
          73,
          7,
          7,
          46,
          97,
          0,
          7,
          19,
          10,
          10,
          0,
          2,
          147,
          3,
          8,
          8,
          2,
          7,
          110,
          50,
          6,
          6,
          0,
          6,
          184,
          65,
          48,
          10,
          3,
          0,
          0,
          71,
          104,
          24,
          63,
          63,
          0,
          0,
          15,
          193,
          103,
          90,
          8,
          1,
          0,
          17,
          3,
          0,
          69,
          60,
          60,
          6,
          0,
          78,
          0,
          28,
          258,
          23,
          2,
          50,
          0,
          6,
          10,
          37,
          2,
          2,
          2,
          2,
          2,
          0,
          54,
          7,
          30,
          0,
          0,
          0,
          136,
          99,
          3,
          2,
          61,
          104,
          104,
          28,
          72,
          98,
          19,
          2,
          7,
          0,
          7,
          85,
          15,
          23,
          8,
          40,
          30,
          0,
          145,
          2,
          212,
          2,
          7,
          7,
          4,
          7,
          3,
          28,
          17,
          116,
          116,
          25,
          16,
          0,
          3,
          55,
          71,
          6,
          0,
          197,
          46,
          2,
          4,
          16,
          55,
          4,
          59,
          0,
          2,
          151,
          60,
          6,
          33,
          4,
          13,
          28,
          15,
          219,
          133,
          51,
          0,
          0,
          62,
          10,
          75,
          0,
          16,
          17,
          2,
          28,
          4,
          0,
          58,
          60,
          150,
          150,
          102,
          12,
          99,
          12,
          19,
          32,
          7,
          94,
          30,
          2,
          0,
          34,
          0,
          13,
          29,
          29,
          12,
          219,
          0,
          0,
          4,
          0,
          46,
          46,
          2,
          5,
          2,
          13,
          17,
          13,
          23,
          20,
          11,
          16,
          2,
          3,
          39,
          55,
          208,
          23,
          99,
          207,
          12,
          0,
          0,
          21,
          21,
          0,
          3,
          3,
          11,
          4,
          29,
          11,
          250,
          40,
          8,
          8,
          8,
          0,
          3,
          55,
          19,
          2,
          0,
          52,
          52,
          72,
          0,
          11,
          6,
          120,
          65,
          3,
          194,
          20,
          10,
          46,
          0,
          10,
          10,
          132,
          2,
          2,
          3,
          0,
          0,
          0,
          2,
          6,
          4,
          94,
          93,
          3,
          7,
          24,
          12,
          12,
          69,
          56,
          11,
          12,
          0,
          210,
          2,
          10,
          25,
          121,
          10,
          10,
          102,
          13,
          29,
          55,
          2,
          10,
          75,
          75,
          2,
          20,
          11,
          3,
          3,
          16,
          23,
          0,
          0,
          6,
          21,
          21,
          0,
          4,
          38,
          0,
          0,
          4,
          30,
          4,
          20,
          29,
          133,
          133,
          91,
          3,
          11,
          11,
          0,
          160,
          2,
          2,
          3,
          8,
          150,
          0,
          20,
          15,
          11,
          115,
          115,
          75,
          12,
          28,
          24,
          75,
          0,
          6,
          1,
          3,
          186,
          99,
          99,
          23,
          17,
          4,
          23,
          147,
          2,
          36,
          6,
          6,
          16,
          28,
          10,
          0,
          13,
          188,
          0,
          0,
          177,
          80,
          0,
          7,
          7,
          2,
          7,
          33,
          47,
          3,
          15,
          149,
          188
         ],
         "yaxis": "y"
        }
       ],
       "layout": {
        "legend": {
         "tracegroupgap": 0
        },
        "margin": {
         "t": 60
        },
        "template": {
         "data": {
          "bar": [
           {
            "error_x": {
             "color": "#2a3f5f"
            },
            "error_y": {
             "color": "#2a3f5f"
            },
            "marker": {
             "line": {
              "color": "#E5ECF6",
              "width": 0.5
             }
            },
            "type": "bar"
           }
          ],
          "barpolar": [
           {
            "marker": {
             "line": {
              "color": "#E5ECF6",
              "width": 0.5
             }
            },
            "type": "barpolar"
           }
          ],
          "carpet": [
           {
            "aaxis": {
             "endlinecolor": "#2a3f5f",
             "gridcolor": "white",
             "linecolor": "white",
             "minorgridcolor": "white",
             "startlinecolor": "#2a3f5f"
            },
            "baxis": {
             "endlinecolor": "#2a3f5f",
             "gridcolor": "white",
             "linecolor": "white",
             "minorgridcolor": "white",
             "startlinecolor": "#2a3f5f"
            },
            "type": "carpet"
           }
          ],
          "choropleth": [
           {
            "colorbar": {
             "outlinewidth": 0,
             "ticks": ""
            },
            "type": "choropleth"
           }
          ],
          "contour": [
           {
            "colorbar": {
             "outlinewidth": 0,
             "ticks": ""
            },
            "colorscale": [
             [
              0,
              "#0d0887"
             ],
             [
              0.1111111111111111,
              "#46039f"
             ],
             [
              0.2222222222222222,
              "#7201a8"
             ],
             [
              0.3333333333333333,
              "#9c179e"
             ],
             [
              0.4444444444444444,
              "#bd3786"
             ],
             [
              0.5555555555555556,
              "#d8576b"
             ],
             [
              0.6666666666666666,
              "#ed7953"
             ],
             [
              0.7777777777777778,
              "#fb9f3a"
             ],
             [
              0.8888888888888888,
              "#fdca26"
             ],
             [
              1,
              "#f0f921"
             ]
            ],
            "type": "contour"
           }
          ],
          "contourcarpet": [
           {
            "colorbar": {
             "outlinewidth": 0,
             "ticks": ""
            },
            "type": "contourcarpet"
           }
          ],
          "heatmap": [
           {
            "colorbar": {
             "outlinewidth": 0,
             "ticks": ""
            },
            "colorscale": [
             [
              0,
              "#0d0887"
             ],
             [
              0.1111111111111111,
              "#46039f"
             ],
             [
              0.2222222222222222,
              "#7201a8"
             ],
             [
              0.3333333333333333,
              "#9c179e"
             ],
             [
              0.4444444444444444,
              "#bd3786"
             ],
             [
              0.5555555555555556,
              "#d8576b"
             ],
             [
              0.6666666666666666,
              "#ed7953"
             ],
             [
              0.7777777777777778,
              "#fb9f3a"
             ],
             [
              0.8888888888888888,
              "#fdca26"
             ],
             [
              1,
              "#f0f921"
             ]
            ],
            "type": "heatmap"
           }
          ],
          "heatmapgl": [
           {
            "colorbar": {
             "outlinewidth": 0,
             "ticks": ""
            },
            "colorscale": [
             [
              0,
              "#0d0887"
             ],
             [
              0.1111111111111111,
              "#46039f"
             ],
             [
              0.2222222222222222,
              "#7201a8"
             ],
             [
              0.3333333333333333,
              "#9c179e"
             ],
             [
              0.4444444444444444,
              "#bd3786"
             ],
             [
              0.5555555555555556,
              "#d8576b"
             ],
             [
              0.6666666666666666,
              "#ed7953"
             ],
             [
              0.7777777777777778,
              "#fb9f3a"
             ],
             [
              0.8888888888888888,
              "#fdca26"
             ],
             [
              1,
              "#f0f921"
             ]
            ],
            "type": "heatmapgl"
           }
          ],
          "histogram": [
           {
            "marker": {
             "colorbar": {
              "outlinewidth": 0,
              "ticks": ""
             }
            },
            "type": "histogram"
           }
          ],
          "histogram2d": [
           {
            "colorbar": {
             "outlinewidth": 0,
             "ticks": ""
            },
            "colorscale": [
             [
              0,
              "#0d0887"
             ],
             [
              0.1111111111111111,
              "#46039f"
             ],
             [
              0.2222222222222222,
              "#7201a8"
             ],
             [
              0.3333333333333333,
              "#9c179e"
             ],
             [
              0.4444444444444444,
              "#bd3786"
             ],
             [
              0.5555555555555556,
              "#d8576b"
             ],
             [
              0.6666666666666666,
              "#ed7953"
             ],
             [
              0.7777777777777778,
              "#fb9f3a"
             ],
             [
              0.8888888888888888,
              "#fdca26"
             ],
             [
              1,
              "#f0f921"
             ]
            ],
            "type": "histogram2d"
           }
          ],
          "histogram2dcontour": [
           {
            "colorbar": {
             "outlinewidth": 0,
             "ticks": ""
            },
            "colorscale": [
             [
              0,
              "#0d0887"
             ],
             [
              0.1111111111111111,
              "#46039f"
             ],
             [
              0.2222222222222222,
              "#7201a8"
             ],
             [
              0.3333333333333333,
              "#9c179e"
             ],
             [
              0.4444444444444444,
              "#bd3786"
             ],
             [
              0.5555555555555556,
              "#d8576b"
             ],
             [
              0.6666666666666666,
              "#ed7953"
             ],
             [
              0.7777777777777778,
              "#fb9f3a"
             ],
             [
              0.8888888888888888,
              "#fdca26"
             ],
             [
              1,
              "#f0f921"
             ]
            ],
            "type": "histogram2dcontour"
           }
          ],
          "mesh3d": [
           {
            "colorbar": {
             "outlinewidth": 0,
             "ticks": ""
            },
            "type": "mesh3d"
           }
          ],
          "parcoords": [
           {
            "line": {
             "colorbar": {
              "outlinewidth": 0,
              "ticks": ""
             }
            },
            "type": "parcoords"
           }
          ],
          "pie": [
           {
            "automargin": true,
            "type": "pie"
           }
          ],
          "scatter": [
           {
            "marker": {
             "colorbar": {
              "outlinewidth": 0,
              "ticks": ""
             }
            },
            "type": "scatter"
           }
          ],
          "scatter3d": [
           {
            "line": {
             "colorbar": {
              "outlinewidth": 0,
              "ticks": ""
             }
            },
            "marker": {
             "colorbar": {
              "outlinewidth": 0,
              "ticks": ""
             }
            },
            "type": "scatter3d"
           }
          ],
          "scattercarpet": [
           {
            "marker": {
             "colorbar": {
              "outlinewidth": 0,
              "ticks": ""
             }
            },
            "type": "scattercarpet"
           }
          ],
          "scattergeo": [
           {
            "marker": {
             "colorbar": {
              "outlinewidth": 0,
              "ticks": ""
             }
            },
            "type": "scattergeo"
           }
          ],
          "scattergl": [
           {
            "marker": {
             "colorbar": {
              "outlinewidth": 0,
              "ticks": ""
             }
            },
            "type": "scattergl"
           }
          ],
          "scattermapbox": [
           {
            "marker": {
             "colorbar": {
              "outlinewidth": 0,
              "ticks": ""
             }
            },
            "type": "scattermapbox"
           }
          ],
          "scatterpolar": [
           {
            "marker": {
             "colorbar": {
              "outlinewidth": 0,
              "ticks": ""
             }
            },
            "type": "scatterpolar"
           }
          ],
          "scatterpolargl": [
           {
            "marker": {
             "colorbar": {
              "outlinewidth": 0,
              "ticks": ""
             }
            },
            "type": "scatterpolargl"
           }
          ],
          "scatterternary": [
           {
            "marker": {
             "colorbar": {
              "outlinewidth": 0,
              "ticks": ""
             }
            },
            "type": "scatterternary"
           }
          ],
          "surface": [
           {
            "colorbar": {
             "outlinewidth": 0,
             "ticks": ""
            },
            "colorscale": [
             [
              0,
              "#0d0887"
             ],
             [
              0.1111111111111111,
              "#46039f"
             ],
             [
              0.2222222222222222,
              "#7201a8"
             ],
             [
              0.3333333333333333,
              "#9c179e"
             ],
             [
              0.4444444444444444,
              "#bd3786"
             ],
             [
              0.5555555555555556,
              "#d8576b"
             ],
             [
              0.6666666666666666,
              "#ed7953"
             ],
             [
              0.7777777777777778,
              "#fb9f3a"
             ],
             [
              0.8888888888888888,
              "#fdca26"
             ],
             [
              1,
              "#f0f921"
             ]
            ],
            "type": "surface"
           }
          ],
          "table": [
           {
            "cells": {
             "fill": {
              "color": "#EBF0F8"
             },
             "line": {
              "color": "white"
             }
            },
            "header": {
             "fill": {
              "color": "#C8D4E3"
             },
             "line": {
              "color": "white"
             }
            },
            "type": "table"
           }
          ]
         },
         "layout": {
          "annotationdefaults": {
           "arrowcolor": "#2a3f5f",
           "arrowhead": 0,
           "arrowwidth": 1
          },
          "autotypenumbers": "strict",
          "coloraxis": {
           "colorbar": {
            "outlinewidth": 0,
            "ticks": ""
           }
          },
          "colorscale": {
           "diverging": [
            [
             0,
             "#8e0152"
            ],
            [
             0.1,
             "#c51b7d"
            ],
            [
             0.2,
             "#de77ae"
            ],
            [
             0.3,
             "#f1b6da"
            ],
            [
             0.4,
             "#fde0ef"
            ],
            [
             0.5,
             "#f7f7f7"
            ],
            [
             0.6,
             "#e6f5d0"
            ],
            [
             0.7,
             "#b8e186"
            ],
            [
             0.8,
             "#7fbc41"
            ],
            [
             0.9,
             "#4d9221"
            ],
            [
             1,
             "#276419"
            ]
           ],
           "sequential": [
            [
             0,
             "#0d0887"
            ],
            [
             0.1111111111111111,
             "#46039f"
            ],
            [
             0.2222222222222222,
             "#7201a8"
            ],
            [
             0.3333333333333333,
             "#9c179e"
            ],
            [
             0.4444444444444444,
             "#bd3786"
            ],
            [
             0.5555555555555556,
             "#d8576b"
            ],
            [
             0.6666666666666666,
             "#ed7953"
            ],
            [
             0.7777777777777778,
             "#fb9f3a"
            ],
            [
             0.8888888888888888,
             "#fdca26"
            ],
            [
             1,
             "#f0f921"
            ]
           ],
           "sequentialminus": [
            [
             0,
             "#0d0887"
            ],
            [
             0.1111111111111111,
             "#46039f"
            ],
            [
             0.2222222222222222,
             "#7201a8"
            ],
            [
             0.3333333333333333,
             "#9c179e"
            ],
            [
             0.4444444444444444,
             "#bd3786"
            ],
            [
             0.5555555555555556,
             "#d8576b"
            ],
            [
             0.6666666666666666,
             "#ed7953"
            ],
            [
             0.7777777777777778,
             "#fb9f3a"
            ],
            [
             0.8888888888888888,
             "#fdca26"
            ],
            [
             1,
             "#f0f921"
            ]
           ]
          },
          "colorway": [
           "#636efa",
           "#EF553B",
           "#00cc96",
           "#ab63fa",
           "#FFA15A",
           "#19d3f3",
           "#FF6692",
           "#B6E880",
           "#FF97FF",
           "#FECB52"
          ],
          "font": {
           "color": "#2a3f5f"
          },
          "geo": {
           "bgcolor": "white",
           "lakecolor": "white",
           "landcolor": "#E5ECF6",
           "showlakes": true,
           "showland": true,
           "subunitcolor": "white"
          },
          "hoverlabel": {
           "align": "left"
          },
          "hovermode": "closest",
          "mapbox": {
           "style": "light"
          },
          "paper_bgcolor": "white",
          "plot_bgcolor": "#E5ECF6",
          "polar": {
           "angularaxis": {
            "gridcolor": "white",
            "linecolor": "white",
            "ticks": ""
           },
           "bgcolor": "#E5ECF6",
           "radialaxis": {
            "gridcolor": "white",
            "linecolor": "white",
            "ticks": ""
           }
          },
          "scene": {
           "xaxis": {
            "backgroundcolor": "#E5ECF6",
            "gridcolor": "white",
            "gridwidth": 2,
            "linecolor": "white",
            "showbackground": true,
            "ticks": "",
            "zerolinecolor": "white"
           },
           "yaxis": {
            "backgroundcolor": "#E5ECF6",
            "gridcolor": "white",
            "gridwidth": 2,
            "linecolor": "white",
            "showbackground": true,
            "ticks": "",
            "zerolinecolor": "white"
           },
           "zaxis": {
            "backgroundcolor": "#E5ECF6",
            "gridcolor": "white",
            "gridwidth": 2,
            "linecolor": "white",
            "showbackground": true,
            "ticks": "",
            "zerolinecolor": "white"
           }
          },
          "shapedefaults": {
           "line": {
            "color": "#2a3f5f"
           }
          },
          "ternary": {
           "aaxis": {
            "gridcolor": "white",
            "linecolor": "white",
            "ticks": ""
           },
           "baxis": {
            "gridcolor": "white",
            "linecolor": "white",
            "ticks": ""
           },
           "bgcolor": "#E5ECF6",
           "caxis": {
            "gridcolor": "white",
            "linecolor": "white",
            "ticks": ""
           }
          },
          "title": {
           "x": 0.05
          },
          "xaxis": {
           "automargin": true,
           "gridcolor": "white",
           "linecolor": "white",
           "ticks": "",
           "title": {
            "standoff": 15
           },
           "zerolinecolor": "white",
           "zerolinewidth": 2
          },
          "yaxis": {
           "automargin": true,
           "gridcolor": "white",
           "linecolor": "white",
           "ticks": "",
           "title": {
            "standoff": 15
           },
           "zerolinecolor": "white",
           "zerolinewidth": 2
          }
         }
        },
        "xaxis": {
         "anchor": "y",
         "domain": [
          0,
          1
         ],
         "title": {
          "text": "Income"
         }
        },
        "yaxis": {
         "anchor": "x",
         "domain": [
          0,
          1
         ],
         "title": {
          "text": "MntFishProducts"
         }
        }
       }
      },
      "text/html": [
       "<div>                            <div id=\"c9e0068c-f3a5-4342-87c2-af92c2feaa2a\" class=\"plotly-graph-div\" style=\"height:525px; width:100%;\"></div>            <script type=\"text/javascript\">                require([\"plotly\"], function(Plotly) {                    window.PLOTLYENV=window.PLOTLYENV || {};                                    if (document.getElementById(\"c9e0068c-f3a5-4342-87c2-af92c2feaa2a\")) {                    Plotly.newPlot(                        \"c9e0068c-f3a5-4342-87c2-af92c2feaa2a\",                        [{\"hovertemplate\": \"Income=%{x}<br>MntFishProducts=%{y}<extra></extra>\", \"legendgroup\": \"\", \"marker\": {\"color\": \"#636efa\", \"symbol\": \"circle\"}, \"mode\": \"markers\", \"name\": \"\", \"showlegend\": false, \"type\": \"scattergl\", \"x\": [84835.0, 57091.0, 67267.0, 32474.0, 21474.0, 71691.0, 63564.0, 44931.0, 65324.0, 65324.0, 81044.0, 62499.0, 67786.0, 26872.0, 4428.0, 54809.0, 54809.0, 32173.0, 47823.0, 30523.0, 36634.0, 43456.0, 40662.0, 49544.0, 57731.0, 33168.0, 54450.0, 54450.0, 35340.0, 73170.0, 65808.0, 79529.0, 34578.0, 46374.0, 18351.0, 95169.0, 65370.0, 39228.0, 84865.0, 61314.0, 21359.0, 66465.0, 81698.0, 39146.0, 25959.0, 64260.0, 32300.0, 74806.0, 72967.0, 48904.0, 14796.0, 66991.0, 52195.0, 90369.0, 18393.0, 47139.0, 38576.0, 61905.0, 83715.0, 60597.0, 6560.0, 48330.0, 38236.0, 22701.0, 53367.0, 34728.0, 63915.0, 82504.0, 38578.0, 38578.0, 79174.0, 81975.0, 43263.0, 27242.0, 76445.0, 75276.0, 34213.0, 72335.0, 79143.0, 27469.0, 68695.0, 68695.0, 50388.0, 77622.0, 46102.0, 31859.0, 23830.0, 24639.0, 71604.0, 27255.0, 55375.0, 77037.0, 24163.0, 69476.0, 72063.0, 58646.0, 58646.0, 47570.0, 80011.0, 54998.0, 60200.0, 63211.0, 48432.0, 48432.0, 48432.0, 62845.0, 62845.0, 65220.0, 74214.0, 96547.0, 53863.0, 50447.0, 37716.0, 45203.0, 37368.0, 67225.0, 65104.0, 65104.0, 81698.0, 70566.0, 69096.0, 71434.0, 33039.0, 33039.0, 46610.0, 49967.0, 53359.0, 49505.0, 68657.0, 72071.0, 72071.0, 59235.0, 21994.0, 21994.0, 52247.25135379061, 69209.0, 31928.0, 74004.0, 30390.0, 21355.0, 26304.0, 85710.0, 102692.0, 58350.0, 7500.0, 18890.0, 20425.0, 20425.0, 41437.0, 49912.0, 49912.0, 79823.0, 85683.0, 47025.0, 68397.0, 38175.0, 46423.0, 46423.0, 30560.0, 30560.0, 60152.0, 29672.0, 29672.0, 70321.0, 56181.0, 24279.0, 68462.0, 55424.0, 49094.0, 59184.0, 67430.0, 30522.0, 31878.0, 83528.0, 90300.0, 68092.0, 53761.0, 52845.0, 24027.0, 7500.0, 42586.0, 42586.0, 9722.0, 86836.0, 30467.0, 54549.0, 19444.0, 69245.0, 72968.0, 48686.0, 73687.0, 82716.0, 35523.0, 60554.0, 64090.0, 61559.0, 71670.0, 67680.0, 54386.0, 64108.0, 69702.0, 47958.0, 67716.0, 34600.0, 34600.0, 48752.0, 15716.0, 46610.0, 74985.0, 45576.0, 113734.0, 57100.0, 24434.0, 37126.0, 45160.0, 33178.0, 64866.0, 34176.0, 50014.0, 92344.0, 55282.0, 48799.0, 84169.0, 84169.0, 39763.0, 74165.0, 42720.0, 65275.0, 36443.0, 43776.0, 56046.0, 65148.0, 49431.0, 32583.0, 16653.0, 26850.0, 51287.0, 43050.0, 73448.0, 17256.0, 86429.0, 33569.0, 25130.0, 62998.0, 26907.0, 26907.0, 45579.0, 47320.0, 70179.0, 70179.0, 28072.0, 50501.0, 58917.0, 69372.0, 35178.0, 35178.0, 75693.0, 69109.0, 69109.0, 80134.0, 64713.0, 41411.0, 52247.25135379061, 55521.0, 43795.0, 22070.0, 36408.0, 34026.0, 34026.0, 46049.0, 35641.0, 32414.0, 59821.0, 34968.0, 56320.0, 70091.0, 46097.0, 41003.0, 44911.0, 33249.0, 33249.0, 42873.0, 51039.0, 78952.0, 29435.0, 79865.0, 34176.0, 34176.0, 65968.0, 86424.0, 67272.0, 78499.0, 77044.0, 70515.0, 17459.0, 80336.0, 15759.0, 26326.0, 62061.0, 5305.0, 75777.0, 75777.0, 71499.0, 31626.0, 42670.0, 83917.0, 41021.0, 79456.0, 78789.0, 50870.0, 35876.0, 23539.0, 32557.0, 62466.0, 62466.0, 54198.0, 82170.0, 61798.0, 15253.0, 78285.0, 62535.0, 27190.0, 48985.0, 72940.0, 36145.0, 157146.0, 81843.0, 41883.0, 45759.0, 45759.0, 78394.0, 30279.0, 30279.0, 31880.0, 60208.0, 78687.0, 37401.0, 37401.0, 75315.0, 69263.0, 78569.0, 57705.0, 74805.0, 66426.0, 51529.0, 18100.0, 59601.0, 20981.0, 74068.0, 36790.0, 18793.0, 27421.0, 30675.0, 83145.0, 34053.0, 31788.0, 45894.0, 41986.0, 42769.0, 58582.0, 49096.0, 76412.0, 18929.0, 18929.0, 18929.0, 21888.0, 41580.0, 31605.0, 25509.0, 25509.0, 33051.0, 28764.0, 32146.0, 22148.0, 36781.0, 54197.0, 93790.0, 24762.0, 30477.0, 11448.0, 70844.0, 30828.0, 62513.0, 27733.0, 39435.0, 75345.0, 20491.0, 36715.0, 71706.0, 69063.0, 24645.0, 35797.0, 44078.0, 26954.0, 52247.25135379061, 38887.0, 65463.0, 53537.0, 36230.0, 80763.0, 60585.0, 49166.0, 75261.0, 89891.0, 72828.0, 75278.0, 38557.0, 81300.0, 60161.0, 69389.0, 64497.0, 61014.0, 44319.0, 53233.0, 77972.0, 81361.0, 81361.0, 25707.0, 42403.0, 65704.0, 37406.0, 39767.0, 54210.0, 57136.0, 40794.0, 83003.0, 89058.0, 20193.0, 72099.0, 43824.0, 66653.0, 44359.0, 79410.0, 55842.0, 79946.0, 88194.0, 80184.0, 76982.0, 65295.0, 57100.0, 29009.0, 78931.0, 7500.0, 56939.0, 64509.0, 30093.0, 30351.0, 30351.0, 38201.0, 52247.25135379061, 43974.0, 38200.0, 87305.0, 16860.0, 27213.0, 7500.0, 4861.0, 38196.0, 41145.0, 38513.0, 45688.0, 77863.0, 42169.0, 45906.0, 35388.0, 80952.0, 39898.0, 39898.0, 44051.0, 86718.0, 80141.0, 58597.0, 70356.0, 46904.0, 37760.0, 37760.0, 61839.0, 29791.0, 48918.0, 48918.0, 58692.0, 39356.0, 76234.0, 55434.0, 66835.0, 66835.0, 71965.0, 74538.0, 50002.0, 53977.0, 53977.0, 69930.0, 62981.0, 46014.0, 18227.0, 65991.0, 38808.0, 160803.0, 43783.0, 30396.0, 65526.0, 65526.0, 55956.0, 55563.0, 57236.0, 89694.0, 57420.0, 33622.0, 29999.0, 31497.0, 31497.0, 36802.0, 61671.0, 29732.0, 45921.0, 16529.0, 98777.0, 98777.0, 77027.0, 69139.0, 69139.0, 65169.0, 40049.0, 69755.0, 52247.25135379061, 54456.0, 60689.0, 26487.0, 28164.0, 22585.0, 64795.0, 42000.0, 42000.0, 70713.0, 82800.0, 82800.0, 30801.0, 83891.0, 38054.0, 14045.0, 44155.0, 57642.0, 31353.0, 31353.0, 41335.0, 41335.0, 40737.0, 19789.0, 35946.0, 36262.0, 44551.0, 71367.0, 71367.0, 57957.0, 50334.0, 48150.0, 56796.0, 56796.0, 52278.0, 52278.0, 7500.0, 33444.0, 20895.0, 37509.0, 88097.0, 59041.0, 43322.0, 46015.0, 46015.0, 34242.0, 65210.0, 50520.0, 90765.0, 80589.0, 49572.0, 75437.0, 44635.0, 58512.0, 62000.0, 54252.0, 45068.0, 60474.0, 60474.0, 56337.0, 22434.0, 61416.0, 92163.0, 58656.0, 52247.25135379061, 8940.0, 26751.0, 71427.0, 26646.0, 19346.0, 56243.0, 59892.0, 71613.0, 25252.0, 42160.0, 15862.0, 82584.0, 38360.0, 75283.0, 34941.0, 61823.0, 90226.0, 44989.0, 44989.0, 43586.0, 32233.0, 62882.0, 57288.0, 75774.0, 75774.0, 90247.0, 32218.0, 84219.0, 84219.0, 48877.0, 60905.0, 75236.0, 62551.0, 70123.0, 50785.0, 15315.0, 15315.0, 64413.0, 87171.0, 30081.0, 20180.0, 20180.0, 55686.0, 26887.0, 61996.0, 51537.0, 72025.0, 30538.0, 61618.0, 77343.0, 75433.0, 82571.0, 60033.0, 39062.0, 30023.0, 30015.0, 33228.0, 22574.0, 22574.0, 55267.0, 66886.0, 72258.0, 82733.0, 45146.0, 51250.0, 32871.0, 63855.0, 42564.0, 46344.0, 50437.0, 70971.0, 37774.0, 4023.0, 33279.0, 42693.0, 70545.0, 65486.0, 77882.0, 78468.0, 77226.0, 90638.0, 90638.0, 70666.0, 59052.0, 13084.0, 49160.0, 23272.0, 49476.0, 62694.0, 57906.0, 71853.0, 71853.0, 65031.0, 30507.0, 67419.0, 59462.0, 95529.0, 53653.0, 25965.0, 22979.0, 64950.0, 44322.0, 30096.0, 30096.0, 56628.0, 82326.0, 71163.0, 71022.0, 42607.0, 43057.0, 47808.0, 29236.0, 40590.0, 40590.0, 77520.0, 40211.0, 63516.0, 53034.0, 22669.0, 79908.0, 69867.0, 70287.0, 37070.0, 37070.0, 38179.0, 39922.0, 39922.0, 39922.0, 64191.0, 41658.0, 40780.0, 77568.0, 66503.0, 83512.0, 31686.0, 71322.0, 27938.0, 22263.0, 34633.0, 42162.0, 162397.0, 54162.0, 41769.0, 44953.0, 37717.0, 37717.0, 40548.0, 67893.0, 69267.0, 9548.0, 68281.0, 92556.0, 48526.0, 90273.0, 19414.0, 79761.0, 53312.0, 41039.0, 88347.0, 50150.0, 50150.0, 10245.0, 33454.0, 40887.0, 55914.0, 37292.0, 52914.0, 24884.0, 67384.0, 51651.0, 82497.0, 32632.0, 33562.0, 79146.0, 79146.0, 36143.0, 27159.0, 41275.0, 76800.0, 75794.0, 30833.0, 26518.0, 91065.0, 45183.0, 48070.0, 30372.0, 30372.0, 57036.0, 66731.0, 35682.0, 10979.0, 10979.0, 57912.0, 36026.0, 35788.0, 42243.0, 46086.0, 61346.0, 33316.0, 33316.0, 21063.0, 33697.0, 25804.0, 72117.0, 61286.0, 61286.0, 65196.0, 55635.0, 42021.0, 75251.0, 35322.0, 53374.0, 87195.0, 42395.0, 82427.0, 44602.0, 94642.0, 28359.0, 55801.0, 92955.0, 56534.0, 69627.0, 78579.0, 44964.0, 30899.0, 78825.0, 25545.0, 47111.0, 49667.0, 66000.0, 46910.0, 25224.0, 77382.0, 28420.0, 32952.0, 46149.0, 73059.0, 73059.0, 35701.0, 89616.0, 105471.0, 78427.0, 22518.0, 59809.0, 39660.0, 52203.0, 35860.0, 35860.0, 35860.0, 35860.0, 76842.0, 15033.0, 67353.0, 17003.0, 65735.0, 45684.0, 21918.0, 51267.0, 59868.0, 51373.0, 46692.0, 157733.0, 54432.0, 79607.0, 51813.0, 17487.0, 40706.0, 62859.0, 61074.0, 43638.0, 58116.0, 62187.0, 46344.0, 77353.0, 69759.0, 21846.0, 76532.0, 70053.0, 75342.0, 27590.0, 51148.0, 33378.0, 32644.0, 33581.0, 12393.0, 42710.0, 82347.0, 82347.0, 22554.0, 17323.0, 62204.0, 78028.0, 63887.0, 32727.0, 29103.0, 61482.0, 20587.0, 20587.0, 52190.0, 48186.0, 19329.0, 34109.0, 23477.0, 47472.0, 14849.0, 26224.0, 27238.0, 52247.25135379061, 57967.0, 51569.0, 72550.0, 44511.0, 62972.0, 62972.0, 77845.0, 36663.0, 53204.0, 21059.0, 67087.0, 73892.0, 75114.0, 42192.0, 31454.0, 22775.0, 22775.0, 31590.0, 80134.0, 80134.0, 14188.0, 18169.0, 62503.0, 46734.0, 68126.0, 52869.0, 26576.0, 75825.0, 57045.0, 34984.0, 27803.0, 69283.0, 18746.0, 70924.0, 70924.0, 69401.0, 75012.0, 85738.0, 60934.0, 27161.0, 64325.0, 18978.0, 41124.0, 39684.0, 53378.0, 37040.0, 78710.0, 92910.0, 36283.0, 79632.0, 28587.0, 88325.0, 51412.0, 63998.0, 38593.0, 27889.0, 45889.0, 56575.0, 16014.0, 61331.0, 70893.0, 2447.0, 64849.0, 42387.0, 80617.0, 54006.0, 16531.0, 30843.0, 18988.0, 81051.0, 39747.0, 34554.0, 52854.0, 81205.0, 69084.0, 69084.0, 65352.0, 22063.0, 47691.0, 29187.0, 72504.0, 33986.0, 42386.0, 42386.0, 36957.0, 13724.0, 42664.0, 37334.0, 78497.0, 78497.0, 58821.0, 58398.0, 80950.0, 30732.0, 89572.0, 57107.0, 76467.0, 52247.25135379061, 51315.0, 43602.0, 38643.0, 49090.0, 70617.0, 67536.0, 27573.0, 13533.0, 50725.0, 25851.0, 57113.0, 62847.0, 68627.0, 25271.0, 63810.0, 63810.0, 65488.0, 36927.0, 22108.0, 72025.0, 33183.0, 23661.0, 25315.0, 45938.0, 66951.0, 77298.0, 77298.0, 43018.0, 75759.0, 33996.0, 33996.0, 54137.0, 61223.0, 69674.0, 49494.0, 51195.0, 37284.0, 37284.0, 42011.0, 70044.0, 46053.0, 24480.0, 54233.0, 36130.0, 56559.0, 92859.0, 44010.0, 80124.0, 80124.0, 50183.0, 64722.0, 37395.0, 29543.0, 19514.0, 19514.0, 59481.0, 91712.0, 80144.0, 59973.0, 68352.0, 81169.0, 61456.0, 22634.0, 22634.0, 23957.0, 33471.0, 52157.0, 30298.0, 56551.0, 56551.0, 65487.0, 65487.0, 44213.0, 40344.0, 57867.0, 25410.0, 13260.0, 42691.0, 36138.0, 57136.0, 58275.0, 54237.0, 34596.0, 34596.0, 74881.0, 74881.0, 44267.0, 68487.0, 68487.0, 80982.0, 69508.0, 63342.0, 63342.0, 82014.0, 76320.0, 64587.0, 74190.0, 32765.0, 52247.25135379061, 22212.0, 18358.0, 26067.0, 22390.0, 70440.0, 60199.0, 38547.0, 19107.0, 37929.0, 16813.0, 62187.0, 57811.0, 50943.0, 50943.0, 53201.0, 54414.0, 26290.0, 61250.0, 28389.0, 55250.0, 37758.0, 37758.0, 37633.0, 33629.0, 36947.0, 69142.0, 53154.0, 65695.0, 69805.0, 36975.0, 26228.0, 37787.0, 37087.0, 57247.0, 36930.0, 48721.0, 43641.0, 75903.0, 71391.0, 16927.0, 27215.0, 53858.0, 30983.0, 43462.0, 63943.0, 26816.0, 75484.0, 33564.0, 54348.0, 54984.0, 34738.0, 68118.0, 68118.0, 22682.0, 51948.0, 25293.0, 25293.0, 41551.0, 56067.0, 67433.0, 22010.0, 64831.0, 62820.0, 62820.0, 78353.0, 57183.0, 23478.0, 30168.0, 37155.0, 16581.0, 41850.0, 81380.0, 56386.0, 25818.0, 15345.0, 57954.0, 50300.0, 38725.0, 10404.0, 26868.0, 72298.0, 72905.0, 47025.0, 29938.0, 46681.0, 46681.0, 29548.0, 62058.0, 52247.25135379061, 36736.0, 8820.0, 14918.0, 56715.0, 24882.0, 24882.0, 40442.0, 64176.0, 23536.0, 35246.0, 28442.0, 48195.0, 74116.0, 78093.0, 59354.0, 36301.0, 77598.0, 62710.0, 36317.0, 42767.0, 43815.0, 44421.0, 48948.0, 48948.0, 63120.0, 55517.0, 36864.0, 52247.25135379061, 82582.0, 79803.0, 52569.0, 82032.0, 82032.0, 65685.0, 65685.0, 40451.0, 31163.0, 31163.0, 35704.0, 7500.0, 36075.0, 70038.0, 70038.0, 71796.0, 47821.0, 45503.0, 28647.0, 37760.0, 85431.0, 72635.0, 72635.0, 77142.0, 53172.0, 36065.0, 73926.0, 35790.0, 39552.0, 68316.0, 102160.0, 51390.0, 72066.0, 21675.0, 48006.0, 65106.0, 58401.0, 29315.0, 49389.0, 51717.0, 46779.0, 28520.0, 34377.0, 54959.0, 82384.0, 46998.0, 58554.0, 58554.0, 57333.0, 80685.0, 52117.0, 62220.0, 64014.0, 64014.0, 46390.0, 75507.0, 75507.0, 59412.0, 50616.0, 35924.0, 57937.0, 73356.0, 21255.0, 58494.0, 72460.0, 68682.0, 68682.0, 36959.0, 46463.0, 61825.0, 61825.0, 28691.0, 28691.0, 54058.0, 84196.0, 38620.0, 38620.0, 3502.0, 47743.0, 80360.0, 66303.0, 52413.0, 60714.0, 31385.0, 83257.0, 80427.0, 38823.0, 42014.0, 42014.0, 76140.0, 41713.0, 62670.0, 70932.0, 78939.0, 44512.0, 63967.0, 90842.0, 25358.0, 52247.25135379061, 28567.0, 66373.0, 66373.0, 83844.0, 83844.0, 83844.0, 83664.0, 27450.0, 54880.0, 71322.0, 60000.0, 65176.0, 61010.0, 31089.0, 20518.0, 34469.0, 28332.0, 33456.0, 38443.0, 65333.0, 82623.0, 73691.0, 74485.0, 65748.0, 24367.0, 91700.0, 79244.0, 82017.0, 58138.0, 59354.0, 58482.0, 29478.0, 64474.0, 31160.0, 40321.0, 40321.0, 55239.0, 57513.0, 85693.0, 71855.0, 7500.0, 71969.0, 28973.0, 80872.0, 84117.0, 38741.0, 38961.0, 75922.0, 56962.0, 56962.0, 70165.0, 65308.0, 29298.0, 63246.0, 33402.0, 96843.0, 82333.0, 72643.0, 32313.0, 55284.0, 15287.0, 15287.0, 51563.0, 81929.0, 53593.0, 60432.0, 66726.0, 62450.0, 49514.0, 43269.0, 33762.0, 60894.0, 87771.0, 87771.0, 50737.0, 26150.0, 57304.0, 71107.0, 53253.0, 81320.0, 87000.0, 40049.0, 63684.0, 69016.0, 7500.0, 73803.0, 46094.0, 85844.0, 38452.0, 38452.0, 80395.0, 87679.0, 35416.0, 44124.0, 50729.0, 94384.0, 94384.0, 34412.0, 31158.0, 34838.0, 56775.0, 54356.0, 72159.0, 8028.0, 55951.0, 67911.0, 67911.0, 20427.0, 32303.0, 55954.0, 49187.0, 49854.0, 63693.0, 63693.0, 19510.0, 52332.0, 55593.0, 54591.0, 74859.0, 40851.0, 58607.0, 7500.0, 52614.0, 52614.0, 67445.0, 67445.0, 67445.0, 36778.0, 39453.0, 42731.0, 40760.0, 69969.0, 80317.0, 66636.0, 54730.0, 42835.0, 53843.0, 79530.0, 63841.0, 63841.0, 63841.0, 27100.0, 27100.0, 72309.0, 50664.0, 20194.0, 76618.0, 45207.0, 56721.0, 27038.0, 23763.0, 37085.0, 49605.0, 1730.0, 34824.0, 34824.0, 63206.0, 26759.0, 55412.0, 33590.0, 70886.0, 72679.0, 65073.0, 44300.0, 56129.0, 56129.0, 38590.0, 53083.0, 79689.0, 34704.0, 65316.0, 41014.0, 19740.0, 23724.0, 55212.0, 55212.0, 79800.0, 70647.0, 38410.0, 28071.0, 54803.0, 74293.0, 74293.0, 35684.0, 34320.0, 41967.0, 49681.0, 49681.0, 53187.0, 86610.0, 70951.0, 24206.0, 55357.0, 58113.0, 70643.0, 64355.0, 82576.0, 41644.0, 72570.0, 30630.0, 22944.0, 86979.0, 52247.25135379061, 82072.0, 52034.0, 72354.0, 28427.0, 28427.0, 39858.0, 67381.0, 23529.0, 51479.0, 76068.0, 22507.0, 52413.0, 50116.0, 76624.0, 34587.0, 62159.0, 66294.0, 5648.0, 37235.0, 85620.0, 23976.0, 41020.0, 36108.0, 57530.0, 62905.0, 65846.0, 34380.0, 41638.0, 63207.0, 28320.0, 43140.0, 52531.0, 40246.0, 35196.0, 35196.0, 70596.0, 70596.0, 52597.0, 42394.0, 81657.0, 49154.0, 34074.0, 52247.25135379061, 70638.0, 38136.0, 67432.0, 40689.0, 40689.0, 101970.0, 44325.0, 61467.0, 48178.0, 16005.0, 79593.0, 79593.0, 61180.0, 64449.0, 77437.0, 17649.0, 53103.0, 71819.0, 74290.0, 72282.0, 47352.0, 47352.0, 46524.0, 50200.0, 18222.0, 77610.0, 38097.0, 44377.0, 58684.0, 66480.0, 49638.0, 50616.0, 26642.0, 33235.0, 23228.0, 36732.0, 82657.0, 64140.0, 44392.0, 16185.0, 38702.0, 54072.0, 61787.0, 34935.0, 34935.0, 59292.0, 59292.0, 57959.0, 92491.0, 42207.0, 46984.0, 23442.0, 46757.0, 14515.0, 80910.0, 30545.0, 44802.0, 79941.0, 79734.0, 50353.0, 77376.0, 78075.0, 42473.0, 25008.0, 56223.0, 47850.0, 91820.0, 40637.0, 23295.0, 84574.0, 54165.0, 28510.0, 67131.0, 56242.0, 86580.0, 76005.0, 54693.0, 52750.0, 36997.0, 34230.0, 47916.0, 60839.0, 79930.0, 55158.0, 85485.0, 75865.0, 44375.0, 60504.0, 65492.0, 67506.0, 68805.0, 61209.0, 66825.0, 87188.0, 84953.0, 74637.0, 86111.0, 77632.0, 31814.0, 70116.0, 48240.0, 40101.0, 70503.0, 79205.0, 51766.0, 62994.0, 65640.0, 38361.0, 38361.0, 19986.0, 19986.0, 72903.0, 45072.0, 59062.0, 61794.0, 45143.0, 45143.0, 26877.0, 36921.0, 54342.0, 62772.0, 75032.0, 22419.0, 22419.0, 36550.0, 75027.0, 63159.0, 54108.0, 81795.0, 59594.0, 18492.0, 94472.0, 70337.0, 34853.0, 52247.25135379061, 16269.0, 50272.0, 22804.0, 22804.0, 30631.0, 78420.0, 81741.0, 25721.0, 31907.0, 37859.0, 30261.0, 21645.0, 21282.0, 32144.0, 62637.0, 16626.0, 54690.0, 54690.0, 61284.0, 23718.0, 33419.0, 82025.0, 15056.0, 48192.0, 67309.0, 66033.0, 28769.0, 6835.0, 32880.0, 23616.0, 19419.0, 34961.0, 64892.0, 16248.0, 43776.0, 52074.0, 22123.0, 35544.0, 59060.0, 65665.0, 29819.0, 81217.0, 81217.0, 26095.0, 65706.0, 31859.0, 93027.0, 58710.0, 49618.0, 58308.0, 40800.0, 18690.0, 18690.0, 18690.0, 28087.0, 75702.0, 32892.0, 32892.0, 89120.0, 27116.0, 46107.0, 54466.0, 59686.0, 82460.0, 76045.0, 83829.0, 83829.0, 32889.0, 33462.0, 36627.0, 28718.0, 77981.0, 60230.0, 74918.0, 40464.0, 64857.0, 64857.0, 63381.0, 63381.0, 66664.0, 66664.0, 86358.0, 41443.0, 57072.0, 54178.0, 48767.0, 51124.0, 43020.0, 49980.0, 72906.0, 25176.0, 96876.0, 31086.0, 24072.0, 76773.0, 72190.0, 83837.0, 17345.0, 75154.0, 28249.0, 28249.0, 69661.0, 27922.0, 45903.0, 36273.0, 70777.0, 17148.0, 66476.0, 45057.0, 41120.0, 52247.25135379061, 19485.0, 21840.0, 41473.0, 31395.0, 68117.0, 47682.0, 83151.0, 58086.0, 84460.0, 66565.0, 23910.0, 35893.0, 71128.0, 38683.0, 37150.0, 61064.0, 51650.0, 55249.0, 46854.0, 14421.0, 54132.0, 153924.0, 64813.0, 61872.0, 58025.0, 83790.0, 34350.0, 33438.0, 21955.0, 60491.0, 59304.0, 34421.0, 34421.0, 51411.0, 71964.0, 64504.0, 49678.0, 60482.0, 55260.0, 67369.0, 47175.0, 68743.0, 56937.0, 83033.0, 37697.0, 37697.0, 44689.0, 23162.0, 63033.0, 40304.0, 40059.0, 80067.0, 36038.0, 52247.25135379061, 40521.0, 66334.0, 11012.0, 31615.0, 52247.25135379061, 69098.0, 70792.0, 17688.0, 25443.0, 57091.0, 24336.0, 51111.0, 44503.0, 56850.0, 66582.0, 23148.0, 82224.0, 61917.0, 43482.0, 68274.0, 42373.0, 52247.25135379061, 57537.0, 80995.0, 30992.0, 30992.0, 78642.0, 74268.0, 75072.0, 56253.0, 59925.0, 62807.0, 62807.0, 23626.0, 46106.0, 81168.0, 27244.0, 26091.0, 26091.0, 43142.0, 38232.0, 92533.0, 63285.0, 38946.0, 38946.0, 40233.0, 46831.0, 67605.0, 70379.0, 77297.0, 55759.0, 58217.0, 51369.0, 51369.0, 91249.0, 52513.0, 44159.0, 76081.0, 76081.0, 39996.0, 55012.0, 77457.0, 80695.0, 71866.0, 73450.0, 55614.0, 156924.0, 30753.0, 54603.0, 22280.0, 59385.0, 76998.0, 80573.0, 80573.0, 24711.0, 38829.0, 71466.0, 28839.0, 53790.0, 73705.0, 22448.0, 12571.0, 73113.0, 35765.0, 46734.0, 66313.0, 68148.0, 44393.0, 38197.0, 51012.0, 51012.0, 13672.0, 41452.0, 42081.0, 14906.0, 33812.0, 46098.0, 46098.0, 46098.0, 53230.0, 88420.0, 39548.0, 61278.0, 81246.0, 58330.0, 58330.0, 65777.0, 70829.0, 52247.25135379061, 59247.0, 25930.0, 54753.0, 28440.0, 23559.0, 62335.0, 63777.0, 59666.0, 50965.0, 71488.0, 72228.0, 46231.0, 75702.0, 43300.0, 78618.0, 52247.25135379061, 29760.0, 29760.0, 50127.0, 29604.0, 49413.0, 51876.0, 45837.0, 85696.0, 85696.0, 59432.0, 43185.0, 60631.0, 20559.0, 50898.0, 73807.0, 14661.0, 36807.0, 46772.0, 81574.0, 30772.0, 46377.0, 78128.0, 83443.0, 50523.0, 47009.0, 37054.0, 32011.0, 82122.0, 70300.0, 21024.0, 34916.0, 27943.0, 39791.0, 62745.0, 18589.0, 85606.0, 26997.0, 82332.0, 38853.0, 27071.0, 90933.0, 65814.0, 74250.0, 33181.0, 45006.0, 42315.0, 48699.0, 59111.0, 48726.0, 37244.0, 74854.0, 60896.0, 67546.0, 67546.0, 46923.0, 38988.0, 49118.0, 27683.0, 39190.0, 56981.0, 23228.0, 90000.0, 55707.0, 9255.0, 42997.0, 71232.0, 57744.0, 33585.0, 46891.0, 46891.0, 50387.0, 76653.0, 76542.0, 76995.0, 38415.0, 22304.0, 75127.0, 75127.0, 39722.0, 7144.0, 39771.0, 42618.0, 51518.0, 74716.0, 33955.0, 45736.0, 31632.0, 60093.0, 30822.0, 41728.0, 80739.0, 49767.0, 34445.0, 67046.0, 73538.0, 80398.0, 52973.0, 38998.0, 38998.0, 26490.0, 26490.0, 23331.0, 60544.0, 60544.0, 49269.0, 27203.0, 45204.0, 67023.0, 77583.0, 76630.0, 47353.0, 48920.0, 67472.0, 64100.0, 38872.0, 72217.0, 15038.0, 13624.0, 42554.0, 71952.0, 71952.0, 78041.0, 63972.0, 52852.0, 62010.0, 83151.0, 77870.0, 46931.0, 85072.0, 73395.0, 62307.0, 58293.0, 47889.0, 24594.0, 24594.0, 69882.0, 24221.0, 22327.0, 61923.0, 35791.0, 35791.0, 91172.0, 35441.0, 19656.0, 7500.0, 71626.0, 75330.0, 34529.0, 48789.0, 34487.0, 35688.0, 35688.0, 53700.0, 73454.0, 71113.0, 52247.25135379061, 31535.0, 80812.0, 40479.0, 29440.0, 38508.0, 69520.0, 18701.0, 18701.0, 69901.0, 47703.0, 86037.0, 71847.0, 42033.0, 51983.0, 68655.0, 68655.0, 38285.0, 79419.0, 57338.0, 42523.0, 42523.0, 31761.0, 65747.0, 17144.0, 17144.0, 52247.25135379061, 84618.0, 84618.0, 66375.0, 42213.0, 52247.25135379061, 51141.0, 15072.0, 7500.0, 17117.0, 59754.0, 65569.0, 28457.0, 86857.0, 86857.0, 68142.0, 48794.0, 63404.0, 49669.0, 55761.0, 78331.0, 37971.0, 30368.0, 34043.0, 54111.0, 69932.0, 39665.0, 93404.0, 38680.0, 24570.0, 77766.0, 77766.0, 64961.0, 23748.0, 45989.0, 23331.0, 70421.0, 23091.0, 24683.0, 157243.0, 54222.0, 73455.0, 84906.0, 84906.0, 47025.0, 44529.0, 31560.0, 90687.0, 66973.0, 41154.0, 64590.0, 50611.0, 50611.0, 83273.0, 81702.0, 24401.0, 42557.0, 7500.0, 78416.0, 44794.0, 44794.0, 69719.0, 62568.0, 42231.0, 20130.0, 20130.0, 42429.0, 36640.0, 78901.0, 66476.0, 31056.0, 46310.0, 65819.0, 94871.0], \"xaxis\": \"x\", \"y\": [111, 7, 15, 0, 11, 240, 15, 0, 21, 21, 73, 0, 80, 3, 2, 13, 13, 0, 2, 0, 4, 25, 0, 0, 65, 0, 8, 8, 0, 50, 13, 73, 0, 0, 0, 106, 138, 0, 43, 97, 6, 38, 30, 13, 7, 20, 6, 0, 0, 0, 7, 189, 0, 224, 16, 0, 0, 6, 150, 32, 4, 0, 2, 0, 10, 0, 30, 134, 3, 3, 193, 180, 0, 20, 140, 137, 6, 28, 27, 3, 106, 106, 0, 19, 0, 15, 4, 0, 98, 0, 10, 168, 2, 63, 76, 6, 6, 0, 82, 39, 0, 205, 4, 4, 4, 0, 0, 0, 86, 52, 6, 2, 6, 10, 2, 46, 13, 13, 111, 84, 7, 172, 8, 8, 4, 4, 3, 19, 119, 150, 150, 80, 3, 3, 49, 229, 4, 42, 25, 0, 2, 29, 32, 116, 13, 7, 3, 3, 0, 32, 32, 114, 45, 0, 17, 2, 0, 0, 4, 4, 86, 0, 0, 82, 8, 20, 84, 10, 11, 259, 127, 19, 10, 134, 33, 78, 13, 130, 11, 3, 0, 0, 6, 0, 2, 0, 3, 80, 145, 2, 218, 15, 12, 110, 76, 32, 0, 0, 62, 13, 50, 15, 62, 8, 8, 71, 8, 33, 247, 2, 1, 15, 20, 4, 3, 11, 7, 4, 19, 51, 8, 28, 0, 0, 4, 16, 28, 91, 4, 3, 0, 33, 26, 0, 15, 7, 13, 6, 23, 8, 29, 3, 0, 65, 0, 0, 2, 50, 69, 69, 2, 13, 0, 34, 2, 2, 72, 124, 124, 52, 13, 11, 0, 0, 4, 8, 3, 12, 12, 19, 8, 0, 0, 8, 116, 15, 65, 71, 2, 19, 19, 3, 65, 99, 4, 185, 19, 19, 19, 89, 28, 47, 50, 182, 3, 160, 6, 0, 0, 1, 69, 69, 136, 2, 20, 42, 6, 64, 21, 0, 4, 16, 0, 168, 168, 3, 49, 11, 8, 175, 0, 0, 10, 162, 17, 2, 34, 73, 3, 3, 216, 4, 4, 2, 15, 145, 3, 3, 142, 13, 207, 6, 41, 32, 6, 4, 0, 6, 140, 15, 0, 78, 11, 39, 7, 0, 0, 8, 3, 101, 2, 23, 23, 23, 23, 2, 4, 2, 10, 10, 108, 0, 4, 0, 0, 6, 89, 3, 0, 6, 3, 2, 0, 26, 0, 99, 4, 21, 91, 69, 4, 4, 2, 0, 0, 0, 21, 0, 8, 192, 55, 7, 23, 59, 19, 150, 4, 32, 46, 69, 42, 182, 0, 3, 33, 27, 27, 3, 0, 38, 2, 34, 80, 34, 4, 40, 31, 24, 119, 12, 16, 7, 123, 0, 166, 201, 25, 65, 34, 39, 10, 58, 3, 90, 24, 13, 3, 3, 0, 3, 0, 0, 63, 3, 10, 13, 1, 0, 0, 16, 0, 16, 0, 4, 4, 41, 12, 12, 6, 50, 52, 10, 43, 0, 150, 150, 224, 0, 0, 0, 4, 0, 130, 169, 34, 34, 50, 110, 21, 0, 0, 219, 38, 19, 4, 25, 3, 17, 25, 0, 12, 12, 50, 2, 2, 37, 0, 3, 10, 13, 13, 0, 0, 0, 24, 13, 125, 125, 45, 33, 33, 0, 0, 111, 10, 10, 63, 12, 11, 13, 38, 85, 85, 82, 59, 59, 15, 111, 2, 2, 0, 8, 3, 3, 16, 16, 0, 28, 0, 64, 0, 42, 42, 77, 84, 3, 62, 62, 0, 0, 15, 0, 3, 12, 0, 2, 10, 0, 0, 0, 0, 2, 151, 242, 0, 95, 0, 13, 0, 8, 0, 234, 234, 28, 3, 201, 106, 16, 17, 4, 0, 15, 10, 3, 4, 0, 111, 2, 3, 11, 29, 20, 12, 4, 37, 253, 49, 49, 4, 25, 78, 0, 258, 258, 21, 13, 45, 45, 2, 36, 12, 134, 23, 0, 15, 15, 0, 58, 0, 15, 15, 37, 3, 0, 0, 151, 8, 0, 98, 0, 62, 19, 0, 7, 2, 7, 2, 2, 32, 41, 227, 65, 0, 34, 0, 93, 39, 8, 6, 93, 7, 1, 0, 6, 55, 37, 188, 104, 128, 94, 94, 119, 63, 3, 25, 4, 54, 25, 10, 141, 141, 84, 38, 91, 0, 250, 28, 41, 20, 12, 3, 12, 12, 7, 159, 138, 0, 30, 0, 2, 16, 6, 6, 0, 2, 15, 15, 37, 29, 33, 121, 4, 4, 4, 19, 19, 19, 151, 15, 13, 232, 65, 80, 0, 24, 2, 0, 0, 2, 2, 6, 32, 11, 4, 4, 2, 49, 95, 10, 42, 184, 43, 120, 3, 15, 0, 179, 77, 65, 65, 6, 3, 10, 119, 10, 30, 0, 158, 13, 216, 153, 0, 21, 21, 0, 0, 0, 35, 63, 3, 3, 179, 12, 6, 7, 7, 19, 58, 6, 2, 2, 0, 6, 3, 0, 7, 43, 4, 4, 19, 0, 13, 65, 19, 19, 12, 50, 7, 97, 12, 13, 50, 24, 104, 0, 106, 2, 6, 31, 10, 171, 216, 2, 0, 169, 16, 120, 17, 101, 0, 11, 112, 2, 3, 4, 0, 0, 7, 145, 202, 180, 2, 32, 20, 56, 4, 4, 4, 4, 84, 6, 0, 4, 4, 10, 11, 7, 54, 64, 24, 2, 0, 173, 0, 7, 4, 16, 0, 7, 4, 0, 2, 69, 13, 6, 90, 81, 21, 0, 8, 3, 0, 0, 11, 4, 202, 202, 0, 6, 151, 25, 15, 86, 6, 16, 4, 4, 0, 12, 12, 2, 3, 0, 3, 13, 0, 26, 4, 6, 50, 46, 20, 20, 0, 3, 2, 3, 130, 0, 63, 17, 0, 0, 0, 6, 104, 104, 16, 0, 110, 26, 23, 2, 0, 137, 11, 3, 38, 0, 12, 132, 132, 58, 164, 17, 192, 7, 78, 4, 15, 6, 8, 69, 119, 179, 8, 99, 12, 93, 4, 0, 17, 0, 0, 0, 7, 0, 77, 1, 94, 19, 72, 6, 7, 0, 2, 38, 20, 2, 0, 97, 39, 39, 4, 3, 0, 0, 123, 2, 0, 0, 2, 2, 0, 2, 75, 75, 19, 21, 219, 0, 197, 0, 210, 2, 16, 10, 0, 7, 40, 23, 39, 8, 0, 7, 0, 80, 60, 10, 16, 16, 36, 0, 6, 43, 17, 0, 11, 62, 173, 23, 23, 7, 89, 8, 8, 0, 42, 11, 0, 82, 2, 2, 2, 153, 19, 28, 21, 68, 41, 52, 86, 205, 205, 13, 60, 0, 3, 2, 2, 71, 94, 250, 20, 43, 80, 84, 8, 8, 20, 0, 3, 6, 17, 17, 199, 199, 0, 0, 15, 13, 10, 38, 0, 21, 56, 4, 0, 0, 36, 36, 3, 33, 33, 104, 42, 13, 13, 35, 69, 0, 168, 7, 2, 6, 16, 0, 15, 76, 2, 0, 10, 3, 12, 45, 37, 2, 2, 20, 24, 11, 60, 7, 32, 0, 0, 0, 0, 4, 6, 0, 0, 13, 0, 3, 4, 15, 37, 0, 47, 4, 130, 46, 3, 8, 58, 12, 15, 13, 3, 197, 0, 0, 32, 3, 10, 10, 4, 71, 0, 0, 3, 16, 12, 3, 75, 138, 138, 39, 7, 12, 0, 7, 2, 2, 224, 13, 2, 3, 0, 24, 2, 10, 8, 58, 181, 20, 0, 15, 15, 3, 10, 94, 0, 4, 15, 237, 29, 29, 25, 64, 0, 2, 11, 52, 145, 13, 3, 3, 129, 7, 3, 19, 4, 7, 160, 160, 54, 0, 17, 12, 156, 21, 0, 149, 149, 0, 0, 0, 11, 11, 2, 12, 12, 71, 71, 167, 6, 6, 0, 2, 168, 104, 104, 29, 68, 10, 159, 30, 4, 120, 76, 23, 134, 17, 3, 12, 17, 8, 2, 0, 0, 0, 3, 0, 180, 45, 38, 38, 76, 34, 30, 16, 0, 0, 2, 104, 104, 30, 0, 2, 55, 0, 2, 4, 80, 99, 99, 6, 8, 55, 55, 8, 8, 32, 231, 34, 34, 0, 0, 112, 16, 75, 101, 0, 38, 69, 2, 4, 4, 17, 10, 80, 46, 150, 0, 73, 182, 0, 2, 2, 12, 12, 75, 75, 75, 28, 8, 102, 69, 0, 220, 0, 2, 4, 0, 4, 8, 0, 0, 172, 85, 173, 95, 0, 125, 212, 30, 172, 39, 19, 3, 56, 6, 6, 6, 23, 52, 185, 0, 11, 0, 3, 94, 59, 8, 0, 224, 10, 10, 199, 120, 2, 29, 10, 40, 46, 123, 2, 0, 4, 4, 0, 49, 6, 4, 0, 62, 58, 0, 2, 10, 50, 50, 0, 3, 138, 198, 20, 59, 67, 10, 208, 123, 3, 52, 3, 25, 0, 0, 80, 97, 4, 0, 45, 160, 160, 4, 20, 29, 58, 20, 34, 7, 0, 63, 63, 0, 0, 0, 2, 39, 42, 42, 3, 7, 11, 12, 133, 0, 0, 8, 12, 12, 29, 29, 29, 2, 0, 6, 0, 38, 149, 84, 4, 12, 19, 129, 20, 20, 20, 2, 2, 50, 6, 11, 121, 0, 6, 17, 6, 2, 12, 1, 2, 2, 11, 8, 11, 0, 103, 127, 69, 0, 39, 39, 4, 3, 180, 0, 3, 2, 10, 0, 0, 0, 32, 25, 116, 41, 28, 93, 93, 0, 3, 0, 0, 0, 7, 33, 254, 3, 84, 102, 23, 67, 168, 2, 151, 2, 4, 65, 52, 168, 7, 220, 3, 3, 2, 11, 3, 6, 33, 51, 56, 0, 54, 2, 77, 65, 1, 4, 60, 2, 7, 3, 6, 119, 80, 13, 4, 91, 3, 6, 51, 2, 43, 43, 17, 17, 7, 0, 158, 30, 10, 60, 16, 0, 177, 39, 39, 44, 0, 0, 6, 20, 110, 110, 6, 137, 29, 0, 11, 0, 0, 90, 8, 8, 26, 8, 12, 21, 0, 0, 28, 20, 3, 0, 2, 2, 6, 10, 246, 0, 7, 21, 13, 0, 78, 3, 3, 19, 19, 43, 29, 3, 2, 8, 0, 6, 67, 19, 13, 227, 23, 67, 16, 34, 0, 6, 16, 20, 76, 0, 2, 38, 15, 0, 93, 11, 26, 240, 23, 90, 8, 0, 0, 223, 67, 4, 44, 156, 7, 6, 210, 33, 17, 119, 29, 49, 63, 146, 36, 0, 4, 95, 64, 26, 0, 179, 6, 4, 20, 20, 20, 0, 0, 0, 7, 3, 54, 11, 11, 20, 3, 11, 43, 47, 19, 19, 123, 133, 89, 8, 27, 0, 2, 108, 25, 2, 164, 3, 43, 2, 2, 4, 91, 58, 3, 175, 2, 0, 4, 4, 0, 4, 21, 7, 7, 20, 15, 0, 48, 21, 153, 149, 46, 10, 2, 7, 3, 16, 4, 32, 3, 2, 0, 34, 4, 36, 106, 2, 146, 146, 3, 13, 8, 55, 0, 4, 10, 8, 23, 23, 23, 13, 45, 2, 2, 72, 2, 16, 0, 34, 52, 17, 186, 186, 4, 0, 0, 11, 16, 39, 25, 7, 210, 210, 33, 33, 220, 220, 82, 25, 0, 4, 3, 0, 4, 13, 71, 0, 40, 3, 3, 86, 172, 86, 17, 160, 2, 2, 32, 2, 2, 3, 0, 13, 25, 3, 0, 3, 0, 0, 15, 0, 0, 97, 137, 0, 106, 65, 7, 0, 20, 84, 49, 0, 2, 2, 7, 3, 0, 1, 179, 36, 11, 42, 2, 3, 17, 12, 80, 6, 6, 0, 180, 16, 3, 37, 11, 37, 6, 175, 11, 237, 11, 11, 0, 19, 225, 0, 28, 27, 0, 0, 0, 0, 7, 6, 0, 145, 104, 3, 8, 6, 8, 6, 0, 2, 16, 6, 138, 2, 6, 23, 3, 0, 51, 73, 7, 7, 46, 97, 0, 7, 19, 10, 10, 0, 2, 147, 3, 8, 8, 2, 7, 110, 50, 6, 6, 0, 6, 184, 65, 48, 10, 3, 0, 0, 71, 104, 24, 63, 63, 0, 0, 15, 193, 103, 90, 8, 1, 0, 17, 3, 0, 69, 60, 60, 6, 0, 78, 0, 28, 258, 23, 2, 50, 0, 6, 10, 37, 2, 2, 2, 2, 2, 0, 54, 7, 30, 0, 0, 0, 136, 99, 3, 2, 61, 104, 104, 28, 72, 98, 19, 2, 7, 0, 7, 85, 15, 23, 8, 40, 30, 0, 145, 2, 212, 2, 7, 7, 4, 7, 3, 28, 17, 116, 116, 25, 16, 0, 3, 55, 71, 6, 0, 197, 46, 2, 4, 16, 55, 4, 59, 0, 2, 151, 60, 6, 33, 4, 13, 28, 15, 219, 133, 51, 0, 0, 62, 10, 75, 0, 16, 17, 2, 28, 4, 0, 58, 60, 150, 150, 102, 12, 99, 12, 19, 32, 7, 94, 30, 2, 0, 34, 0, 13, 29, 29, 12, 219, 0, 0, 4, 0, 46, 46, 2, 5, 2, 13, 17, 13, 23, 20, 11, 16, 2, 3, 39, 55, 208, 23, 99, 207, 12, 0, 0, 21, 21, 0, 3, 3, 11, 4, 29, 11, 250, 40, 8, 8, 8, 0, 3, 55, 19, 2, 0, 52, 52, 72, 0, 11, 6, 120, 65, 3, 194, 20, 10, 46, 0, 10, 10, 132, 2, 2, 3, 0, 0, 0, 2, 6, 4, 94, 93, 3, 7, 24, 12, 12, 69, 56, 11, 12, 0, 210, 2, 10, 25, 121, 10, 10, 102, 13, 29, 55, 2, 10, 75, 75, 2, 20, 11, 3, 3, 16, 23, 0, 0, 6, 21, 21, 0, 4, 38, 0, 0, 4, 30, 4, 20, 29, 133, 133, 91, 3, 11, 11, 0, 160, 2, 2, 3, 8, 150, 0, 20, 15, 11, 115, 115, 75, 12, 28, 24, 75, 0, 6, 1, 3, 186, 99, 99, 23, 17, 4, 23, 147, 2, 36, 6, 6, 16, 28, 10, 0, 13, 188, 0, 0, 177, 80, 0, 7, 7, 2, 7, 33, 47, 3, 15, 149, 188], \"yaxis\": \"y\"}],                        {\"legend\": {\"tracegroupgap\": 0}, \"margin\": {\"t\": 60}, \"template\": {\"data\": {\"bar\": [{\"error_x\": {\"color\": \"#2a3f5f\"}, \"error_y\": {\"color\": \"#2a3f5f\"}, \"marker\": {\"line\": {\"color\": \"#E5ECF6\", \"width\": 0.5}}, \"type\": \"bar\"}], \"barpolar\": [{\"marker\": {\"line\": {\"color\": \"#E5ECF6\", \"width\": 0.5}}, \"type\": \"barpolar\"}], \"carpet\": [{\"aaxis\": {\"endlinecolor\": \"#2a3f5f\", \"gridcolor\": \"white\", \"linecolor\": \"white\", \"minorgridcolor\": \"white\", \"startlinecolor\": \"#2a3f5f\"}, \"baxis\": {\"endlinecolor\": \"#2a3f5f\", \"gridcolor\": \"white\", \"linecolor\": \"white\", \"minorgridcolor\": \"white\", \"startlinecolor\": \"#2a3f5f\"}, \"type\": \"carpet\"}], \"choropleth\": [{\"colorbar\": {\"outlinewidth\": 0, \"ticks\": \"\"}, \"type\": \"choropleth\"}], \"contour\": [{\"colorbar\": {\"outlinewidth\": 0, \"ticks\": \"\"}, \"colorscale\": [[0.0, \"#0d0887\"], [0.1111111111111111, \"#46039f\"], [0.2222222222222222, \"#7201a8\"], [0.3333333333333333, \"#9c179e\"], [0.4444444444444444, \"#bd3786\"], [0.5555555555555556, \"#d8576b\"], [0.6666666666666666, \"#ed7953\"], [0.7777777777777778, \"#fb9f3a\"], [0.8888888888888888, \"#fdca26\"], [1.0, \"#f0f921\"]], \"type\": \"contour\"}], \"contourcarpet\": [{\"colorbar\": {\"outlinewidth\": 0, \"ticks\": \"\"}, \"type\": \"contourcarpet\"}], \"heatmap\": [{\"colorbar\": {\"outlinewidth\": 0, \"ticks\": \"\"}, \"colorscale\": [[0.0, \"#0d0887\"], [0.1111111111111111, \"#46039f\"], [0.2222222222222222, \"#7201a8\"], [0.3333333333333333, \"#9c179e\"], [0.4444444444444444, \"#bd3786\"], [0.5555555555555556, \"#d8576b\"], [0.6666666666666666, \"#ed7953\"], [0.7777777777777778, \"#fb9f3a\"], [0.8888888888888888, \"#fdca26\"], [1.0, \"#f0f921\"]], \"type\": \"heatmap\"}], \"heatmapgl\": [{\"colorbar\": {\"outlinewidth\": 0, \"ticks\": \"\"}, \"colorscale\": [[0.0, \"#0d0887\"], [0.1111111111111111, \"#46039f\"], [0.2222222222222222, \"#7201a8\"], [0.3333333333333333, \"#9c179e\"], [0.4444444444444444, \"#bd3786\"], [0.5555555555555556, \"#d8576b\"], [0.6666666666666666, \"#ed7953\"], [0.7777777777777778, \"#fb9f3a\"], [0.8888888888888888, \"#fdca26\"], [1.0, \"#f0f921\"]], \"type\": \"heatmapgl\"}], \"histogram\": [{\"marker\": {\"colorbar\": {\"outlinewidth\": 0, \"ticks\": \"\"}}, \"type\": \"histogram\"}], \"histogram2d\": [{\"colorbar\": {\"outlinewidth\": 0, \"ticks\": \"\"}, \"colorscale\": [[0.0, \"#0d0887\"], [0.1111111111111111, \"#46039f\"], [0.2222222222222222, \"#7201a8\"], [0.3333333333333333, \"#9c179e\"], [0.4444444444444444, \"#bd3786\"], [0.5555555555555556, \"#d8576b\"], [0.6666666666666666, \"#ed7953\"], [0.7777777777777778, \"#fb9f3a\"], [0.8888888888888888, \"#fdca26\"], [1.0, \"#f0f921\"]], \"type\": \"histogram2d\"}], \"histogram2dcontour\": [{\"colorbar\": {\"outlinewidth\": 0, \"ticks\": \"\"}, \"colorscale\": [[0.0, \"#0d0887\"], [0.1111111111111111, \"#46039f\"], [0.2222222222222222, \"#7201a8\"], [0.3333333333333333, \"#9c179e\"], [0.4444444444444444, \"#bd3786\"], [0.5555555555555556, \"#d8576b\"], [0.6666666666666666, \"#ed7953\"], [0.7777777777777778, \"#fb9f3a\"], [0.8888888888888888, \"#fdca26\"], [1.0, \"#f0f921\"]], \"type\": \"histogram2dcontour\"}], \"mesh3d\": [{\"colorbar\": {\"outlinewidth\": 0, \"ticks\": \"\"}, \"type\": \"mesh3d\"}], \"parcoords\": [{\"line\": {\"colorbar\": {\"outlinewidth\": 0, \"ticks\": \"\"}}, \"type\": \"parcoords\"}], \"pie\": [{\"automargin\": true, \"type\": \"pie\"}], \"scatter\": [{\"marker\": {\"colorbar\": {\"outlinewidth\": 0, \"ticks\": \"\"}}, \"type\": \"scatter\"}], \"scatter3d\": [{\"line\": {\"colorbar\": {\"outlinewidth\": 0, \"ticks\": \"\"}}, \"marker\": {\"colorbar\": {\"outlinewidth\": 0, \"ticks\": \"\"}}, \"type\": \"scatter3d\"}], \"scattercarpet\": [{\"marker\": {\"colorbar\": {\"outlinewidth\": 0, \"ticks\": \"\"}}, \"type\": \"scattercarpet\"}], \"scattergeo\": [{\"marker\": {\"colorbar\": {\"outlinewidth\": 0, \"ticks\": \"\"}}, \"type\": \"scattergeo\"}], \"scattergl\": [{\"marker\": {\"colorbar\": {\"outlinewidth\": 0, \"ticks\": \"\"}}, \"type\": \"scattergl\"}], \"scattermapbox\": [{\"marker\": {\"colorbar\": {\"outlinewidth\": 0, \"ticks\": \"\"}}, \"type\": \"scattermapbox\"}], \"scatterpolar\": [{\"marker\": {\"colorbar\": {\"outlinewidth\": 0, \"ticks\": \"\"}}, \"type\": \"scatterpolar\"}], \"scatterpolargl\": [{\"marker\": {\"colorbar\": {\"outlinewidth\": 0, \"ticks\": \"\"}}, \"type\": \"scatterpolargl\"}], \"scatterternary\": [{\"marker\": {\"colorbar\": {\"outlinewidth\": 0, \"ticks\": \"\"}}, \"type\": \"scatterternary\"}], \"surface\": [{\"colorbar\": {\"outlinewidth\": 0, \"ticks\": \"\"}, \"colorscale\": [[0.0, \"#0d0887\"], [0.1111111111111111, \"#46039f\"], [0.2222222222222222, \"#7201a8\"], [0.3333333333333333, \"#9c179e\"], [0.4444444444444444, \"#bd3786\"], [0.5555555555555556, \"#d8576b\"], [0.6666666666666666, \"#ed7953\"], [0.7777777777777778, \"#fb9f3a\"], [0.8888888888888888, \"#fdca26\"], [1.0, \"#f0f921\"]], \"type\": \"surface\"}], \"table\": [{\"cells\": {\"fill\": {\"color\": \"#EBF0F8\"}, \"line\": {\"color\": \"white\"}}, \"header\": {\"fill\": {\"color\": \"#C8D4E3\"}, \"line\": {\"color\": \"white\"}}, \"type\": \"table\"}]}, \"layout\": {\"annotationdefaults\": {\"arrowcolor\": \"#2a3f5f\", \"arrowhead\": 0, \"arrowwidth\": 1}, \"autotypenumbers\": \"strict\", \"coloraxis\": {\"colorbar\": {\"outlinewidth\": 0, \"ticks\": \"\"}}, \"colorscale\": {\"diverging\": [[0, \"#8e0152\"], [0.1, \"#c51b7d\"], [0.2, \"#de77ae\"], [0.3, \"#f1b6da\"], [0.4, \"#fde0ef\"], [0.5, \"#f7f7f7\"], [0.6, \"#e6f5d0\"], [0.7, \"#b8e186\"], [0.8, \"#7fbc41\"], [0.9, \"#4d9221\"], [1, \"#276419\"]], \"sequential\": [[0.0, \"#0d0887\"], [0.1111111111111111, \"#46039f\"], [0.2222222222222222, \"#7201a8\"], [0.3333333333333333, \"#9c179e\"], [0.4444444444444444, \"#bd3786\"], [0.5555555555555556, \"#d8576b\"], [0.6666666666666666, \"#ed7953\"], [0.7777777777777778, \"#fb9f3a\"], [0.8888888888888888, \"#fdca26\"], [1.0, \"#f0f921\"]], \"sequentialminus\": [[0.0, \"#0d0887\"], [0.1111111111111111, \"#46039f\"], [0.2222222222222222, \"#7201a8\"], [0.3333333333333333, \"#9c179e\"], [0.4444444444444444, \"#bd3786\"], [0.5555555555555556, \"#d8576b\"], [0.6666666666666666, \"#ed7953\"], [0.7777777777777778, \"#fb9f3a\"], [0.8888888888888888, \"#fdca26\"], [1.0, \"#f0f921\"]]}, \"colorway\": [\"#636efa\", \"#EF553B\", \"#00cc96\", \"#ab63fa\", \"#FFA15A\", \"#19d3f3\", \"#FF6692\", \"#B6E880\", \"#FF97FF\", \"#FECB52\"], \"font\": {\"color\": \"#2a3f5f\"}, \"geo\": {\"bgcolor\": \"white\", \"lakecolor\": \"white\", \"landcolor\": \"#E5ECF6\", \"showlakes\": true, \"showland\": true, \"subunitcolor\": \"white\"}, \"hoverlabel\": {\"align\": \"left\"}, \"hovermode\": \"closest\", \"mapbox\": {\"style\": \"light\"}, \"paper_bgcolor\": \"white\", \"plot_bgcolor\": \"#E5ECF6\", \"polar\": {\"angularaxis\": {\"gridcolor\": \"white\", \"linecolor\": \"white\", \"ticks\": \"\"}, \"bgcolor\": \"#E5ECF6\", \"radialaxis\": {\"gridcolor\": \"white\", \"linecolor\": \"white\", \"ticks\": \"\"}}, \"scene\": {\"xaxis\": {\"backgroundcolor\": \"#E5ECF6\", \"gridcolor\": \"white\", \"gridwidth\": 2, \"linecolor\": \"white\", \"showbackground\": true, \"ticks\": \"\", \"zerolinecolor\": \"white\"}, \"yaxis\": {\"backgroundcolor\": \"#E5ECF6\", \"gridcolor\": \"white\", \"gridwidth\": 2, \"linecolor\": \"white\", \"showbackground\": true, \"ticks\": \"\", \"zerolinecolor\": \"white\"}, \"zaxis\": {\"backgroundcolor\": \"#E5ECF6\", \"gridcolor\": \"white\", \"gridwidth\": 2, \"linecolor\": \"white\", \"showbackground\": true, \"ticks\": \"\", \"zerolinecolor\": \"white\"}}, \"shapedefaults\": {\"line\": {\"color\": \"#2a3f5f\"}}, \"ternary\": {\"aaxis\": {\"gridcolor\": \"white\", \"linecolor\": \"white\", \"ticks\": \"\"}, \"baxis\": {\"gridcolor\": \"white\", \"linecolor\": \"white\", \"ticks\": \"\"}, \"bgcolor\": \"#E5ECF6\", \"caxis\": {\"gridcolor\": \"white\", \"linecolor\": \"white\", \"ticks\": \"\"}}, \"title\": {\"x\": 0.05}, \"xaxis\": {\"automargin\": true, \"gridcolor\": \"white\", \"linecolor\": \"white\", \"ticks\": \"\", \"title\": {\"standoff\": 15}, \"zerolinecolor\": \"white\", \"zerolinewidth\": 2}, \"yaxis\": {\"automargin\": true, \"gridcolor\": \"white\", \"linecolor\": \"white\", \"ticks\": \"\", \"title\": {\"standoff\": 15}, \"zerolinecolor\": \"white\", \"zerolinewidth\": 2}}}, \"xaxis\": {\"anchor\": \"y\", \"domain\": [0.0, 1.0], \"title\": {\"text\": \"Income\"}}, \"yaxis\": {\"anchor\": \"x\", \"domain\": [0.0, 1.0], \"title\": {\"text\": \"MntFishProducts\"}}},                        {\"responsive\": true}                    ).then(function(){\n",
       "                            \n",
       "var gd = document.getElementById('c9e0068c-f3a5-4342-87c2-af92c2feaa2a');\n",
       "var x = new MutationObserver(function (mutations, observer) {{\n",
       "        var display = window.getComputedStyle(gd).display;\n",
       "        if (!display || display === 'none') {{\n",
       "            console.log([gd, 'removed!']);\n",
       "            Plotly.purge(gd);\n",
       "            observer.disconnect();\n",
       "        }}\n",
       "}});\n",
       "\n",
       "// Listen for the removal of the full notebook cells\n",
       "var notebookContainer = gd.closest('#notebook-container');\n",
       "if (notebookContainer) {{\n",
       "    x.observe(notebookContainer, {childList: true});\n",
       "}}\n",
       "\n",
       "// Listen for the clearing of the current output cell\n",
       "var outputEl = gd.closest('.output');\n",
       "if (outputEl) {{\n",
       "    x.observe(outputEl, {childList: true});\n",
       "}}\n",
       "\n",
       "                        })                };                });            </script>        </div>"
      ]
     },
     "metadata": {},
     "output_type": "display_data"
    }
   ],
   "source": [
    "px.scatter( df ,x = 'Income' , y = 'MntFishProducts' )"
   ]
  },
  {
   "cell_type": "markdown",
   "metadata": {},
   "source": [
    "# Relationship between geographical region and success of a campaign"
   ]
  },
  {
   "cell_type": "code",
   "execution_count": 56,
   "metadata": {},
   "outputs": [
    {
     "data": {
      "text/plain": [
       "array(['SP', 'CA', 'US', 'AUS', 'GER', 'IND', 'SA', 'ME'], dtype=object)"
      ]
     },
     "execution_count": 56,
     "metadata": {},
     "output_type": "execute_result"
    }
   ],
   "source": [
    "df.Country.unique()"
   ]
  },
  {
   "cell_type": "code",
   "execution_count": 57,
   "metadata": {},
   "outputs": [],
   "source": [
    "AcceptedCmp1 = df.groupby('Country').sum()['AcceptedCmp1'].reset_index()\n",
    "AcceptedCmp2 = df.groupby('Country').sum()['AcceptedCmp2'].reset_index()\n",
    "AcceptedCmp3 = df.groupby('Country').sum()['AcceptedCmp3'].reset_index()\n",
    "AcceptedCmp4 = df.groupby('Country').sum()['AcceptedCmp4'].reset_index()\n",
    "AcceptedCmp5 = df.groupby('Country').sum()['AcceptedCmp5'].reset_index()\n",
    "Response = df.groupby('Country').sum()['Response'].reset_index()"
   ]
  },
  {
   "cell_type": "code",
   "execution_count": 58,
   "metadata": {},
   "outputs": [
    {
     "data": {
      "application/vnd.plotly.v1+json": {
       "config": {
        "plotlyServerURL": "https://plot.ly"
       },
       "data": [
        {
         "line": {
          "color": "yellowgreen",
          "width": 2
         },
         "mode": "lines+markers",
         "name": "AcceptedCmp1",
         "type": "scatter",
         "x": [
          "AUS",
          "CA",
          "GER",
          "IND",
          "ME",
          "SA",
          "SP",
          "US"
         ],
         "y": [
          7,
          18,
          7,
          7,
          0,
          20,
          78,
          7
         ]
        },
        {
         "line": {
          "color": "red",
          "width": 2
         },
         "mode": "lines+markers",
         "name": "AcceptedCmp2",
         "type": "scatter",
         "x": [
          "AUS",
          "CA",
          "GER",
          "IND",
          "ME",
          "SA",
          "SP",
          "US"
         ],
         "y": [
          0,
          6,
          2,
          2,
          0,
          4,
          16,
          0
         ]
        },
        {
         "line": {
          "color": "olive",
          "width": 2
         },
         "mode": "lines+markers",
         "name": "AcceptedCmp3",
         "type": "scatter",
         "x": [
          "AUS",
          "CA",
          "GER",
          "IND",
          "ME",
          "SA",
          "SP",
          "US"
         ],
         "y": [
          9,
          18,
          10,
          13,
          1,
          21,
          83,
          8
         ]
        },
        {
         "line": {
          "color": "magenta",
          "width": 2
         },
         "mode": "lines+markers",
         "name": "AcceptedCmp4",
         "type": "scatter",
         "x": [
          "AUS",
          "CA",
          "GER",
          "IND",
          "ME",
          "SA",
          "SP",
          "US"
         ],
         "y": [
          6,
          24,
          11,
          11,
          0,
          20,
          89,
          6
         ]
        },
        {
         "line": {
          "color": "blue",
          "width": 2
         },
         "mode": "lines+markers",
         "name": "AcceptedCmp5",
         "type": "scatter",
         "x": [
          "AUS",
          "CA",
          "GER",
          "IND",
          "ME",
          "SA",
          "SP",
          "US"
         ],
         "y": [
          13,
          21,
          8,
          6,
          0,
          21,
          88,
          5
         ]
        },
        {
         "line": {
          "color": "darkorange",
          "width": 2
         },
         "mode": "lines+markers",
         "name": "Response",
         "type": "scatter",
         "x": [
          "AUS",
          "CA",
          "GER",
          "IND",
          "ME",
          "SA",
          "SP",
          "US"
         ],
         "y": [
          23,
          38,
          17,
          13,
          2,
          52,
          176,
          13
         ]
        }
       ],
       "layout": {
        "template": {
         "data": {
          "bar": [
           {
            "error_x": {
             "color": "#2a3f5f"
            },
            "error_y": {
             "color": "#2a3f5f"
            },
            "marker": {
             "line": {
              "color": "#E5ECF6",
              "width": 0.5
             }
            },
            "type": "bar"
           }
          ],
          "barpolar": [
           {
            "marker": {
             "line": {
              "color": "#E5ECF6",
              "width": 0.5
             }
            },
            "type": "barpolar"
           }
          ],
          "carpet": [
           {
            "aaxis": {
             "endlinecolor": "#2a3f5f",
             "gridcolor": "white",
             "linecolor": "white",
             "minorgridcolor": "white",
             "startlinecolor": "#2a3f5f"
            },
            "baxis": {
             "endlinecolor": "#2a3f5f",
             "gridcolor": "white",
             "linecolor": "white",
             "minorgridcolor": "white",
             "startlinecolor": "#2a3f5f"
            },
            "type": "carpet"
           }
          ],
          "choropleth": [
           {
            "colorbar": {
             "outlinewidth": 0,
             "ticks": ""
            },
            "type": "choropleth"
           }
          ],
          "contour": [
           {
            "colorbar": {
             "outlinewidth": 0,
             "ticks": ""
            },
            "colorscale": [
             [
              0,
              "#0d0887"
             ],
             [
              0.1111111111111111,
              "#46039f"
             ],
             [
              0.2222222222222222,
              "#7201a8"
             ],
             [
              0.3333333333333333,
              "#9c179e"
             ],
             [
              0.4444444444444444,
              "#bd3786"
             ],
             [
              0.5555555555555556,
              "#d8576b"
             ],
             [
              0.6666666666666666,
              "#ed7953"
             ],
             [
              0.7777777777777778,
              "#fb9f3a"
             ],
             [
              0.8888888888888888,
              "#fdca26"
             ],
             [
              1,
              "#f0f921"
             ]
            ],
            "type": "contour"
           }
          ],
          "contourcarpet": [
           {
            "colorbar": {
             "outlinewidth": 0,
             "ticks": ""
            },
            "type": "contourcarpet"
           }
          ],
          "heatmap": [
           {
            "colorbar": {
             "outlinewidth": 0,
             "ticks": ""
            },
            "colorscale": [
             [
              0,
              "#0d0887"
             ],
             [
              0.1111111111111111,
              "#46039f"
             ],
             [
              0.2222222222222222,
              "#7201a8"
             ],
             [
              0.3333333333333333,
              "#9c179e"
             ],
             [
              0.4444444444444444,
              "#bd3786"
             ],
             [
              0.5555555555555556,
              "#d8576b"
             ],
             [
              0.6666666666666666,
              "#ed7953"
             ],
             [
              0.7777777777777778,
              "#fb9f3a"
             ],
             [
              0.8888888888888888,
              "#fdca26"
             ],
             [
              1,
              "#f0f921"
             ]
            ],
            "type": "heatmap"
           }
          ],
          "heatmapgl": [
           {
            "colorbar": {
             "outlinewidth": 0,
             "ticks": ""
            },
            "colorscale": [
             [
              0,
              "#0d0887"
             ],
             [
              0.1111111111111111,
              "#46039f"
             ],
             [
              0.2222222222222222,
              "#7201a8"
             ],
             [
              0.3333333333333333,
              "#9c179e"
             ],
             [
              0.4444444444444444,
              "#bd3786"
             ],
             [
              0.5555555555555556,
              "#d8576b"
             ],
             [
              0.6666666666666666,
              "#ed7953"
             ],
             [
              0.7777777777777778,
              "#fb9f3a"
             ],
             [
              0.8888888888888888,
              "#fdca26"
             ],
             [
              1,
              "#f0f921"
             ]
            ],
            "type": "heatmapgl"
           }
          ],
          "histogram": [
           {
            "marker": {
             "colorbar": {
              "outlinewidth": 0,
              "ticks": ""
             }
            },
            "type": "histogram"
           }
          ],
          "histogram2d": [
           {
            "colorbar": {
             "outlinewidth": 0,
             "ticks": ""
            },
            "colorscale": [
             [
              0,
              "#0d0887"
             ],
             [
              0.1111111111111111,
              "#46039f"
             ],
             [
              0.2222222222222222,
              "#7201a8"
             ],
             [
              0.3333333333333333,
              "#9c179e"
             ],
             [
              0.4444444444444444,
              "#bd3786"
             ],
             [
              0.5555555555555556,
              "#d8576b"
             ],
             [
              0.6666666666666666,
              "#ed7953"
             ],
             [
              0.7777777777777778,
              "#fb9f3a"
             ],
             [
              0.8888888888888888,
              "#fdca26"
             ],
             [
              1,
              "#f0f921"
             ]
            ],
            "type": "histogram2d"
           }
          ],
          "histogram2dcontour": [
           {
            "colorbar": {
             "outlinewidth": 0,
             "ticks": ""
            },
            "colorscale": [
             [
              0,
              "#0d0887"
             ],
             [
              0.1111111111111111,
              "#46039f"
             ],
             [
              0.2222222222222222,
              "#7201a8"
             ],
             [
              0.3333333333333333,
              "#9c179e"
             ],
             [
              0.4444444444444444,
              "#bd3786"
             ],
             [
              0.5555555555555556,
              "#d8576b"
             ],
             [
              0.6666666666666666,
              "#ed7953"
             ],
             [
              0.7777777777777778,
              "#fb9f3a"
             ],
             [
              0.8888888888888888,
              "#fdca26"
             ],
             [
              1,
              "#f0f921"
             ]
            ],
            "type": "histogram2dcontour"
           }
          ],
          "mesh3d": [
           {
            "colorbar": {
             "outlinewidth": 0,
             "ticks": ""
            },
            "type": "mesh3d"
           }
          ],
          "parcoords": [
           {
            "line": {
             "colorbar": {
              "outlinewidth": 0,
              "ticks": ""
             }
            },
            "type": "parcoords"
           }
          ],
          "pie": [
           {
            "automargin": true,
            "type": "pie"
           }
          ],
          "scatter": [
           {
            "marker": {
             "colorbar": {
              "outlinewidth": 0,
              "ticks": ""
             }
            },
            "type": "scatter"
           }
          ],
          "scatter3d": [
           {
            "line": {
             "colorbar": {
              "outlinewidth": 0,
              "ticks": ""
             }
            },
            "marker": {
             "colorbar": {
              "outlinewidth": 0,
              "ticks": ""
             }
            },
            "type": "scatter3d"
           }
          ],
          "scattercarpet": [
           {
            "marker": {
             "colorbar": {
              "outlinewidth": 0,
              "ticks": ""
             }
            },
            "type": "scattercarpet"
           }
          ],
          "scattergeo": [
           {
            "marker": {
             "colorbar": {
              "outlinewidth": 0,
              "ticks": ""
             }
            },
            "type": "scattergeo"
           }
          ],
          "scattergl": [
           {
            "marker": {
             "colorbar": {
              "outlinewidth": 0,
              "ticks": ""
             }
            },
            "type": "scattergl"
           }
          ],
          "scattermapbox": [
           {
            "marker": {
             "colorbar": {
              "outlinewidth": 0,
              "ticks": ""
             }
            },
            "type": "scattermapbox"
           }
          ],
          "scatterpolar": [
           {
            "marker": {
             "colorbar": {
              "outlinewidth": 0,
              "ticks": ""
             }
            },
            "type": "scatterpolar"
           }
          ],
          "scatterpolargl": [
           {
            "marker": {
             "colorbar": {
              "outlinewidth": 0,
              "ticks": ""
             }
            },
            "type": "scatterpolargl"
           }
          ],
          "scatterternary": [
           {
            "marker": {
             "colorbar": {
              "outlinewidth": 0,
              "ticks": ""
             }
            },
            "type": "scatterternary"
           }
          ],
          "surface": [
           {
            "colorbar": {
             "outlinewidth": 0,
             "ticks": ""
            },
            "colorscale": [
             [
              0,
              "#0d0887"
             ],
             [
              0.1111111111111111,
              "#46039f"
             ],
             [
              0.2222222222222222,
              "#7201a8"
             ],
             [
              0.3333333333333333,
              "#9c179e"
             ],
             [
              0.4444444444444444,
              "#bd3786"
             ],
             [
              0.5555555555555556,
              "#d8576b"
             ],
             [
              0.6666666666666666,
              "#ed7953"
             ],
             [
              0.7777777777777778,
              "#fb9f3a"
             ],
             [
              0.8888888888888888,
              "#fdca26"
             ],
             [
              1,
              "#f0f921"
             ]
            ],
            "type": "surface"
           }
          ],
          "table": [
           {
            "cells": {
             "fill": {
              "color": "#EBF0F8"
             },
             "line": {
              "color": "white"
             }
            },
            "header": {
             "fill": {
              "color": "#C8D4E3"
             },
             "line": {
              "color": "white"
             }
            },
            "type": "table"
           }
          ]
         },
         "layout": {
          "annotationdefaults": {
           "arrowcolor": "#2a3f5f",
           "arrowhead": 0,
           "arrowwidth": 1
          },
          "autotypenumbers": "strict",
          "coloraxis": {
           "colorbar": {
            "outlinewidth": 0,
            "ticks": ""
           }
          },
          "colorscale": {
           "diverging": [
            [
             0,
             "#8e0152"
            ],
            [
             0.1,
             "#c51b7d"
            ],
            [
             0.2,
             "#de77ae"
            ],
            [
             0.3,
             "#f1b6da"
            ],
            [
             0.4,
             "#fde0ef"
            ],
            [
             0.5,
             "#f7f7f7"
            ],
            [
             0.6,
             "#e6f5d0"
            ],
            [
             0.7,
             "#b8e186"
            ],
            [
             0.8,
             "#7fbc41"
            ],
            [
             0.9,
             "#4d9221"
            ],
            [
             1,
             "#276419"
            ]
           ],
           "sequential": [
            [
             0,
             "#0d0887"
            ],
            [
             0.1111111111111111,
             "#46039f"
            ],
            [
             0.2222222222222222,
             "#7201a8"
            ],
            [
             0.3333333333333333,
             "#9c179e"
            ],
            [
             0.4444444444444444,
             "#bd3786"
            ],
            [
             0.5555555555555556,
             "#d8576b"
            ],
            [
             0.6666666666666666,
             "#ed7953"
            ],
            [
             0.7777777777777778,
             "#fb9f3a"
            ],
            [
             0.8888888888888888,
             "#fdca26"
            ],
            [
             1,
             "#f0f921"
            ]
           ],
           "sequentialminus": [
            [
             0,
             "#0d0887"
            ],
            [
             0.1111111111111111,
             "#46039f"
            ],
            [
             0.2222222222222222,
             "#7201a8"
            ],
            [
             0.3333333333333333,
             "#9c179e"
            ],
            [
             0.4444444444444444,
             "#bd3786"
            ],
            [
             0.5555555555555556,
             "#d8576b"
            ],
            [
             0.6666666666666666,
             "#ed7953"
            ],
            [
             0.7777777777777778,
             "#fb9f3a"
            ],
            [
             0.8888888888888888,
             "#fdca26"
            ],
            [
             1,
             "#f0f921"
            ]
           ]
          },
          "colorway": [
           "#636efa",
           "#EF553B",
           "#00cc96",
           "#ab63fa",
           "#FFA15A",
           "#19d3f3",
           "#FF6692",
           "#B6E880",
           "#FF97FF",
           "#FECB52"
          ],
          "font": {
           "color": "#2a3f5f"
          },
          "geo": {
           "bgcolor": "white",
           "lakecolor": "white",
           "landcolor": "#E5ECF6",
           "showlakes": true,
           "showland": true,
           "subunitcolor": "white"
          },
          "hoverlabel": {
           "align": "left"
          },
          "hovermode": "closest",
          "mapbox": {
           "style": "light"
          },
          "paper_bgcolor": "white",
          "plot_bgcolor": "#E5ECF6",
          "polar": {
           "angularaxis": {
            "gridcolor": "white",
            "linecolor": "white",
            "ticks": ""
           },
           "bgcolor": "#E5ECF6",
           "radialaxis": {
            "gridcolor": "white",
            "linecolor": "white",
            "ticks": ""
           }
          },
          "scene": {
           "xaxis": {
            "backgroundcolor": "#E5ECF6",
            "gridcolor": "white",
            "gridwidth": 2,
            "linecolor": "white",
            "showbackground": true,
            "ticks": "",
            "zerolinecolor": "white"
           },
           "yaxis": {
            "backgroundcolor": "#E5ECF6",
            "gridcolor": "white",
            "gridwidth": 2,
            "linecolor": "white",
            "showbackground": true,
            "ticks": "",
            "zerolinecolor": "white"
           },
           "zaxis": {
            "backgroundcolor": "#E5ECF6",
            "gridcolor": "white",
            "gridwidth": 2,
            "linecolor": "white",
            "showbackground": true,
            "ticks": "",
            "zerolinecolor": "white"
           }
          },
          "shapedefaults": {
           "line": {
            "color": "#2a3f5f"
           }
          },
          "ternary": {
           "aaxis": {
            "gridcolor": "white",
            "linecolor": "white",
            "ticks": ""
           },
           "baxis": {
            "gridcolor": "white",
            "linecolor": "white",
            "ticks": ""
           },
           "bgcolor": "#E5ECF6",
           "caxis": {
            "gridcolor": "white",
            "linecolor": "white",
            "ticks": ""
           }
          },
          "title": {
           "x": 0.05
          },
          "xaxis": {
           "automargin": true,
           "gridcolor": "white",
           "linecolor": "white",
           "ticks": "",
           "title": {
            "standoff": 15
           },
           "zerolinecolor": "white",
           "zerolinewidth": 2
          },
          "yaxis": {
           "automargin": true,
           "gridcolor": "white",
           "linecolor": "white",
           "ticks": "",
           "title": {
            "standoff": 15
           },
           "zerolinecolor": "white",
           "zerolinewidth": 2
          }
         }
        },
        "title": {
         "text": "Success of Campaign in different Countries"
        },
        "xaxis": {
         "title": {
          "text": "Country"
         }
        },
        "yaxis": {
         "title": {
          "text": "Total Offers accepted by Customers"
         }
        }
       }
      },
      "text/html": [
       "<div>                            <div id=\"3fa03346-cf7d-4420-894f-e8ae49234a47\" class=\"plotly-graph-div\" style=\"height:525px; width:100%;\"></div>            <script type=\"text/javascript\">                require([\"plotly\"], function(Plotly) {                    window.PLOTLYENV=window.PLOTLYENV || {};                                    if (document.getElementById(\"3fa03346-cf7d-4420-894f-e8ae49234a47\")) {                    Plotly.newPlot(                        \"3fa03346-cf7d-4420-894f-e8ae49234a47\",                        [{\"line\": {\"color\": \"yellowgreen\", \"width\": 2}, \"mode\": \"lines+markers\", \"name\": \"AcceptedCmp1\", \"type\": \"scatter\", \"x\": [\"AUS\", \"CA\", \"GER\", \"IND\", \"ME\", \"SA\", \"SP\", \"US\"], \"y\": [7, 18, 7, 7, 0, 20, 78, 7]}, {\"line\": {\"color\": \"red\", \"width\": 2}, \"mode\": \"lines+markers\", \"name\": \"AcceptedCmp2\", \"type\": \"scatter\", \"x\": [\"AUS\", \"CA\", \"GER\", \"IND\", \"ME\", \"SA\", \"SP\", \"US\"], \"y\": [0, 6, 2, 2, 0, 4, 16, 0]}, {\"line\": {\"color\": \"olive\", \"width\": 2}, \"mode\": \"lines+markers\", \"name\": \"AcceptedCmp3\", \"type\": \"scatter\", \"x\": [\"AUS\", \"CA\", \"GER\", \"IND\", \"ME\", \"SA\", \"SP\", \"US\"], \"y\": [9, 18, 10, 13, 1, 21, 83, 8]}, {\"line\": {\"color\": \"magenta\", \"width\": 2}, \"mode\": \"lines+markers\", \"name\": \"AcceptedCmp4\", \"type\": \"scatter\", \"x\": [\"AUS\", \"CA\", \"GER\", \"IND\", \"ME\", \"SA\", \"SP\", \"US\"], \"y\": [6, 24, 11, 11, 0, 20, 89, 6]}, {\"line\": {\"color\": \"blue\", \"width\": 2}, \"mode\": \"lines+markers\", \"name\": \"AcceptedCmp5\", \"type\": \"scatter\", \"x\": [\"AUS\", \"CA\", \"GER\", \"IND\", \"ME\", \"SA\", \"SP\", \"US\"], \"y\": [13, 21, 8, 6, 0, 21, 88, 5]}, {\"line\": {\"color\": \"darkorange\", \"width\": 2}, \"mode\": \"lines+markers\", \"name\": \"Response\", \"type\": \"scatter\", \"x\": [\"AUS\", \"CA\", \"GER\", \"IND\", \"ME\", \"SA\", \"SP\", \"US\"], \"y\": [23, 38, 17, 13, 2, 52, 176, 13]}],                        {\"template\": {\"data\": {\"bar\": [{\"error_x\": {\"color\": \"#2a3f5f\"}, \"error_y\": {\"color\": \"#2a3f5f\"}, \"marker\": {\"line\": {\"color\": \"#E5ECF6\", \"width\": 0.5}}, \"type\": \"bar\"}], \"barpolar\": [{\"marker\": {\"line\": {\"color\": \"#E5ECF6\", \"width\": 0.5}}, \"type\": \"barpolar\"}], \"carpet\": [{\"aaxis\": {\"endlinecolor\": \"#2a3f5f\", \"gridcolor\": \"white\", \"linecolor\": \"white\", \"minorgridcolor\": \"white\", \"startlinecolor\": \"#2a3f5f\"}, \"baxis\": {\"endlinecolor\": \"#2a3f5f\", \"gridcolor\": \"white\", \"linecolor\": \"white\", \"minorgridcolor\": \"white\", \"startlinecolor\": \"#2a3f5f\"}, \"type\": \"carpet\"}], \"choropleth\": [{\"colorbar\": {\"outlinewidth\": 0, \"ticks\": \"\"}, \"type\": \"choropleth\"}], \"contour\": [{\"colorbar\": {\"outlinewidth\": 0, \"ticks\": \"\"}, \"colorscale\": [[0.0, \"#0d0887\"], [0.1111111111111111, \"#46039f\"], [0.2222222222222222, \"#7201a8\"], [0.3333333333333333, \"#9c179e\"], [0.4444444444444444, \"#bd3786\"], [0.5555555555555556, \"#d8576b\"], [0.6666666666666666, \"#ed7953\"], [0.7777777777777778, \"#fb9f3a\"], [0.8888888888888888, \"#fdca26\"], [1.0, \"#f0f921\"]], \"type\": \"contour\"}], \"contourcarpet\": [{\"colorbar\": {\"outlinewidth\": 0, \"ticks\": \"\"}, \"type\": \"contourcarpet\"}], \"heatmap\": [{\"colorbar\": {\"outlinewidth\": 0, \"ticks\": \"\"}, \"colorscale\": [[0.0, \"#0d0887\"], [0.1111111111111111, \"#46039f\"], [0.2222222222222222, \"#7201a8\"], [0.3333333333333333, \"#9c179e\"], [0.4444444444444444, \"#bd3786\"], [0.5555555555555556, \"#d8576b\"], [0.6666666666666666, \"#ed7953\"], [0.7777777777777778, \"#fb9f3a\"], [0.8888888888888888, \"#fdca26\"], [1.0, \"#f0f921\"]], \"type\": \"heatmap\"}], \"heatmapgl\": [{\"colorbar\": {\"outlinewidth\": 0, \"ticks\": \"\"}, \"colorscale\": [[0.0, \"#0d0887\"], [0.1111111111111111, \"#46039f\"], [0.2222222222222222, \"#7201a8\"], [0.3333333333333333, \"#9c179e\"], [0.4444444444444444, \"#bd3786\"], [0.5555555555555556, \"#d8576b\"], [0.6666666666666666, \"#ed7953\"], [0.7777777777777778, \"#fb9f3a\"], [0.8888888888888888, \"#fdca26\"], [1.0, \"#f0f921\"]], \"type\": \"heatmapgl\"}], \"histogram\": [{\"marker\": {\"colorbar\": {\"outlinewidth\": 0, \"ticks\": \"\"}}, \"type\": \"histogram\"}], \"histogram2d\": [{\"colorbar\": {\"outlinewidth\": 0, \"ticks\": \"\"}, \"colorscale\": [[0.0, \"#0d0887\"], [0.1111111111111111, \"#46039f\"], [0.2222222222222222, \"#7201a8\"], [0.3333333333333333, \"#9c179e\"], [0.4444444444444444, \"#bd3786\"], [0.5555555555555556, \"#d8576b\"], [0.6666666666666666, \"#ed7953\"], [0.7777777777777778, \"#fb9f3a\"], [0.8888888888888888, \"#fdca26\"], [1.0, \"#f0f921\"]], \"type\": \"histogram2d\"}], \"histogram2dcontour\": [{\"colorbar\": {\"outlinewidth\": 0, \"ticks\": \"\"}, \"colorscale\": [[0.0, \"#0d0887\"], [0.1111111111111111, \"#46039f\"], [0.2222222222222222, \"#7201a8\"], [0.3333333333333333, \"#9c179e\"], [0.4444444444444444, \"#bd3786\"], [0.5555555555555556, \"#d8576b\"], [0.6666666666666666, \"#ed7953\"], [0.7777777777777778, \"#fb9f3a\"], [0.8888888888888888, \"#fdca26\"], [1.0, \"#f0f921\"]], \"type\": \"histogram2dcontour\"}], \"mesh3d\": [{\"colorbar\": {\"outlinewidth\": 0, \"ticks\": \"\"}, \"type\": \"mesh3d\"}], \"parcoords\": [{\"line\": {\"colorbar\": {\"outlinewidth\": 0, \"ticks\": \"\"}}, \"type\": \"parcoords\"}], \"pie\": [{\"automargin\": true, \"type\": \"pie\"}], \"scatter\": [{\"marker\": {\"colorbar\": {\"outlinewidth\": 0, \"ticks\": \"\"}}, \"type\": \"scatter\"}], \"scatter3d\": [{\"line\": {\"colorbar\": {\"outlinewidth\": 0, \"ticks\": \"\"}}, \"marker\": {\"colorbar\": {\"outlinewidth\": 0, \"ticks\": \"\"}}, \"type\": \"scatter3d\"}], \"scattercarpet\": [{\"marker\": {\"colorbar\": {\"outlinewidth\": 0, \"ticks\": \"\"}}, \"type\": \"scattercarpet\"}], \"scattergeo\": [{\"marker\": {\"colorbar\": {\"outlinewidth\": 0, \"ticks\": \"\"}}, \"type\": \"scattergeo\"}], \"scattergl\": [{\"marker\": {\"colorbar\": {\"outlinewidth\": 0, \"ticks\": \"\"}}, \"type\": \"scattergl\"}], \"scattermapbox\": [{\"marker\": {\"colorbar\": {\"outlinewidth\": 0, \"ticks\": \"\"}}, \"type\": \"scattermapbox\"}], \"scatterpolar\": [{\"marker\": {\"colorbar\": {\"outlinewidth\": 0, \"ticks\": \"\"}}, \"type\": \"scatterpolar\"}], \"scatterpolargl\": [{\"marker\": {\"colorbar\": {\"outlinewidth\": 0, \"ticks\": \"\"}}, \"type\": \"scatterpolargl\"}], \"scatterternary\": [{\"marker\": {\"colorbar\": {\"outlinewidth\": 0, \"ticks\": \"\"}}, \"type\": \"scatterternary\"}], \"surface\": [{\"colorbar\": {\"outlinewidth\": 0, \"ticks\": \"\"}, \"colorscale\": [[0.0, \"#0d0887\"], [0.1111111111111111, \"#46039f\"], [0.2222222222222222, \"#7201a8\"], [0.3333333333333333, \"#9c179e\"], [0.4444444444444444, \"#bd3786\"], [0.5555555555555556, \"#d8576b\"], [0.6666666666666666, \"#ed7953\"], [0.7777777777777778, \"#fb9f3a\"], [0.8888888888888888, \"#fdca26\"], [1.0, \"#f0f921\"]], \"type\": \"surface\"}], \"table\": [{\"cells\": {\"fill\": {\"color\": \"#EBF0F8\"}, \"line\": {\"color\": \"white\"}}, \"header\": {\"fill\": {\"color\": \"#C8D4E3\"}, \"line\": {\"color\": \"white\"}}, \"type\": \"table\"}]}, \"layout\": {\"annotationdefaults\": {\"arrowcolor\": \"#2a3f5f\", \"arrowhead\": 0, \"arrowwidth\": 1}, \"autotypenumbers\": \"strict\", \"coloraxis\": {\"colorbar\": {\"outlinewidth\": 0, \"ticks\": \"\"}}, \"colorscale\": {\"diverging\": [[0, \"#8e0152\"], [0.1, \"#c51b7d\"], [0.2, \"#de77ae\"], [0.3, \"#f1b6da\"], [0.4, \"#fde0ef\"], [0.5, \"#f7f7f7\"], [0.6, \"#e6f5d0\"], [0.7, \"#b8e186\"], [0.8, \"#7fbc41\"], [0.9, \"#4d9221\"], [1, \"#276419\"]], \"sequential\": [[0.0, \"#0d0887\"], [0.1111111111111111, \"#46039f\"], [0.2222222222222222, \"#7201a8\"], [0.3333333333333333, \"#9c179e\"], [0.4444444444444444, \"#bd3786\"], [0.5555555555555556, \"#d8576b\"], [0.6666666666666666, \"#ed7953\"], [0.7777777777777778, \"#fb9f3a\"], [0.8888888888888888, \"#fdca26\"], [1.0, \"#f0f921\"]], \"sequentialminus\": [[0.0, \"#0d0887\"], [0.1111111111111111, \"#46039f\"], [0.2222222222222222, \"#7201a8\"], [0.3333333333333333, \"#9c179e\"], [0.4444444444444444, \"#bd3786\"], [0.5555555555555556, \"#d8576b\"], [0.6666666666666666, \"#ed7953\"], [0.7777777777777778, \"#fb9f3a\"], [0.8888888888888888, \"#fdca26\"], [1.0, \"#f0f921\"]]}, \"colorway\": [\"#636efa\", \"#EF553B\", \"#00cc96\", \"#ab63fa\", \"#FFA15A\", \"#19d3f3\", \"#FF6692\", \"#B6E880\", \"#FF97FF\", \"#FECB52\"], \"font\": {\"color\": \"#2a3f5f\"}, \"geo\": {\"bgcolor\": \"white\", \"lakecolor\": \"white\", \"landcolor\": \"#E5ECF6\", \"showlakes\": true, \"showland\": true, \"subunitcolor\": \"white\"}, \"hoverlabel\": {\"align\": \"left\"}, \"hovermode\": \"closest\", \"mapbox\": {\"style\": \"light\"}, \"paper_bgcolor\": \"white\", \"plot_bgcolor\": \"#E5ECF6\", \"polar\": {\"angularaxis\": {\"gridcolor\": \"white\", \"linecolor\": \"white\", \"ticks\": \"\"}, \"bgcolor\": \"#E5ECF6\", \"radialaxis\": {\"gridcolor\": \"white\", \"linecolor\": \"white\", \"ticks\": \"\"}}, \"scene\": {\"xaxis\": {\"backgroundcolor\": \"#E5ECF6\", \"gridcolor\": \"white\", \"gridwidth\": 2, \"linecolor\": \"white\", \"showbackground\": true, \"ticks\": \"\", \"zerolinecolor\": \"white\"}, \"yaxis\": {\"backgroundcolor\": \"#E5ECF6\", \"gridcolor\": \"white\", \"gridwidth\": 2, \"linecolor\": \"white\", \"showbackground\": true, \"ticks\": \"\", \"zerolinecolor\": \"white\"}, \"zaxis\": {\"backgroundcolor\": \"#E5ECF6\", \"gridcolor\": \"white\", \"gridwidth\": 2, \"linecolor\": \"white\", \"showbackground\": true, \"ticks\": \"\", \"zerolinecolor\": \"white\"}}, \"shapedefaults\": {\"line\": {\"color\": \"#2a3f5f\"}}, \"ternary\": {\"aaxis\": {\"gridcolor\": \"white\", \"linecolor\": \"white\", \"ticks\": \"\"}, \"baxis\": {\"gridcolor\": \"white\", \"linecolor\": \"white\", \"ticks\": \"\"}, \"bgcolor\": \"#E5ECF6\", \"caxis\": {\"gridcolor\": \"white\", \"linecolor\": \"white\", \"ticks\": \"\"}}, \"title\": {\"x\": 0.05}, \"xaxis\": {\"automargin\": true, \"gridcolor\": \"white\", \"linecolor\": \"white\", \"ticks\": \"\", \"title\": {\"standoff\": 15}, \"zerolinecolor\": \"white\", \"zerolinewidth\": 2}, \"yaxis\": {\"automargin\": true, \"gridcolor\": \"white\", \"linecolor\": \"white\", \"ticks\": \"\", \"title\": {\"standoff\": 15}, \"zerolinecolor\": \"white\", \"zerolinewidth\": 2}}}, \"title\": {\"text\": \"Success of Campaign in different Countries\"}, \"xaxis\": {\"title\": {\"text\": \"Country\"}}, \"yaxis\": {\"title\": {\"text\": \"Total Offers accepted by Customers\"}}},                        {\"responsive\": true}                    ).then(function(){\n",
       "                            \n",
       "var gd = document.getElementById('3fa03346-cf7d-4420-894f-e8ae49234a47');\n",
       "var x = new MutationObserver(function (mutations, observer) {{\n",
       "        var display = window.getComputedStyle(gd).display;\n",
       "        if (!display || display === 'none') {{\n",
       "            console.log([gd, 'removed!']);\n",
       "            Plotly.purge(gd);\n",
       "            observer.disconnect();\n",
       "        }}\n",
       "}});\n",
       "\n",
       "// Listen for the removal of the full notebook cells\n",
       "var notebookContainer = gd.closest('#notebook-container');\n",
       "if (notebookContainer) {{\n",
       "    x.observe(notebookContainer, {childList: true});\n",
       "}}\n",
       "\n",
       "// Listen for the clearing of the current output cell\n",
       "var outputEl = gd.closest('.output');\n",
       "if (outputEl) {{\n",
       "    x.observe(outputEl, {childList: true});\n",
       "}}\n",
       "\n",
       "                        })                };                });            </script>        </div>"
      ]
     },
     "metadata": {},
     "output_type": "display_data"
    }
   ],
   "source": [
    "fig = go.Figure()\n",
    "fig.add_trace(go.Scatter(x = AcceptedCmp1['Country'], y = AcceptedCmp1['AcceptedCmp1'],\n",
    "                        mode = 'lines+markers',\n",
    "                        name = 'AcceptedCmp1',\n",
    "                        line = dict(color = 'yellowgreen'  ,width = 2)))\n",
    "\n",
    "fig.add_trace(go.Scatter(x = AcceptedCmp2['Country'], y = AcceptedCmp2['AcceptedCmp2'],\n",
    "                        mode = 'lines+markers',\n",
    "                        name = 'AcceptedCmp2',\n",
    "                        line = dict(color = 'red'  ,width = 2)))\n",
    "\n",
    "fig.add_trace(go.Scatter(x = AcceptedCmp3['Country'], y = AcceptedCmp3['AcceptedCmp3'],\n",
    "                        mode = 'lines+markers',\n",
    "                        name = 'AcceptedCmp3',\n",
    "                        line = dict(color = 'olive'  ,width = 2)))\n",
    "\n",
    "fig.add_trace(go.Scatter(x = AcceptedCmp4['Country'], y = AcceptedCmp4['AcceptedCmp4'],\n",
    "                        mode = 'lines+markers',\n",
    "                        name = 'AcceptedCmp4',\n",
    "                        line = dict(color = 'magenta'  ,width = 2)))\n",
    "\n",
    "fig.add_trace(go.Scatter(x = AcceptedCmp5['Country'], y = AcceptedCmp5['AcceptedCmp5'],\n",
    "                        mode = 'lines+markers',\n",
    "                        name = 'AcceptedCmp5',\n",
    "                        line = dict(color = 'blue'  ,width = 2)))\n",
    "\n",
    "fig.add_trace(go.Scatter(x = Response['Country'], y = Response['Response'],\n",
    "                        mode = 'lines+markers',\n",
    "                        name = 'Response',\n",
    "                        line = dict(color = 'darkorange'  ,width = 2)))\n",
    "\n",
    "fig.update_layout(title_text=\"Success of Campaign in different Countries\" , xaxis_title ='Country' ,yaxis_title=\"Total Offers accepted by Customers\")\n",
    "fig.show()"
   ]
  },
  {
   "cell_type": "markdown",
   "metadata": {},
   "source": [
    "# Section 03: Data Visualization"
   ]
  },
  {
   "cell_type": "markdown",
   "metadata": {},
   "source": [
    "# Most Successful Marketing Campaign"
   ]
  },
  {
   "cell_type": "code",
   "execution_count": 59,
   "metadata": {},
   "outputs": [],
   "source": [
    "ac1 = (df.AcceptedCmp1.sum())\n",
    "ac2 = (df.AcceptedCmp2.sum())\n",
    "ac3 = (df.AcceptedCmp3.sum())\n",
    "ac4 = (df.AcceptedCmp4.sum())\n",
    "ac5 = (df.AcceptedCmp5.sum())\n",
    "rsp = (df.Response.sum())"
   ]
  },
  {
   "cell_type": "code",
   "execution_count": 60,
   "metadata": {},
   "outputs": [
    {
     "data": {
      "application/vnd.plotly.v1+json": {
       "config": {
        "plotlyServerURL": "https://plot.ly"
       },
       "data": [
        {
         "alignmentgroup": "True",
         "hovertemplate": "x=%{x}<br>y=%{y}<extra></extra>",
         "legendgroup": "",
         "marker": {
          "color": "#636efa"
         },
         "name": "",
         "offsetgroup": "",
         "orientation": "v",
         "showlegend": false,
         "textposition": "auto",
         "type": "bar",
         "x": [
          "AcceptedCmp1",
          "AcceptedCmp2",
          "AcceptedCmp3",
          "AcceptedCmp4",
          "AcceptedCmp5",
          "Response"
         ],
         "xaxis": "x",
         "y": [
          144,
          30,
          163,
          167,
          162,
          334
         ],
         "yaxis": "y"
        }
       ],
       "layout": {
        "barmode": "relative",
        "legend": {
         "tracegroupgap": 0
        },
        "margin": {
         "t": 60
        },
        "template": {
         "data": {
          "bar": [
           {
            "error_x": {
             "color": "#2a3f5f"
            },
            "error_y": {
             "color": "#2a3f5f"
            },
            "marker": {
             "line": {
              "color": "#E5ECF6",
              "width": 0.5
             }
            },
            "type": "bar"
           }
          ],
          "barpolar": [
           {
            "marker": {
             "line": {
              "color": "#E5ECF6",
              "width": 0.5
             }
            },
            "type": "barpolar"
           }
          ],
          "carpet": [
           {
            "aaxis": {
             "endlinecolor": "#2a3f5f",
             "gridcolor": "white",
             "linecolor": "white",
             "minorgridcolor": "white",
             "startlinecolor": "#2a3f5f"
            },
            "baxis": {
             "endlinecolor": "#2a3f5f",
             "gridcolor": "white",
             "linecolor": "white",
             "minorgridcolor": "white",
             "startlinecolor": "#2a3f5f"
            },
            "type": "carpet"
           }
          ],
          "choropleth": [
           {
            "colorbar": {
             "outlinewidth": 0,
             "ticks": ""
            },
            "type": "choropleth"
           }
          ],
          "contour": [
           {
            "colorbar": {
             "outlinewidth": 0,
             "ticks": ""
            },
            "colorscale": [
             [
              0,
              "#0d0887"
             ],
             [
              0.1111111111111111,
              "#46039f"
             ],
             [
              0.2222222222222222,
              "#7201a8"
             ],
             [
              0.3333333333333333,
              "#9c179e"
             ],
             [
              0.4444444444444444,
              "#bd3786"
             ],
             [
              0.5555555555555556,
              "#d8576b"
             ],
             [
              0.6666666666666666,
              "#ed7953"
             ],
             [
              0.7777777777777778,
              "#fb9f3a"
             ],
             [
              0.8888888888888888,
              "#fdca26"
             ],
             [
              1,
              "#f0f921"
             ]
            ],
            "type": "contour"
           }
          ],
          "contourcarpet": [
           {
            "colorbar": {
             "outlinewidth": 0,
             "ticks": ""
            },
            "type": "contourcarpet"
           }
          ],
          "heatmap": [
           {
            "colorbar": {
             "outlinewidth": 0,
             "ticks": ""
            },
            "colorscale": [
             [
              0,
              "#0d0887"
             ],
             [
              0.1111111111111111,
              "#46039f"
             ],
             [
              0.2222222222222222,
              "#7201a8"
             ],
             [
              0.3333333333333333,
              "#9c179e"
             ],
             [
              0.4444444444444444,
              "#bd3786"
             ],
             [
              0.5555555555555556,
              "#d8576b"
             ],
             [
              0.6666666666666666,
              "#ed7953"
             ],
             [
              0.7777777777777778,
              "#fb9f3a"
             ],
             [
              0.8888888888888888,
              "#fdca26"
             ],
             [
              1,
              "#f0f921"
             ]
            ],
            "type": "heatmap"
           }
          ],
          "heatmapgl": [
           {
            "colorbar": {
             "outlinewidth": 0,
             "ticks": ""
            },
            "colorscale": [
             [
              0,
              "#0d0887"
             ],
             [
              0.1111111111111111,
              "#46039f"
             ],
             [
              0.2222222222222222,
              "#7201a8"
             ],
             [
              0.3333333333333333,
              "#9c179e"
             ],
             [
              0.4444444444444444,
              "#bd3786"
             ],
             [
              0.5555555555555556,
              "#d8576b"
             ],
             [
              0.6666666666666666,
              "#ed7953"
             ],
             [
              0.7777777777777778,
              "#fb9f3a"
             ],
             [
              0.8888888888888888,
              "#fdca26"
             ],
             [
              1,
              "#f0f921"
             ]
            ],
            "type": "heatmapgl"
           }
          ],
          "histogram": [
           {
            "marker": {
             "colorbar": {
              "outlinewidth": 0,
              "ticks": ""
             }
            },
            "type": "histogram"
           }
          ],
          "histogram2d": [
           {
            "colorbar": {
             "outlinewidth": 0,
             "ticks": ""
            },
            "colorscale": [
             [
              0,
              "#0d0887"
             ],
             [
              0.1111111111111111,
              "#46039f"
             ],
             [
              0.2222222222222222,
              "#7201a8"
             ],
             [
              0.3333333333333333,
              "#9c179e"
             ],
             [
              0.4444444444444444,
              "#bd3786"
             ],
             [
              0.5555555555555556,
              "#d8576b"
             ],
             [
              0.6666666666666666,
              "#ed7953"
             ],
             [
              0.7777777777777778,
              "#fb9f3a"
             ],
             [
              0.8888888888888888,
              "#fdca26"
             ],
             [
              1,
              "#f0f921"
             ]
            ],
            "type": "histogram2d"
           }
          ],
          "histogram2dcontour": [
           {
            "colorbar": {
             "outlinewidth": 0,
             "ticks": ""
            },
            "colorscale": [
             [
              0,
              "#0d0887"
             ],
             [
              0.1111111111111111,
              "#46039f"
             ],
             [
              0.2222222222222222,
              "#7201a8"
             ],
             [
              0.3333333333333333,
              "#9c179e"
             ],
             [
              0.4444444444444444,
              "#bd3786"
             ],
             [
              0.5555555555555556,
              "#d8576b"
             ],
             [
              0.6666666666666666,
              "#ed7953"
             ],
             [
              0.7777777777777778,
              "#fb9f3a"
             ],
             [
              0.8888888888888888,
              "#fdca26"
             ],
             [
              1,
              "#f0f921"
             ]
            ],
            "type": "histogram2dcontour"
           }
          ],
          "mesh3d": [
           {
            "colorbar": {
             "outlinewidth": 0,
             "ticks": ""
            },
            "type": "mesh3d"
           }
          ],
          "parcoords": [
           {
            "line": {
             "colorbar": {
              "outlinewidth": 0,
              "ticks": ""
             }
            },
            "type": "parcoords"
           }
          ],
          "pie": [
           {
            "automargin": true,
            "type": "pie"
           }
          ],
          "scatter": [
           {
            "marker": {
             "colorbar": {
              "outlinewidth": 0,
              "ticks": ""
             }
            },
            "type": "scatter"
           }
          ],
          "scatter3d": [
           {
            "line": {
             "colorbar": {
              "outlinewidth": 0,
              "ticks": ""
             }
            },
            "marker": {
             "colorbar": {
              "outlinewidth": 0,
              "ticks": ""
             }
            },
            "type": "scatter3d"
           }
          ],
          "scattercarpet": [
           {
            "marker": {
             "colorbar": {
              "outlinewidth": 0,
              "ticks": ""
             }
            },
            "type": "scattercarpet"
           }
          ],
          "scattergeo": [
           {
            "marker": {
             "colorbar": {
              "outlinewidth": 0,
              "ticks": ""
             }
            },
            "type": "scattergeo"
           }
          ],
          "scattergl": [
           {
            "marker": {
             "colorbar": {
              "outlinewidth": 0,
              "ticks": ""
             }
            },
            "type": "scattergl"
           }
          ],
          "scattermapbox": [
           {
            "marker": {
             "colorbar": {
              "outlinewidth": 0,
              "ticks": ""
             }
            },
            "type": "scattermapbox"
           }
          ],
          "scatterpolar": [
           {
            "marker": {
             "colorbar": {
              "outlinewidth": 0,
              "ticks": ""
             }
            },
            "type": "scatterpolar"
           }
          ],
          "scatterpolargl": [
           {
            "marker": {
             "colorbar": {
              "outlinewidth": 0,
              "ticks": ""
             }
            },
            "type": "scatterpolargl"
           }
          ],
          "scatterternary": [
           {
            "marker": {
             "colorbar": {
              "outlinewidth": 0,
              "ticks": ""
             }
            },
            "type": "scatterternary"
           }
          ],
          "surface": [
           {
            "colorbar": {
             "outlinewidth": 0,
             "ticks": ""
            },
            "colorscale": [
             [
              0,
              "#0d0887"
             ],
             [
              0.1111111111111111,
              "#46039f"
             ],
             [
              0.2222222222222222,
              "#7201a8"
             ],
             [
              0.3333333333333333,
              "#9c179e"
             ],
             [
              0.4444444444444444,
              "#bd3786"
             ],
             [
              0.5555555555555556,
              "#d8576b"
             ],
             [
              0.6666666666666666,
              "#ed7953"
             ],
             [
              0.7777777777777778,
              "#fb9f3a"
             ],
             [
              0.8888888888888888,
              "#fdca26"
             ],
             [
              1,
              "#f0f921"
             ]
            ],
            "type": "surface"
           }
          ],
          "table": [
           {
            "cells": {
             "fill": {
              "color": "#EBF0F8"
             },
             "line": {
              "color": "white"
             }
            },
            "header": {
             "fill": {
              "color": "#C8D4E3"
             },
             "line": {
              "color": "white"
             }
            },
            "type": "table"
           }
          ]
         },
         "layout": {
          "annotationdefaults": {
           "arrowcolor": "#2a3f5f",
           "arrowhead": 0,
           "arrowwidth": 1
          },
          "autotypenumbers": "strict",
          "coloraxis": {
           "colorbar": {
            "outlinewidth": 0,
            "ticks": ""
           }
          },
          "colorscale": {
           "diverging": [
            [
             0,
             "#8e0152"
            ],
            [
             0.1,
             "#c51b7d"
            ],
            [
             0.2,
             "#de77ae"
            ],
            [
             0.3,
             "#f1b6da"
            ],
            [
             0.4,
             "#fde0ef"
            ],
            [
             0.5,
             "#f7f7f7"
            ],
            [
             0.6,
             "#e6f5d0"
            ],
            [
             0.7,
             "#b8e186"
            ],
            [
             0.8,
             "#7fbc41"
            ],
            [
             0.9,
             "#4d9221"
            ],
            [
             1,
             "#276419"
            ]
           ],
           "sequential": [
            [
             0,
             "#0d0887"
            ],
            [
             0.1111111111111111,
             "#46039f"
            ],
            [
             0.2222222222222222,
             "#7201a8"
            ],
            [
             0.3333333333333333,
             "#9c179e"
            ],
            [
             0.4444444444444444,
             "#bd3786"
            ],
            [
             0.5555555555555556,
             "#d8576b"
            ],
            [
             0.6666666666666666,
             "#ed7953"
            ],
            [
             0.7777777777777778,
             "#fb9f3a"
            ],
            [
             0.8888888888888888,
             "#fdca26"
            ],
            [
             1,
             "#f0f921"
            ]
           ],
           "sequentialminus": [
            [
             0,
             "#0d0887"
            ],
            [
             0.1111111111111111,
             "#46039f"
            ],
            [
             0.2222222222222222,
             "#7201a8"
            ],
            [
             0.3333333333333333,
             "#9c179e"
            ],
            [
             0.4444444444444444,
             "#bd3786"
            ],
            [
             0.5555555555555556,
             "#d8576b"
            ],
            [
             0.6666666666666666,
             "#ed7953"
            ],
            [
             0.7777777777777778,
             "#fb9f3a"
            ],
            [
             0.8888888888888888,
             "#fdca26"
            ],
            [
             1,
             "#f0f921"
            ]
           ]
          },
          "colorway": [
           "#636efa",
           "#EF553B",
           "#00cc96",
           "#ab63fa",
           "#FFA15A",
           "#19d3f3",
           "#FF6692",
           "#B6E880",
           "#FF97FF",
           "#FECB52"
          ],
          "font": {
           "color": "#2a3f5f"
          },
          "geo": {
           "bgcolor": "white",
           "lakecolor": "white",
           "landcolor": "#E5ECF6",
           "showlakes": true,
           "showland": true,
           "subunitcolor": "white"
          },
          "hoverlabel": {
           "align": "left"
          },
          "hovermode": "closest",
          "mapbox": {
           "style": "light"
          },
          "paper_bgcolor": "white",
          "plot_bgcolor": "#E5ECF6",
          "polar": {
           "angularaxis": {
            "gridcolor": "white",
            "linecolor": "white",
            "ticks": ""
           },
           "bgcolor": "#E5ECF6",
           "radialaxis": {
            "gridcolor": "white",
            "linecolor": "white",
            "ticks": ""
           }
          },
          "scene": {
           "xaxis": {
            "backgroundcolor": "#E5ECF6",
            "gridcolor": "white",
            "gridwidth": 2,
            "linecolor": "white",
            "showbackground": true,
            "ticks": "",
            "zerolinecolor": "white"
           },
           "yaxis": {
            "backgroundcolor": "#E5ECF6",
            "gridcolor": "white",
            "gridwidth": 2,
            "linecolor": "white",
            "showbackground": true,
            "ticks": "",
            "zerolinecolor": "white"
           },
           "zaxis": {
            "backgroundcolor": "#E5ECF6",
            "gridcolor": "white",
            "gridwidth": 2,
            "linecolor": "white",
            "showbackground": true,
            "ticks": "",
            "zerolinecolor": "white"
           }
          },
          "shapedefaults": {
           "line": {
            "color": "#2a3f5f"
           }
          },
          "ternary": {
           "aaxis": {
            "gridcolor": "white",
            "linecolor": "white",
            "ticks": ""
           },
           "baxis": {
            "gridcolor": "white",
            "linecolor": "white",
            "ticks": ""
           },
           "bgcolor": "#E5ECF6",
           "caxis": {
            "gridcolor": "white",
            "linecolor": "white",
            "ticks": ""
           }
          },
          "title": {
           "x": 0.05
          },
          "xaxis": {
           "automargin": true,
           "gridcolor": "white",
           "linecolor": "white",
           "ticks": "",
           "title": {
            "standoff": 15
           },
           "zerolinecolor": "white",
           "zerolinewidth": 2
          },
          "yaxis": {
           "automargin": true,
           "gridcolor": "white",
           "linecolor": "white",
           "ticks": "",
           "title": {
            "standoff": 15
           },
           "zerolinecolor": "white",
           "zerolinewidth": 2
          }
         }
        },
        "title": {
         "text": "Success of Marketing Campaigns"
        },
        "xaxis": {
         "anchor": "y",
         "domain": [
          0,
          1
         ],
         "title": {
          "text": "Marketing Campaign"
         }
        },
        "yaxis": {
         "anchor": "x",
         "domain": [
          0,
          1
         ],
         "title": {
          "text": "Total Offers accepted by Customers"
         }
        }
       }
      },
      "text/html": [
       "<div>                            <div id=\"143c59fe-8b90-46b8-894f-b91ef2285a9c\" class=\"plotly-graph-div\" style=\"height:525px; width:100%;\"></div>            <script type=\"text/javascript\">                require([\"plotly\"], function(Plotly) {                    window.PLOTLYENV=window.PLOTLYENV || {};                                    if (document.getElementById(\"143c59fe-8b90-46b8-894f-b91ef2285a9c\")) {                    Plotly.newPlot(                        \"143c59fe-8b90-46b8-894f-b91ef2285a9c\",                        [{\"alignmentgroup\": \"True\", \"hovertemplate\": \"x=%{x}<br>y=%{y}<extra></extra>\", \"legendgroup\": \"\", \"marker\": {\"color\": \"#636efa\"}, \"name\": \"\", \"offsetgroup\": \"\", \"orientation\": \"v\", \"showlegend\": false, \"textposition\": \"auto\", \"type\": \"bar\", \"x\": [\"AcceptedCmp1\", \"AcceptedCmp2\", \"AcceptedCmp3\", \"AcceptedCmp4\", \"AcceptedCmp5\", \"Response\"], \"xaxis\": \"x\", \"y\": [144, 30, 163, 167, 162, 334], \"yaxis\": \"y\"}],                        {\"barmode\": \"relative\", \"legend\": {\"tracegroupgap\": 0}, \"margin\": {\"t\": 60}, \"template\": {\"data\": {\"bar\": [{\"error_x\": {\"color\": \"#2a3f5f\"}, \"error_y\": {\"color\": \"#2a3f5f\"}, \"marker\": {\"line\": {\"color\": \"#E5ECF6\", \"width\": 0.5}}, \"type\": \"bar\"}], \"barpolar\": [{\"marker\": {\"line\": {\"color\": \"#E5ECF6\", \"width\": 0.5}}, \"type\": \"barpolar\"}], \"carpet\": [{\"aaxis\": {\"endlinecolor\": \"#2a3f5f\", \"gridcolor\": \"white\", \"linecolor\": \"white\", \"minorgridcolor\": \"white\", \"startlinecolor\": \"#2a3f5f\"}, \"baxis\": {\"endlinecolor\": \"#2a3f5f\", \"gridcolor\": \"white\", \"linecolor\": \"white\", \"minorgridcolor\": \"white\", \"startlinecolor\": \"#2a3f5f\"}, \"type\": \"carpet\"}], \"choropleth\": [{\"colorbar\": {\"outlinewidth\": 0, \"ticks\": \"\"}, \"type\": \"choropleth\"}], \"contour\": [{\"colorbar\": {\"outlinewidth\": 0, \"ticks\": \"\"}, \"colorscale\": [[0.0, \"#0d0887\"], [0.1111111111111111, \"#46039f\"], [0.2222222222222222, \"#7201a8\"], [0.3333333333333333, \"#9c179e\"], [0.4444444444444444, \"#bd3786\"], [0.5555555555555556, \"#d8576b\"], [0.6666666666666666, \"#ed7953\"], [0.7777777777777778, \"#fb9f3a\"], [0.8888888888888888, \"#fdca26\"], [1.0, \"#f0f921\"]], \"type\": \"contour\"}], \"contourcarpet\": [{\"colorbar\": {\"outlinewidth\": 0, \"ticks\": \"\"}, \"type\": \"contourcarpet\"}], \"heatmap\": [{\"colorbar\": {\"outlinewidth\": 0, \"ticks\": \"\"}, \"colorscale\": [[0.0, \"#0d0887\"], [0.1111111111111111, \"#46039f\"], [0.2222222222222222, \"#7201a8\"], [0.3333333333333333, \"#9c179e\"], [0.4444444444444444, \"#bd3786\"], [0.5555555555555556, \"#d8576b\"], [0.6666666666666666, \"#ed7953\"], [0.7777777777777778, \"#fb9f3a\"], [0.8888888888888888, \"#fdca26\"], [1.0, \"#f0f921\"]], \"type\": \"heatmap\"}], \"heatmapgl\": [{\"colorbar\": {\"outlinewidth\": 0, \"ticks\": \"\"}, \"colorscale\": [[0.0, \"#0d0887\"], [0.1111111111111111, \"#46039f\"], [0.2222222222222222, \"#7201a8\"], [0.3333333333333333, \"#9c179e\"], [0.4444444444444444, \"#bd3786\"], [0.5555555555555556, \"#d8576b\"], [0.6666666666666666, \"#ed7953\"], [0.7777777777777778, \"#fb9f3a\"], [0.8888888888888888, \"#fdca26\"], [1.0, \"#f0f921\"]], \"type\": \"heatmapgl\"}], \"histogram\": [{\"marker\": {\"colorbar\": {\"outlinewidth\": 0, \"ticks\": \"\"}}, \"type\": \"histogram\"}], \"histogram2d\": [{\"colorbar\": {\"outlinewidth\": 0, \"ticks\": \"\"}, \"colorscale\": [[0.0, \"#0d0887\"], [0.1111111111111111, \"#46039f\"], [0.2222222222222222, \"#7201a8\"], [0.3333333333333333, \"#9c179e\"], [0.4444444444444444, \"#bd3786\"], [0.5555555555555556, \"#d8576b\"], [0.6666666666666666, \"#ed7953\"], [0.7777777777777778, \"#fb9f3a\"], [0.8888888888888888, \"#fdca26\"], [1.0, \"#f0f921\"]], \"type\": \"histogram2d\"}], \"histogram2dcontour\": [{\"colorbar\": {\"outlinewidth\": 0, \"ticks\": \"\"}, \"colorscale\": [[0.0, \"#0d0887\"], [0.1111111111111111, \"#46039f\"], [0.2222222222222222, \"#7201a8\"], [0.3333333333333333, \"#9c179e\"], [0.4444444444444444, \"#bd3786\"], [0.5555555555555556, \"#d8576b\"], [0.6666666666666666, \"#ed7953\"], [0.7777777777777778, \"#fb9f3a\"], [0.8888888888888888, \"#fdca26\"], [1.0, \"#f0f921\"]], \"type\": \"histogram2dcontour\"}], \"mesh3d\": [{\"colorbar\": {\"outlinewidth\": 0, \"ticks\": \"\"}, \"type\": \"mesh3d\"}], \"parcoords\": [{\"line\": {\"colorbar\": {\"outlinewidth\": 0, \"ticks\": \"\"}}, \"type\": \"parcoords\"}], \"pie\": [{\"automargin\": true, \"type\": \"pie\"}], \"scatter\": [{\"marker\": {\"colorbar\": {\"outlinewidth\": 0, \"ticks\": \"\"}}, \"type\": \"scatter\"}], \"scatter3d\": [{\"line\": {\"colorbar\": {\"outlinewidth\": 0, \"ticks\": \"\"}}, \"marker\": {\"colorbar\": {\"outlinewidth\": 0, \"ticks\": \"\"}}, \"type\": \"scatter3d\"}], \"scattercarpet\": [{\"marker\": {\"colorbar\": {\"outlinewidth\": 0, \"ticks\": \"\"}}, \"type\": \"scattercarpet\"}], \"scattergeo\": [{\"marker\": {\"colorbar\": {\"outlinewidth\": 0, \"ticks\": \"\"}}, \"type\": \"scattergeo\"}], \"scattergl\": [{\"marker\": {\"colorbar\": {\"outlinewidth\": 0, \"ticks\": \"\"}}, \"type\": \"scattergl\"}], \"scattermapbox\": [{\"marker\": {\"colorbar\": {\"outlinewidth\": 0, \"ticks\": \"\"}}, \"type\": \"scattermapbox\"}], \"scatterpolar\": [{\"marker\": {\"colorbar\": {\"outlinewidth\": 0, \"ticks\": \"\"}}, \"type\": \"scatterpolar\"}], \"scatterpolargl\": [{\"marker\": {\"colorbar\": {\"outlinewidth\": 0, \"ticks\": \"\"}}, \"type\": \"scatterpolargl\"}], \"scatterternary\": [{\"marker\": {\"colorbar\": {\"outlinewidth\": 0, \"ticks\": \"\"}}, \"type\": \"scatterternary\"}], \"surface\": [{\"colorbar\": {\"outlinewidth\": 0, \"ticks\": \"\"}, \"colorscale\": [[0.0, \"#0d0887\"], [0.1111111111111111, \"#46039f\"], [0.2222222222222222, \"#7201a8\"], [0.3333333333333333, \"#9c179e\"], [0.4444444444444444, \"#bd3786\"], [0.5555555555555556, \"#d8576b\"], [0.6666666666666666, \"#ed7953\"], [0.7777777777777778, \"#fb9f3a\"], [0.8888888888888888, \"#fdca26\"], [1.0, \"#f0f921\"]], \"type\": \"surface\"}], \"table\": [{\"cells\": {\"fill\": {\"color\": \"#EBF0F8\"}, \"line\": {\"color\": \"white\"}}, \"header\": {\"fill\": {\"color\": \"#C8D4E3\"}, \"line\": {\"color\": \"white\"}}, \"type\": \"table\"}]}, \"layout\": {\"annotationdefaults\": {\"arrowcolor\": \"#2a3f5f\", \"arrowhead\": 0, \"arrowwidth\": 1}, \"autotypenumbers\": \"strict\", \"coloraxis\": {\"colorbar\": {\"outlinewidth\": 0, \"ticks\": \"\"}}, \"colorscale\": {\"diverging\": [[0, \"#8e0152\"], [0.1, \"#c51b7d\"], [0.2, \"#de77ae\"], [0.3, \"#f1b6da\"], [0.4, \"#fde0ef\"], [0.5, \"#f7f7f7\"], [0.6, \"#e6f5d0\"], [0.7, \"#b8e186\"], [0.8, \"#7fbc41\"], [0.9, \"#4d9221\"], [1, \"#276419\"]], \"sequential\": [[0.0, \"#0d0887\"], [0.1111111111111111, \"#46039f\"], [0.2222222222222222, \"#7201a8\"], [0.3333333333333333, \"#9c179e\"], [0.4444444444444444, \"#bd3786\"], [0.5555555555555556, \"#d8576b\"], [0.6666666666666666, \"#ed7953\"], [0.7777777777777778, \"#fb9f3a\"], [0.8888888888888888, \"#fdca26\"], [1.0, \"#f0f921\"]], \"sequentialminus\": [[0.0, \"#0d0887\"], [0.1111111111111111, \"#46039f\"], [0.2222222222222222, \"#7201a8\"], [0.3333333333333333, \"#9c179e\"], [0.4444444444444444, \"#bd3786\"], [0.5555555555555556, \"#d8576b\"], [0.6666666666666666, \"#ed7953\"], [0.7777777777777778, \"#fb9f3a\"], [0.8888888888888888, \"#fdca26\"], [1.0, \"#f0f921\"]]}, \"colorway\": [\"#636efa\", \"#EF553B\", \"#00cc96\", \"#ab63fa\", \"#FFA15A\", \"#19d3f3\", \"#FF6692\", \"#B6E880\", \"#FF97FF\", \"#FECB52\"], \"font\": {\"color\": \"#2a3f5f\"}, \"geo\": {\"bgcolor\": \"white\", \"lakecolor\": \"white\", \"landcolor\": \"#E5ECF6\", \"showlakes\": true, \"showland\": true, \"subunitcolor\": \"white\"}, \"hoverlabel\": {\"align\": \"left\"}, \"hovermode\": \"closest\", \"mapbox\": {\"style\": \"light\"}, \"paper_bgcolor\": \"white\", \"plot_bgcolor\": \"#E5ECF6\", \"polar\": {\"angularaxis\": {\"gridcolor\": \"white\", \"linecolor\": \"white\", \"ticks\": \"\"}, \"bgcolor\": \"#E5ECF6\", \"radialaxis\": {\"gridcolor\": \"white\", \"linecolor\": \"white\", \"ticks\": \"\"}}, \"scene\": {\"xaxis\": {\"backgroundcolor\": \"#E5ECF6\", \"gridcolor\": \"white\", \"gridwidth\": 2, \"linecolor\": \"white\", \"showbackground\": true, \"ticks\": \"\", \"zerolinecolor\": \"white\"}, \"yaxis\": {\"backgroundcolor\": \"#E5ECF6\", \"gridcolor\": \"white\", \"gridwidth\": 2, \"linecolor\": \"white\", \"showbackground\": true, \"ticks\": \"\", \"zerolinecolor\": \"white\"}, \"zaxis\": {\"backgroundcolor\": \"#E5ECF6\", \"gridcolor\": \"white\", \"gridwidth\": 2, \"linecolor\": \"white\", \"showbackground\": true, \"ticks\": \"\", \"zerolinecolor\": \"white\"}}, \"shapedefaults\": {\"line\": {\"color\": \"#2a3f5f\"}}, \"ternary\": {\"aaxis\": {\"gridcolor\": \"white\", \"linecolor\": \"white\", \"ticks\": \"\"}, \"baxis\": {\"gridcolor\": \"white\", \"linecolor\": \"white\", \"ticks\": \"\"}, \"bgcolor\": \"#E5ECF6\", \"caxis\": {\"gridcolor\": \"white\", \"linecolor\": \"white\", \"ticks\": \"\"}}, \"title\": {\"x\": 0.05}, \"xaxis\": {\"automargin\": true, \"gridcolor\": \"white\", \"linecolor\": \"white\", \"ticks\": \"\", \"title\": {\"standoff\": 15}, \"zerolinecolor\": \"white\", \"zerolinewidth\": 2}, \"yaxis\": {\"automargin\": true, \"gridcolor\": \"white\", \"linecolor\": \"white\", \"ticks\": \"\", \"title\": {\"standoff\": 15}, \"zerolinecolor\": \"white\", \"zerolinewidth\": 2}}}, \"title\": {\"text\": \"Success of Marketing Campaigns\"}, \"xaxis\": {\"anchor\": \"y\", \"domain\": [0.0, 1.0], \"title\": {\"text\": \"Marketing Campaign\"}}, \"yaxis\": {\"anchor\": \"x\", \"domain\": [0.0, 1.0], \"title\": {\"text\": \"Total Offers accepted by Customers\"}}},                        {\"responsive\": true}                    ).then(function(){\n",
       "                            \n",
       "var gd = document.getElementById('143c59fe-8b90-46b8-894f-b91ef2285a9c');\n",
       "var x = new MutationObserver(function (mutations, observer) {{\n",
       "        var display = window.getComputedStyle(gd).display;\n",
       "        if (!display || display === 'none') {{\n",
       "            console.log([gd, 'removed!']);\n",
       "            Plotly.purge(gd);\n",
       "            observer.disconnect();\n",
       "        }}\n",
       "}});\n",
       "\n",
       "// Listen for the removal of the full notebook cells\n",
       "var notebookContainer = gd.closest('#notebook-container');\n",
       "if (notebookContainer) {{\n",
       "    x.observe(notebookContainer, {childList: true});\n",
       "}}\n",
       "\n",
       "// Listen for the clearing of the current output cell\n",
       "var outputEl = gd.closest('.output');\n",
       "if (outputEl) {{\n",
       "    x.observe(outputEl, {childList: true});\n",
       "}}\n",
       "\n",
       "                        })                };                });            </script>        </div>"
      ]
     },
     "metadata": {},
     "output_type": "display_data"
    }
   ],
   "source": [
    "fig  = px.bar(x = ['AcceptedCmp1' , 'AcceptedCmp2' , 'AcceptedCmp3' ,'AcceptedCmp4' , 'AcceptedCmp5' , 'Response'] , \n",
    "      y = [ac1 , ac2 , ac3 , ac4 , ac5 , rsp])\n",
    "\n",
    "fig.update_xaxes(title_text='Marketing Campaign')\n",
    "fig.update_yaxes(title_text='Total Offers accepted by Customers')\n",
    "fig.update_layout(title = 'Success of Marketing Campaigns')\n",
    "\n",
    "fig.show()"
   ]
  },
  {
   "cell_type": "markdown",
   "metadata": {},
   "source": [
    "# An average customer is from SP, born between the years 1970 and 1980 with a Graduation and married with 0 kids."
   ]
  },
  {
   "cell_type": "markdown",
   "metadata": {},
   "source": [
    "# Best Performing Products"
   ]
  },
  {
   "cell_type": "code",
   "execution_count": 61,
   "metadata": {},
   "outputs": [],
   "source": [
    "Wine = df.MntWines.sum()\n",
    "Fruits = df.MntFruits.sum()\n",
    "Meat = df.MntMeatProducts.sum()\n",
    "Fish = df.MntFishProducts.sum()\n",
    "Sweet = df.MntSweetProducts.sum()\n",
    "Gold = df.MntGoldProds.sum()"
   ]
  },
  {
   "cell_type": "code",
   "execution_count": 62,
   "metadata": {},
   "outputs": [
    {
     "data": {
      "application/vnd.plotly.v1+json": {
       "config": {
        "plotlyServerURL": "https://plot.ly"
       },
       "data": [
        {
         "marker": {
          "size": 30
         },
         "mode": "lines+markers",
         "type": "scatter",
         "x": [
          "Wine",
          "Fruits",
          "Meat",
          "Fish",
          "Sweet",
          "Gold"
         ],
         "y": [
          679989,
          58759,
          373377,
          83936,
          60556,
          98367
         ]
        }
       ],
       "layout": {
        "template": {
         "data": {
          "bar": [
           {
            "error_x": {
             "color": "#2a3f5f"
            },
            "error_y": {
             "color": "#2a3f5f"
            },
            "marker": {
             "line": {
              "color": "#E5ECF6",
              "width": 0.5
             }
            },
            "type": "bar"
           }
          ],
          "barpolar": [
           {
            "marker": {
             "line": {
              "color": "#E5ECF6",
              "width": 0.5
             }
            },
            "type": "barpolar"
           }
          ],
          "carpet": [
           {
            "aaxis": {
             "endlinecolor": "#2a3f5f",
             "gridcolor": "white",
             "linecolor": "white",
             "minorgridcolor": "white",
             "startlinecolor": "#2a3f5f"
            },
            "baxis": {
             "endlinecolor": "#2a3f5f",
             "gridcolor": "white",
             "linecolor": "white",
             "minorgridcolor": "white",
             "startlinecolor": "#2a3f5f"
            },
            "type": "carpet"
           }
          ],
          "choropleth": [
           {
            "colorbar": {
             "outlinewidth": 0,
             "ticks": ""
            },
            "type": "choropleth"
           }
          ],
          "contour": [
           {
            "colorbar": {
             "outlinewidth": 0,
             "ticks": ""
            },
            "colorscale": [
             [
              0,
              "#0d0887"
             ],
             [
              0.1111111111111111,
              "#46039f"
             ],
             [
              0.2222222222222222,
              "#7201a8"
             ],
             [
              0.3333333333333333,
              "#9c179e"
             ],
             [
              0.4444444444444444,
              "#bd3786"
             ],
             [
              0.5555555555555556,
              "#d8576b"
             ],
             [
              0.6666666666666666,
              "#ed7953"
             ],
             [
              0.7777777777777778,
              "#fb9f3a"
             ],
             [
              0.8888888888888888,
              "#fdca26"
             ],
             [
              1,
              "#f0f921"
             ]
            ],
            "type": "contour"
           }
          ],
          "contourcarpet": [
           {
            "colorbar": {
             "outlinewidth": 0,
             "ticks": ""
            },
            "type": "contourcarpet"
           }
          ],
          "heatmap": [
           {
            "colorbar": {
             "outlinewidth": 0,
             "ticks": ""
            },
            "colorscale": [
             [
              0,
              "#0d0887"
             ],
             [
              0.1111111111111111,
              "#46039f"
             ],
             [
              0.2222222222222222,
              "#7201a8"
             ],
             [
              0.3333333333333333,
              "#9c179e"
             ],
             [
              0.4444444444444444,
              "#bd3786"
             ],
             [
              0.5555555555555556,
              "#d8576b"
             ],
             [
              0.6666666666666666,
              "#ed7953"
             ],
             [
              0.7777777777777778,
              "#fb9f3a"
             ],
             [
              0.8888888888888888,
              "#fdca26"
             ],
             [
              1,
              "#f0f921"
             ]
            ],
            "type": "heatmap"
           }
          ],
          "heatmapgl": [
           {
            "colorbar": {
             "outlinewidth": 0,
             "ticks": ""
            },
            "colorscale": [
             [
              0,
              "#0d0887"
             ],
             [
              0.1111111111111111,
              "#46039f"
             ],
             [
              0.2222222222222222,
              "#7201a8"
             ],
             [
              0.3333333333333333,
              "#9c179e"
             ],
             [
              0.4444444444444444,
              "#bd3786"
             ],
             [
              0.5555555555555556,
              "#d8576b"
             ],
             [
              0.6666666666666666,
              "#ed7953"
             ],
             [
              0.7777777777777778,
              "#fb9f3a"
             ],
             [
              0.8888888888888888,
              "#fdca26"
             ],
             [
              1,
              "#f0f921"
             ]
            ],
            "type": "heatmapgl"
           }
          ],
          "histogram": [
           {
            "marker": {
             "colorbar": {
              "outlinewidth": 0,
              "ticks": ""
             }
            },
            "type": "histogram"
           }
          ],
          "histogram2d": [
           {
            "colorbar": {
             "outlinewidth": 0,
             "ticks": ""
            },
            "colorscale": [
             [
              0,
              "#0d0887"
             ],
             [
              0.1111111111111111,
              "#46039f"
             ],
             [
              0.2222222222222222,
              "#7201a8"
             ],
             [
              0.3333333333333333,
              "#9c179e"
             ],
             [
              0.4444444444444444,
              "#bd3786"
             ],
             [
              0.5555555555555556,
              "#d8576b"
             ],
             [
              0.6666666666666666,
              "#ed7953"
             ],
             [
              0.7777777777777778,
              "#fb9f3a"
             ],
             [
              0.8888888888888888,
              "#fdca26"
             ],
             [
              1,
              "#f0f921"
             ]
            ],
            "type": "histogram2d"
           }
          ],
          "histogram2dcontour": [
           {
            "colorbar": {
             "outlinewidth": 0,
             "ticks": ""
            },
            "colorscale": [
             [
              0,
              "#0d0887"
             ],
             [
              0.1111111111111111,
              "#46039f"
             ],
             [
              0.2222222222222222,
              "#7201a8"
             ],
             [
              0.3333333333333333,
              "#9c179e"
             ],
             [
              0.4444444444444444,
              "#bd3786"
             ],
             [
              0.5555555555555556,
              "#d8576b"
             ],
             [
              0.6666666666666666,
              "#ed7953"
             ],
             [
              0.7777777777777778,
              "#fb9f3a"
             ],
             [
              0.8888888888888888,
              "#fdca26"
             ],
             [
              1,
              "#f0f921"
             ]
            ],
            "type": "histogram2dcontour"
           }
          ],
          "mesh3d": [
           {
            "colorbar": {
             "outlinewidth": 0,
             "ticks": ""
            },
            "type": "mesh3d"
           }
          ],
          "parcoords": [
           {
            "line": {
             "colorbar": {
              "outlinewidth": 0,
              "ticks": ""
             }
            },
            "type": "parcoords"
           }
          ],
          "pie": [
           {
            "automargin": true,
            "type": "pie"
           }
          ],
          "scatter": [
           {
            "marker": {
             "colorbar": {
              "outlinewidth": 0,
              "ticks": ""
             }
            },
            "type": "scatter"
           }
          ],
          "scatter3d": [
           {
            "line": {
             "colorbar": {
              "outlinewidth": 0,
              "ticks": ""
             }
            },
            "marker": {
             "colorbar": {
              "outlinewidth": 0,
              "ticks": ""
             }
            },
            "type": "scatter3d"
           }
          ],
          "scattercarpet": [
           {
            "marker": {
             "colorbar": {
              "outlinewidth": 0,
              "ticks": ""
             }
            },
            "type": "scattercarpet"
           }
          ],
          "scattergeo": [
           {
            "marker": {
             "colorbar": {
              "outlinewidth": 0,
              "ticks": ""
             }
            },
            "type": "scattergeo"
           }
          ],
          "scattergl": [
           {
            "marker": {
             "colorbar": {
              "outlinewidth": 0,
              "ticks": ""
             }
            },
            "type": "scattergl"
           }
          ],
          "scattermapbox": [
           {
            "marker": {
             "colorbar": {
              "outlinewidth": 0,
              "ticks": ""
             }
            },
            "type": "scattermapbox"
           }
          ],
          "scatterpolar": [
           {
            "marker": {
             "colorbar": {
              "outlinewidth": 0,
              "ticks": ""
             }
            },
            "type": "scatterpolar"
           }
          ],
          "scatterpolargl": [
           {
            "marker": {
             "colorbar": {
              "outlinewidth": 0,
              "ticks": ""
             }
            },
            "type": "scatterpolargl"
           }
          ],
          "scatterternary": [
           {
            "marker": {
             "colorbar": {
              "outlinewidth": 0,
              "ticks": ""
             }
            },
            "type": "scatterternary"
           }
          ],
          "surface": [
           {
            "colorbar": {
             "outlinewidth": 0,
             "ticks": ""
            },
            "colorscale": [
             [
              0,
              "#0d0887"
             ],
             [
              0.1111111111111111,
              "#46039f"
             ],
             [
              0.2222222222222222,
              "#7201a8"
             ],
             [
              0.3333333333333333,
              "#9c179e"
             ],
             [
              0.4444444444444444,
              "#bd3786"
             ],
             [
              0.5555555555555556,
              "#d8576b"
             ],
             [
              0.6666666666666666,
              "#ed7953"
             ],
             [
              0.7777777777777778,
              "#fb9f3a"
             ],
             [
              0.8888888888888888,
              "#fdca26"
             ],
             [
              1,
              "#f0f921"
             ]
            ],
            "type": "surface"
           }
          ],
          "table": [
           {
            "cells": {
             "fill": {
              "color": "#EBF0F8"
             },
             "line": {
              "color": "white"
             }
            },
            "header": {
             "fill": {
              "color": "#C8D4E3"
             },
             "line": {
              "color": "white"
             }
            },
            "type": "table"
           }
          ]
         },
         "layout": {
          "annotationdefaults": {
           "arrowcolor": "#2a3f5f",
           "arrowhead": 0,
           "arrowwidth": 1
          },
          "autotypenumbers": "strict",
          "coloraxis": {
           "colorbar": {
            "outlinewidth": 0,
            "ticks": ""
           }
          },
          "colorscale": {
           "diverging": [
            [
             0,
             "#8e0152"
            ],
            [
             0.1,
             "#c51b7d"
            ],
            [
             0.2,
             "#de77ae"
            ],
            [
             0.3,
             "#f1b6da"
            ],
            [
             0.4,
             "#fde0ef"
            ],
            [
             0.5,
             "#f7f7f7"
            ],
            [
             0.6,
             "#e6f5d0"
            ],
            [
             0.7,
             "#b8e186"
            ],
            [
             0.8,
             "#7fbc41"
            ],
            [
             0.9,
             "#4d9221"
            ],
            [
             1,
             "#276419"
            ]
           ],
           "sequential": [
            [
             0,
             "#0d0887"
            ],
            [
             0.1111111111111111,
             "#46039f"
            ],
            [
             0.2222222222222222,
             "#7201a8"
            ],
            [
             0.3333333333333333,
             "#9c179e"
            ],
            [
             0.4444444444444444,
             "#bd3786"
            ],
            [
             0.5555555555555556,
             "#d8576b"
            ],
            [
             0.6666666666666666,
             "#ed7953"
            ],
            [
             0.7777777777777778,
             "#fb9f3a"
            ],
            [
             0.8888888888888888,
             "#fdca26"
            ],
            [
             1,
             "#f0f921"
            ]
           ],
           "sequentialminus": [
            [
             0,
             "#0d0887"
            ],
            [
             0.1111111111111111,
             "#46039f"
            ],
            [
             0.2222222222222222,
             "#7201a8"
            ],
            [
             0.3333333333333333,
             "#9c179e"
            ],
            [
             0.4444444444444444,
             "#bd3786"
            ],
            [
             0.5555555555555556,
             "#d8576b"
            ],
            [
             0.6666666666666666,
             "#ed7953"
            ],
            [
             0.7777777777777778,
             "#fb9f3a"
            ],
            [
             0.8888888888888888,
             "#fdca26"
            ],
            [
             1,
             "#f0f921"
            ]
           ]
          },
          "colorway": [
           "#636efa",
           "#EF553B",
           "#00cc96",
           "#ab63fa",
           "#FFA15A",
           "#19d3f3",
           "#FF6692",
           "#B6E880",
           "#FF97FF",
           "#FECB52"
          ],
          "font": {
           "color": "#2a3f5f"
          },
          "geo": {
           "bgcolor": "white",
           "lakecolor": "white",
           "landcolor": "#E5ECF6",
           "showlakes": true,
           "showland": true,
           "subunitcolor": "white"
          },
          "hoverlabel": {
           "align": "left"
          },
          "hovermode": "closest",
          "mapbox": {
           "style": "light"
          },
          "paper_bgcolor": "white",
          "plot_bgcolor": "#E5ECF6",
          "polar": {
           "angularaxis": {
            "gridcolor": "white",
            "linecolor": "white",
            "ticks": ""
           },
           "bgcolor": "#E5ECF6",
           "radialaxis": {
            "gridcolor": "white",
            "linecolor": "white",
            "ticks": ""
           }
          },
          "scene": {
           "xaxis": {
            "backgroundcolor": "#E5ECF6",
            "gridcolor": "white",
            "gridwidth": 2,
            "linecolor": "white",
            "showbackground": true,
            "ticks": "",
            "zerolinecolor": "white"
           },
           "yaxis": {
            "backgroundcolor": "#E5ECF6",
            "gridcolor": "white",
            "gridwidth": 2,
            "linecolor": "white",
            "showbackground": true,
            "ticks": "",
            "zerolinecolor": "white"
           },
           "zaxis": {
            "backgroundcolor": "#E5ECF6",
            "gridcolor": "white",
            "gridwidth": 2,
            "linecolor": "white",
            "showbackground": true,
            "ticks": "",
            "zerolinecolor": "white"
           }
          },
          "shapedefaults": {
           "line": {
            "color": "#2a3f5f"
           }
          },
          "ternary": {
           "aaxis": {
            "gridcolor": "white",
            "linecolor": "white",
            "ticks": ""
           },
           "baxis": {
            "gridcolor": "white",
            "linecolor": "white",
            "ticks": ""
           },
           "bgcolor": "#E5ECF6",
           "caxis": {
            "gridcolor": "white",
            "linecolor": "white",
            "ticks": ""
           }
          },
          "title": {
           "x": 0.05
          },
          "xaxis": {
           "automargin": true,
           "gridcolor": "white",
           "linecolor": "white",
           "ticks": "",
           "title": {
            "standoff": 15
           },
           "zerolinecolor": "white",
           "zerolinewidth": 2
          },
          "yaxis": {
           "automargin": true,
           "gridcolor": "white",
           "linecolor": "white",
           "ticks": "",
           "title": {
            "standoff": 15
           },
           "zerolinecolor": "white",
           "zerolinewidth": 2
          }
         }
        },
        "title": {
         "text": "Product Performance"
        },
        "xaxis": {
         "title": {
          "text": "Products"
         }
        },
        "yaxis": {
         "title": {
          "text": "Amount Spent"
         }
        }
       }
      },
      "text/html": [
       "<div>                            <div id=\"bf5beb99-4e98-432a-86d8-7282d8a12184\" class=\"plotly-graph-div\" style=\"height:525px; width:100%;\"></div>            <script type=\"text/javascript\">                require([\"plotly\"], function(Plotly) {                    window.PLOTLYENV=window.PLOTLYENV || {};                                    if (document.getElementById(\"bf5beb99-4e98-432a-86d8-7282d8a12184\")) {                    Plotly.newPlot(                        \"bf5beb99-4e98-432a-86d8-7282d8a12184\",                        [{\"marker\": {\"size\": 30}, \"mode\": \"lines+markers\", \"type\": \"scatter\", \"x\": [\"Wine\", \"Fruits\", \"Meat\", \"Fish\", \"Sweet\", \"Gold\"], \"y\": [679989, 58759, 373377, 83936, 60556, 98367]}],                        {\"template\": {\"data\": {\"bar\": [{\"error_x\": {\"color\": \"#2a3f5f\"}, \"error_y\": {\"color\": \"#2a3f5f\"}, \"marker\": {\"line\": {\"color\": \"#E5ECF6\", \"width\": 0.5}}, \"type\": \"bar\"}], \"barpolar\": [{\"marker\": {\"line\": {\"color\": \"#E5ECF6\", \"width\": 0.5}}, \"type\": \"barpolar\"}], \"carpet\": [{\"aaxis\": {\"endlinecolor\": \"#2a3f5f\", \"gridcolor\": \"white\", \"linecolor\": \"white\", \"minorgridcolor\": \"white\", \"startlinecolor\": \"#2a3f5f\"}, \"baxis\": {\"endlinecolor\": \"#2a3f5f\", \"gridcolor\": \"white\", \"linecolor\": \"white\", \"minorgridcolor\": \"white\", \"startlinecolor\": \"#2a3f5f\"}, \"type\": \"carpet\"}], \"choropleth\": [{\"colorbar\": {\"outlinewidth\": 0, \"ticks\": \"\"}, \"type\": \"choropleth\"}], \"contour\": [{\"colorbar\": {\"outlinewidth\": 0, \"ticks\": \"\"}, \"colorscale\": [[0.0, \"#0d0887\"], [0.1111111111111111, \"#46039f\"], [0.2222222222222222, \"#7201a8\"], [0.3333333333333333, \"#9c179e\"], [0.4444444444444444, \"#bd3786\"], [0.5555555555555556, \"#d8576b\"], [0.6666666666666666, \"#ed7953\"], [0.7777777777777778, \"#fb9f3a\"], [0.8888888888888888, \"#fdca26\"], [1.0, \"#f0f921\"]], \"type\": \"contour\"}], \"contourcarpet\": [{\"colorbar\": {\"outlinewidth\": 0, \"ticks\": \"\"}, \"type\": \"contourcarpet\"}], \"heatmap\": [{\"colorbar\": {\"outlinewidth\": 0, \"ticks\": \"\"}, \"colorscale\": [[0.0, \"#0d0887\"], [0.1111111111111111, \"#46039f\"], [0.2222222222222222, \"#7201a8\"], [0.3333333333333333, \"#9c179e\"], [0.4444444444444444, \"#bd3786\"], [0.5555555555555556, \"#d8576b\"], [0.6666666666666666, \"#ed7953\"], [0.7777777777777778, \"#fb9f3a\"], [0.8888888888888888, \"#fdca26\"], [1.0, \"#f0f921\"]], \"type\": \"heatmap\"}], \"heatmapgl\": [{\"colorbar\": {\"outlinewidth\": 0, \"ticks\": \"\"}, \"colorscale\": [[0.0, \"#0d0887\"], [0.1111111111111111, \"#46039f\"], [0.2222222222222222, \"#7201a8\"], [0.3333333333333333, \"#9c179e\"], [0.4444444444444444, \"#bd3786\"], [0.5555555555555556, \"#d8576b\"], [0.6666666666666666, \"#ed7953\"], [0.7777777777777778, \"#fb9f3a\"], [0.8888888888888888, \"#fdca26\"], [1.0, \"#f0f921\"]], \"type\": \"heatmapgl\"}], \"histogram\": [{\"marker\": {\"colorbar\": {\"outlinewidth\": 0, \"ticks\": \"\"}}, \"type\": \"histogram\"}], \"histogram2d\": [{\"colorbar\": {\"outlinewidth\": 0, \"ticks\": \"\"}, \"colorscale\": [[0.0, \"#0d0887\"], [0.1111111111111111, \"#46039f\"], [0.2222222222222222, \"#7201a8\"], [0.3333333333333333, \"#9c179e\"], [0.4444444444444444, \"#bd3786\"], [0.5555555555555556, \"#d8576b\"], [0.6666666666666666, \"#ed7953\"], [0.7777777777777778, \"#fb9f3a\"], [0.8888888888888888, \"#fdca26\"], [1.0, \"#f0f921\"]], \"type\": \"histogram2d\"}], \"histogram2dcontour\": [{\"colorbar\": {\"outlinewidth\": 0, \"ticks\": \"\"}, \"colorscale\": [[0.0, \"#0d0887\"], [0.1111111111111111, \"#46039f\"], [0.2222222222222222, \"#7201a8\"], [0.3333333333333333, \"#9c179e\"], [0.4444444444444444, \"#bd3786\"], [0.5555555555555556, \"#d8576b\"], [0.6666666666666666, \"#ed7953\"], [0.7777777777777778, \"#fb9f3a\"], [0.8888888888888888, \"#fdca26\"], [1.0, \"#f0f921\"]], \"type\": \"histogram2dcontour\"}], \"mesh3d\": [{\"colorbar\": {\"outlinewidth\": 0, \"ticks\": \"\"}, \"type\": \"mesh3d\"}], \"parcoords\": [{\"line\": {\"colorbar\": {\"outlinewidth\": 0, \"ticks\": \"\"}}, \"type\": \"parcoords\"}], \"pie\": [{\"automargin\": true, \"type\": \"pie\"}], \"scatter\": [{\"marker\": {\"colorbar\": {\"outlinewidth\": 0, \"ticks\": \"\"}}, \"type\": \"scatter\"}], \"scatter3d\": [{\"line\": {\"colorbar\": {\"outlinewidth\": 0, \"ticks\": \"\"}}, \"marker\": {\"colorbar\": {\"outlinewidth\": 0, \"ticks\": \"\"}}, \"type\": \"scatter3d\"}], \"scattercarpet\": [{\"marker\": {\"colorbar\": {\"outlinewidth\": 0, \"ticks\": \"\"}}, \"type\": \"scattercarpet\"}], \"scattergeo\": [{\"marker\": {\"colorbar\": {\"outlinewidth\": 0, \"ticks\": \"\"}}, \"type\": \"scattergeo\"}], \"scattergl\": [{\"marker\": {\"colorbar\": {\"outlinewidth\": 0, \"ticks\": \"\"}}, \"type\": \"scattergl\"}], \"scattermapbox\": [{\"marker\": {\"colorbar\": {\"outlinewidth\": 0, \"ticks\": \"\"}}, \"type\": \"scattermapbox\"}], \"scatterpolar\": [{\"marker\": {\"colorbar\": {\"outlinewidth\": 0, \"ticks\": \"\"}}, \"type\": \"scatterpolar\"}], \"scatterpolargl\": [{\"marker\": {\"colorbar\": {\"outlinewidth\": 0, \"ticks\": \"\"}}, \"type\": \"scatterpolargl\"}], \"scatterternary\": [{\"marker\": {\"colorbar\": {\"outlinewidth\": 0, \"ticks\": \"\"}}, \"type\": \"scatterternary\"}], \"surface\": [{\"colorbar\": {\"outlinewidth\": 0, \"ticks\": \"\"}, \"colorscale\": [[0.0, \"#0d0887\"], [0.1111111111111111, \"#46039f\"], [0.2222222222222222, \"#7201a8\"], [0.3333333333333333, \"#9c179e\"], [0.4444444444444444, \"#bd3786\"], [0.5555555555555556, \"#d8576b\"], [0.6666666666666666, \"#ed7953\"], [0.7777777777777778, \"#fb9f3a\"], [0.8888888888888888, \"#fdca26\"], [1.0, \"#f0f921\"]], \"type\": \"surface\"}], \"table\": [{\"cells\": {\"fill\": {\"color\": \"#EBF0F8\"}, \"line\": {\"color\": \"white\"}}, \"header\": {\"fill\": {\"color\": \"#C8D4E3\"}, \"line\": {\"color\": \"white\"}}, \"type\": \"table\"}]}, \"layout\": {\"annotationdefaults\": {\"arrowcolor\": \"#2a3f5f\", \"arrowhead\": 0, \"arrowwidth\": 1}, \"autotypenumbers\": \"strict\", \"coloraxis\": {\"colorbar\": {\"outlinewidth\": 0, \"ticks\": \"\"}}, \"colorscale\": {\"diverging\": [[0, \"#8e0152\"], [0.1, \"#c51b7d\"], [0.2, \"#de77ae\"], [0.3, \"#f1b6da\"], [0.4, \"#fde0ef\"], [0.5, \"#f7f7f7\"], [0.6, \"#e6f5d0\"], [0.7, \"#b8e186\"], [0.8, \"#7fbc41\"], [0.9, \"#4d9221\"], [1, \"#276419\"]], \"sequential\": [[0.0, \"#0d0887\"], [0.1111111111111111, \"#46039f\"], [0.2222222222222222, \"#7201a8\"], [0.3333333333333333, \"#9c179e\"], [0.4444444444444444, \"#bd3786\"], [0.5555555555555556, \"#d8576b\"], [0.6666666666666666, \"#ed7953\"], [0.7777777777777778, \"#fb9f3a\"], [0.8888888888888888, \"#fdca26\"], [1.0, \"#f0f921\"]], \"sequentialminus\": [[0.0, \"#0d0887\"], [0.1111111111111111, \"#46039f\"], [0.2222222222222222, \"#7201a8\"], [0.3333333333333333, \"#9c179e\"], [0.4444444444444444, \"#bd3786\"], [0.5555555555555556, \"#d8576b\"], [0.6666666666666666, \"#ed7953\"], [0.7777777777777778, \"#fb9f3a\"], [0.8888888888888888, \"#fdca26\"], [1.0, \"#f0f921\"]]}, \"colorway\": [\"#636efa\", \"#EF553B\", \"#00cc96\", \"#ab63fa\", \"#FFA15A\", \"#19d3f3\", \"#FF6692\", \"#B6E880\", \"#FF97FF\", \"#FECB52\"], \"font\": {\"color\": \"#2a3f5f\"}, \"geo\": {\"bgcolor\": \"white\", \"lakecolor\": \"white\", \"landcolor\": \"#E5ECF6\", \"showlakes\": true, \"showland\": true, \"subunitcolor\": \"white\"}, \"hoverlabel\": {\"align\": \"left\"}, \"hovermode\": \"closest\", \"mapbox\": {\"style\": \"light\"}, \"paper_bgcolor\": \"white\", \"plot_bgcolor\": \"#E5ECF6\", \"polar\": {\"angularaxis\": {\"gridcolor\": \"white\", \"linecolor\": \"white\", \"ticks\": \"\"}, \"bgcolor\": \"#E5ECF6\", \"radialaxis\": {\"gridcolor\": \"white\", \"linecolor\": \"white\", \"ticks\": \"\"}}, \"scene\": {\"xaxis\": {\"backgroundcolor\": \"#E5ECF6\", \"gridcolor\": \"white\", \"gridwidth\": 2, \"linecolor\": \"white\", \"showbackground\": true, \"ticks\": \"\", \"zerolinecolor\": \"white\"}, \"yaxis\": {\"backgroundcolor\": \"#E5ECF6\", \"gridcolor\": \"white\", \"gridwidth\": 2, \"linecolor\": \"white\", \"showbackground\": true, \"ticks\": \"\", \"zerolinecolor\": \"white\"}, \"zaxis\": {\"backgroundcolor\": \"#E5ECF6\", \"gridcolor\": \"white\", \"gridwidth\": 2, \"linecolor\": \"white\", \"showbackground\": true, \"ticks\": \"\", \"zerolinecolor\": \"white\"}}, \"shapedefaults\": {\"line\": {\"color\": \"#2a3f5f\"}}, \"ternary\": {\"aaxis\": {\"gridcolor\": \"white\", \"linecolor\": \"white\", \"ticks\": \"\"}, \"baxis\": {\"gridcolor\": \"white\", \"linecolor\": \"white\", \"ticks\": \"\"}, \"bgcolor\": \"#E5ECF6\", \"caxis\": {\"gridcolor\": \"white\", \"linecolor\": \"white\", \"ticks\": \"\"}}, \"title\": {\"x\": 0.05}, \"xaxis\": {\"automargin\": true, \"gridcolor\": \"white\", \"linecolor\": \"white\", \"ticks\": \"\", \"title\": {\"standoff\": 15}, \"zerolinecolor\": \"white\", \"zerolinewidth\": 2}, \"yaxis\": {\"automargin\": true, \"gridcolor\": \"white\", \"linecolor\": \"white\", \"ticks\": \"\", \"title\": {\"standoff\": 15}, \"zerolinecolor\": \"white\", \"zerolinewidth\": 2}}}, \"title\": {\"text\": \"Product Performance\"}, \"xaxis\": {\"title\": {\"text\": \"Products\"}}, \"yaxis\": {\"title\": {\"text\": \"Amount Spent\"}}},                        {\"responsive\": true}                    ).then(function(){\n",
       "                            \n",
       "var gd = document.getElementById('bf5beb99-4e98-432a-86d8-7282d8a12184');\n",
       "var x = new MutationObserver(function (mutations, observer) {{\n",
       "        var display = window.getComputedStyle(gd).display;\n",
       "        if (!display || display === 'none') {{\n",
       "            console.log([gd, 'removed!']);\n",
       "            Plotly.purge(gd);\n",
       "            observer.disconnect();\n",
       "        }}\n",
       "}});\n",
       "\n",
       "// Listen for the removal of the full notebook cells\n",
       "var notebookContainer = gd.closest('#notebook-container');\n",
       "if (notebookContainer) {{\n",
       "    x.observe(notebookContainer, {childList: true});\n",
       "}}\n",
       "\n",
       "// Listen for the clearing of the current output cell\n",
       "var outputEl = gd.closest('.output');\n",
       "if (outputEl) {{\n",
       "    x.observe(outputEl, {childList: true});\n",
       "}}\n",
       "\n",
       "                        })                };                });            </script>        </div>"
      ]
     },
     "metadata": {},
     "output_type": "display_data"
    }
   ],
   "source": [
    "fig = go.Figure(data = go.Scatter(x=['Wine' , 'Fruits' , 'Meat' , 'Fish' , 'Sweet' , 'Gold'],\n",
    "                         y=[Wine , Fruits , Meat , Fish , Sweet, Gold],\n",
    "                         mode='lines+markers' ,\n",
    "                         marker = dict(size = 30)))\n",
    "\n",
    "fig.update_xaxes(title_text = 'Products')\n",
    "fig.update_yaxes(title_text = 'Amount Spent')\n",
    "\n",
    "fig.update_layout(title = 'Product Performance')"
   ]
  },
  {
   "cell_type": "markdown",
   "metadata": {},
   "source": [
    "# Countries with most Purchases depicted through a Stamen terrain map"
   ]
  },
  {
   "cell_type": "code",
   "execution_count": 63,
   "metadata": {},
   "outputs": [],
   "source": [
    "TotalPurchases_Country = df.groupby('Country')['TotalPurchases'].sum().reset_index()"
   ]
  },
  {
   "cell_type": "code",
   "execution_count": 64,
   "metadata": {},
   "outputs": [
    {
     "data": {
      "text/html": [
       "<div>\n",
       "<style scoped>\n",
       "    .dataframe tbody tr th:only-of-type {\n",
       "        vertical-align: middle;\n",
       "    }\n",
       "\n",
       "    .dataframe tbody tr th {\n",
       "        vertical-align: top;\n",
       "    }\n",
       "\n",
       "    .dataframe thead th {\n",
       "        text-align: right;\n",
       "    }\n",
       "</style>\n",
       "<table border=\"1\" class=\"dataframe\">\n",
       "  <thead>\n",
       "    <tr style=\"text-align: right;\">\n",
       "      <th></th>\n",
       "      <th>Country</th>\n",
       "      <th>Latitude</th>\n",
       "      <th>Longitude</th>\n",
       "    </tr>\n",
       "  </thead>\n",
       "  <tbody>\n",
       "    <tr>\n",
       "      <th>0</th>\n",
       "      <td>AUS</td>\n",
       "      <td>-25.274398</td>\n",
       "      <td>133.775100</td>\n",
       "    </tr>\n",
       "    <tr>\n",
       "      <th>1</th>\n",
       "      <td>CA</td>\n",
       "      <td>56.130400</td>\n",
       "      <td>-106.346771</td>\n",
       "    </tr>\n",
       "    <tr>\n",
       "      <th>2</th>\n",
       "      <td>GER</td>\n",
       "      <td>51.165700</td>\n",
       "      <td>10.451500</td>\n",
       "    </tr>\n",
       "    <tr>\n",
       "      <th>3</th>\n",
       "      <td>IND</td>\n",
       "      <td>20.593700</td>\n",
       "      <td>78.962900</td>\n",
       "    </tr>\n",
       "    <tr>\n",
       "      <th>4</th>\n",
       "      <td>ME</td>\n",
       "      <td>42.708700</td>\n",
       "      <td>19.374400</td>\n",
       "    </tr>\n",
       "    <tr>\n",
       "      <th>5</th>\n",
       "      <td>SA</td>\n",
       "      <td>30.559500</td>\n",
       "      <td>22.937500</td>\n",
       "    </tr>\n",
       "    <tr>\n",
       "      <th>6</th>\n",
       "      <td>SP</td>\n",
       "      <td>40.463700</td>\n",
       "      <td>-3.749200</td>\n",
       "    </tr>\n",
       "    <tr>\n",
       "      <th>7</th>\n",
       "      <td>US</td>\n",
       "      <td>37.090200</td>\n",
       "      <td>-95.712900</td>\n",
       "    </tr>\n",
       "  </tbody>\n",
       "</table>\n",
       "</div>"
      ],
      "text/plain": [
       "  Country   Latitude   Longitude\n",
       "0     AUS -25.274398  133.775100\n",
       "1      CA  56.130400 -106.346771\n",
       "2     GER  51.165700   10.451500\n",
       "3     IND  20.593700   78.962900\n",
       "4      ME  42.708700   19.374400\n",
       "5      SA  30.559500   22.937500\n",
       "6      SP  40.463700   -3.749200\n",
       "7      US  37.090200  -95.712900"
      ]
     },
     "execution_count": 64,
     "metadata": {},
     "output_type": "execute_result"
    }
   ],
   "source": [
    "d = {'Country': ['AUS', 'CA' , 'GER' , 'IND' , 'ME' , 'SA' ,'SP' , 'US'],\n",
    "     'Latitude': [-25.274398, 56.1304 ,51.1657,20.5937,42.7087,30.5595,40.4637,37.0902],\n",
    "    'Longitude' : [133.7751,-106.346771,10.4515,78.9629,19.3744,22.9375,-3.7492,-95.7129]}\n",
    "long_lat = pd.DataFrame(data=d)\n",
    "long_lat"
   ]
  },
  {
   "cell_type": "code",
   "execution_count": 65,
   "metadata": {},
   "outputs": [
    {
     "data": {
      "text/html": [
       "<div>\n",
       "<style scoped>\n",
       "    .dataframe tbody tr th:only-of-type {\n",
       "        vertical-align: middle;\n",
       "    }\n",
       "\n",
       "    .dataframe tbody tr th {\n",
       "        vertical-align: top;\n",
       "    }\n",
       "\n",
       "    .dataframe thead th {\n",
       "        text-align: right;\n",
       "    }\n",
       "</style>\n",
       "<table border=\"1\" class=\"dataframe\">\n",
       "  <thead>\n",
       "    <tr style=\"text-align: right;\">\n",
       "      <th></th>\n",
       "      <th>Country</th>\n",
       "      <th>TotalPurchases</th>\n",
       "      <th>Latitude</th>\n",
       "      <th>Longitude</th>\n",
       "    </tr>\n",
       "  </thead>\n",
       "  <tbody>\n",
       "    <tr>\n",
       "      <th>0</th>\n",
       "      <td>AUS</td>\n",
       "      <td>1435</td>\n",
       "      <td>-25.274398</td>\n",
       "      <td>133.775100</td>\n",
       "    </tr>\n",
       "    <tr>\n",
       "      <th>1</th>\n",
       "      <td>CA</td>\n",
       "      <td>2533</td>\n",
       "      <td>56.130400</td>\n",
       "      <td>-106.346771</td>\n",
       "    </tr>\n",
       "    <tr>\n",
       "      <th>2</th>\n",
       "      <td>GER</td>\n",
       "      <td>1067</td>\n",
       "      <td>51.165700</td>\n",
       "      <td>10.451500</td>\n",
       "    </tr>\n",
       "    <tr>\n",
       "      <th>3</th>\n",
       "      <td>IND</td>\n",
       "      <td>1314</td>\n",
       "      <td>20.593700</td>\n",
       "      <td>78.962900</td>\n",
       "    </tr>\n",
       "    <tr>\n",
       "      <th>4</th>\n",
       "      <td>ME</td>\n",
       "      <td>40</td>\n",
       "      <td>42.708700</td>\n",
       "      <td>19.374400</td>\n",
       "    </tr>\n",
       "    <tr>\n",
       "      <th>5</th>\n",
       "      <td>SA</td>\n",
       "      <td>3119</td>\n",
       "      <td>30.559500</td>\n",
       "      <td>22.937500</td>\n",
       "    </tr>\n",
       "    <tr>\n",
       "      <th>6</th>\n",
       "      <td>SP</td>\n",
       "      <td>9685</td>\n",
       "      <td>40.463700</td>\n",
       "      <td>-3.749200</td>\n",
       "    </tr>\n",
       "    <tr>\n",
       "      <th>7</th>\n",
       "      <td>US</td>\n",
       "      <td>1103</td>\n",
       "      <td>37.090200</td>\n",
       "      <td>-95.712900</td>\n",
       "    </tr>\n",
       "  </tbody>\n",
       "</table>\n",
       "</div>"
      ],
      "text/plain": [
       "  Country  TotalPurchases   Latitude   Longitude\n",
       "0     AUS            1435 -25.274398  133.775100\n",
       "1      CA            2533  56.130400 -106.346771\n",
       "2     GER            1067  51.165700   10.451500\n",
       "3     IND            1314  20.593700   78.962900\n",
       "4      ME              40  42.708700   19.374400\n",
       "5      SA            3119  30.559500   22.937500\n",
       "6      SP            9685  40.463700   -3.749200\n",
       "7      US            1103  37.090200  -95.712900"
      ]
     },
     "execution_count": 65,
     "metadata": {},
     "output_type": "execute_result"
    }
   ],
   "source": [
    "Country_latlong = pd.merge(TotalPurchases_Country , long_lat , on = 'Country')\n",
    "\n",
    "Country_latlong"
   ]
  },
  {
   "cell_type": "code",
   "execution_count": 66,
   "metadata": {},
   "outputs": [],
   "source": [
    "map = flm.Map(location = [50,50] , zoom_start = 1.5, tiles='Stamenterrain')\n",
    "\n",
    "for lat,long,TotalPurchases,name in zip(Country_latlong['Latitude'] , Country_latlong['Longitude'] , Country_latlong['TotalPurchases'] ,Country_latlong['Country']):\n",
    "    flm.CircleMarker(\n",
    "        \n",
    "        [lat , long],\n",
    "        radius = TotalPurchases/200,\n",
    "        popup = ('<strong>Country</strong>: '+str(name).capitalize()+'<br>''<strong>Total Purchases</strong>: '+str(TotalPurchases)+'<br>'),\n",
    "        color = 'darkorange',\n",
    "        fill_color = 'darkorange',\n",
    "        fill_opacity = 0.1).add_to(map)"
   ]
  },
  {
   "cell_type": "markdown",
   "metadata": {},
   "source": [
    "# Map"
   ]
  },
  {
   "cell_type": "code",
   "execution_count": 67,
   "metadata": {},
   "outputs": [
    {
     "data": {
      "text/html": [
       "<div style=\"width:100%;\"><div style=\"position:relative;width:100%;height:0;padding-bottom:60%;\"><span style=\"color:#565656\">Make this Notebook Trusted to load map: File -> Trust Notebook</span><iframe src=\"about:blank\" style=\"position:absolute;width:100%;height:100%;left:0;top:0;border:none !important;\" data-html=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 onload=\"this.contentDocument.open();this.contentDocument.write(atob(this.getAttribute('data-html')));this.contentDocument.close();\" allowfullscreen webkitallowfullscreen mozallowfullscreen></iframe></div></div>"
      ],
      "text/plain": [
       "<folium.folium.Map at 0x24051dd8d30>"
      ]
     },
     "execution_count": 67,
     "metadata": {},
     "output_type": "execute_result"
    }
   ],
   "source": [
    "map"
   ]
  }
 ],
 "metadata": {
  "kernelspec": {
   "display_name": "Python 3",
   "language": "python",
   "name": "python3"
  },
  "language_info": {
   "codemirror_mode": {
    "name": "ipython",
    "version": 3
   },
   "file_extension": ".py",
   "mimetype": "text/x-python",
   "name": "python",
   "nbconvert_exporter": "python",
   "pygments_lexer": "ipython3",
   "version": "3.8.5"
  }
 },
 "nbformat": 4,
 "nbformat_minor": 4
}
